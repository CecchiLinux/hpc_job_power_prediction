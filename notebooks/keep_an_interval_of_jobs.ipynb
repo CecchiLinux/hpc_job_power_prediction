{
 "cells": [
  {
   "cell_type": "code",
   "execution_count": 8,
   "metadata": {},
   "outputs": [
    {
     "data": {
      "text/plain": [
       "(404792, 18)"
      ]
     },
     "execution_count": 8,
     "metadata": {},
     "output_type": "execute_result"
    }
   ],
   "source": [
    "import pandas as pd\n",
    "import numpy as np\n",
    "\n",
    "datadir = \"/datasets/eurora_data/db1/\"\n",
    "infile_jobs = datadir + \"jobs_cleaned.csv\"\n",
    "\n",
    "#April\n",
    "#start_time = pd.to_datetime('2014-03-31')\n",
    "#end_time = pd.to_datetime('2014-05-01')\n",
    "### select an interval from\n",
    "## 1 settings wholeData\n",
    "#interval_comment_whole = \"WholeData\"\n",
    "\n",
    "### select an interval from\n",
    "## 2 settings Andrea\n",
    "#interval_comment = \"Andrea\"\n",
    "#start_time = pd.to_datetime('2014-03-31')\n",
    "#end_time = pd.to_datetime('2014-05-01')\n",
    "#infile_jobs = datadir + \"april_long_jobs.csv\"\n",
    "\n",
    "## 3 settings Alina\n",
    "#interval_comment = \"Alina\"\n",
    "#start_time = pd.to_datetime('2014-06-30')\n",
    "#end_time = pd.to_datetime('2014-11-01')\n",
    "#infile_jobs = datadir + 'CPUs/' + interval_comment + \"/short_jobs_real_pow.csv\"\n",
    "\n",
    "## 4 settings AfterAlina\n",
    "interval_comment = \"AfterAlina\"\n",
    "start_time = pd.to_datetime('2014-03-31')\n",
    "end_time = pd.to_datetime('2014-07-01')\n",
    "\n",
    "# read dataset\n",
    "whole_data_jobs = pd.read_csv(infile_jobs) # Read a comma-separated values (csv) file into DataFrame\n",
    "whole_data_jobs.shape"
   ]
  },
  {
   "cell_type": "code",
   "execution_count": 9,
   "metadata": {},
   "outputs": [
    {
     "data": {
      "text/html": [
       "<div>\n",
       "<style scoped>\n",
       "    .dataframe tbody tr th:only-of-type {\n",
       "        vertical-align: middle;\n",
       "    }\n",
       "\n",
       "    .dataframe tbody tr th {\n",
       "        vertical-align: top;\n",
       "    }\n",
       "\n",
       "    .dataframe thead th {\n",
       "        text-align: right;\n",
       "    }\n",
       "</style>\n",
       "<table border=\"1\" class=\"dataframe\">\n",
       "  <thead>\n",
       "    <tr style=\"text-align: right;\">\n",
       "      <th></th>\n",
       "      <th>job_id</th>\n",
       "      <th>job_id_string</th>\n",
       "      <th>job_name</th>\n",
       "      <th>queue</th>\n",
       "      <th>start_time</th>\n",
       "      <th>run_start_time</th>\n",
       "      <th>end_time</th>\n",
       "      <th>user</th>\n",
       "      <th>node_req</th>\n",
       "      <th>cpu_req</th>\n",
       "      <th>mem_req</th>\n",
       "      <th>time_req</th>\n",
       "      <th>deleted</th>\n",
       "      <th>dependency</th>\n",
       "      <th>exit_status</th>\n",
       "      <th>pbs_exit_code</th>\n",
       "      <th>gpu_req</th>\n",
       "      <th>mic_req</th>\n",
       "    </tr>\n",
       "  </thead>\n",
       "  <tbody>\n",
       "    <tr>\n",
       "      <th>0</th>\n",
       "      <td>205722</td>\n",
       "      <td>1006691.node129</td>\n",
       "      <td>sub_Tio2_2x2x1_</td>\n",
       "      <td>parallel</td>\n",
       "      <td>2014-08-13 00:01:21</td>\n",
       "      <td>2014-08-13 00:03:14</td>\n",
       "      <td>2014-08-13 03:03:48</td>\n",
       "      <td>mpalummo@node129.eurora.cineca.it</td>\n",
       "      <td>1</td>\n",
       "      <td>16</td>\n",
       "      <td>0</td>\n",
       "      <td>NaN</td>\n",
       "      <td>NaN</td>\n",
       "      <td>NaN</td>\n",
       "      <td>COMPLETED</td>\n",
       "      <td>NaN</td>\n",
       "      <td>NaN</td>\n",
       "      <td>NaN</td>\n",
       "    </tr>\n",
       "  </tbody>\n",
       "</table>\n",
       "</div>"
      ],
      "text/plain": [
       "   job_id    job_id_string         job_name     queue           start_time  \\\n",
       "0  205722  1006691.node129  sub_Tio2_2x2x1_  parallel  2014-08-13 00:01:21   \n",
       "\n",
       "        run_start_time             end_time  \\\n",
       "0  2014-08-13 00:03:14  2014-08-13 03:03:48   \n",
       "\n",
       "                                user  node_req  cpu_req  mem_req time_req  \\\n",
       "0  mpalummo@node129.eurora.cineca.it         1       16        0      NaN   \n",
       "\n",
       "  deleted  dependency exit_status  pbs_exit_code  gpu_req  mic_req  \n",
       "0     NaN         NaN   COMPLETED            NaN      NaN      NaN  "
      ]
     },
     "execution_count": 9,
     "metadata": {},
     "output_type": "execute_result"
    }
   ],
   "source": [
    "whole_data_jobs.head(1)"
   ]
  },
  {
   "cell_type": "code",
   "execution_count": 10,
   "metadata": {},
   "outputs": [
    {
     "data": {
      "text/plain": [
       "(404792, 18)"
      ]
     },
     "execution_count": 10,
     "metadata": {},
     "output_type": "execute_result"
    }
   ],
   "source": [
    "dropped_data_jobs = whole_data_jobs[pd.to_datetime(whole_data_jobs['run_start_time']) >= start_time]\n",
    "dropped_data_jobs.shape"
   ]
  },
  {
   "cell_type": "code",
   "execution_count": 11,
   "metadata": {},
   "outputs": [
    {
     "data": {
      "text/plain": [
       "(100003, 18)"
      ]
     },
     "execution_count": 11,
     "metadata": {},
     "output_type": "execute_result"
    }
   ],
   "source": [
    "dropped_data_jobs = dropped_data_jobs[pd.to_datetime(dropped_data_jobs['end_time']) <= end_time]\n",
    "dropped_data_jobs.shape"
   ]
  },
  {
   "cell_type": "code",
   "execution_count": null,
   "metadata": {},
   "outputs": [],
   "source": []
  },
  {
   "cell_type": "code",
   "execution_count": null,
   "metadata": {},
   "outputs": [],
   "source": []
  },
  {
   "cell_type": "code",
   "execution_count": 7,
   "metadata": {},
   "outputs": [],
   "source": [
    "#outfile = datadir + 'CPUs/' + interval_comment + \"/short_jobs_real_pow.csv\"\n",
    "#dropped_data_jobs.to_csv(outfile)"
   ]
  },
  {
   "cell_type": "code",
   "execution_count": null,
   "metadata": {},
   "outputs": [],
   "source": []
  },
  {
   "cell_type": "markdown",
   "metadata": {},
   "source": [
    "### keep jobs shorter than 1 min"
   ]
  },
  {
   "cell_type": "code",
   "execution_count": 5,
   "metadata": {},
   "outputs": [],
   "source": [
    "#short_jobs = dropped_data_jobs[pd.to_datetime(dropped_data_jobs['end_time']) - pd.to_datetime(dropped_data_jobs['run_start_time']) <= np.timedelta64(1, 'm')]\n",
    "#print(\"short jobs (running time < 1 min) contains {} jobs\".format(short_jobs.shape[0]))"
   ]
  },
  {
   "cell_type": "code",
   "execution_count": 6,
   "metadata": {},
   "outputs": [],
   "source": [
    "#outfile = datadir + \"april_short_jobs\"\n",
    "#short_jobs.to_csv(outfile + \".csv\")"
   ]
  },
  {
   "cell_type": "code",
   "execution_count": null,
   "metadata": {},
   "outputs": [],
   "source": []
  }
 ],
 "metadata": {
  "kernelspec": {
   "display_name": "Python 3",
   "language": "python",
   "name": "python3"
  },
  "language_info": {
   "codemirror_mode": {
    "name": "ipython",
    "version": 3
   },
   "file_extension": ".py",
   "mimetype": "text/x-python",
   "name": "python",
   "nbconvert_exporter": "python",
   "pygments_lexer": "ipython3",
   "version": "3.5.2"
  }
 },
 "nbformat": 4,
 "nbformat_minor": 2
}
