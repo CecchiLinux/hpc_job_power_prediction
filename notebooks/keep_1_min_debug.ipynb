{
 "cells": [
  {
   "cell_type": "code",
   "execution_count": 37,
   "metadata": {},
   "outputs": [
    {
     "name": "stdout",
     "output_type": "stream",
     "text": [
      "05\n",
      "data rows (1825813, 6)\n",
      "data rows after drop_duplicates 1738076\n",
      "data row from 2014-03-31 00:00:00 to 2015-08-11 00:00:00: 1506577\n",
      "data row after split: 755931\n",
      "data row after split: 750646\n",
      "data row after split: 753059\n",
      "data row after split: 750527\n"
     ]
    }
   ],
   "source": [
    "#!/usr/bin/env python3\n",
    "\n",
    "import pandas as pd\n",
    "import errno    \n",
    "import os, sys\n",
    "\n",
    "'''\n",
    "Author: Enrico Ceccolini\n",
    "    Given the raw data of Eurora (CORE_MEASUREMENT_FULL)\n",
    "    and a time interval, it returns only the measurements\n",
    "    of that period, sampled at 1 minute intervals\n",
    "'''\n",
    "\n",
    "\n",
    "datadir = \"/datasets/eurora_data/db/\"\n",
    "\n",
    "jobs_file = datadir + 'jobs.csv'\n",
    "\n",
    "# interval_comment = \"April_new\"\n",
    "# start_time = pd.to_datetime('2014-04-01')\n",
    "# end_time = pd.to_datetime('2014-05-01')\n",
    "interval_comment = \"Whole\"\n",
    "start_time = pd.to_datetime('2014-03-31')\n",
    "end_time = pd.to_datetime('2015-08-11')\n",
    "\n",
    "# mkdir_p(datadir + 'CPUs/' + interval_comment)\n",
    "\n",
    "# notice that 43 doesn't exists in the db\n",
    "cpus=['01', '02', '03', '04', '05', '06', '07', '08', '09', '10', '11',\n",
    " '12', '13', '14', '15', '16', '17', '18', '19', '20', '21', '22', '23', \n",
    " '24', '25', '26', '27', '28', '29', '30', '31', '32', '33', '34', '35', \n",
    " '36', '37', '38', '39', '40', '41', '42', '44', '45', '46', '47', '48', \n",
    " '49', '50', '51', '52', '53', '54', '55', '56', '57', '58', '59', '60', \n",
    " '61', '62', '63', '64']\n",
    "cpus=['05'] # test\n",
    "\n",
    "cpu = '05'\n",
    "\n",
    "print(cpu)\n",
    "infile = datadir + \"CPUs/cpu\" + cpu + \".csv\"\n",
    "\n",
    "# read dataset\n",
    "whole_node_power_data = pd.read_csv(infile) # Read a comma-separated values (csv) file into DataFrame\n",
    "print(\"data rows {}\".format(whole_node_power_data.shape))\n",
    "\n",
    "# drop useless columns\n",
    "whole_node_power_data = whole_node_power_data.drop([str(cpu)], axis=1)\n",
    "\n",
    "# drop the duplicates rows (same timestamp, cpu_id, ...)\n",
    "whole_node_power_data = whole_node_power_data.drop_duplicates() \n",
    "print(\"data rows after drop_duplicates {}\".format(whole_node_power_data.shape[0]))\n",
    "\n",
    "# select data in the specified interval\n",
    "interval_data = whole_node_power_data.loc[(pd.to_datetime(whole_node_power_data['timestamp']) >= start_time) & (pd.to_datetime(whole_node_power_data['timestamp']) <= end_time)]\n",
    "print(\"data row from {} to {}: {}\".format(start_time, end_time, interval_data.shape[0]))\n",
    "\n",
    "# split the data referring to the cpu0 and cpu0\n",
    "cpu0 = interval_data[interval_data['cpu_id'] == 0]\n",
    "cpu1 = interval_data[interval_data['cpu_id'] == 1]\n",
    "print(\"data row after split: {}\".format(cpu0.shape[0]))\n",
    "print(\"data row after split: {}\".format(cpu1.shape[0]))\n",
    "\n",
    "# drop the duplicates rows \n",
    "cpu0 = cpu0.drop_duplicates(subset=['timestamp'])\n",
    "cpu1 = cpu1.drop_duplicates(subset=['timestamp'])\n",
    "print(\"data row after split: {}\".format(cpu0.shape[0]))\n",
    "print(\"data row after split: {}\".format(cpu1.shape[0]))\n",
    "\n",
    "\n"
   ]
  },
  {
   "cell_type": "code",
   "execution_count": 43,
   "metadata": {},
   "outputs": [
    {
     "name": "stdout",
     "output_type": "stream",
     "text": [
      "data row after split: 753059\n",
      "data row after split: 750527\n"
     ]
    }
   ],
   "source": [
    "if cpu0.shape[0] < cpu1.shape[0]:\n",
    "    cpu1 = cpu1[cpu1.timestamp >= cpu0['timestamp'].iloc[0]]\n",
    "    \n",
    "print(\"data row after split: {}\".format(cpu0.shape[0]))\n",
    "print(\"data row after split: {}\".format(cpu1.shape[0]))"
   ]
  },
  {
   "cell_type": "code",
   "execution_count": 44,
   "metadata": {},
   "outputs": [
    {
     "name": "stdout",
     "output_type": "stream",
     "text": [
      "data row after split: 750527\n",
      "data row after split: 750527\n"
     ]
    }
   ],
   "source": [
    "if cpu1.shape[0] < cpu0.shape[0]:\n",
    "    cpu0 = cpu0[cpu0.timestamp >= cpu1['timestamp'].iloc[0]]\n",
    "\n",
    "print(\"data row after split: {}\".format(cpu0.shape[0]))\n",
    "print(\"data row after split: {}\".format(cpu1.shape[0]))"
   ]
  },
  {
   "cell_type": "code",
   "execution_count": 47,
   "metadata": {},
   "outputs": [],
   "source": [
    "# convert the timestamp column to the Pandas timestamp format\n",
    "cpu0.timestamp = pd.to_datetime(cpu0.timestamp)\n",
    "cpu1.timestamp = pd.to_datetime(cpu1.timestamp)\n",
    "# set the timestamp as the dataFrame index\n",
    "cpu0 = cpu0.set_index([\"timestamp\"])\n",
    "cpu1 = cpu1.set_index([\"timestamp\"])\n",
    "\n"
   ]
  },
  {
   "cell_type": "code",
   "execution_count": 48,
   "metadata": {},
   "outputs": [
    {
     "name": "stdout",
     "output_type": "stream",
     "text": [
      "data rows 132878\n",
      "data rows 132878\n"
     ]
    }
   ],
   "source": [
    "# resample data from 5 sec to 1 min, using the mean for the new values\n",
    "cpu0_1min = cpu0.resample('1Min').mean()\n",
    "print(\"data rows {}\".format(cpu0_1min.shape[0]))\n",
    "cpu1_1min = cpu1.resample('1Min').mean()\n",
    "print(\"data rows {}\".format(cpu1_1min.shape[0]))\n"
   ]
  },
  {
   "cell_type": "code",
   "execution_count": 49,
   "metadata": {},
   "outputs": [],
   "source": [
    "# remove useless columns\n",
    "cpu0_1min = cpu0_1min.drop(['cpu_id'], axis=1)\n",
    "cpu1_1min = cpu1_1min.drop(['cpu_id'], axis=1)\n",
    "\n",
    "# rename columns for the concat\n",
    "cpu0_1min = cpu0_1min.rename(index=str, columns={\"pow_cpu\": \"pow_cpu_0\", \"pow_dram\": \"pow_dram_0\", \"pow_pkg\": \"pow_pkg_0\"})\n",
    "cpu1_1min = cpu1_1min.rename(index=str, columns={\"pow_cpu\": \"pow_cpu_1\", \"pow_dram\": \"pow_dram_1\", \"pow_pkg\": \"pow_pkg_1\"})\n",
    "\n"
   ]
  },
  {
   "cell_type": "code",
   "execution_count": 9,
   "metadata": {},
   "outputs": [
    {
     "data": {
      "text/html": [
       "<div>\n",
       "<style scoped>\n",
       "    .dataframe tbody tr th:only-of-type {\n",
       "        vertical-align: middle;\n",
       "    }\n",
       "\n",
       "    .dataframe tbody tr th {\n",
       "        vertical-align: top;\n",
       "    }\n",
       "\n",
       "    .dataframe thead th {\n",
       "        text-align: right;\n",
       "    }\n",
       "</style>\n",
       "<table border=\"1\" class=\"dataframe\">\n",
       "  <thead>\n",
       "    <tr style=\"text-align: right;\">\n",
       "      <th></th>\n",
       "      <th>pow_cpu_0</th>\n",
       "      <th>pow_dram_0</th>\n",
       "      <th>pow_pkg_0</th>\n",
       "    </tr>\n",
       "    <tr>\n",
       "      <th>timestamp</th>\n",
       "      <th></th>\n",
       "      <th></th>\n",
       "      <th></th>\n",
       "    </tr>\n",
       "  </thead>\n",
       "  <tbody>\n",
       "    <tr>\n",
       "      <th>2014-03-31 00:00:00</th>\n",
       "      <td>37.854714</td>\n",
       "      <td>7.200114</td>\n",
       "      <td>58.686825</td>\n",
       "    </tr>\n",
       "    <tr>\n",
       "      <th>2014-03-31 00:01:00</th>\n",
       "      <td>38.793317</td>\n",
       "      <td>7.165250</td>\n",
       "      <td>59.658575</td>\n",
       "    </tr>\n",
       "  </tbody>\n",
       "</table>\n",
       "</div>"
      ],
      "text/plain": [
       "                     pow_cpu_0  pow_dram_0  pow_pkg_0\n",
       "timestamp                                            \n",
       "2014-03-31 00:00:00  37.854714    7.200114  58.686825\n",
       "2014-03-31 00:01:00  38.793317    7.165250  59.658575"
      ]
     },
     "execution_count": 9,
     "metadata": {},
     "output_type": "execute_result"
    }
   ],
   "source": [
    "cpu0_1min.head(2)"
   ]
  },
  {
   "cell_type": "code",
   "execution_count": 10,
   "metadata": {},
   "outputs": [
    {
     "data": {
      "text/plain": [
       "133089"
      ]
     },
     "execution_count": 10,
     "metadata": {},
     "output_type": "execute_result"
    }
   ],
   "source": [
    "cpu0_1min.shape[0]"
   ]
  },
  {
   "cell_type": "code",
   "execution_count": 11,
   "metadata": {},
   "outputs": [
    {
     "data": {
      "text/plain": [
       "132878"
      ]
     },
     "execution_count": 11,
     "metadata": {},
     "output_type": "execute_result"
    }
   ],
   "source": [
    "cpu1_1min.shape[0]"
   ]
  },
  {
   "cell_type": "code",
   "execution_count": null,
   "metadata": {},
   "outputs": [],
   "source": [
    "# concat\n",
    "node_1min = pd.concat([cpu0_1min, cpu1_1min], axis=1)\n",
    "\n",
    "### merge the power consumption to have only two values (one for each node's cpu)\n",
    "# add two new columns\n",
    "node_1min['pow_tot_0'] = cpu0_1min['pow_cpu_0'] + cpu0_1min['pow_dram_0'] + cpu0_1min['pow_pkg_0'] \n",
    "node_1min['pow_tot_1'] = cpu1_1min['pow_cpu_1'] + cpu1_1min['pow_dram_1'] + cpu1_1min['pow_pkg_1']\n",
    "# remove the useless columns\n",
    "node_1min = node_1min.drop(['pow_cpu_0', 'pow_dram_0', 'pow_pkg_0', 'pow_cpu_1', 'pow_dram_1', 'pow_pkg_1'], axis=1)\n",
    "\n",
    "# write\n",
    "outfile = datadir + 'CPUs/' + interval_comment + \"/node\" + cpu + \"_1min_\" + interval_comment + \".csv\"\n",
    "node_1min.to_csv(outfile)\n",
    "\n",
    "print(\"-------------------\")"
   ]
  },
  {
   "cell_type": "code",
   "execution_count": null,
   "metadata": {},
   "outputs": [],
   "source": []
  }
 ],
 "metadata": {
  "kernelspec": {
   "display_name": "Python 3",
   "language": "python",
   "name": "python3"
  },
  "language_info": {
   "codemirror_mode": {
    "name": "ipython",
    "version": 3
   },
   "file_extension": ".py",
   "mimetype": "text/x-python",
   "name": "python",
   "nbconvert_exporter": "python",
   "pygments_lexer": "ipython3",
   "version": "3.5.2"
  }
 },
 "nbformat": 4,
 "nbformat_minor": 2
}
