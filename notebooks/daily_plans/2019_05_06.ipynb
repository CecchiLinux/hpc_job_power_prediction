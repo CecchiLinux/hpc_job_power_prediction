{
 "cells": [
  {
   "cell_type": "markdown",
   "metadata": {},
   "source": [
    "# 05/06 - (10:00 - 17:00)\n",
    "\n",
    "## TODO\n",
    "\n",
    "1. Calculate the real (approximated if job run on a portion of the node) power consumption for each job following the Andrea’s method\n",
    "    - at the end we want:\n",
    "        - the \"power consumption column\" added to the jobs table\n",
    "        - the \"runned alone column\" to the jobs table\n",
    "    - questions:\n",
    "        - save these walue in a new file? Incremental writing\n",
    "\n",
    "   \n",
    "\n",
    "\n",
    "\n",
    "## DONE\n",
    "\n",
    "1. Calculate the real power consumption (real_power_consumption.ipynb)\n",
    "\n",
    "What I have:\n",
    "- the whole dataset preproessed:\n",
    "    - 1 minute interval\n",
    "    - the power consumption for each node (entire node)\n",
    "    - how many cores were active\n",
    "    - how many jobs were running\n",
    "    - which jobs were running (by interpolating the data)\n",
    "\n",
    "\n",
    "\n",
    "\n",
    "\n",
    "## References\n",
    "\n",
    "[1] Constraint programming-based Job Dispatching for Modem HPC Application\n",
    "\n",
    "[2] Power Capping in High Performance Computing Systems\n",
    "\n",
    "[3] Scheduling-based power capping in high performance computing systems\n",
    "\n",
    "[4] Proactive Workload Dispatching on the EURORA Supercomputer\n",
    "\n",
    "[5] A Constraint Programming Scheduler for Heterogeneous High-Performance Computing Machines\n",
    "\n",
    "[6] Predictive Modeling for Job power consumption in HPC Systems\n",
    "\n",
    "[7] Power Consumption Modelling and Prediction in a hybrid CPU-GPU-MIC Supercomputer\n",
    "\n",
    "[8] Unveiling Eurora - Thermal and Power Characterization of the most Energy-Efficient Supercomputer in the World"
   ]
  },
  {
   "cell_type": "code",
   "execution_count": null,
   "metadata": {},
   "outputs": [],
   "source": []
  }
 ],
 "metadata": {
  "kernelspec": {
   "display_name": "Python 3",
   "language": "python",
   "name": "python3"
  },
  "language_info": {
   "codemirror_mode": {
    "name": "ipython",
    "version": 3
   },
   "file_extension": ".py",
   "mimetype": "text/x-python",
   "name": "python",
   "nbconvert_exporter": "python",
   "pygments_lexer": "ipython3",
   "version": "3.5.2"
  }
 },
 "nbformat": 4,
 "nbformat_minor": 2
}
