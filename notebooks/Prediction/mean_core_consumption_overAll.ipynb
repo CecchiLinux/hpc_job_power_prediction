{
 "cells": [
  {
   "cell_type": "code",
   "execution_count": 10,
   "metadata": {},
   "outputs": [],
   "source": [
    "import pandas as pd\n",
    "import errno    \n",
    "import os\n",
    "import numpy as np\n",
    "import math\n",
    "\n",
    "'''\n",
    "Author: Enrico Ceccolini\n",
    "    TODO\n",
    "'''\n",
    "\n",
    "datadir = \"/datasets/eurora_data/db1/\"\n",
    "\n",
    "suffix = \"_1min_\"\n",
    "### select an interval from\n",
    "## 1 settings wholeData\n",
    "interval_comment_whole = \"WholeData\"\n",
    "\n",
    "### select an interval from\n",
    "## 2 settings Andrea\n",
    "#interval_comment = \"Andrea\"\n",
    "#start_time = pd.to_datetime('2014-03-31')\n",
    "#end_time = pd.to_datetime('2014-05-01')\n",
    "#infile_jobs = datadir + \"april_long_jobs.csv\"\n",
    "\n",
    "## 3 settings Alina\n",
    "interval_comment = \"Alina\"\n",
    "#start_time = pd.to_datetime('2014-06-30')\n",
    "#end_time = pd.to_datetime('2014-11-01')\n",
    "\n",
    "infile_long_jobs = datadir + \"CPUs/\" + interval_comment + \"/\" + interval_comment + \"_long_jobs_real_pow\"\n",
    "infile_short_jobs = datadir + \"CPUs/\" + interval_comment + \"/\" + interval_comment + \"_short_jobs_real_pow\""
   ]
  },
  {
   "cell_type": "code",
   "execution_count": 11,
   "metadata": {},
   "outputs": [
    {
     "name": "stdout",
     "output_type": "stream",
     "text": [
      "There are 71520 long jobs in the Alina's interval\n"
     ]
    },
    {
     "name": "stderr",
     "output_type": "stream",
     "text": [
      "/usr/local/lib/python3.5/dist-packages/IPython/core/interactiveshell.py:3049: DtypeWarning: Columns (11) have mixed types. Specify dtype option on import or set low_memory=False.\n",
      "  interactivity=interactivity, compiler=compiler, result=result)\n"
     ]
    }
   ],
   "source": [
    "long_jobs = pd.read_csv(infile_long_jobs + \".csv\", index_col=0)\n",
    "print(\"There are {} long jobs in the {}'s interval\".format(long_jobs.shape[0], interval_comment))"
   ]
  },
  {
   "cell_type": "code",
   "execution_count": 13,
   "metadata": {},
   "outputs": [],
   "source": [
    "#short_jobs = pd.read_csv(infile_short_jobs + \".csv\", index_col=0)\n",
    "#print(\"There are {} long jobs in the {}'s interval\".format(short_jobs.shape[0], interval_comment))"
   ]
  },
  {
   "cell_type": "markdown",
   "metadata": {},
   "source": [
    "Separo i nodi che hanno eseguito esclusivamente su un tipo di nodo"
   ]
  },
  {
   "cell_type": "code",
   "execution_count": 25,
   "metadata": {},
   "outputs": [
    {
     "name": "stdout",
     "output_type": "stream",
     "text": [
      "There are 14017 jobs completely running on this type of cpu\n",
      "There are 4754 jobs completely running on this type of cpu\n",
      "There are 49572 jobs completely running on this type of cpu\n"
     ]
    }
   ],
   "source": [
    "long_jobs_2_1 = long_jobs[long_jobs['node_req'] == long_jobs['n_2_1']]\n",
    "print(\"There are {} jobs completely running on this type of cpu\".format(long_jobs_2_1.shape[0]))\n",
    "long_jobs_2_2 = long_jobs[long_jobs['node_req'] == long_jobs['n_2_2']]\n",
    "print(\"There are {} jobs completely running on this type of cpu\".format(long_jobs_2_2.shape[0]))\n",
    "long_jobs_3_1 = long_jobs[long_jobs['node_req'] == long_jobs['n_3_1']]\n",
    "print(\"There are {} jobs completely running on this type of cpu\".format(long_jobs_3_1.shape[0]))"
   ]
  },
  {
   "cell_type": "code",
   "execution_count": null,
   "metadata": {},
   "outputs": [],
   "source": []
  },
  {
   "cell_type": "code",
   "execution_count": 20,
   "metadata": {},
   "outputs": [
    {
     "name": "stdout",
     "output_type": "stream",
     "text": [
      "The average per core is 10.303967572219522 W\n",
      "The average per core is 12.02241328824745 W\n",
      "The average per core is 15.509736625930145 W\n"
     ]
    }
   ],
   "source": [
    "mean_core_2_1 = long_jobs_2_1['real_pow'].sum() / long_jobs_2_1['cpu_req'].sum()\n",
    "print(\"The average per core is {} W\".format(mean_core_2_1))\n",
    "mean_core_2_2 = long_jobs_2_2['real_pow'].sum() / long_jobs_2_2['cpu_req'].sum()\n",
    "print(\"The average per core is {} W\".format(mean_core_2_2))\n",
    "mean_core_3_1 = long_jobs_3_1['real_pow'].sum() / long_jobs_3_1['cpu_req'].sum()\n",
    "print(\"The average per core is {} W\".format(mean_core_3_1))"
   ]
  },
  {
   "cell_type": "code",
   "execution_count": null,
   "metadata": {},
   "outputs": [],
   "source": []
  },
  {
   "cell_type": "code",
   "execution_count": 29,
   "metadata": {},
   "outputs": [
    {
     "name": "stdout",
     "output_type": "stream",
     "text": [
      "There are 13847 jobs completely running on this type of cpu with that quality\n",
      "There are 4641 jobs completely running on this type of cpu with that quality\n",
      "There are 47604 jobs completely running on this type of cpu with that quality\n"
     ]
    }
   ],
   "source": [
    "### Esclude the jobs with 0 of approximation\n",
    "zero_quality_long_jobs_2_1 = long_jobs_2_1[long_jobs_2_1['real_pow_quality'] != 0]\n",
    "print(\"There are {} jobs completely running on this type of cpu with that quality\".format(zero_quality_long_jobs_2_1.shape[0]))\n",
    "zero_quality_long_jobs_2_2 = long_jobs_2_2[long_jobs_2_2['real_pow_quality'] != 0]\n",
    "print(\"There are {} jobs completely running on this type of cpu with that quality\".format(zero_quality_long_jobs_2_2.shape[0]))\n",
    "zero_quality_long_jobs_3_1 = long_jobs_3_1[long_jobs_3_1['real_pow_quality'] != 0]\n",
    "print(\"There are {} jobs completely running on this type of cpu with that quality\".format(zero_quality_long_jobs_3_1.shape[0]))"
   ]
  },
  {
   "cell_type": "code",
   "execution_count": 30,
   "metadata": {},
   "outputs": [
    {
     "name": "stdout",
     "output_type": "stream",
     "text": [
      "The average per core is 10.323805120251107 W\n",
      "The average per core is 12.094697351462647 W\n",
      "The average per core is 15.705448712937438 W\n"
     ]
    }
   ],
   "source": [
    "zero_quality_mean_core_2_1 = zero_quality_long_jobs_2_1['real_pow'].sum() / zero_quality_long_jobs_2_1['cpu_req'].sum()\n",
    "print(\"The average per core is {} W\".format(zero_quality_mean_core_2_1))\n",
    "zero_quality_mean_core_2_2 = zero_quality_long_jobs_2_2['real_pow'].sum() / zero_quality_long_jobs_2_2['cpu_req'].sum()\n",
    "print(\"The average per core is {} W\".format(zero_quality_mean_core_2_2))\n",
    "zero_quality_mean_core_3_1 = zero_quality_long_jobs_3_1['real_pow'].sum() / zero_quality_long_jobs_3_1['cpu_req'].sum()\n",
    "print(\"The average per core is {} W\".format(zero_quality_mean_core_3_1))"
   ]
  },
  {
   "cell_type": "code",
   "execution_count": null,
   "metadata": {},
   "outputs": [],
   "source": []
  },
  {
   "cell_type": "code",
   "execution_count": 32,
   "metadata": {},
   "outputs": [
    {
     "name": "stdout",
     "output_type": "stream",
     "text": [
      "There are 13774 jobs completely running on this type of cpu with that quality\n",
      "There are 4621 jobs completely running on this type of cpu with that quality\n",
      "There are 47355 jobs completely running on this type of cpu with that quality\n"
     ]
    }
   ],
   "source": [
    "### Esclude the jobs with 0 of approximation\n",
    "quality_long_jobs_2_1 = long_jobs_2_1[long_jobs_2_1['real_pow_quality'] >= 0.9]\n",
    "print(\"There are {} jobs completely running on this type of cpu with that quality\".format(quality_long_jobs_2_1.shape[0]))\n",
    "quality_long_jobs_2_2 = long_jobs_2_2[long_jobs_2_2['real_pow_quality'] >= 0.9]\n",
    "print(\"There are {} jobs completely running on this type of cpu with that quality\".format(quality_long_jobs_2_2.shape[0]))\n",
    "quality_long_jobs_3_1 = long_jobs_3_1[long_jobs_3_1['real_pow_quality'] >= 0.9]\n",
    "print(\"There are {} jobs completely running on this type of cpu with that quality\".format(quality_long_jobs_3_1.shape[0]))"
   ]
  },
  {
   "cell_type": "code",
   "execution_count": 33,
   "metadata": {},
   "outputs": [
    {
     "name": "stdout",
     "output_type": "stream",
     "text": [
      "The average per core is 10.31354008105668 W\n",
      "The average per core is 12.158773412502915 W\n",
      "The average per core is 15.765072426775976 W\n"
     ]
    }
   ],
   "source": [
    "quality_mean_core_2_1 = quality_long_jobs_2_1['real_pow'].sum() / quality_long_jobs_2_1['cpu_req'].sum()\n",
    "print(\"The average per core is {} W\".format(quality_mean_core_2_1))\n",
    "quality_mean_core_2_2 = zero_quality_long_jobs_2_2['real_pow'].sum() / quality_long_jobs_2_2['cpu_req'].sum()\n",
    "print(\"The average per core is {} W\".format(quality_mean_core_2_2))\n",
    "quality_mean_core_3_1 = zero_quality_long_jobs_3_1['real_pow'].sum() / quality_long_jobs_3_1['cpu_req'].sum()\n",
    "print(\"The average per core is {} W\".format(quality_mean_core_3_1))"
   ]
  },
  {
   "cell_type": "code",
   "execution_count": null,
   "metadata": {},
   "outputs": [],
   "source": []
  },
  {
   "cell_type": "code",
   "execution_count": null,
   "metadata": {},
   "outputs": [],
   "source": []
  }
 ],
 "metadata": {
  "kernelspec": {
   "display_name": "Python 3",
   "language": "python",
   "name": "python3"
  },
  "language_info": {
   "codemirror_mode": {
    "name": "ipython",
    "version": 3
   },
   "file_extension": ".py",
   "mimetype": "text/x-python",
   "name": "python",
   "nbconvert_exporter": "python",
   "pygments_lexer": "ipython3",
   "version": "3.5.2"
  }
 },
 "nbformat": 4,
 "nbformat_minor": 2
}
