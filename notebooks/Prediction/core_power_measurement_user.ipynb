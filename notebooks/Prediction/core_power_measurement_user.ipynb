{
 "cells": [
  {
   "cell_type": "code",
   "execution_count": 75,
   "metadata": {},
   "outputs": [],
   "source": [
    "#!/usr/bin/env python3\n",
    "\n",
    "import pandas as pd\n",
    "import errno    \n",
    "import os\n",
    "import numpy as np\n",
    "import math\n",
    "\n",
    "from sklearn.metrics import r2_score\n",
    "\n",
    "'''\n",
    "Author: Enrico Ceccolini\n",
    "    TODO write the description\n",
    "'''\n",
    "\n",
    "#datadir = \"/datasets/eurora_data/db/\"\n",
    "datadir = \"/datasets/eurora_data/db1/\"\n",
    "\n",
    "# settings\n",
    "interval_comment = \"WholeData\"\n",
    "suffix = \"_1min_\"\n",
    "# settings Andrea\n",
    "andrea_start_time = pd.to_datetime('2014-03-31')\n",
    "andrea_end_time = pd.to_datetime('2014-05-01')\n",
    "# settings Alina\n",
    "alina_start_time = pd.to_datetime('2014-09-30')\n",
    "alina_end_time = pd.to_datetime('2014-11-01')\n",
    "\n",
    "infile_large_jobs = datadir + \"CPUs/\" + interval_comment + \"/large_jobs_real_pow_final.csv\"\n",
    "interval_large_jobs = pd.read_csv(infile_large_jobs, index_col=0)"
   ]
  },
  {
   "cell_type": "markdown",
   "metadata": {},
   "source": [
    "nodes 1-16 and 25-32 have a maximum frequency of 2.1GHz (CPUs-2100), nodes 17-24 have a maximum frequency of 2.2GHz (CPUs-2200), and nodes 33-64 have a maximum frequency of 3.1GHz (CPUs-3100). For the accelerators, nodes from 0 to 32 embed Intel Xeon Phi accelerators, whereas nodes from 33 to 64 embed Nvidia Kepler GPUs."
   ]
  },
  {
   "cell_type": "code",
   "execution_count": 76,
   "metadata": {},
   "outputs": [
    {
     "data": {
      "text/html": [
       "<div>\n",
       "<style scoped>\n",
       "    .dataframe tbody tr th:only-of-type {\n",
       "        vertical-align: middle;\n",
       "    }\n",
       "\n",
       "    .dataframe tbody tr th {\n",
       "        vertical-align: top;\n",
       "    }\n",
       "\n",
       "    .dataframe thead th {\n",
       "        text-align: right;\n",
       "    }\n",
       "</style>\n",
       "<table border=\"1\" class=\"dataframe\">\n",
       "  <thead>\n",
       "    <tr style=\"text-align: right;\">\n",
       "      <th></th>\n",
       "      <th>job_id_string</th>\n",
       "      <th>queue</th>\n",
       "      <th>start_time</th>\n",
       "      <th>run_start_time</th>\n",
       "      <th>end_time</th>\n",
       "      <th>user</th>\n",
       "      <th>node_req</th>\n",
       "      <th>cpu_req</th>\n",
       "      <th>mem_req</th>\n",
       "      <th>time_req</th>\n",
       "      <th>exit_status</th>\n",
       "      <th>real_pow</th>\n",
       "      <th>runned_alone</th>\n",
       "      <th>real_pow_quality</th>\n",
       "      <th>n_2_1</th>\n",
       "      <th>n_2_2</th>\n",
       "      <th>n_3_1</th>\n",
       "      <th>gpu_req</th>\n",
       "      <th>mic_req</th>\n",
       "      <th>job_name</th>\n",
       "    </tr>\n",
       "  </thead>\n",
       "  <tbody>\n",
       "    <tr>\n",
       "      <th>0</th>\n",
       "      <td>498458.node129</td>\n",
       "      <td>parallel</td>\n",
       "      <td>2014-03-31 00:30:02</td>\n",
       "      <td>2014-03-31 00:30:02</td>\n",
       "      <td>2014-03-31 01:22:40</td>\n",
       "      <td>alupi000@node129.eurora.cineca.it</td>\n",
       "      <td>1</td>\n",
       "      <td>16</td>\n",
       "      <td>14</td>\n",
       "      <td>04:00</td>\n",
       "      <td>COMPLETED</td>\n",
       "      <td>0.0</td>\n",
       "      <td>True</td>\n",
       "      <td>0.0</td>\n",
       "      <td>0</td>\n",
       "      <td>1</td>\n",
       "      <td>0</td>\n",
       "      <td>NaN</td>\n",
       "      <td>NaN</td>\n",
       "      <td>rth2e6t0</td>\n",
       "    </tr>\n",
       "  </tbody>\n",
       "</table>\n",
       "</div>"
      ],
      "text/plain": [
       "    job_id_string     queue           start_time       run_start_time  \\\n",
       "0  498458.node129  parallel  2014-03-31 00:30:02  2014-03-31 00:30:02   \n",
       "\n",
       "              end_time                               user  node_req  cpu_req  \\\n",
       "0  2014-03-31 01:22:40  alupi000@node129.eurora.cineca.it         1       16   \n",
       "\n",
       "   mem_req time_req exit_status  real_pow  runned_alone  real_pow_quality  \\\n",
       "0       14    04:00   COMPLETED       0.0          True               0.0   \n",
       "\n",
       "   n_2_1  n_2_2  n_3_1  gpu_req  mic_req  job_name  \n",
       "0      0      1      0      NaN      NaN  rth2e6t0  "
      ]
     },
     "execution_count": 76,
     "metadata": {},
     "output_type": "execute_result"
    }
   ],
   "source": [
    "interval_large_jobs.head(1)"
   ]
  },
  {
   "cell_type": "code",
   "execution_count": 77,
   "metadata": {},
   "outputs": [
    {
     "data": {
      "text/plain": [
       "(64000, 20)"
      ]
     },
     "execution_count": 77,
     "metadata": {},
     "output_type": "execute_result"
    }
   ],
   "source": [
    "interval_large_jobs.shape"
   ]
  },
  {
   "cell_type": "markdown",
   "metadata": {},
   "source": [
    "### Compute the mean core power consumption for the first type of cpu (2.1 GHz) "
   ]
  },
  {
   "cell_type": "code",
   "execution_count": 78,
   "metadata": {},
   "outputs": [
    {
     "name": "stdout",
     "output_type": "stream",
     "text": [
      "There are 13265 jobs completely running on this type of cpu\n",
      "The average per core is 11.614662777744632 W\n",
      "Accuracy: 0.604018857666945\n",
      "There are 12680 jobs completely running on this type of cpu with that quality\n",
      "The average per core is 12.188997397054441 W\n",
      "Accuracy: 0.6961530048060831\n",
      "There are 10089 jobs completely running on this type of cpu with that quality\n",
      "The average per core is 11.928331731218778 W\n",
      "Accuracy: 0.6596372349292074\n"
     ]
    },
    {
     "name": "stderr",
     "output_type": "stream",
     "text": [
      "/usr/local/lib/python3.5/dist-packages/ipykernel_launcher.py:5: SettingWithCopyWarning: \n",
      "A value is trying to be set on a copy of a slice from a DataFrame.\n",
      "Try using .loc[row_indexer,col_indexer] = value instead\n",
      "\n",
      "See the caveats in the documentation: http://pandas.pydata.org/pandas-docs/stable/indexing.html#indexing-view-versus-copy\n",
      "  \"\"\"\n"
     ]
    }
   ],
   "source": [
    "interval_large_jobs_2_1 = interval_large_jobs[interval_large_jobs['node_req'] == interval_large_jobs['n_2_1']]\n",
    "print(\"There are {} jobs completely running on this type of cpu\".format(interval_large_jobs_2_1.shape[0]))\n",
    "mean_core_2_1 = interval_large_jobs_2_1['real_pow'].sum() / interval_large_jobs_2_1['cpu_req'].sum()\n",
    "print(\"The average per core is {} W\".format(mean_core_2_1))\n",
    "interval_large_jobs_2_1['predicted'] = mean_core_2_1 * interval_large_jobs_2_1['cpu_req']\n",
    "print(\"Accuracy: {}\".format(r2_score(interval_large_jobs_2_1['real_pow'], interval_large_jobs_2_1['predicted'])))\n",
    "\n",
    "### Esclude the jobs with low quality of approximation\n",
    "quality_large_jobs_2_1 = interval_large_jobs_2_1[interval_large_jobs_2_1['real_pow'] != 0]\n",
    "quality_large_jobs_2_1 = quality_large_jobs_2_1[quality_large_jobs_2_1['real_pow_quality'] != 0]\n",
    "print(\"There are {} jobs completely running on this type of cpu with that quality\".format(quality_large_jobs_2_1.shape[0]))\n",
    "mean_core_2_1 = quality_large_jobs_2_1['real_pow'].sum() / quality_large_jobs_2_1['cpu_req'].sum()\n",
    "print(\"The average per core is {} W\".format(mean_core_2_1))\n",
    "quality_large_jobs_2_1['predicted'] = mean_core_2_1 * quality_large_jobs_2_1['cpu_req']\n",
    "print(\"Accuracy: {}\".format(r2_score(quality_large_jobs_2_1['real_pow'], quality_large_jobs_2_1['predicted'])))\n",
    "\n",
    "### Esclude jobs that ran concurrently\n",
    "quality_large_jobs_2_1 = interval_large_jobs_2_1[interval_large_jobs_2_1['real_pow'] != 0]\n",
    "quality_large_jobs_2_1 = quality_large_jobs_2_1[quality_large_jobs_2_1['real_pow_quality'] != 0]\n",
    "quality_large_jobs_2_1 = quality_large_jobs_2_1[quality_large_jobs_2_1['runned_alone'] == True]\n",
    "print(\"There are {} jobs completely running on this type of cpu with that quality\".format(quality_large_jobs_2_1.shape[0]))\n",
    "mean_core_2_1 = quality_large_jobs_2_1['real_pow'].sum() / quality_large_jobs_2_1['cpu_req'].sum()\n",
    "print(\"The average per core is {} W\".format(mean_core_2_1))\n",
    "quality_large_jobs_2_1['predicted'] = mean_core_2_1 * quality_large_jobs_2_1['cpu_req']\n",
    "print(\"Accuracy: {}\".format(r2_score(quality_large_jobs_2_1['real_pow'], quality_large_jobs_2_1['predicted'])))"
   ]
  },
  {
   "cell_type": "code",
   "execution_count": null,
   "metadata": {},
   "outputs": [],
   "source": []
  },
  {
   "cell_type": "markdown",
   "metadata": {},
   "source": [
    "### Andrea's interval"
   ]
  },
  {
   "cell_type": "code",
   "execution_count": 80,
   "metadata": {},
   "outputs": [],
   "source": [
    "andrea_interval_large_jobs =interval_large_jobs[pd.to_datetime(interval_large_jobs['run_start_time']) >= andrea_start_time]\n",
    "andrea_interval_large_jobs =andrea_interval_large_jobs[pd.to_datetime(andrea_interval_large_jobs['run_start_time']) <= andrea_end_time]"
   ]
  },
  {
   "cell_type": "code",
   "execution_count": 81,
   "metadata": {},
   "outputs": [
    {
     "name": "stdout",
     "output_type": "stream",
     "text": [
      "There are 5064 jobs completely running on this type of cpu\n",
      "The average per core is 12.143704579416486 W\n",
      "Accuracy: 0.6683120957773678\n",
      "There are 4900 jobs completely running on this type of cpu with that quality\n",
      "The average per core is 12.529485612237833 W\n",
      "Accuracy: 0.7033161874156395\n",
      "There are 3450 jobs completely running on this type of cpu with that quality\n",
      "The average per core is 11.986636720341757 W\n",
      "Accuracy: 0.6820671373736893\n"
     ]
    },
    {
     "name": "stderr",
     "output_type": "stream",
     "text": [
      "/usr/local/lib/python3.5/dist-packages/ipykernel_launcher.py:5: SettingWithCopyWarning: \n",
      "A value is trying to be set on a copy of a slice from a DataFrame.\n",
      "Try using .loc[row_indexer,col_indexer] = value instead\n",
      "\n",
      "See the caveats in the documentation: http://pandas.pydata.org/pandas-docs/stable/indexing.html#indexing-view-versus-copy\n",
      "  \"\"\"\n"
     ]
    }
   ],
   "source": [
    "interval_large_jobs_2_1 = andrea_interval_large_jobs[andrea_interval_large_jobs['node_req'] == andrea_interval_large_jobs['n_2_1']]\n",
    "print(\"There are {} jobs completely running on this type of cpu\".format(interval_large_jobs_2_1.shape[0]))\n",
    "mean_core_2_1 = interval_large_jobs_2_1['real_pow'].sum() / interval_large_jobs_2_1['cpu_req'].sum()\n",
    "print(\"The average per core is {} W\".format(mean_core_2_1))\n",
    "interval_large_jobs_2_1['predicted'] = mean_core_2_1 * interval_large_jobs_2_1['cpu_req']\n",
    "print(\"Accuracy: {}\".format(r2_score(interval_large_jobs_2_1['real_pow'], interval_large_jobs_2_1['predicted'])))\n",
    "\n",
    "### Esclude the jobs with low quality of approximation\n",
    "quality_large_jobs_2_1 = interval_large_jobs_2_1[interval_large_jobs_2_1['real_pow'] != 0]\n",
    "quality_large_jobs_2_1 = quality_large_jobs_2_1[quality_large_jobs_2_1['real_pow_quality'] != 0]\n",
    "print(\"There are {} jobs completely running on this type of cpu with that quality\".format(quality_large_jobs_2_1.shape[0]))\n",
    "mean_core_2_1 = quality_large_jobs_2_1['real_pow'].sum() / quality_large_jobs_2_1['cpu_req'].sum()\n",
    "print(\"The average per core is {} W\".format(mean_core_2_1))\n",
    "quality_large_jobs_2_1['predicted'] = mean_core_2_1 * quality_large_jobs_2_1['cpu_req']\n",
    "print(\"Accuracy: {}\".format(r2_score(quality_large_jobs_2_1['real_pow'], quality_large_jobs_2_1['predicted'])))\n",
    "\n",
    "### Esclude jobs that ran concurrently\n",
    "quality_large_jobs_2_1 = interval_large_jobs_2_1[interval_large_jobs_2_1['real_pow'] != 0]\n",
    "quality_large_jobs_2_1 = quality_large_jobs_2_1[quality_large_jobs_2_1['real_pow_quality'] != 0]\n",
    "quality_large_jobs_2_1 = quality_large_jobs_2_1[quality_large_jobs_2_1['runned_alone'] == True]\n",
    "print(\"There are {} jobs completely running on this type of cpu with that quality\".format(quality_large_jobs_2_1.shape[0]))\n",
    "mean_core_2_1 = quality_large_jobs_2_1['real_pow'].sum() / quality_large_jobs_2_1['cpu_req'].sum()\n",
    "print(\"The average per core is {} W\".format(mean_core_2_1))\n",
    "quality_large_jobs_2_1['predicted'] = mean_core_2_1 * quality_large_jobs_2_1['cpu_req']\n",
    "print(\"Accuracy: {}\".format(r2_score(quality_large_jobs_2_1['real_pow'], quality_large_jobs_2_1['predicted'])))"
   ]
  },
  {
   "cell_type": "code",
   "execution_count": null,
   "metadata": {},
   "outputs": [],
   "source": []
  },
  {
   "cell_type": "code",
   "execution_count": null,
   "metadata": {},
   "outputs": [],
   "source": []
  },
  {
   "cell_type": "code",
   "execution_count": null,
   "metadata": {},
   "outputs": [],
   "source": []
  },
  {
   "cell_type": "markdown",
   "metadata": {},
   "source": [
    "### Compute the mean core power consumption for the first type of cpu (2.2 GHz) "
   ]
  },
  {
   "cell_type": "code",
   "execution_count": 85,
   "metadata": {},
   "outputs": [
    {
     "name": "stdout",
     "output_type": "stream",
     "text": [
      "There are 4570 jobs completely running on this type of cpu\n",
      "The average per core is 13.80509054541727 W\n",
      "Accuracy: 0.44371127080645256\n",
      "There are 4294 jobs completely running on this type of cpu with that quality\n",
      "The average per core is 14.664222292746754 W\n",
      "Accuracy: 0.534215782066189\n"
     ]
    },
    {
     "name": "stderr",
     "output_type": "stream",
     "text": [
      "/usr/local/lib/python3.5/dist-packages/ipykernel_launcher.py:5: SettingWithCopyWarning: \n",
      "A value is trying to be set on a copy of a slice from a DataFrame.\n",
      "Try using .loc[row_indexer,col_indexer] = value instead\n",
      "\n",
      "See the caveats in the documentation: http://pandas.pydata.org/pandas-docs/stable/indexing.html#indexing-view-versus-copy\n",
      "  \"\"\"\n"
     ]
    }
   ],
   "source": [
    "interval_large_jobs_2_2 = interval_large_jobs[interval_large_jobs['node_req'] == interval_large_jobs['n_2_2']]\n",
    "print(\"There are {} jobs completely running on this type of cpu\".format(interval_large_jobs_2_2.shape[0]))\n",
    "mean_core_2_2 = interval_large_jobs_2_2['real_pow'].sum() / interval_large_jobs_2_2['cpu_req'].sum()\n",
    "print(\"The average per core is {} W\".format(mean_core_2_2))\n",
    "interval_large_jobs_2_2['predicted'] = mean_core_2_2 * interval_large_jobs_2_2['cpu_req']\n",
    "print(\"Accuracy: {}\".format(r2_score(interval_large_jobs_2_2['real_pow'], interval_large_jobs_2_2['predicted'])))\n",
    "\n",
    "quality_large_jobs_2_2 = interval_large_jobs_2_2[interval_large_jobs_2_2['real_pow'] != 0]\n",
    "quality_large_jobs_2_2 = quality_large_jobs_2_2[quality_large_jobs_2_2['real_pow_quality'] != 0]\n",
    "print(\"There are {} jobs completely running on this type of cpu with that quality\".format(quality_large_jobs_2_2.shape[0]))\n",
    "mean_core_2_2 = quality_large_jobs_2_2['real_pow'].sum() / quality_large_jobs_2_2['cpu_req'].sum()\n",
    "print(\"The average per core is {} W\".format(mean_core_2_2))\n",
    "quality_large_jobs_2_2['predicted'] = mean_core_2_2 * quality_large_jobs_2_2['cpu_req']\n",
    "print(\"Accuracy: {}\".format(r2_score(quality_large_jobs_2_2['real_pow'], quality_large_jobs_2_2['predicted'])))"
   ]
  },
  {
   "cell_type": "markdown",
   "metadata": {},
   "source": [
    "### Andrea's interval"
   ]
  },
  {
   "cell_type": "code",
   "execution_count": 86,
   "metadata": {},
   "outputs": [
    {
     "name": "stdout",
     "output_type": "stream",
     "text": [
      "There are 1428 jobs completely running on this type of cpu\n",
      "The average per core is 14.932216042263958 W\n",
      "Accuracy: 0.5294936382852904\n",
      "There are 1362 jobs completely running on this type of cpu with that quality\n",
      "The average per core is 15.45302698203022 W\n",
      "Accuracy: 0.5504581852733055\n"
     ]
    },
    {
     "name": "stderr",
     "output_type": "stream",
     "text": [
      "/usr/local/lib/python3.5/dist-packages/ipykernel_launcher.py:5: SettingWithCopyWarning: \n",
      "A value is trying to be set on a copy of a slice from a DataFrame.\n",
      "Try using .loc[row_indexer,col_indexer] = value instead\n",
      "\n",
      "See the caveats in the documentation: http://pandas.pydata.org/pandas-docs/stable/indexing.html#indexing-view-versus-copy\n",
      "  \"\"\"\n"
     ]
    }
   ],
   "source": [
    "interval_large_jobs_2_2 = andrea_interval_large_jobs[andrea_interval_large_jobs['node_req'] == andrea_interval_large_jobs['n_2_2']]\n",
    "print(\"There are {} jobs completely running on this type of cpu\".format(interval_large_jobs_2_2.shape[0]))\n",
    "mean_core_2_2 = interval_large_jobs_2_2['real_pow'].sum() / interval_large_jobs_2_2['cpu_req'].sum()\n",
    "print(\"The average per core is {} W\".format(mean_core_2_2))\n",
    "interval_large_jobs_2_2['predicted'] = mean_core_2_2 * interval_large_jobs_2_2['cpu_req']\n",
    "print(\"Accuracy: {}\".format(r2_score(interval_large_jobs_2_2['real_pow'], interval_large_jobs_2_2['predicted'])))\n",
    "\n",
    "quality_large_jobs_2_2 = interval_large_jobs_2_2[interval_large_jobs_2_2['real_pow'] != 0]\n",
    "quality_large_jobs_2_2 = quality_large_jobs_2_2[quality_large_jobs_2_2['real_pow_quality'] != 0]\n",
    "print(\"There are {} jobs completely running on this type of cpu with that quality\".format(quality_large_jobs_2_2.shape[0]))\n",
    "mean_core_2_2 = quality_large_jobs_2_2['real_pow'].sum() / quality_large_jobs_2_2['cpu_req'].sum()\n",
    "print(\"The average per core is {} W\".format(mean_core_2_2))\n",
    "quality_large_jobs_2_2['predicted'] = mean_core_2_2 * quality_large_jobs_2_2['cpu_req']\n",
    "print(\"Accuracy: {}\".format(r2_score(quality_large_jobs_2_2['real_pow'], quality_large_jobs_2_2['predicted'])))"
   ]
  },
  {
   "cell_type": "markdown",
   "metadata": {},
   "source": [
    "### Compute the mean core power consumption for the first type of cpu (3.1 GHz) "
   ]
  },
  {
   "cell_type": "code",
   "execution_count": 83,
   "metadata": {},
   "outputs": [
    {
     "name": "stdout",
     "output_type": "stream",
     "text": [
      "There are 43708 jobs completely running on this type of cpu\n",
      "The average per core is 24.842150667100178 W\n",
      "Accuracy: 0.5806440166370469\n",
      "There are 38419 jobs completely running on this type of cpu with that quality\n",
      "The average per core is 27.562140558509466 W\n",
      "Accuracy: 0.6072288411283724\n"
     ]
    },
    {
     "name": "stderr",
     "output_type": "stream",
     "text": [
      "/usr/local/lib/python3.5/dist-packages/ipykernel_launcher.py:5: SettingWithCopyWarning: \n",
      "A value is trying to be set on a copy of a slice from a DataFrame.\n",
      "Try using .loc[row_indexer,col_indexer] = value instead\n",
      "\n",
      "See the caveats in the documentation: http://pandas.pydata.org/pandas-docs/stable/indexing.html#indexing-view-versus-copy\n",
      "  \"\"\"\n"
     ]
    }
   ],
   "source": [
    "interval_large_jobs_3_1 = interval_large_jobs[interval_large_jobs['node_req'] == interval_large_jobs['n_3_1']]\n",
    "print(\"There are {} jobs completely running on this type of cpu\".format(interval_large_jobs_3_1.shape[0]))\n",
    "mean_core_3_1 = interval_large_jobs_3_1['real_pow'].sum() / interval_large_jobs_3_1['cpu_req'].sum()\n",
    "print(\"The average per core is {} W\".format(mean_core_3_1))\n",
    "interval_large_jobs_3_1['predicted'] = mean_core_3_1 * interval_large_jobs_3_1['cpu_req']\n",
    "print(\"Accuracy: {}\".format(r2_score(interval_large_jobs_3_1['real_pow'], interval_large_jobs_3_1['predicted'])))\n",
    "\n",
    "quality_large_jobs_3_1 = interval_large_jobs_3_1[interval_large_jobs_3_1['real_pow'] != 0]\n",
    "quality_large_jobs_3_1 = quality_large_jobs_3_1[quality_large_jobs_3_1['real_pow_quality'] != 0]\n",
    "print(\"There are {} jobs completely running on this type of cpu with that quality\".format(quality_large_jobs_3_1.shape[0]))\n",
    "mean_core_3_1 = quality_large_jobs_3_1['real_pow'].sum() / quality_large_jobs_3_1['cpu_req'].sum()\n",
    "print(\"The average per core is {} W\".format(mean_core_3_1))\n",
    "quality_large_jobs_3_1['predicted'] = mean_core_3_1 * quality_large_jobs_3_1['cpu_req']\n",
    "print(\"Accuracy: {}\".format(r2_score(quality_large_jobs_3_1['real_pow'], quality_large_jobs_3_1['predicted'])))"
   ]
  },
  {
   "cell_type": "markdown",
   "metadata": {},
   "source": [
    "### Andrea's interval"
   ]
  },
  {
   "cell_type": "code",
   "execution_count": 87,
   "metadata": {},
   "outputs": [
    {
     "name": "stdout",
     "output_type": "stream",
     "text": [
      "There are 15587 jobs completely running on this type of cpu\n",
      "The average per core is 22.25328132443491 W\n",
      "Accuracy: 0.5531975794006317\n",
      "There are 13793 jobs completely running on this type of cpu with that quality\n",
      "The average per core is 25.079102763361274 W\n",
      "Accuracy: 0.6538735694817891\n"
     ]
    },
    {
     "name": "stderr",
     "output_type": "stream",
     "text": [
      "/usr/local/lib/python3.5/dist-packages/ipykernel_launcher.py:5: SettingWithCopyWarning: \n",
      "A value is trying to be set on a copy of a slice from a DataFrame.\n",
      "Try using .loc[row_indexer,col_indexer] = value instead\n",
      "\n",
      "See the caveats in the documentation: http://pandas.pydata.org/pandas-docs/stable/indexing.html#indexing-view-versus-copy\n",
      "  \"\"\"\n"
     ]
    }
   ],
   "source": [
    "interval_large_jobs_3_1 = andrea_interval_large_jobs[andrea_interval_large_jobs['node_req'] == andrea_interval_large_jobs['n_3_1']]\n",
    "print(\"There are {} jobs completely running on this type of cpu\".format(interval_large_jobs_3_1.shape[0]))\n",
    "mean_core_3_1 = interval_large_jobs_3_1['real_pow'].sum() / interval_large_jobs_3_1['cpu_req'].sum()\n",
    "print(\"The average per core is {} W\".format(mean_core_3_1))\n",
    "interval_large_jobs_3_1['predicted'] = mean_core_3_1 * interval_large_jobs_3_1['cpu_req']\n",
    "print(\"Accuracy: {}\".format(r2_score(interval_large_jobs_3_1['real_pow'], interval_large_jobs_3_1['predicted'])))\n",
    "\n",
    "quality_large_jobs_3_1 = interval_large_jobs_3_1[interval_large_jobs_3_1['real_pow'] != 0]\n",
    "quality_large_jobs_3_1 = quality_large_jobs_3_1[quality_large_jobs_3_1['real_pow_quality'] != 0]\n",
    "print(\"There are {} jobs completely running on this type of cpu with that quality\".format(quality_large_jobs_3_1.shape[0]))\n",
    "mean_core_3_1 = quality_large_jobs_3_1['real_pow'].sum() / quality_large_jobs_3_1['cpu_req'].sum()\n",
    "print(\"The average per core is {} W\".format(mean_core_3_1))\n",
    "quality_large_jobs_3_1['predicted'] = mean_core_3_1 * quality_large_jobs_3_1['cpu_req']\n",
    "print(\"Accuracy: {}\".format(r2_score(quality_large_jobs_3_1['real_pow'], quality_large_jobs_3_1['predicted'])))"
   ]
  },
  {
   "cell_type": "markdown",
   "metadata": {},
   "source": [
    "### Debug"
   ]
  },
  {
   "cell_type": "code",
   "execution_count": 32,
   "metadata": {},
   "outputs": [
    {
     "data": {
      "text/plain": [
       "(59542, 19)"
      ]
     },
     "execution_count": 32,
     "metadata": {},
     "output_type": "execute_result"
    }
   ],
   "source": [
    "interval_large_jobs = interval_large_jobs[interval_large_jobs['real_pow_quality'] != 0]\n",
    "interval_large_jobs.shape"
   ]
  },
  {
   "cell_type": "code",
   "execution_count": 33,
   "metadata": {},
   "outputs": [
    {
     "data": {
      "text/plain": [
       "(57658, 19)"
      ]
     },
     "execution_count": 33,
     "metadata": {},
     "output_type": "execute_result"
    }
   ],
   "source": [
    "interval_large_jobs = interval_large_jobs[interval_large_jobs['real_pow'] != 0]\n",
    "interval_large_jobs.shape"
   ]
  },
  {
   "cell_type": "code",
   "execution_count": 35,
   "metadata": {},
   "outputs": [],
   "source": [
    "interval_large_jobs_2_1 = interval_large_jobs[interval_large_jobs['node_req'] == interval_large_jobs['n_2_1']]"
   ]
  },
  {
   "cell_type": "code",
   "execution_count": 36,
   "metadata": {},
   "outputs": [
    {
     "data": {
      "text/plain": [
       "(12680, 19)"
      ]
     },
     "execution_count": 36,
     "metadata": {},
     "output_type": "execute_result"
    }
   ],
   "source": [
    "interval_large_jobs_2_1.shape"
   ]
  },
  {
   "cell_type": "code",
   "execution_count": 37,
   "metadata": {},
   "outputs": [],
   "source": [
    "mean_core_2_1 = interval_large_jobs_2_1['real_pow'].sum() / interval_large_jobs_2_1['cpu_req'].sum()\n",
    "print(mean_core_2_1)"
   ]
  },
  {
   "cell_type": "code",
   "execution_count": 39,
   "metadata": {},
   "outputs": [
    {
     "name": "stderr",
     "output_type": "stream",
     "text": [
      "/usr/local/lib/python3.5/dist-packages/ipykernel_launcher.py:1: SettingWithCopyWarning: \n",
      "A value is trying to be set on a copy of a slice from a DataFrame.\n",
      "Try using .loc[row_indexer,col_indexer] = value instead\n",
      "\n",
      "See the caveats in the documentation: http://pandas.pydata.org/pandas-docs/stable/indexing.html#indexing-view-versus-copy\n",
      "  \"\"\"Entry point for launching an IPython kernel.\n"
     ]
    }
   ],
   "source": [
    "interval_large_jobs_2_1['predicted'] = mean_core_2_1 * interval_large_jobs_2_1['cpu_req']"
   ]
  },
  {
   "cell_type": "code",
   "execution_count": 40,
   "metadata": {},
   "outputs": [],
   "source": [
    "#interval_large_jobs_2_1"
   ]
  },
  {
   "cell_type": "code",
   "execution_count": 41,
   "metadata": {},
   "outputs": [
    {
     "name": "stdout",
     "output_type": "stream",
     "text": [
      "approximation accuracy: 0.6961530048060831\n"
     ]
    }
   ],
   "source": [
    "print(\"approximation accuracy: {}\".format(r2_score(interval_large_jobs_2_1['real_pow'], interval_large_jobs_2_1['predicted'])))"
   ]
  },
  {
   "cell_type": "code",
   "execution_count": null,
   "metadata": {},
   "outputs": [],
   "source": []
  },
  {
   "cell_type": "code",
   "execution_count": 42,
   "metadata": {},
   "outputs": [
    {
     "data": {
      "text/plain": [
       "(12327, 20)"
      ]
     },
     "execution_count": 42,
     "metadata": {},
     "output_type": "execute_result"
    }
   ],
   "source": []
  },
  {
   "cell_type": "code",
   "execution_count": 44,
   "metadata": {},
   "outputs": [
    {
     "name": "stdout",
     "output_type": "stream",
     "text": [
      "12.188997397054441\n",
      "approximation accuracy: 0.6984105718416773\n"
     ]
    },
    {
     "name": "stderr",
     "output_type": "stream",
     "text": [
      "/usr/local/lib/python3.5/dist-packages/ipykernel_launcher.py:5: SettingWithCopyWarning: \n",
      "A value is trying to be set on a copy of a slice from a DataFrame.\n",
      "Try using .loc[row_indexer,col_indexer] = value instead\n",
      "\n",
      "See the caveats in the documentation: http://pandas.pydata.org/pandas-docs/stable/indexing.html#indexing-view-versus-copy\n",
      "  \"\"\"\n"
     ]
    }
   ],
   "source": [
    "interval_large_jobs_2_1_top_quality = interval_large_jobs_2_1[interval_large_jobs_2_1['real_pow_quality'] == 1]\n",
    "interval_large_jobs_2_1_top_quality.shape\n",
    "mean_core_2_1_top_quality = interval_large_jobs_2_1['real_pow'].sum() / interval_large_jobs_2_1['cpu_req'].sum()\n",
    "print(mean_core_2_1_top_quality)\n",
    "interval_large_jobs_2_1_top_quality['predicted'] = mean_core_2_1_top_quality * interval_large_jobs_2_1_top_quality['cpu_req']\n",
    "print(\"approximation accuracy: {}\".format(r2_score(interval_large_jobs_2_1_top_quality['real_pow'], interval_large_jobs_2_1_top_quality['predicted'])))"
   ]
  },
  {
   "cell_type": "code",
   "execution_count": null,
   "metadata": {},
   "outputs": [],
   "source": []
  }
 ],
 "metadata": {
  "kernelspec": {
   "display_name": "Python 3",
   "language": "python",
   "name": "python3"
  },
  "language_info": {
   "codemirror_mode": {
    "name": "ipython",
    "version": 3
   },
   "file_extension": ".py",
   "mimetype": "text/x-python",
   "name": "python",
   "nbconvert_exporter": "python",
   "pygments_lexer": "ipython3",
   "version": "3.5.2"
  }
 },
 "nbformat": 4,
 "nbformat_minor": 2
}
