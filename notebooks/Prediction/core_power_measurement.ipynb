{
 "cells": [
  {
   "cell_type": "code",
   "execution_count": 22,
   "metadata": {},
   "outputs": [
    {
     "name": "stderr",
     "output_type": "stream",
     "text": [
      "/usr/local/lib/python3.5/dist-packages/IPython/core/interactiveshell.py:3049: DtypeWarning: Columns (12) have mixed types. Specify dtype option on import or set low_memory=False.\n",
      "  interactivity=interactivity, compiler=compiler, result=result)\n"
     ]
    }
   ],
   "source": [
    "#!/usr/bin/env python3\n",
    "\n",
    "import pandas as pd\n",
    "import errno    \n",
    "import os\n",
    "import numpy as np\n",
    "import math\n",
    "\n",
    "from sklearn.metrics import r2_score\n",
    "from scipy import stats\n",
    "\n",
    "from sklearn.metrics import mean_squared_error\n",
    "\n",
    "'''\n",
    "Author: Enrico Ceccolini\n",
    "    Calculate the mean core power consumption (core_type1, core_type2 and core type_3)\n",
    "    by selecting jobs that completely ran on one of this types\n",
    "'''\n",
    "\n",
    "#datadir = \"/datasets/eurora_data/db/\"\n",
    "datadir = \"/datasets/eurora_data/db1/\"\n",
    "\n",
    "### select an interval from\n",
    "## 1 settings wholeData\n",
    "interval_comment = \"WholeData\"\n",
    "suffix = \"_1min_\"\n",
    "\n",
    "### select an interval from\n",
    "## 2 settings Andrea\n",
    "interval_comment = \"Andrea\"\n",
    "andrea_start_time = pd.to_datetime('2014-03-31')\n",
    "andrea_end_time = pd.to_datetime('2014-05-01')\n",
    "\n",
    "## 3 settings Alina\n",
    "#interval_comment = \"Alina\"\n",
    "#alina_start_time = pd.to_datetime('2014-09-30')\n",
    "#alina_end_time = pd.to_datetime('2014-11-01')\n",
    "\n",
    "\n",
    "infile_long_jobs = datadir + \"CPUs/\" + interval_comment + \"/long_jobs_real_pow_\" + interval_comment + \".csv\"\n",
    "interval_long_jobs = pd.read_csv(infile_long_jobs, index_col=0)\n",
    "\n",
    "infile_short_jobs = datadir + \"CPUs/\" + interval_comment + \"/short_jobs_real_pow_\" + interval_comment + \".csv\"\n",
    "interval_short_jobs = pd.read_csv(infile_short_jobs, index_col=0)"
   ]
  },
  {
   "cell_type": "markdown",
   "metadata": {},
   "source": [
    "nodes 1-16 and 25-32 have a maximum frequency of 2.1GHz (CPUs-2100), nodes 17-24 have a maximum frequency of 2.2GHz (CPUs-2200), and nodes 33-64 have a maximum frequency of 3.1GHz (CPUs-3100). For the accelerators, nodes from 0 to 32 embed Intel Xeon Phi accelerators, whereas nodes from 33 to 64 embed Nvidia Kepler GPUs."
   ]
  },
  {
   "cell_type": "code",
   "execution_count": 23,
   "metadata": {},
   "outputs": [
    {
     "data": {
      "text/html": [
       "<div>\n",
       "<style scoped>\n",
       "    .dataframe tbody tr th:only-of-type {\n",
       "        vertical-align: middle;\n",
       "    }\n",
       "\n",
       "    .dataframe tbody tr th {\n",
       "        vertical-align: top;\n",
       "    }\n",
       "\n",
       "    .dataframe thead th {\n",
       "        text-align: right;\n",
       "    }\n",
       "</style>\n",
       "<table border=\"1\" class=\"dataframe\">\n",
       "  <thead>\n",
       "    <tr style=\"text-align: right;\">\n",
       "      <th></th>\n",
       "      <th>job_id_string</th>\n",
       "      <th>job_name</th>\n",
       "      <th>queue</th>\n",
       "      <th>start_time</th>\n",
       "      <th>run_start_time</th>\n",
       "      <th>end_time</th>\n",
       "      <th>user</th>\n",
       "      <th>node_req</th>\n",
       "      <th>cpu_req</th>\n",
       "      <th>mem_req</th>\n",
       "      <th>...</th>\n",
       "      <th>exit_status</th>\n",
       "      <th>pbs_exit_code</th>\n",
       "      <th>gpu_req</th>\n",
       "      <th>mic_req</th>\n",
       "      <th>real_pow</th>\n",
       "      <th>runned_alone</th>\n",
       "      <th>real_pow_quality</th>\n",
       "      <th>n_2_1</th>\n",
       "      <th>n_2_2</th>\n",
       "      <th>n_3_1</th>\n",
       "    </tr>\n",
       "    <tr>\n",
       "      <th>job_id</th>\n",
       "      <th></th>\n",
       "      <th></th>\n",
       "      <th></th>\n",
       "      <th></th>\n",
       "      <th></th>\n",
       "      <th></th>\n",
       "      <th></th>\n",
       "      <th></th>\n",
       "      <th></th>\n",
       "      <th></th>\n",
       "      <th></th>\n",
       "      <th></th>\n",
       "      <th></th>\n",
       "      <th></th>\n",
       "      <th></th>\n",
       "      <th></th>\n",
       "      <th></th>\n",
       "      <th></th>\n",
       "      <th></th>\n",
       "      <th></th>\n",
       "      <th></th>\n",
       "    </tr>\n",
       "  </thead>\n",
       "  <tbody>\n",
       "    <tr>\n",
       "      <th>1</th>\n",
       "      <td>498458.node129</td>\n",
       "      <td>rth2e6t0</td>\n",
       "      <td>parallel</td>\n",
       "      <td>2014-03-31 00:30:02</td>\n",
       "      <td>2014-03-31 00:30:02</td>\n",
       "      <td>2014-03-31 01:22:40</td>\n",
       "      <td>alupi000@node129.eurora.cineca.it</td>\n",
       "      <td>1</td>\n",
       "      <td>16</td>\n",
       "      <td>14</td>\n",
       "      <td>...</td>\n",
       "      <td>COMPLETED</td>\n",
       "      <td>NaN</td>\n",
       "      <td>NaN</td>\n",
       "      <td>NaN</td>\n",
       "      <td>140.0</td>\n",
       "      <td>True</td>\n",
       "      <td>0.0</td>\n",
       "      <td>0</td>\n",
       "      <td>1</td>\n",
       "      <td>0</td>\n",
       "    </tr>\n",
       "  </tbody>\n",
       "</table>\n",
       "<p>1 rows × 23 columns</p>\n",
       "</div>"
      ],
      "text/plain": [
       "         job_id_string  job_name     queue           start_time  \\\n",
       "job_id                                                            \n",
       "1       498458.node129  rth2e6t0  parallel  2014-03-31 00:30:02   \n",
       "\n",
       "             run_start_time             end_time  \\\n",
       "job_id                                             \n",
       "1       2014-03-31 00:30:02  2014-03-31 01:22:40   \n",
       "\n",
       "                                     user  node_req  cpu_req  mem_req  ...  \\\n",
       "job_id                                                                 ...   \n",
       "1       alupi000@node129.eurora.cineca.it         1       16       14  ...   \n",
       "\n",
       "       exit_status pbs_exit_code  gpu_req mic_req  real_pow  runned_alone  \\\n",
       "job_id                                                                      \n",
       "1        COMPLETED           NaN      NaN     NaN     140.0          True   \n",
       "\n",
       "        real_pow_quality  n_2_1  n_2_2  n_3_1  \n",
       "job_id                                         \n",
       "1                    0.0      0      1      0  \n",
       "\n",
       "[1 rows x 23 columns]"
      ]
     },
     "execution_count": 23,
     "metadata": {},
     "output_type": "execute_result"
    }
   ],
   "source": [
    "interval_long_jobs.head(1)"
   ]
  },
  {
   "cell_type": "code",
   "execution_count": 24,
   "metadata": {},
   "outputs": [
    {
     "name": "stdout",
     "output_type": "stream",
     "text": [
      "There are 22358 long jobs in the Andrea's interval\n",
      "There are 66179 short jobs in the Andrea's interval\n"
     ]
    }
   ],
   "source": [
    "print(\"There are {} long jobs in the {}'s interval\".format(interval_long_jobs.shape[0], interval_comment))\n",
    "print(\"There are {} short jobs in the {}'s interval\".format(interval_short_jobs.shape[0], interval_comment))"
   ]
  },
  {
   "cell_type": "code",
   "execution_count": null,
   "metadata": {},
   "outputs": [],
   "source": []
  },
  {
   "cell_type": "markdown",
   "metadata": {},
   "source": [
    "$$𝑁𝑀𝑆𝐸=1−||𝑥−𝑦||2||𝑥−𝑥¯||$$"
   ]
  },
  {
   "cell_type": "code",
   "execution_count": 47,
   "metadata": {},
   "outputs": [
    {
     "name": "stdout",
     "output_type": "stream",
     "text": [
      "There are 5047 jobs completely running on this type of cpu\n",
      "The average per core is 12.441707070404295 W\n",
      "R-squared: 0.7748428780751343\n",
      "mean_quared_error: 3099.717591810004\n"
     ]
    },
    {
     "name": "stderr",
     "output_type": "stream",
     "text": [
      "/usr/local/lib/python3.5/dist-packages/ipykernel_launcher.py:5: SettingWithCopyWarning: \n",
      "A value is trying to be set on a copy of a slice from a DataFrame.\n",
      "Try using .loc[row_indexer,col_indexer] = value instead\n",
      "\n",
      "See the caveats in the documentation: http://pandas.pydata.org/pandas-docs/stable/indexing.html#indexing-view-versus-copy\n",
      "  \"\"\"\n",
      "/usr/local/lib/python3.5/dist-packages/ipykernel_launcher.py:13: SettingWithCopyWarning: \n",
      "A value is trying to be set on a copy of a slice from a DataFrame.\n",
      "Try using .loc[row_indexer,col_indexer] = value instead\n",
      "\n",
      "See the caveats in the documentation: http://pandas.pydata.org/pandas-docs/stable/indexing.html#indexing-view-versus-copy\n",
      "  del sys.path[0]\n"
     ]
    }
   ],
   "source": [
    "interval_long_jobs_2_1 = interval_long_jobs[interval_long_jobs['node_req'] == interval_long_jobs['n_2_1']]\n",
    "print(\"There are {} jobs completely running on this type of cpu\".format(interval_long_jobs_2_1.shape[0]))\n",
    "mean_core_2_1 = interval_long_jobs_2_1['real_pow'].sum() / interval_long_jobs_2_1['cpu_req'].sum()\n",
    "print(\"The average per core is {} W\".format(mean_core_2_1))\n",
    "interval_long_jobs_2_1['predicted'] = mean_core_2_1 * interval_long_jobs_2_1['cpu_req']\n",
    "#print(\"Accuracy: {}\".format(r2_score(interval_long_jobs_2_1['real_pow'], interval_long_jobs_2_1['predicted'])))\n",
    "slope, intercept, r_value, p_value, std_err = stats.linregress(interval_long_jobs_2_1['real_pow'], interval_long_jobs_2_1['predicted'])\n",
    "print(\"R-squared: {}\".format(r_value**2))\n",
    "print(\"mean_quared_error: {}\".format(mean_squared_error(interval_long_jobs_2_1['real_pow'], interval_long_jobs_2_1['predicted'])))\n",
    "\n",
    "mean_P = interval_long_jobs_2_1['real_pow'].mean()\n",
    "#mean_M = interval_long_jobs_2_1['predicted'].mean()\n",
    "interval_long_jobs_2_1['NMSE'] = ((interval_long_jobs_2_1['real_pow'] - interval_long_jobs_2_1['predicted'])**2 / (mean_P*mean_M))"
   ]
  },
  {
   "cell_type": "code",
   "execution_count": 48,
   "metadata": {},
   "outputs": [
    {
     "data": {
      "text/plain": [
       "0.18191540922735214"
      ]
     },
     "execution_count": 48,
     "metadata": {},
     "output_type": "execute_result"
    }
   ],
   "source": [
    "interval_long_jobs_2_1['NMSE'].sum() / interval_long_jobs_2_1.shape[0]"
   ]
  },
  {
   "cell_type": "markdown",
   "metadata": {},
   "source": [
    "### Compute the mean core power consumption for the first type of cpu (2.1 GHz) "
   ]
  },
  {
   "cell_type": "code",
   "execution_count": 44,
   "metadata": {},
   "outputs": [
    {
     "name": "stdout",
     "output_type": "stream",
     "text": [
      "There are 5047 jobs completely running on this type of cpu\n",
      "The average per core is 12.441707070404295 W\n",
      "R-squared: 0.7748428780751343\n",
      "mean_quared_error: 3099.717591810004\n",
      "NMSE: 0.226345587521094\n",
      "There are 4984 jobs completely running on this type of cpu with that quality\n",
      "The average per core is 12.482594115975424 W\n"
     ]
    },
    {
     "name": "stderr",
     "output_type": "stream",
     "text": [
      "/usr/local/lib/python3.5/dist-packages/ipykernel_launcher.py:5: SettingWithCopyWarning: \n",
      "A value is trying to be set on a copy of a slice from a DataFrame.\n",
      "Try using .loc[row_indexer,col_indexer] = value instead\n",
      "\n",
      "See the caveats in the documentation: http://pandas.pydata.org/pandas-docs/stable/indexing.html#indexing-view-versus-copy\n",
      "  \"\"\"\n",
      "/usr/local/lib/python3.5/dist-packages/ipykernel_launcher.py:12: SettingWithCopyWarning: \n",
      "A value is trying to be set on a copy of a slice from a DataFrame.\n",
      "Try using .loc[row_indexer,col_indexer] = value instead\n",
      "\n",
      "See the caveats in the documentation: http://pandas.pydata.org/pandas-docs/stable/indexing.html#indexing-view-versus-copy\n",
      "  if sys.path[0] == '':\n"
     ]
    },
    {
     "name": "stdout",
     "output_type": "stream",
     "text": [
      "R-squared: 0.7745453387119718\n",
      "mean_quared_error: 3137.302363842254\n",
      "NMSE: 0.22688879692086222\n",
      "There are 4915 jobs completely running on this type of cpu with that quality\n",
      "The average per core is 12.461791461036658 W\n",
      "R-squared: 0.776326504924278\n",
      "mean_quared_error: 3126.8401950196994\n",
      "NMSE: 0.22475655128959907\n",
      "There are 3319 jobs completely running on this type of cpu with that quality\n",
      "The average per core is 11.91715441740345 W\n",
      "R-squared: 0.732600394714791\n",
      "mean_quared_error: 4012.7634718153327\n",
      "NMSE: 0.18927287381707084\n"
     ]
    }
   ],
   "source": [
    "interval_long_jobs_2_1 = interval_long_jobs[interval_long_jobs['node_req'] == interval_long_jobs['n_2_1']]\n",
    "print(\"There are {} jobs completely running on this type of cpu\".format(interval_long_jobs_2_1.shape[0]))\n",
    "mean_core_2_1 = interval_long_jobs_2_1['real_pow'].sum() / interval_long_jobs_2_1['cpu_req'].sum()\n",
    "print(\"The average per core is {} W\".format(mean_core_2_1))\n",
    "interval_long_jobs_2_1['predicted'] = mean_core_2_1 * interval_long_jobs_2_1['cpu_req']\n",
    "#print(\"Accuracy: {}\".format(r2_score(interval_long_jobs_2_1['real_pow'], interval_long_jobs_2_1['predicted'])))\n",
    "slope, intercept, r_value, p_value, std_err = stats.linregress(interval_long_jobs_2_1['real_pow'], interval_long_jobs_2_1['predicted'])\n",
    "print(\"R-squared: {}\".format(r_value**2))\n",
    "print(\"mean_quared_error: {}\".format(mean_squared_error(interval_long_jobs_2_1['real_pow'], interval_long_jobs_2_1['predicted'])))\n",
    "mean_P = interval_long_jobs_2_1['real_pow'].mean()\n",
    "mean_M = interval_long_jobs_2_1['predicted'].mean()\n",
    "interval_long_jobs_2_1['NMSE'] = ((interval_long_jobs_2_1['real_pow'] - interval_long_jobs_2_1['predicted'])**2 / (mean_P*mean_M))\n",
    "print(\"NMSE: {}\".format(interval_long_jobs_2_1['NMSE'].sum() / interval_long_jobs_2_1.shape[0]))\n",
    "\n",
    "### Esclude the jobs with 0 of approximation\n",
    "quality_long_jobs_2_1 = interval_long_jobs_2_1[interval_long_jobs_2_1['real_pow'] != 0]\n",
    "quality_long_jobs_2_1 = quality_long_jobs_2_1[quality_long_jobs_2_1['real_pow_quality'] != 0]\n",
    "print(\"There are {} jobs completely running on this type of cpu with that quality\".format(quality_long_jobs_2_1.shape[0]))\n",
    "mean_core_2_1 = quality_long_jobs_2_1['real_pow'].sum() / quality_long_jobs_2_1['cpu_req'].sum()\n",
    "print(\"The average per core is {} W\".format(mean_core_2_1))\n",
    "quality_long_jobs_2_1['predicted'] = mean_core_2_1 * quality_long_jobs_2_1['cpu_req']\n",
    "#print(\"Accuracy: {}\".format(r2_score(quality_long_jobs_2_1['real_pow'], quality_long_jobs_2_1['predicted'])))\n",
    "slope, intercept, r_value, p_value, std_err = stats.linregress(quality_long_jobs_2_1['real_pow'], quality_long_jobs_2_1['predicted'])\n",
    "print(\"R-squared: {}\".format(r_value**2))\n",
    "print(\"mean_quared_error: {}\".format(mean_squared_error(quality_long_jobs_2_1['real_pow'], quality_long_jobs_2_1['predicted'])))\n",
    "mean_P = quality_long_jobs_2_1['real_pow'].mean()\n",
    "mean_M = quality_long_jobs_2_1['predicted'].mean()\n",
    "quality_long_jobs_2_1['NMSE'] = ((quality_long_jobs_2_1['real_pow'] - quality_long_jobs_2_1['predicted'])**2 / (mean_P*mean_M))\n",
    "print(\"NMSE: {}\".format(quality_long_jobs_2_1['NMSE'].sum() / quality_long_jobs_2_1.shape[0]))\n",
    "\n",
    "\n",
    "\n",
    "### Esclude the jobs with low quality of approximation\n",
    "quality_long_jobs_2_1 = interval_long_jobs_2_1[interval_long_jobs_2_1['real_pow'] != 0]\n",
    "quality_long_jobs_2_1 = quality_long_jobs_2_1[quality_long_jobs_2_1['real_pow_quality'] != 0]\n",
    "quality_long_jobs_2_1 = quality_long_jobs_2_1[quality_long_jobs_2_1['real_pow_quality'] > 0.5]\n",
    "print(\"There are {} jobs completely running on this type of cpu with that quality\".format(quality_long_jobs_2_1.shape[0]))\n",
    "mean_core_2_1 = quality_long_jobs_2_1['real_pow'].sum() / quality_long_jobs_2_1['cpu_req'].sum()\n",
    "print(\"The average per core is {} W\".format(mean_core_2_1))\n",
    "quality_long_jobs_2_1['predicted'] = mean_core_2_1 * quality_long_jobs_2_1['cpu_req']\n",
    "#print(\"Accuracy: {}\".format(r2_score(quality_long_jobs_2_1['real_pow'], quality_long_jobs_2_1['predicted'])))\n",
    "slope, intercept, r_value, p_value, std_err = stats.linregress(quality_long_jobs_2_1['real_pow'], quality_long_jobs_2_1['predicted'])\n",
    "print(\"R-squared: {}\".format(r_value**2))\n",
    "print(\"mean_quared_error: {}\".format(mean_squared_error(quality_long_jobs_2_1['real_pow'], quality_long_jobs_2_1['predicted'])))\n",
    "mean_P = quality_long_jobs_2_1['real_pow'].mean()\n",
    "mean_M = quality_long_jobs_2_1['predicted'].mean()\n",
    "quality_long_jobs_2_1['NMSE'] = ((quality_long_jobs_2_1['real_pow'] - quality_long_jobs_2_1['predicted'])**2 / (mean_P*mean_M))\n",
    "print(\"NMSE: {}\".format(quality_long_jobs_2_1['NMSE'].sum() / quality_long_jobs_2_1.shape[0]))   \n",
    "    \n",
    "    \n",
    "    \n",
    "quality_long_jobs_2_1 = interval_long_jobs_2_1[interval_long_jobs_2_1['real_pow'] != 0]\n",
    "quality_long_jobs_2_1 = quality_long_jobs_2_1[quality_long_jobs_2_1['real_pow_quality'] != 0]\n",
    "quality_long_jobs_2_1 = quality_long_jobs_2_1[quality_long_jobs_2_1['runned_alone'] == True]\n",
    "print(\"There are {} jobs completely running on this type of cpu with that quality\".format(quality_long_jobs_2_1.shape[0]))\n",
    "mean_core_2_1 = quality_long_jobs_2_1['real_pow'].sum() / quality_long_jobs_2_1['cpu_req'].sum()\n",
    "print(\"The average per core is {} W\".format(mean_core_2_1))\n",
    "quality_long_jobs_2_1['predicted'] = mean_core_2_1 * quality_long_jobs_2_1['cpu_req']\n",
    "slope, intercept, r_value, p_value, std_err = stats.linregress(quality_long_jobs_2_1['real_pow'], quality_long_jobs_2_1['predicted'])\n",
    "print(\"R-squared: {}\".format(r_value**2))\n",
    "print(\"mean_quared_error: {}\".format(mean_squared_error(quality_long_jobs_2_1['real_pow'], quality_long_jobs_2_1['predicted'])))\n",
    "mean_P = quality_long_jobs_2_1['real_pow'].mean()\n",
    "mean_M = quality_long_jobs_2_1['predicted'].mean()\n",
    "quality_long_jobs_2_1['NMSE'] = ((quality_long_jobs_2_1['real_pow'] - quality_long_jobs_2_1['predicted'])**2 / (mean_P*mean_M))\n",
    "print(\"NMSE: {}\".format(quality_long_jobs_2_1['NMSE'].sum() / quality_long_jobs_2_1.shape[0]))"
   ]
  },
  {
   "cell_type": "code",
   "execution_count": null,
   "metadata": {},
   "outputs": [],
   "source": []
  },
  {
   "cell_type": "code",
   "execution_count": null,
   "metadata": {},
   "outputs": [],
   "source": []
  },
  {
   "cell_type": "code",
   "execution_count": null,
   "metadata": {},
   "outputs": [],
   "source": []
  },
  {
   "cell_type": "code",
   "execution_count": 23,
   "metadata": {},
   "outputs": [
    {
     "name": "stdout",
     "output_type": "stream",
     "text": [
      "Accuracy: 0.6961530048060831\n"
     ]
    }
   ],
   "source": [
    "quality_long_jobs_2_1['predicted'] = 12.188997397054441 * quality_long_jobs_2_1['cpu_req']\n",
    "print(\"Accuracy: {}\".format(r2_score(quality_long_jobs_2_1['real_pow'], quality_long_jobs_2_1['predicted'])))"
   ]
  },
  {
   "cell_type": "code",
   "execution_count": 25,
   "metadata": {},
   "outputs": [],
   "source": [
    "#quality_long_jobs_2_1"
   ]
  },
  {
   "cell_type": "markdown",
   "metadata": {},
   "source": [
    "### Andrea's interval"
   ]
  },
  {
   "cell_type": "code",
   "execution_count": 10,
   "metadata": {},
   "outputs": [],
   "source": [
    "andrea_interval_long_jobs =interval_long_jobs[pd.to_datetime(interval_long_jobs['run_start_time']) >= andrea_start_time]\n",
    "andrea_interval_long_jobs =andrea_interval_long_jobs[pd.to_datetime(andrea_interval_long_jobs['run_start_time']) <= andrea_end_time]"
   ]
  },
  {
   "cell_type": "code",
   "execution_count": 26,
   "metadata": {},
   "outputs": [
    {
     "name": "stdout",
     "output_type": "stream",
     "text": [
      "There are 5064 jobs completely running on this type of cpu\n",
      "The average per core is 12.143704579416486 W\n",
      "R-squared: 0.7233019844855627\n",
      "There are 4900 jobs completely running on this type of cpu with that quality\n",
      "The average per core is 12.529485612237833 W\n",
      "R-squared: 0.7673655375680561\n"
     ]
    },
    {
     "name": "stderr",
     "output_type": "stream",
     "text": [
      "/usr/local/lib/python3.5/dist-packages/ipykernel_launcher.py:5: SettingWithCopyWarning: \n",
      "A value is trying to be set on a copy of a slice from a DataFrame.\n",
      "Try using .loc[row_indexer,col_indexer] = value instead\n",
      "\n",
      "See the caveats in the documentation: http://pandas.pydata.org/pandas-docs/stable/indexing.html#indexing-view-versus-copy\n",
      "  \"\"\"\n"
     ]
    }
   ],
   "source": [
    "interval_long_jobs_2_1 = andrea_interval_long_jobs[andrea_interval_long_jobs['node_req'] == andrea_interval_long_jobs['n_2_1']]\n",
    "print(\"There are {} jobs completely running on this type of cpu\".format(interval_long_jobs_2_1.shape[0]))\n",
    "mean_core_2_1 = interval_long_jobs_2_1['real_pow'].sum() / interval_long_jobs_2_1['cpu_req'].sum()\n",
    "print(\"The average per core is {} W\".format(mean_core_2_1))\n",
    "interval_long_jobs_2_1['predicted'] = mean_core_2_1 * interval_long_jobs_2_1['cpu_req']\n",
    "#print(\"Accuracy: {}\".format(r2_score(interval_long_jobs_2_1['real_pow'], interval_long_jobs_2_1['predicted'])))\n",
    "slope, intercept, r_value, p_value, std_err = stats.linregress(interval_long_jobs_2_1['real_pow'], interval_long_jobs_2_1['predicted'])\n",
    "print(\"R-squared: {}\".format(r_value**2))\n",
    "\n",
    "### Esclude the jobs with low quality of approximation\n",
    "quality_long_jobs_2_1 = interval_long_jobs_2_1[interval_long_jobs_2_1['real_pow'] != 0]\n",
    "quality_long_jobs_2_1 = quality_long_jobs_2_1[quality_long_jobs_2_1['real_pow_quality'] != 0]\n",
    "print(\"There are {} jobs completely running on this type of cpu with that quality\".format(quality_long_jobs_2_1.shape[0]))\n",
    "mean_core_2_1 = quality_long_jobs_2_1['real_pow'].sum() / quality_long_jobs_2_1['cpu_req'].sum()\n",
    "print(\"The average per core is {} W\".format(mean_core_2_1))\n",
    "quality_long_jobs_2_1['predicted'] = mean_core_2_1 * quality_long_jobs_2_1['cpu_req']\n",
    "#print(\"Accuracy: {}\".format(r2_score(quality_long_jobs_2_1['real_pow'], quality_long_jobs_2_1['predicted'])))\n",
    "slope, intercept, r_value, p_value, std_err = stats.linregress(quality_long_jobs_2_1['real_pow'], quality_long_jobs_2_1['predicted'])\n",
    "print(\"R-squared: {}\".format(r_value**2))\n",
    "\n",
    "\n",
    "### Esclude jobs that ran concurrently\n",
    "#quality_long_jobs_2_1 = interval_long_jobs_2_1[interval_long_jobs_2_1['real_pow'] != 0]\n",
    "#quality_long_jobs_2_1 = quality_long_jobs_2_1[quality_long_jobs_2_1['real_pow_quality'] != 0]\n",
    "#quality_long_jobs_2_1 = quality_long_jobs_2_1[quality_long_jobs_2_1['runned_alone'] == True]\n",
    "#print(\"There are {} jobs completely running on this type of cpu with that quality\".format(quality_long_jobs_2_1.shape[0]))\n",
    "#mean_core_2_1 = quality_long_jobs_2_1['real_pow'].sum() / quality_long_jobs_2_1['cpu_req'].sum()\n",
    "#print(\"The average per core is {} W\".format(mean_core_2_1))\n",
    "#quality_long_jobs_2_1['predicted'] = mean_core_2_1 * quality_long_jobs_2_1['cpu_req']\n",
    "#print(\"Accuracy: {}\".format(r2_score(quality_long_jobs_2_1['real_pow'], quality_long_jobs_2_1['predicted'])))"
   ]
  },
  {
   "cell_type": "code",
   "execution_count": null,
   "metadata": {},
   "outputs": [],
   "source": []
  },
  {
   "cell_type": "code",
   "execution_count": null,
   "metadata": {},
   "outputs": [],
   "source": []
  },
  {
   "cell_type": "code",
   "execution_count": null,
   "metadata": {},
   "outputs": [],
   "source": []
  },
  {
   "cell_type": "markdown",
   "metadata": {},
   "source": [
    "### Compute the mean core power consumption for the first type of cpu (2.2 GHz) "
   ]
  },
  {
   "cell_type": "code",
   "execution_count": 27,
   "metadata": {},
   "outputs": [
    {
     "name": "stdout",
     "output_type": "stream",
     "text": [
      "There are 4570 jobs completely running on this type of cpu\n",
      "The average per core is 13.80509054541727 W\n",
      "R-squared: 0.48435611996160277\n",
      "There are 4294 jobs completely running on this type of cpu with that quality\n",
      "The average per core is 14.664222292746754 W\n",
      "R-squared: 0.5748425521907099\n"
     ]
    },
    {
     "name": "stderr",
     "output_type": "stream",
     "text": [
      "/usr/local/lib/python3.5/dist-packages/ipykernel_launcher.py:5: SettingWithCopyWarning: \n",
      "A value is trying to be set on a copy of a slice from a DataFrame.\n",
      "Try using .loc[row_indexer,col_indexer] = value instead\n",
      "\n",
      "See the caveats in the documentation: http://pandas.pydata.org/pandas-docs/stable/indexing.html#indexing-view-versus-copy\n",
      "  \"\"\"\n"
     ]
    }
   ],
   "source": [
    "interval_long_jobs_2_2 = interval_long_jobs[interval_long_jobs['node_req'] == interval_long_jobs['n_2_2']]\n",
    "print(\"There are {} jobs completely running on this type of cpu\".format(interval_long_jobs_2_2.shape[0]))\n",
    "mean_core_2_2 = interval_long_jobs_2_2['real_pow'].sum() / interval_long_jobs_2_2['cpu_req'].sum()\n",
    "print(\"The average per core is {} W\".format(mean_core_2_2))\n",
    "interval_long_jobs_2_2['predicted'] = mean_core_2_2 * interval_long_jobs_2_2['cpu_req']\n",
    "#print(\"Accuracy: {}\".format(r2_score(interval_long_jobs_2_2['real_pow'], interval_long_jobs_2_2['predicted'])))\n",
    "slope, intercept, r_value, p_value, std_err = stats.linregress(interval_long_jobs_2_2['real_pow'], interval_long_jobs_2_2['predicted'])\n",
    "print(\"R-squared: {}\".format(r_value**2))\n",
    "\n",
    "quality_long_jobs_2_2 = interval_long_jobs_2_2[interval_long_jobs_2_2['real_pow'] != 0]\n",
    "quality_long_jobs_2_2 = quality_long_jobs_2_2[quality_long_jobs_2_2['real_pow_quality'] != 0]\n",
    "print(\"There are {} jobs completely running on this type of cpu with that quality\".format(quality_long_jobs_2_2.shape[0]))\n",
    "mean_core_2_2 = quality_long_jobs_2_2['real_pow'].sum() / quality_long_jobs_2_2['cpu_req'].sum()\n",
    "print(\"The average per core is {} W\".format(mean_core_2_2))\n",
    "quality_long_jobs_2_2['predicted'] = mean_core_2_2 * quality_long_jobs_2_2['cpu_req']\n",
    "#print(\"Accuracy: {}\".format(r2_score(quality_long_jobs_2_2['real_pow'], quality_long_jobs_2_2['predicted'])))\n",
    "slope, intercept, r_value, p_value, std_err = stats.linregress(quality_long_jobs_2_2['real_pow'], quality_long_jobs_2_2['predicted'])\n",
    "print(\"R-squared: {}\".format(r_value**2))"
   ]
  },
  {
   "cell_type": "markdown",
   "metadata": {},
   "source": [
    "### Andrea's interval"
   ]
  },
  {
   "cell_type": "code",
   "execution_count": 28,
   "metadata": {},
   "outputs": [
    {
     "name": "stdout",
     "output_type": "stream",
     "text": [
      "There are 1428 jobs completely running on this type of cpu\n",
      "The average per core is 14.932216042263958 W\n",
      "R-squared: 0.5989269638151288\n",
      "There are 1362 jobs completely running on this type of cpu with that quality\n",
      "The average per core is 15.45302698203022 W\n",
      "R-squared: 0.6332755598899138\n"
     ]
    },
    {
     "name": "stderr",
     "output_type": "stream",
     "text": [
      "/usr/local/lib/python3.5/dist-packages/ipykernel_launcher.py:5: SettingWithCopyWarning: \n",
      "A value is trying to be set on a copy of a slice from a DataFrame.\n",
      "Try using .loc[row_indexer,col_indexer] = value instead\n",
      "\n",
      "See the caveats in the documentation: http://pandas.pydata.org/pandas-docs/stable/indexing.html#indexing-view-versus-copy\n",
      "  \"\"\"\n"
     ]
    }
   ],
   "source": [
    "interval_long_jobs_2_2 = andrea_interval_long_jobs[andrea_interval_long_jobs['node_req'] == andrea_interval_long_jobs['n_2_2']]\n",
    "print(\"There are {} jobs completely running on this type of cpu\".format(interval_long_jobs_2_2.shape[0]))\n",
    "mean_core_2_2 = interval_long_jobs_2_2['real_pow'].sum() / interval_long_jobs_2_2['cpu_req'].sum()\n",
    "print(\"The average per core is {} W\".format(mean_core_2_2))\n",
    "interval_long_jobs_2_2['predicted'] = mean_core_2_2 * interval_long_jobs_2_2['cpu_req']\n",
    "#print(\"Accuracy: {}\".format(r2_score(interval_long_jobs_2_2['real_pow'], interval_long_jobs_2_2['predicted'])))\n",
    "slope, intercept, r_value, p_value, std_err = stats.linregress(interval_long_jobs_2_2['real_pow'], interval_long_jobs_2_2['predicted'])\n",
    "print(\"R-squared: {}\".format(r_value**2))\n",
    "\n",
    "\n",
    "quality_long_jobs_2_2 = interval_long_jobs_2_2[interval_long_jobs_2_2['real_pow'] != 0]\n",
    "quality_long_jobs_2_2 = quality_long_jobs_2_2[quality_long_jobs_2_2['real_pow_quality'] != 0]\n",
    "print(\"There are {} jobs completely running on this type of cpu with that quality\".format(quality_long_jobs_2_2.shape[0]))\n",
    "mean_core_2_2 = quality_long_jobs_2_2['real_pow'].sum() / quality_long_jobs_2_2['cpu_req'].sum()\n",
    "print(\"The average per core is {} W\".format(mean_core_2_2))\n",
    "quality_long_jobs_2_2['predicted'] = mean_core_2_2 * quality_long_jobs_2_2['cpu_req']\n",
    "#print(\"Accuracy: {}\".format(r2_score(quality_long_jobs_2_2['real_pow'], quality_long_jobs_2_2['predicted'])))\n",
    "slope, intercept, r_value, p_value, std_err = stats.linregress(quality_long_jobs_2_2['real_pow'], quality_long_jobs_2_2['predicted'])\n",
    "print(\"R-squared: {}\".format(r_value**2))"
   ]
  },
  {
   "cell_type": "markdown",
   "metadata": {},
   "source": [
    "### Compute the mean core power consumption for the first type of cpu (3.1 GHz) "
   ]
  },
  {
   "cell_type": "code",
   "execution_count": 29,
   "metadata": {},
   "outputs": [
    {
     "name": "stdout",
     "output_type": "stream",
     "text": [
      "There are 43708 jobs completely running on this type of cpu\n",
      "The average per core is 24.842150667100178 W\n",
      "R-squared: 0.7177960495658504\n",
      "There are 38419 jobs completely running on this type of cpu with that quality\n",
      "The average per core is 27.562140558509466 W\n",
      "R-squared: 0.7925790456244505\n"
     ]
    },
    {
     "name": "stderr",
     "output_type": "stream",
     "text": [
      "/usr/local/lib/python3.5/dist-packages/ipykernel_launcher.py:5: SettingWithCopyWarning: \n",
      "A value is trying to be set on a copy of a slice from a DataFrame.\n",
      "Try using .loc[row_indexer,col_indexer] = value instead\n",
      "\n",
      "See the caveats in the documentation: http://pandas.pydata.org/pandas-docs/stable/indexing.html#indexing-view-versus-copy\n",
      "  \"\"\"\n"
     ]
    }
   ],
   "source": [
    "interval_long_jobs_3_1 = interval_long_jobs[interval_long_jobs['node_req'] == interval_long_jobs['n_3_1']]\n",
    "print(\"There are {} jobs completely running on this type of cpu\".format(interval_long_jobs_3_1.shape[0]))\n",
    "mean_core_3_1 = interval_long_jobs_3_1['real_pow'].sum() / interval_long_jobs_3_1['cpu_req'].sum()\n",
    "print(\"The average per core is {} W\".format(mean_core_3_1))\n",
    "interval_long_jobs_3_1['predicted'] = mean_core_3_1 * interval_long_jobs_3_1['cpu_req']\n",
    "#print(\"Accuracy: {}\".format(r2_score(interval_long_jobs_3_1['real_pow'], interval_long_jobs_3_1['predicted'])))\n",
    "slope, intercept, r_value, p_value, std_err = stats.linregress(interval_long_jobs_3_1['real_pow'], interval_long_jobs_3_1['predicted'])\n",
    "print(\"R-squared: {}\".format(r_value**2))\n",
    "\n",
    "\n",
    "quality_long_jobs_3_1 = interval_long_jobs_3_1[interval_long_jobs_3_1['real_pow'] != 0]\n",
    "quality_long_jobs_3_1 = quality_long_jobs_3_1[quality_long_jobs_3_1['real_pow_quality'] != 0]\n",
    "print(\"There are {} jobs completely running on this type of cpu with that quality\".format(quality_long_jobs_3_1.shape[0]))\n",
    "mean_core_3_1 = quality_long_jobs_3_1['real_pow'].sum() / quality_long_jobs_3_1['cpu_req'].sum()\n",
    "print(\"The average per core is {} W\".format(mean_core_3_1))\n",
    "quality_long_jobs_3_1['predicted'] = mean_core_3_1 * quality_long_jobs_3_1['cpu_req']\n",
    "#print(\"Accuracy: {}\".format(r2_score(quality_long_jobs_3_1['real_pow'], quality_long_jobs_3_1['predicted'])))\n",
    "slope, intercept, r_value, p_value, std_err = stats.linregress(quality_long_jobs_3_1['real_pow'], quality_long_jobs_3_1['predicted'])\n",
    "print(\"R-squared: {}\".format(r_value**2))"
   ]
  },
  {
   "cell_type": "markdown",
   "metadata": {},
   "source": [
    "### Andrea's interval"
   ]
  },
  {
   "cell_type": "code",
   "execution_count": 30,
   "metadata": {},
   "outputs": [
    {
     "name": "stdout",
     "output_type": "stream",
     "text": [
      "There are 15587 jobs completely running on this type of cpu\n",
      "The average per core is 22.25328132443491 W\n",
      "R-squared: 0.7079937136710611\n",
      "There are 13793 jobs completely running on this type of cpu with that quality\n",
      "The average per core is 25.079102763361274 W\n",
      "R-squared: 0.8222648015787352\n"
     ]
    },
    {
     "name": "stderr",
     "output_type": "stream",
     "text": [
      "/usr/local/lib/python3.5/dist-packages/ipykernel_launcher.py:5: SettingWithCopyWarning: \n",
      "A value is trying to be set on a copy of a slice from a DataFrame.\n",
      "Try using .loc[row_indexer,col_indexer] = value instead\n",
      "\n",
      "See the caveats in the documentation: http://pandas.pydata.org/pandas-docs/stable/indexing.html#indexing-view-versus-copy\n",
      "  \"\"\"\n"
     ]
    }
   ],
   "source": [
    "interval_long_jobs_3_1 = andrea_interval_long_jobs[andrea_interval_long_jobs['node_req'] == andrea_interval_long_jobs['n_3_1']]\n",
    "print(\"There are {} jobs completely running on this type of cpu\".format(interval_long_jobs_3_1.shape[0]))\n",
    "mean_core_3_1 = interval_long_jobs_3_1['real_pow'].sum() / interval_long_jobs_3_1['cpu_req'].sum()\n",
    "print(\"The average per core is {} W\".format(mean_core_3_1))\n",
    "interval_long_jobs_3_1['predicted'] = mean_core_3_1 * interval_long_jobs_3_1['cpu_req']\n",
    "#print(\"Accuracy: {}\".format(r2_score(interval_long_jobs_3_1['real_pow'], interval_long_jobs_3_1['predicted'])))\n",
    "slope, intercept, r_value, p_value, std_err = stats.linregress(interval_long_jobs_3_1['real_pow'], interval_long_jobs_3_1['predicted'])\n",
    "print(\"R-squared: {}\".format(r_value**2))\n",
    "\n",
    "quality_long_jobs_3_1 = interval_long_jobs_3_1[interval_long_jobs_3_1['real_pow'] != 0]\n",
    "quality_long_jobs_3_1 = quality_long_jobs_3_1[quality_long_jobs_3_1['real_pow_quality'] != 0]\n",
    "print(\"There are {} jobs completely running on this type of cpu with that quality\".format(quality_long_jobs_3_1.shape[0]))\n",
    "mean_core_3_1 = quality_long_jobs_3_1['real_pow'].sum() / quality_long_jobs_3_1['cpu_req'].sum()\n",
    "print(\"The average per core is {} W\".format(mean_core_3_1))\n",
    "quality_long_jobs_3_1['predicted'] = mean_core_3_1 * quality_long_jobs_3_1['cpu_req']\n",
    "#print(\"Accuracy: {}\".format(r2_score(quality_long_jobs_3_1['real_pow'], quality_long_jobs_3_1['predicted'])))\n",
    "slope, intercept, r_value, p_value, std_err = stats.linregress(quality_long_jobs_3_1['real_pow'], quality_long_jobs_3_1['predicted'])\n",
    "print(\"R-squared: {}\".format(r_value**2))"
   ]
  },
  {
   "cell_type": "markdown",
   "metadata": {},
   "source": [
    "### Debug"
   ]
  },
  {
   "cell_type": "code",
   "execution_count": 32,
   "metadata": {},
   "outputs": [
    {
     "data": {
      "text/plain": [
       "(59542, 19)"
      ]
     },
     "execution_count": 32,
     "metadata": {},
     "output_type": "execute_result"
    }
   ],
   "source": [
    "interval_long_jobs = interval_long_jobs[interval_long_jobs['real_pow_quality'] != 0]\n",
    "interval_long_jobs.shape"
   ]
  },
  {
   "cell_type": "code",
   "execution_count": 33,
   "metadata": {},
   "outputs": [
    {
     "data": {
      "text/plain": [
       "(57658, 19)"
      ]
     },
     "execution_count": 33,
     "metadata": {},
     "output_type": "execute_result"
    }
   ],
   "source": [
    "interval_long_jobs = interval_long_jobs[interval_long_jobs['real_pow'] != 0]\n",
    "interval_long_jobs.shape"
   ]
  },
  {
   "cell_type": "code",
   "execution_count": 35,
   "metadata": {},
   "outputs": [],
   "source": [
    "interval_long_jobs_2_1 = interval_long_jobs[interval_long_jobs['node_req'] == interval_long_jobs['n_2_1']]"
   ]
  },
  {
   "cell_type": "code",
   "execution_count": 36,
   "metadata": {},
   "outputs": [
    {
     "data": {
      "text/plain": [
       "(12680, 19)"
      ]
     },
     "execution_count": 36,
     "metadata": {},
     "output_type": "execute_result"
    }
   ],
   "source": [
    "interval_long_jobs_2_1.shape"
   ]
  },
  {
   "cell_type": "code",
   "execution_count": 37,
   "metadata": {},
   "outputs": [],
   "source": [
    "mean_core_2_1 = interval_long_jobs_2_1['real_pow'].sum() / interval_long_jobs_2_1['cpu_req'].sum()\n",
    "print(mean_core_2_1)"
   ]
  },
  {
   "cell_type": "code",
   "execution_count": 39,
   "metadata": {},
   "outputs": [
    {
     "name": "stderr",
     "output_type": "stream",
     "text": [
      "/usr/local/lib/python3.5/dist-packages/ipykernel_launcher.py:1: SettingWithCopyWarning: \n",
      "A value is trying to be set on a copy of a slice from a DataFrame.\n",
      "Try using .loc[row_indexer,col_indexer] = value instead\n",
      "\n",
      "See the caveats in the documentation: http://pandas.pydata.org/pandas-docs/stable/indexing.html#indexing-view-versus-copy\n",
      "  \"\"\"Entry point for launching an IPython kernel.\n"
     ]
    }
   ],
   "source": [
    "interval_long_jobs_2_1['predicted'] = mean_core_2_1 * interval_long_jobs_2_1['cpu_req']"
   ]
  },
  {
   "cell_type": "code",
   "execution_count": 40,
   "metadata": {},
   "outputs": [],
   "source": [
    "#interval_long_jobs_2_1"
   ]
  },
  {
   "cell_type": "code",
   "execution_count": 41,
   "metadata": {},
   "outputs": [
    {
     "name": "stdout",
     "output_type": "stream",
     "text": [
      "approximation accuracy: 0.6961530048060831\n"
     ]
    }
   ],
   "source": [
    "print(\"approximation accuracy: {}\".format(r2_score(interval_long_jobs_2_1['real_pow'], interval_long_jobs_2_1['predicted'])))"
   ]
  },
  {
   "cell_type": "code",
   "execution_count": null,
   "metadata": {},
   "outputs": [],
   "source": []
  },
  {
   "cell_type": "code",
   "execution_count": 42,
   "metadata": {},
   "outputs": [
    {
     "data": {
      "text/plain": [
       "(12327, 20)"
      ]
     },
     "execution_count": 42,
     "metadata": {},
     "output_type": "execute_result"
    }
   ],
   "source": []
  },
  {
   "cell_type": "code",
   "execution_count": 44,
   "metadata": {},
   "outputs": [
    {
     "name": "stdout",
     "output_type": "stream",
     "text": [
      "12.188997397054441\n",
      "approximation accuracy: 0.6984105718416773\n"
     ]
    },
    {
     "name": "stderr",
     "output_type": "stream",
     "text": [
      "/usr/local/lib/python3.5/dist-packages/ipykernel_launcher.py:5: SettingWithCopyWarning: \n",
      "A value is trying to be set on a copy of a slice from a DataFrame.\n",
      "Try using .loc[row_indexer,col_indexer] = value instead\n",
      "\n",
      "See the caveats in the documentation: http://pandas.pydata.org/pandas-docs/stable/indexing.html#indexing-view-versus-copy\n",
      "  \"\"\"\n"
     ]
    }
   ],
   "source": [
    "interval_long_jobs_2_1_top_quality = interval_long_jobs_2_1[interval_long_jobs_2_1['real_pow_quality'] == 1]\n",
    "interval_long_jobs_2_1_top_quality.shape\n",
    "mean_core_2_1_top_quality = interval_long_jobs_2_1['real_pow'].sum() / interval_long_jobs_2_1['cpu_req'].sum()\n",
    "print(mean_core_2_1_top_quality)\n",
    "interval_long_jobs_2_1_top_quality['predicted'] = mean_core_2_1_top_quality * interval_long_jobs_2_1_top_quality['cpu_req']\n",
    "print(\"approximation accuracy: {}\".format(r2_score(interval_long_jobs_2_1_top_quality['real_pow'], interval_long_jobs_2_1_top_quality['predicted'])))"
   ]
  },
  {
   "cell_type": "code",
   "execution_count": null,
   "metadata": {},
   "outputs": [],
   "source": []
  }
 ],
 "metadata": {
  "kernelspec": {
   "display_name": "Python 3",
   "language": "python",
   "name": "python3"
  },
  "language_info": {
   "codemirror_mode": {
    "name": "ipython",
    "version": 3
   },
   "file_extension": ".py",
   "mimetype": "text/x-python",
   "name": "python",
   "nbconvert_exporter": "python",
   "pygments_lexer": "ipython3",
   "version": "3.5.2"
  }
 },
 "nbformat": 4,
 "nbformat_minor": 2
}
