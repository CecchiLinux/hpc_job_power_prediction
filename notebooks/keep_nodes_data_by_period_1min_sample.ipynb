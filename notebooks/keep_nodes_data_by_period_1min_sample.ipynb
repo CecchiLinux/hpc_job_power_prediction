{
 "cells": [
  {
   "cell_type": "code",
   "execution_count": 47,
   "metadata": {},
   "outputs": [
    {
     "name": "stdout",
     "output_type": "stream",
     "text": [
      "there are 7158716 jobs in the whole dataset\n"
     ]
    }
   ],
   "source": [
    "#!/usr/bin/env python3\n",
    "\n",
    "import pandas as pd\n",
    "import errno\n",
    "import os, sys\n",
    "\n",
    "\n",
    "'''\n",
    "Author: Enrico Ceccolini\n",
    "    Given the raw data of Eurora (CORE_MEASUREMENT_FULL)\n",
    "    and a time interval, it returns only the measurements\n",
    "    of that period, sampled at 1 minute intervals\n",
    "'''\n",
    "\n",
    "interval_comment = \"April\"\n",
    "start_time = pd.to_datetime('2014-04-01')\n",
    "end_time = pd.to_datetime('2014-05-01')\n",
    "\n",
    "datadir = \"/datasets/eurora_data/db/\"\n",
    "\n",
    "cpu = '01'\n",
    "infile = datadir + \"CPUs/cpu\" + cpu + \".csv\"\n",
    "\n",
    "# read dataset\n",
    "whole_node_power_data = pd.read_csv(infile) # Read a comma-separated values (csv) file into DataFrame\n",
    "print(\"there are {} jobs in the whole dataset\".format(whole_node_power_data.shape[0]))"
   ]
  },
  {
   "cell_type": "code",
   "execution_count": 48,
   "metadata": {},
   "outputs": [
    {
     "data": {
      "text/html": [
       "<div>\n",
       "<style scoped>\n",
       "    .dataframe tbody tr th:only-of-type {\n",
       "        vertical-align: middle;\n",
       "    }\n",
       "\n",
       "    .dataframe tbody tr th {\n",
       "        vertical-align: top;\n",
       "    }\n",
       "\n",
       "    .dataframe thead th {\n",
       "        text-align: right;\n",
       "    }\n",
       "</style>\n",
       "<table border=\"1\" class=\"dataframe\">\n",
       "  <thead>\n",
       "    <tr style=\"text-align: right;\">\n",
       "      <th></th>\n",
       "      <th>01</th>\n",
       "      <th>cpu_id</th>\n",
       "      <th>timestamp</th>\n",
       "      <th>pow_cpu</th>\n",
       "      <th>pow_dram</th>\n",
       "      <th>pow_pkg</th>\n",
       "    </tr>\n",
       "  </thead>\n",
       "  <tbody>\n",
       "    <tr>\n",
       "      <th>0</th>\n",
       "      <td>1</td>\n",
       "      <td>0</td>\n",
       "      <td>2014-03-24 13:56:30</td>\n",
       "      <td>2.016754</td>\n",
       "      <td>2.139374</td>\n",
       "      <td>17.738455</td>\n",
       "    </tr>\n",
       "  </tbody>\n",
       "</table>\n",
       "</div>"
      ],
      "text/plain": [
       "   01  cpu_id            timestamp   pow_cpu  pow_dram    pow_pkg\n",
       "0   1       0  2014-03-24 13:56:30  2.016754  2.139374  17.738455"
      ]
     },
     "execution_count": 48,
     "metadata": {},
     "output_type": "execute_result"
    }
   ],
   "source": [
    "whole_node_power_data.head(1)"
   ]
  },
  {
   "cell_type": "code",
   "execution_count": 49,
   "metadata": {},
   "outputs": [
    {
     "data": {
      "text/plain": [
       "7158716"
      ]
     },
     "execution_count": 49,
     "metadata": {},
     "output_type": "execute_result"
    }
   ],
   "source": [
    "whole_node_power_data['01'].sum()"
   ]
  },
  {
   "cell_type": "code",
   "execution_count": 50,
   "metadata": {},
   "outputs": [],
   "source": [
    "whole_node_power_data = whole_node_power_data.drop([str(cpu)], axis=1)"
   ]
  },
  {
   "cell_type": "code",
   "execution_count": 51,
   "metadata": {},
   "outputs": [],
   "source": [
    "# drop useless columns\n",
    "# whole_node_power_data = whole_node_power_data.drop(['01'], axis=1)"
   ]
  },
  {
   "cell_type": "markdown",
   "metadata": {},
   "source": [
    "I notice that there are duplicated rows (same timestamp and cpu_id, quite strange)."
   ]
  },
  {
   "cell_type": "code",
   "execution_count": 52,
   "metadata": {},
   "outputs": [
    {
     "name": "stdout",
     "output_type": "stream",
     "text": [
      "data rows after drop_duplicates 7057475\n"
     ]
    }
   ],
   "source": [
    "# drop the duplicates rows (same timestamp, cpu_id, ...)\n",
    "whole_node_power_data = whole_node_power_data.drop_duplicates()\n",
    "print(\"data rows after drop_duplicates {}\".format(whole_node_power_data.shape[0]))"
   ]
  },
  {
   "cell_type": "markdown",
   "metadata": {},
   "source": [
    "drop the rows before the selected started time"
   ]
  },
  {
   "cell_type": "code",
   "execution_count": 75,
   "metadata": {},
   "outputs": [
    {
     "name": "stdout",
     "output_type": "stream",
     "text": [
      "data row from 2014-04-01 00:00:00 to 2014-05-01 00:00:00: 1019287\n"
     ]
    }
   ],
   "source": [
    "# select data in the specified interval\n",
    "#interval_data = whole_node_power_data[pd.to_datetime(whole_node_power_data['timestamp']) >= start_time]\n",
    "#interval_data = interval_data[pd.to_datetime(interval_data['timestamp']) <= end_time]\n",
    "#print(\"data row from {} to {}: {}\".format(start_time, end_time, interval_data.shape[0]))"
   ]
  },
  {
   "cell_type": "code",
   "execution_count": 76,
   "metadata": {},
   "outputs": [
    {
     "name": "stdout",
     "output_type": "stream",
     "text": [
      "data row from 2014-04-01 00:00:00 to 2014-05-01 00:00:00: 1019287\n"
     ]
    }
   ],
   "source": [
    "# this is faster\n",
    "interval_data = whole_node_power_data.loc[(pd.to_datetime(whole_node_power_data['timestamp']) >= start_time) & (pd.to_datetime(whole_node_power_data['timestamp']) <= end_time)]\n",
    "print(\"data row from {} to {}: {}\".format(start_time, end_time, interval_data.shape[0]))"
   ]
  },
  {
   "cell_type": "markdown",
   "metadata": {},
   "source": [
    "create two different dataFrame. One for cpu0 and one for cpu1"
   ]
  },
  {
   "cell_type": "code",
   "execution_count": 77,
   "metadata": {},
   "outputs": [
    {
     "name": "stdout",
     "output_type": "stream",
     "text": [
      "data row after split: 509601\n",
      "data row after split: 509686\n"
     ]
    }
   ],
   "source": [
    "# split the data referring to the cpu0 and cpu0\n",
    "cpu0 = interval_data[interval_data['cpu_id'] == 0]\n",
    "cpu1 = interval_data[interval_data['cpu_id'] == 1]\n",
    "print(\"data row after split: {}\".format(cpu0.shape[0]))\n",
    "print(\"data row after split: {}\".format(cpu1.shape[0]))"
   ]
  },
  {
   "cell_type": "code",
   "execution_count": 78,
   "metadata": {},
   "outputs": [
    {
     "name": "stdout",
     "output_type": "stream",
     "text": [
      "data row after split: 509525\n",
      "data row after split: 509525\n"
     ]
    }
   ],
   "source": [
    "# drop the duplicates rows \n",
    "cpu0 = cpu0.drop_duplicates(subset=['timestamp'])\n",
    "cpu1 = cpu1.drop_duplicates(subset=['timestamp'])\n",
    "print(\"data row after split: {}\".format(cpu0.shape[0]))\n",
    "print(\"data row after split: {}\".format(cpu1.shape[0]))"
   ]
  },
  {
   "cell_type": "markdown",
   "metadata": {},
   "source": [
    "convert the timestamp column to the pd datetime format"
   ]
  },
  {
   "cell_type": "code",
   "execution_count": 79,
   "metadata": {},
   "outputs": [
    {
     "data": {
      "text/html": [
       "<div>\n",
       "<style scoped>\n",
       "    .dataframe tbody tr th:only-of-type {\n",
       "        vertical-align: middle;\n",
       "    }\n",
       "\n",
       "    .dataframe tbody tr th {\n",
       "        vertical-align: top;\n",
       "    }\n",
       "\n",
       "    .dataframe thead th {\n",
       "        text-align: right;\n",
       "    }\n",
       "</style>\n",
       "<table border=\"1\" class=\"dataframe\">\n",
       "  <thead>\n",
       "    <tr style=\"text-align: right;\">\n",
       "      <th></th>\n",
       "      <th>cpu_id</th>\n",
       "      <th>timestamp</th>\n",
       "      <th>pow_cpu</th>\n",
       "      <th>pow_dram</th>\n",
       "      <th>pow_pkg</th>\n",
       "    </tr>\n",
       "  </thead>\n",
       "  <tbody>\n",
       "    <tr>\n",
       "      <th>290456</th>\n",
       "      <td>0</td>\n",
       "      <td>2014-04-01 00:00:04</td>\n",
       "      <td>3.400706</td>\n",
       "      <td>2.757682</td>\n",
       "      <td>19.308012</td>\n",
       "    </tr>\n",
       "  </tbody>\n",
       "</table>\n",
       "</div>"
      ],
      "text/plain": [
       "        cpu_id           timestamp   pow_cpu  pow_dram    pow_pkg\n",
       "290456       0 2014-04-01 00:00:04  3.400706  2.757682  19.308012"
      ]
     },
     "execution_count": 79,
     "metadata": {},
     "output_type": "execute_result"
    }
   ],
   "source": [
    "# convert the timestamp column to the Pandas timestamp format\n",
    "cpu0.timestamp = pd.to_datetime(cpu0.timestamp)\n",
    "cpu1.timestamp = pd.to_datetime(cpu1.timestamp)\n",
    "cpu0.head(1)"
   ]
  },
  {
   "cell_type": "code",
   "execution_count": 80,
   "metadata": {},
   "outputs": [
    {
     "data": {
      "text/html": [
       "<div>\n",
       "<style scoped>\n",
       "    .dataframe tbody tr th:only-of-type {\n",
       "        vertical-align: middle;\n",
       "    }\n",
       "\n",
       "    .dataframe tbody tr th {\n",
       "        vertical-align: top;\n",
       "    }\n",
       "\n",
       "    .dataframe thead th {\n",
       "        text-align: right;\n",
       "    }\n",
       "</style>\n",
       "<table border=\"1\" class=\"dataframe\">\n",
       "  <thead>\n",
       "    <tr style=\"text-align: right;\">\n",
       "      <th></th>\n",
       "      <th>cpu_id</th>\n",
       "      <th>pow_cpu</th>\n",
       "      <th>pow_dram</th>\n",
       "      <th>pow_pkg</th>\n",
       "    </tr>\n",
       "    <tr>\n",
       "      <th>timestamp</th>\n",
       "      <th></th>\n",
       "      <th></th>\n",
       "      <th></th>\n",
       "      <th></th>\n",
       "    </tr>\n",
       "  </thead>\n",
       "  <tbody>\n",
       "    <tr>\n",
       "      <th>2014-04-01 00:00:04</th>\n",
       "      <td>0</td>\n",
       "      <td>3.400706</td>\n",
       "      <td>2.757682</td>\n",
       "      <td>19.308012</td>\n",
       "    </tr>\n",
       "    <tr>\n",
       "      <th>2014-04-01 00:00:09</th>\n",
       "      <td>0</td>\n",
       "      <td>2.020461</td>\n",
       "      <td>2.535905</td>\n",
       "      <td>17.753410</td>\n",
       "    </tr>\n",
       "    <tr>\n",
       "      <th>2014-04-01 00:00:16</th>\n",
       "      <td>0</td>\n",
       "      <td>2.066831</td>\n",
       "      <td>2.577469</td>\n",
       "      <td>17.766197</td>\n",
       "    </tr>\n",
       "    <tr>\n",
       "      <th>2014-04-01 00:00:21</th>\n",
       "      <td>0</td>\n",
       "      <td>1.983965</td>\n",
       "      <td>2.496961</td>\n",
       "      <td>17.676901</td>\n",
       "    </tr>\n",
       "    <tr>\n",
       "      <th>2014-04-01 00:00:26</th>\n",
       "      <td>0</td>\n",
       "      <td>2.166701</td>\n",
       "      <td>2.550643</td>\n",
       "      <td>17.985893</td>\n",
       "    </tr>\n",
       "  </tbody>\n",
       "</table>\n",
       "</div>"
      ],
      "text/plain": [
       "                     cpu_id   pow_cpu  pow_dram    pow_pkg\n",
       "timestamp                                                 \n",
       "2014-04-01 00:00:04       0  3.400706  2.757682  19.308012\n",
       "2014-04-01 00:00:09       0  2.020461  2.535905  17.753410\n",
       "2014-04-01 00:00:16       0  2.066831  2.577469  17.766197\n",
       "2014-04-01 00:00:21       0  1.983965  2.496961  17.676901\n",
       "2014-04-01 00:00:26       0  2.166701  2.550643  17.985893"
      ]
     },
     "execution_count": 80,
     "metadata": {},
     "output_type": "execute_result"
    }
   ],
   "source": [
    "cpu0 = cpu0.set_index([\"timestamp\"])\n",
    "cpu1 = cpu1.set_index([\"timestamp\"])\n",
    "cpu0.head(5)"
   ]
  },
  {
   "cell_type": "code",
   "execution_count": 81,
   "metadata": {},
   "outputs": [
    {
     "name": "stdout",
     "output_type": "stream",
     "text": [
      "data rows 43201\n"
     ]
    }
   ],
   "source": [
    "# resample data from 5 sec to 1 min, using the mean for the new values \n",
    "cpu0_1min = cpu0.resample('1Min').mean()\n",
    "print(\"data rows {}\".format(cpu0_1min.shape[0]))"
   ]
  },
  {
   "cell_type": "code",
   "execution_count": 82,
   "metadata": {},
   "outputs": [
    {
     "name": "stdout",
     "output_type": "stream",
     "text": [
      "data rows 43201\n"
     ]
    }
   ],
   "source": [
    "cpu1_1min = cpu1.resample('1Min').mean()\n",
    "print(\"data rows {}\".format(cpu1_1min.shape[0]))"
   ]
  },
  {
   "cell_type": "code",
   "execution_count": 83,
   "metadata": {},
   "outputs": [
    {
     "data": {
      "text/html": [
       "<div>\n",
       "<style scoped>\n",
       "    .dataframe tbody tr th:only-of-type {\n",
       "        vertical-align: middle;\n",
       "    }\n",
       "\n",
       "    .dataframe tbody tr th {\n",
       "        vertical-align: top;\n",
       "    }\n",
       "\n",
       "    .dataframe thead th {\n",
       "        text-align: right;\n",
       "    }\n",
       "</style>\n",
       "<table border=\"1\" class=\"dataframe\">\n",
       "  <thead>\n",
       "    <tr style=\"text-align: right;\">\n",
       "      <th></th>\n",
       "      <th>cpu_id</th>\n",
       "      <th>pow_cpu</th>\n",
       "      <th>pow_dram</th>\n",
       "      <th>pow_pkg</th>\n",
       "    </tr>\n",
       "    <tr>\n",
       "      <th>timestamp</th>\n",
       "      <th></th>\n",
       "      <th></th>\n",
       "      <th></th>\n",
       "      <th></th>\n",
       "    </tr>\n",
       "  </thead>\n",
       "  <tbody>\n",
       "    <tr>\n",
       "      <th>2014-04-01 00:00:00</th>\n",
       "      <td>0.0</td>\n",
       "      <td>2.155305</td>\n",
       "      <td>2.507122</td>\n",
       "      <td>17.899565</td>\n",
       "    </tr>\n",
       "    <tr>\n",
       "      <th>2014-04-01 00:01:00</th>\n",
       "      <td>0.0</td>\n",
       "      <td>2.033380</td>\n",
       "      <td>2.472140</td>\n",
       "      <td>17.762189</td>\n",
       "    </tr>\n",
       "    <tr>\n",
       "      <th>2014-04-01 00:02:00</th>\n",
       "      <td>0.0</td>\n",
       "      <td>2.037560</td>\n",
       "      <td>2.526941</td>\n",
       "      <td>17.769899</td>\n",
       "    </tr>\n",
       "    <tr>\n",
       "      <th>2014-04-01 00:03:00</th>\n",
       "      <td>0.0</td>\n",
       "      <td>2.030268</td>\n",
       "      <td>2.487323</td>\n",
       "      <td>17.759689</td>\n",
       "    </tr>\n",
       "    <tr>\n",
       "      <th>2014-04-01 00:04:00</th>\n",
       "      <td>0.0</td>\n",
       "      <td>1.985083</td>\n",
       "      <td>2.500854</td>\n",
       "      <td>17.683834</td>\n",
       "    </tr>\n",
       "  </tbody>\n",
       "</table>\n",
       "</div>"
      ],
      "text/plain": [
       "                     cpu_id   pow_cpu  pow_dram    pow_pkg\n",
       "timestamp                                                 \n",
       "2014-04-01 00:00:00     0.0  2.155305  2.507122  17.899565\n",
       "2014-04-01 00:01:00     0.0  2.033380  2.472140  17.762189\n",
       "2014-04-01 00:02:00     0.0  2.037560  2.526941  17.769899\n",
       "2014-04-01 00:03:00     0.0  2.030268  2.487323  17.759689\n",
       "2014-04-01 00:04:00     0.0  1.985083  2.500854  17.683834"
      ]
     },
     "execution_count": 83,
     "metadata": {},
     "output_type": "execute_result"
    }
   ],
   "source": [
    "cpu0_1min.head(5)"
   ]
  },
  {
   "cell_type": "code",
   "execution_count": 84,
   "metadata": {},
   "outputs": [
    {
     "data": {
      "text/html": [
       "<div>\n",
       "<style scoped>\n",
       "    .dataframe tbody tr th:only-of-type {\n",
       "        vertical-align: middle;\n",
       "    }\n",
       "\n",
       "    .dataframe tbody tr th {\n",
       "        vertical-align: top;\n",
       "    }\n",
       "\n",
       "    .dataframe thead th {\n",
       "        text-align: right;\n",
       "    }\n",
       "</style>\n",
       "<table border=\"1\" class=\"dataframe\">\n",
       "  <thead>\n",
       "    <tr style=\"text-align: right;\">\n",
       "      <th></th>\n",
       "      <th>cpu_id</th>\n",
       "      <th>pow_cpu</th>\n",
       "      <th>pow_dram</th>\n",
       "      <th>pow_pkg</th>\n",
       "    </tr>\n",
       "    <tr>\n",
       "      <th>timestamp</th>\n",
       "      <th></th>\n",
       "      <th></th>\n",
       "      <th></th>\n",
       "      <th></th>\n",
       "    </tr>\n",
       "  </thead>\n",
       "  <tbody>\n",
       "    <tr>\n",
       "      <th>2014-04-01 00:00:00</th>\n",
       "      <td>1.0</td>\n",
       "      <td>2.461377</td>\n",
       "      <td>3.495659</td>\n",
       "      <td>17.988706</td>\n",
       "    </tr>\n",
       "    <tr>\n",
       "      <th>2014-04-01 00:01:00</th>\n",
       "      <td>1.0</td>\n",
       "      <td>2.432690</td>\n",
       "      <td>3.470205</td>\n",
       "      <td>17.946297</td>\n",
       "    </tr>\n",
       "    <tr>\n",
       "      <th>2014-04-01 00:02:00</th>\n",
       "      <td>1.0</td>\n",
       "      <td>2.400015</td>\n",
       "      <td>3.458248</td>\n",
       "      <td>17.913687</td>\n",
       "    </tr>\n",
       "    <tr>\n",
       "      <th>2014-04-01 00:03:00</th>\n",
       "      <td>1.0</td>\n",
       "      <td>2.395853</td>\n",
       "      <td>3.480569</td>\n",
       "      <td>17.908572</td>\n",
       "    </tr>\n",
       "    <tr>\n",
       "      <th>2014-04-01 00:04:00</th>\n",
       "      <td>1.0</td>\n",
       "      <td>2.357162</td>\n",
       "      <td>3.465722</td>\n",
       "      <td>17.842077</td>\n",
       "    </tr>\n",
       "  </tbody>\n",
       "</table>\n",
       "</div>"
      ],
      "text/plain": [
       "                     cpu_id   pow_cpu  pow_dram    pow_pkg\n",
       "timestamp                                                 \n",
       "2014-04-01 00:00:00     1.0  2.461377  3.495659  17.988706\n",
       "2014-04-01 00:01:00     1.0  2.432690  3.470205  17.946297\n",
       "2014-04-01 00:02:00     1.0  2.400015  3.458248  17.913687\n",
       "2014-04-01 00:03:00     1.0  2.395853  3.480569  17.908572\n",
       "2014-04-01 00:04:00     1.0  2.357162  3.465722  17.842077"
      ]
     },
     "execution_count": 84,
     "metadata": {},
     "output_type": "execute_result"
    }
   ],
   "source": [
    "cpu1_1min.head(5)"
   ]
  },
  {
   "cell_type": "code",
   "execution_count": 85,
   "metadata": {},
   "outputs": [],
   "source": [
    "cpu0_1min = cpu0_1min.drop(['cpu_id'], axis=1)\n",
    "cpu1_1min = cpu1_1min.drop(['cpu_id'], axis=1)"
   ]
  },
  {
   "cell_type": "code",
   "execution_count": null,
   "metadata": {},
   "outputs": [],
   "source": []
  },
  {
   "cell_type": "code",
   "execution_count": 86,
   "metadata": {},
   "outputs": [],
   "source": [
    "cpu0_1min = cpu0_1min.rename(index=str, columns={\"pow_cpu\": \"pow_cpu_0\", \"pow_dram\": \"pow_dram_0\", \"pow_pkg\": \"pow_pkg_0\"})\n",
    "cpu1_1min = cpu1_1min.rename(index=str, columns={\"pow_cpu\": \"pow_cpu_1\", \"pow_dram\": \"pow_dram_1\", \"pow_pkg\": \"pow_pkg_1\"})\n",
    "# cpu0_1min.head(1)"
   ]
  },
  {
   "cell_type": "code",
   "execution_count": 87,
   "metadata": {},
   "outputs": [],
   "source": [
    "# concat\n",
    "node_1min = pd.concat([cpu0_1min, cpu1_1min], axis=1)"
   ]
  },
  {
   "cell_type": "code",
   "execution_count": 88,
   "metadata": {},
   "outputs": [
    {
     "data": {
      "text/html": [
       "<div>\n",
       "<style scoped>\n",
       "    .dataframe tbody tr th:only-of-type {\n",
       "        vertical-align: middle;\n",
       "    }\n",
       "\n",
       "    .dataframe tbody tr th {\n",
       "        vertical-align: top;\n",
       "    }\n",
       "\n",
       "    .dataframe thead th {\n",
       "        text-align: right;\n",
       "    }\n",
       "</style>\n",
       "<table border=\"1\" class=\"dataframe\">\n",
       "  <thead>\n",
       "    <tr style=\"text-align: right;\">\n",
       "      <th></th>\n",
       "      <th>pow_cpu_0</th>\n",
       "      <th>pow_dram_0</th>\n",
       "      <th>pow_pkg_0</th>\n",
       "      <th>pow_cpu_1</th>\n",
       "      <th>pow_dram_1</th>\n",
       "      <th>pow_pkg_1</th>\n",
       "    </tr>\n",
       "    <tr>\n",
       "      <th>timestamp</th>\n",
       "      <th></th>\n",
       "      <th></th>\n",
       "      <th></th>\n",
       "      <th></th>\n",
       "      <th></th>\n",
       "      <th></th>\n",
       "    </tr>\n",
       "  </thead>\n",
       "  <tbody>\n",
       "    <tr>\n",
       "      <th>2014-04-01 00:00:00</th>\n",
       "      <td>2.155305</td>\n",
       "      <td>2.507122</td>\n",
       "      <td>17.899565</td>\n",
       "      <td>2.461377</td>\n",
       "      <td>3.495659</td>\n",
       "      <td>17.988706</td>\n",
       "    </tr>\n",
       "  </tbody>\n",
       "</table>\n",
       "</div>"
      ],
      "text/plain": [
       "                     pow_cpu_0  pow_dram_0  pow_pkg_0  pow_cpu_1  pow_dram_1  \\\n",
       "timestamp                                                                      \n",
       "2014-04-01 00:00:00   2.155305    2.507122  17.899565   2.461377    3.495659   \n",
       "\n",
       "                     pow_pkg_1  \n",
       "timestamp                       \n",
       "2014-04-01 00:00:00  17.988706  "
      ]
     },
     "execution_count": 88,
     "metadata": {},
     "output_type": "execute_result"
    }
   ],
   "source": [
    "node_1min.head(1)"
   ]
  },
  {
   "cell_type": "code",
   "execution_count": 89,
   "metadata": {},
   "outputs": [],
   "source": [
    "node_1min['pow_tot_0'] = cpu0_1min['pow_cpu_0'] + cpu0_1min['pow_dram_0'] + cpu0_1min['pow_pkg_0'] \n",
    "node_1min['pow_tot_1'] = cpu1_1min['pow_cpu_1'] + cpu1_1min['pow_dram_1'] + cpu1_1min['pow_pkg_1']"
   ]
  },
  {
   "cell_type": "code",
   "execution_count": null,
   "metadata": {},
   "outputs": [],
   "source": []
  },
  {
   "cell_type": "code",
   "execution_count": 90,
   "metadata": {},
   "outputs": [
    {
     "data": {
      "text/html": [
       "<div>\n",
       "<style scoped>\n",
       "    .dataframe tbody tr th:only-of-type {\n",
       "        vertical-align: middle;\n",
       "    }\n",
       "\n",
       "    .dataframe tbody tr th {\n",
       "        vertical-align: top;\n",
       "    }\n",
       "\n",
       "    .dataframe thead th {\n",
       "        text-align: right;\n",
       "    }\n",
       "</style>\n",
       "<table border=\"1\" class=\"dataframe\">\n",
       "  <thead>\n",
       "    <tr style=\"text-align: right;\">\n",
       "      <th></th>\n",
       "      <th>pow_cpu_0</th>\n",
       "      <th>pow_dram_0</th>\n",
       "      <th>pow_pkg_0</th>\n",
       "      <th>pow_cpu_1</th>\n",
       "      <th>pow_dram_1</th>\n",
       "      <th>pow_pkg_1</th>\n",
       "      <th>pow_tot_0</th>\n",
       "      <th>pow_tot_1</th>\n",
       "    </tr>\n",
       "    <tr>\n",
       "      <th>timestamp</th>\n",
       "      <th></th>\n",
       "      <th></th>\n",
       "      <th></th>\n",
       "      <th></th>\n",
       "      <th></th>\n",
       "      <th></th>\n",
       "      <th></th>\n",
       "      <th></th>\n",
       "    </tr>\n",
       "  </thead>\n",
       "  <tbody>\n",
       "    <tr>\n",
       "      <th>2014-04-01 00:00:00</th>\n",
       "      <td>2.155305</td>\n",
       "      <td>2.507122</td>\n",
       "      <td>17.899565</td>\n",
       "      <td>2.461377</td>\n",
       "      <td>3.495659</td>\n",
       "      <td>17.988706</td>\n",
       "      <td>22.561993</td>\n",
       "      <td>23.945743</td>\n",
       "    </tr>\n",
       "  </tbody>\n",
       "</table>\n",
       "</div>"
      ],
      "text/plain": [
       "                     pow_cpu_0  pow_dram_0  pow_pkg_0  pow_cpu_1  pow_dram_1  \\\n",
       "timestamp                                                                      \n",
       "2014-04-01 00:00:00   2.155305    2.507122  17.899565   2.461377    3.495659   \n",
       "\n",
       "                     pow_pkg_1  pow_tot_0  pow_tot_1  \n",
       "timestamp                                             \n",
       "2014-04-01 00:00:00  17.988706  22.561993  23.945743  "
      ]
     },
     "execution_count": 90,
     "metadata": {},
     "output_type": "execute_result"
    }
   ],
   "source": [
    "node_1min.head(1)"
   ]
  },
  {
   "cell_type": "code",
   "execution_count": 91,
   "metadata": {},
   "outputs": [],
   "source": [
    "node_1min = node_1min.drop(['pow_cpu_0', 'pow_dram_0', 'pow_pkg_0', 'pow_cpu_1', 'pow_dram_1', 'pow_pkg_1'], axis=1)"
   ]
  },
  {
   "cell_type": "code",
   "execution_count": 71,
   "metadata": {},
   "outputs": [
    {
     "data": {
      "text/html": [
       "<div>\n",
       "<style scoped>\n",
       "    .dataframe tbody tr th:only-of-type {\n",
       "        vertical-align: middle;\n",
       "    }\n",
       "\n",
       "    .dataframe tbody tr th {\n",
       "        vertical-align: top;\n",
       "    }\n",
       "\n",
       "    .dataframe thead th {\n",
       "        text-align: right;\n",
       "    }\n",
       "</style>\n",
       "<table border=\"1\" class=\"dataframe\">\n",
       "  <thead>\n",
       "    <tr style=\"text-align: right;\">\n",
       "      <th></th>\n",
       "      <th>pow_tot_0</th>\n",
       "      <th>pow_tot_1</th>\n",
       "    </tr>\n",
       "    <tr>\n",
       "      <th>timestamp</th>\n",
       "      <th></th>\n",
       "      <th></th>\n",
       "    </tr>\n",
       "  </thead>\n",
       "  <tbody>\n",
       "    <tr>\n",
       "      <th>2014-04-01 00:00:00</th>\n",
       "      <td>22.561993</td>\n",
       "      <td>23.945743</td>\n",
       "    </tr>\n",
       "  </tbody>\n",
       "</table>\n",
       "</div>"
      ],
      "text/plain": [
       "                     pow_tot_0  pow_tot_1\n",
       "timestamp                                \n",
       "2014-04-01 00:00:00  22.561993  23.945743"
      ]
     },
     "execution_count": 71,
     "metadata": {},
     "output_type": "execute_result"
    }
   ],
   "source": [
    "node_1min.head(1)"
   ]
  },
  {
   "cell_type": "code",
   "execution_count": 19,
   "metadata": {},
   "outputs": [
    {
     "name": "stdout",
     "output_type": "stream",
     "text": [
      "first: (43200,), second: (43200,)\n"
     ]
    }
   ],
   "source": [
    "pow_tot_1 = cpu0_1min['pow_cpu_0'] + cpu0_1min['pow_dram_0'] + cpu0_1min['pow_pkg_0']\n",
    "pow_tot_2 = cpu1_1min['pow_cpu_1'] + cpu1_1min['pow_dram_1'] + cpu1_1min['pow_pkg_1']\n",
    "print(\"first: {}, second: {}\".format(pow_tot_1.shape, pow_tot_2.shape))"
   ]
  },
  {
   "cell_type": "code",
   "execution_count": null,
   "metadata": {},
   "outputs": [],
   "source": []
  },
  {
   "cell_type": "code",
   "execution_count": 41,
   "metadata": {},
   "outputs": [],
   "source": [
    "# write\n",
    "#outfile = datadir + 'CPUs/' + interval_comment + \"/node\" + cpu + \"_1min_\" + interval_comment + \".csv\"\n",
    "#node_1min.to_csv(outfile)"
   ]
  }
 ],
 "metadata": {
  "kernelspec": {
   "display_name": "Python 3",
   "language": "python",
   "name": "python3"
  },
  "language_info": {
   "codemirror_mode": {
    "name": "ipython",
    "version": 3
   },
   "file_extension": ".py",
   "mimetype": "text/x-python",
   "name": "python",
   "nbconvert_exporter": "python",
   "pygments_lexer": "ipython3",
   "version": "3.5.2"
  }
 },
 "nbformat": 4,
 "nbformat_minor": 2
}
