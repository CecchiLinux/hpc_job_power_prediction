{
 "cells": [
  {
   "cell_type": "code",
   "execution_count": 40,
   "metadata": {},
   "outputs": [
    {
     "name": "stdout",
     "output_type": "stream",
     "text": [
      "there are 6871488 jobs in the whole dataset\n"
     ]
    }
   ],
   "source": [
    "#!/usr/bin/env python3\n",
    "\n",
    "import pandas as pd\n",
    "import errno\n",
    "import os, sys\n",
    "import numpy as np\n",
    "\n",
    "'''\n",
    "Author: Enrico Ceccolini\n",
    "    Given the raw data of Eurora (CORE_MEASUREMENT_FULL)\n",
    "    and a time interval, it returns only the measurements\n",
    "    of that period, sampled at 1 minute intervals\n",
    "'''\n",
    "\n",
    "\n",
    "\n",
    "datadir = \"/datasets/eurora_data/db/\"\n",
    "\n",
    "# settings\n",
    "global_start_time = pd.to_datetime('2014-03-24')\n",
    "global_end_time = pd.to_datetime('2015-08-12')\n",
    "\n",
    "#interval_comment = \"Andrea\"\n",
    "#start_time = pd.to_datetime('2014-03-31')\n",
    "#end_time = pd.to_datetime('2014-05-01')\n",
    "\n",
    "cpu = '07'\n",
    "infile = datadir + \"CPUs/cpu\" + cpu + \".csv\"\n",
    "\n",
    "# read dataset\n",
    "whole_node_power_data = pd.read_csv(infile) # Read a comma-separated values (csv) file into DataFrame\n",
    "print(\"there are {} jobs in the whole dataset\".format(whole_node_power_data.shape[0]))"
   ]
  },
  {
   "cell_type": "code",
   "execution_count": 41,
   "metadata": {},
   "outputs": [
    {
     "data": {
      "text/html": [
       "<div>\n",
       "<style scoped>\n",
       "    .dataframe tbody tr th:only-of-type {\n",
       "        vertical-align: middle;\n",
       "    }\n",
       "\n",
       "    .dataframe tbody tr th {\n",
       "        vertical-align: top;\n",
       "    }\n",
       "\n",
       "    .dataframe thead th {\n",
       "        text-align: right;\n",
       "    }\n",
       "</style>\n",
       "<table border=\"1\" class=\"dataframe\">\n",
       "  <thead>\n",
       "    <tr style=\"text-align: right;\">\n",
       "      <th></th>\n",
       "      <th>07</th>\n",
       "      <th>cpu_id</th>\n",
       "      <th>timestamp</th>\n",
       "      <th>pow_cpu</th>\n",
       "      <th>pow_dram</th>\n",
       "      <th>pow_pkg</th>\n",
       "    </tr>\n",
       "  </thead>\n",
       "  <tbody>\n",
       "    <tr>\n",
       "      <th>0</th>\n",
       "      <td>7</td>\n",
       "      <td>0</td>\n",
       "      <td>2014-03-24 13:56:27</td>\n",
       "      <td>2.64898</td>\n",
       "      <td>2.805525</td>\n",
       "      <td>18.56028</td>\n",
       "    </tr>\n",
       "  </tbody>\n",
       "</table>\n",
       "</div>"
      ],
      "text/plain": [
       "   07  cpu_id            timestamp  pow_cpu  pow_dram   pow_pkg\n",
       "0   7       0  2014-03-24 13:56:27  2.64898  2.805525  18.56028"
      ]
     },
     "execution_count": 41,
     "metadata": {},
     "output_type": "execute_result"
    }
   ],
   "source": [
    "whole_node_power_data.head(1)"
   ]
  },
  {
   "cell_type": "code",
   "execution_count": 42,
   "metadata": {},
   "outputs": [],
   "source": [
    "whole_node_power_data = whole_node_power_data.drop([str(cpu)], axis=1)"
   ]
  },
  {
   "cell_type": "code",
   "execution_count": 43,
   "metadata": {},
   "outputs": [],
   "source": [
    "# drop useless columns\n",
    "# whole_node_power_data = whole_node_power_data.drop(['01'], axis=1)"
   ]
  },
  {
   "cell_type": "markdown",
   "metadata": {},
   "source": [
    "I notice that there are duplicated rows (same timestamp and cpu_id, quite strange)."
   ]
  },
  {
   "cell_type": "code",
   "execution_count": 44,
   "metadata": {},
   "outputs": [
    {
     "name": "stdout",
     "output_type": "stream",
     "text": [
      "data rows after drop_duplicates 6797660\n"
     ]
    }
   ],
   "source": [
    "# drop the duplicates rows (same timestamp, cpu_id, ...)\n",
    "whole_node_power_data = whole_node_power_data.drop_duplicates()\n",
    "print(\"data rows after drop_duplicates {}\".format(whole_node_power_data.shape[0]))"
   ]
  },
  {
   "cell_type": "markdown",
   "metadata": {},
   "source": [
    "drop the rows before the selected started time"
   ]
  },
  {
   "cell_type": "code",
   "execution_count": 45,
   "metadata": {},
   "outputs": [],
   "source": [
    "# select data in the specified interval\n",
    "#interval_data = whole_node_power_data[pd.to_datetime(whole_node_power_data['timestamp']) >= start_time]\n",
    "#interval_data = interval_data[pd.to_datetime(interval_data['timestamp']) <= end_time]\n",
    "#print(\"data row from {} to {}: {}\".format(start_time, end_time, interval_data.shape[0]))"
   ]
  },
  {
   "cell_type": "code",
   "execution_count": 46,
   "metadata": {},
   "outputs": [
    {
     "name": "stdout",
     "output_type": "stream",
     "text": [
      "07\n",
      "data rows (6871488, 6)\n",
      "data rows after drop_duplicates 6797660\n"
     ]
    }
   ],
   "source": [
    "print(cpu)\n",
    "infile = datadir + \"CPUs/cpu\" + cpu + \".csv\"\n",
    "\n",
    "# read dataset\n",
    "whole_node_power_data = pd.read_csv(infile) # Read a comma-separated values (csv) file into DataFrame\n",
    "print(\"data rows {}\".format(whole_node_power_data.shape))\n",
    "\n",
    "# drop useless columns\n",
    "whole_node_power_data = whole_node_power_data.drop([str(cpu)], axis=1)\n",
    "\n",
    "# drop the duplicates rows (same timestamp, cpu_id, ...)\n",
    "whole_node_power_data = whole_node_power_data.drop_duplicates() \n",
    "print(\"data rows after drop_duplicates {}\".format(whole_node_power_data.shape[0]))"
   ]
  },
  {
   "cell_type": "code",
   "execution_count": 47,
   "metadata": {},
   "outputs": [],
   "source": [
    "# select data in the specified interval\n",
    "#interval_data = whole_node_power_data.loc[(pd.to_datetime(whole_node_power_data['timestamp']) >= start_time) & (pd.to_datetime(whole_node_power_data['timestamp']) <= end_time)]\n",
    "#print(\"data row from {} to {}: {}\".format(start_time, end_time, interval_data.shape[0]))\n",
    "# no more interval\n",
    "interval_data = whole_node_power_data"
   ]
  },
  {
   "cell_type": "markdown",
   "metadata": {},
   "source": [
    "create two different dataFrame. One for cpu0 and one for cpu1"
   ]
  },
  {
   "cell_type": "code",
   "execution_count": 48,
   "metadata": {},
   "outputs": [
    {
     "name": "stdout",
     "output_type": "stream",
     "text": [
      "data row after split: 3398798\n",
      "data row after split: 3398862\n"
     ]
    }
   ],
   "source": [
    "# split the data referring to the cpu0 and cpu0\n",
    "cpu0 = interval_data[interval_data['cpu_id'] == 0]\n",
    "cpu1 = interval_data[interval_data['cpu_id'] == 1]\n",
    "print(\"data row after split: {}\".format(cpu0.shape[0]))\n",
    "print(\"data row after split: {}\".format(cpu1.shape[0]))"
   ]
  },
  {
   "cell_type": "code",
   "execution_count": 49,
   "metadata": {},
   "outputs": [
    {
     "name": "stdout",
     "output_type": "stream",
     "text": [
      "data row after split: 3314171\n",
      "data row after split: 3314163\n"
     ]
    }
   ],
   "source": [
    "# drop the duplicates rows \n",
    "cpu0 = cpu0.drop_duplicates(subset=['timestamp'])\n",
    "cpu1 = cpu1.drop_duplicates(subset=['timestamp'])\n",
    "print(\"data row after split: {}\".format(cpu0.shape[0]))\n",
    "print(\"data row after split: {}\".format(cpu1.shape[0]))"
   ]
  },
  {
   "cell_type": "code",
   "execution_count": 50,
   "metadata": {},
   "outputs": [
    {
     "name": "stdout",
     "output_type": "stream",
     "text": [
      "data row after split: 3314171\n",
      "data row after split: 3314163\n"
     ]
    }
   ],
   "source": [
    "if cpu0.shape[0] < cpu1.shape[0]:\n",
    "    cpu1 = cpu1[cpu1.timestamp >= cpu0['timestamp'].iloc[0]]\n",
    "if cpu1.shape[0] < cpu0.shape[0]:\n",
    "    cpu0 = cpu0[cpu0.timestamp >= cpu1['timestamp'].iloc[0]]\n",
    "print(\"data row after split: {}\".format(cpu0.shape[0]))\n",
    "print(\"data row after split: {}\".format(cpu1.shape[0]))"
   ]
  },
  {
   "cell_type": "code",
   "execution_count": 51,
   "metadata": {},
   "outputs": [
    {
     "data": {
      "text/html": [
       "<div>\n",
       "<style scoped>\n",
       "    .dataframe tbody tr th:only-of-type {\n",
       "        vertical-align: middle;\n",
       "    }\n",
       "\n",
       "    .dataframe tbody tr th {\n",
       "        vertical-align: top;\n",
       "    }\n",
       "\n",
       "    .dataframe thead th {\n",
       "        text-align: right;\n",
       "    }\n",
       "</style>\n",
       "<table border=\"1\" class=\"dataframe\">\n",
       "  <thead>\n",
       "    <tr style=\"text-align: right;\">\n",
       "      <th></th>\n",
       "      <th>cpu_id</th>\n",
       "      <th>timestamp</th>\n",
       "      <th>pow_cpu</th>\n",
       "      <th>pow_dram</th>\n",
       "      <th>pow_pkg</th>\n",
       "    </tr>\n",
       "  </thead>\n",
       "  <tbody>\n",
       "    <tr>\n",
       "      <th>12684</th>\n",
       "      <td>1</td>\n",
       "      <td>2014-03-24 13:56:27</td>\n",
       "      <td>2.725998</td>\n",
       "      <td>2.47114</td>\n",
       "      <td>18.481787</td>\n",
       "    </tr>\n",
       "  </tbody>\n",
       "</table>\n",
       "</div>"
      ],
      "text/plain": [
       "       cpu_id            timestamp   pow_cpu  pow_dram    pow_pkg\n",
       "12684       1  2014-03-24 13:56:27  2.725998   2.47114  18.481787"
      ]
     },
     "execution_count": 51,
     "metadata": {},
     "output_type": "execute_result"
    }
   ],
   "source": [
    "cpu1.head(1)"
   ]
  },
  {
   "cell_type": "markdown",
   "metadata": {},
   "source": [
    "convert the timestamp column to the pd datetime format"
   ]
  },
  {
   "cell_type": "code",
   "execution_count": 52,
   "metadata": {},
   "outputs": [
    {
     "data": {
      "text/html": [
       "<div>\n",
       "<style scoped>\n",
       "    .dataframe tbody tr th:only-of-type {\n",
       "        vertical-align: middle;\n",
       "    }\n",
       "\n",
       "    .dataframe tbody tr th {\n",
       "        vertical-align: top;\n",
       "    }\n",
       "\n",
       "    .dataframe thead th {\n",
       "        text-align: right;\n",
       "    }\n",
       "</style>\n",
       "<table border=\"1\" class=\"dataframe\">\n",
       "  <thead>\n",
       "    <tr style=\"text-align: right;\">\n",
       "      <th></th>\n",
       "      <th>cpu_id</th>\n",
       "      <th>timestamp</th>\n",
       "      <th>pow_cpu</th>\n",
       "      <th>pow_dram</th>\n",
       "      <th>pow_pkg</th>\n",
       "    </tr>\n",
       "  </thead>\n",
       "  <tbody>\n",
       "    <tr>\n",
       "      <th>0</th>\n",
       "      <td>0</td>\n",
       "      <td>2014-03-24 13:56:27</td>\n",
       "      <td>2.64898</td>\n",
       "      <td>2.805525</td>\n",
       "      <td>18.56028</td>\n",
       "    </tr>\n",
       "  </tbody>\n",
       "</table>\n",
       "</div>"
      ],
      "text/plain": [
       "   cpu_id           timestamp  pow_cpu  pow_dram   pow_pkg\n",
       "0       0 2014-03-24 13:56:27  2.64898  2.805525  18.56028"
      ]
     },
     "execution_count": 52,
     "metadata": {},
     "output_type": "execute_result"
    }
   ],
   "source": [
    "# convert the timestamp column to the Pandas timestamp format\n",
    "cpu0.timestamp = pd.to_datetime(cpu0.timestamp)\n",
    "cpu1.timestamp = pd.to_datetime(cpu1.timestamp)\n",
    "cpu0.head(1)"
   ]
  },
  {
   "cell_type": "code",
   "execution_count": 53,
   "metadata": {},
   "outputs": [
    {
     "data": {
      "text/html": [
       "<div>\n",
       "<style scoped>\n",
       "    .dataframe tbody tr th:only-of-type {\n",
       "        vertical-align: middle;\n",
       "    }\n",
       "\n",
       "    .dataframe tbody tr th {\n",
       "        vertical-align: top;\n",
       "    }\n",
       "\n",
       "    .dataframe thead th {\n",
       "        text-align: right;\n",
       "    }\n",
       "</style>\n",
       "<table border=\"1\" class=\"dataframe\">\n",
       "  <thead>\n",
       "    <tr style=\"text-align: right;\">\n",
       "      <th></th>\n",
       "      <th>cpu_id</th>\n",
       "      <th>timestamp</th>\n",
       "      <th>pow_cpu</th>\n",
       "      <th>pow_dram</th>\n",
       "      <th>pow_pkg</th>\n",
       "    </tr>\n",
       "  </thead>\n",
       "  <tbody>\n",
       "    <tr>\n",
       "      <th>12684</th>\n",
       "      <td>1</td>\n",
       "      <td>2014-03-24 13:56:27</td>\n",
       "      <td>2.725998</td>\n",
       "      <td>2.47114</td>\n",
       "      <td>18.481787</td>\n",
       "    </tr>\n",
       "  </tbody>\n",
       "</table>\n",
       "</div>"
      ],
      "text/plain": [
       "       cpu_id           timestamp   pow_cpu  pow_dram    pow_pkg\n",
       "12684       1 2014-03-24 13:56:27  2.725998   2.47114  18.481787"
      ]
     },
     "execution_count": 53,
     "metadata": {},
     "output_type": "execute_result"
    }
   ],
   "source": [
    "cpu1.head(1)"
   ]
  },
  {
   "cell_type": "code",
   "execution_count": 54,
   "metadata": {},
   "outputs": [],
   "source": [
    "#cpu0 = cpu0.append({'timestamp' : global_start_time} , ignore_index=True)\n",
    "#cpu0.tail(1)"
   ]
  },
  {
   "cell_type": "code",
   "execution_count": 55,
   "metadata": {},
   "outputs": [
    {
     "data": {
      "text/html": [
       "<div>\n",
       "<style scoped>\n",
       "    .dataframe tbody tr th:only-of-type {\n",
       "        vertical-align: middle;\n",
       "    }\n",
       "\n",
       "    .dataframe tbody tr th {\n",
       "        vertical-align: top;\n",
       "    }\n",
       "\n",
       "    .dataframe thead th {\n",
       "        text-align: right;\n",
       "    }\n",
       "</style>\n",
       "<table border=\"1\" class=\"dataframe\">\n",
       "  <thead>\n",
       "    <tr style=\"text-align: right;\">\n",
       "      <th></th>\n",
       "      <th>cpu_id</th>\n",
       "      <th>pow_cpu</th>\n",
       "      <th>pow_dram</th>\n",
       "      <th>pow_pkg</th>\n",
       "    </tr>\n",
       "    <tr>\n",
       "      <th>timestamp</th>\n",
       "      <th></th>\n",
       "      <th></th>\n",
       "      <th></th>\n",
       "      <th></th>\n",
       "    </tr>\n",
       "  </thead>\n",
       "  <tbody>\n",
       "    <tr>\n",
       "      <th>2014-03-24 13:56:27</th>\n",
       "      <td>0</td>\n",
       "      <td>2.648980</td>\n",
       "      <td>2.805525</td>\n",
       "      <td>18.560280</td>\n",
       "    </tr>\n",
       "    <tr>\n",
       "      <th>2014-03-24 13:56:32</th>\n",
       "      <td>0</td>\n",
       "      <td>2.759270</td>\n",
       "      <td>2.907987</td>\n",
       "      <td>18.762611</td>\n",
       "    </tr>\n",
       "    <tr>\n",
       "      <th>2014-03-24 13:56:37</th>\n",
       "      <td>0</td>\n",
       "      <td>2.741546</td>\n",
       "      <td>2.852764</td>\n",
       "      <td>18.723516</td>\n",
       "    </tr>\n",
       "    <tr>\n",
       "      <th>2014-03-24 13:56:42</th>\n",
       "      <td>0</td>\n",
       "      <td>2.621199</td>\n",
       "      <td>2.770980</td>\n",
       "      <td>18.507101</td>\n",
       "    </tr>\n",
       "    <tr>\n",
       "      <th>2014-03-24 13:56:47</th>\n",
       "      <td>0</td>\n",
       "      <td>2.645240</td>\n",
       "      <td>2.721337</td>\n",
       "      <td>18.551910</td>\n",
       "    </tr>\n",
       "  </tbody>\n",
       "</table>\n",
       "</div>"
      ],
      "text/plain": [
       "                     cpu_id   pow_cpu  pow_dram    pow_pkg\n",
       "timestamp                                                 \n",
       "2014-03-24 13:56:27       0  2.648980  2.805525  18.560280\n",
       "2014-03-24 13:56:32       0  2.759270  2.907987  18.762611\n",
       "2014-03-24 13:56:37       0  2.741546  2.852764  18.723516\n",
       "2014-03-24 13:56:42       0  2.621199  2.770980  18.507101\n",
       "2014-03-24 13:56:47       0  2.645240  2.721337  18.551910"
      ]
     },
     "execution_count": 55,
     "metadata": {},
     "output_type": "execute_result"
    }
   ],
   "source": [
    "cpu0 = cpu0.set_index([\"timestamp\"])\n",
    "cpu1 = cpu1.set_index([\"timestamp\"])\n",
    "cpu0.head(5)"
   ]
  },
  {
   "cell_type": "code",
   "execution_count": 56,
   "metadata": {},
   "outputs": [
    {
     "name": "stdout",
     "output_type": "stream",
     "text": [
      "data rows 561887\n"
     ]
    }
   ],
   "source": [
    "# resample data from 5 sec to 1 min, using the mean for the new values \n",
    "cpu0_1min = cpu0.resample('1Min').mean()\n",
    "print(\"data rows {}\".format(cpu0_1min.shape[0]))"
   ]
  },
  {
   "cell_type": "code",
   "execution_count": 57,
   "metadata": {},
   "outputs": [
    {
     "name": "stdout",
     "output_type": "stream",
     "text": [
      "data rows 561887\n"
     ]
    }
   ],
   "source": [
    "cpu1_1min = cpu1.resample('1Min').mean()\n",
    "print(\"data rows {}\".format(cpu1_1min.shape[0]))"
   ]
  },
  {
   "cell_type": "code",
   "execution_count": 58,
   "metadata": {},
   "outputs": [
    {
     "data": {
      "text/html": [
       "<div>\n",
       "<style scoped>\n",
       "    .dataframe tbody tr th:only-of-type {\n",
       "        vertical-align: middle;\n",
       "    }\n",
       "\n",
       "    .dataframe tbody tr th {\n",
       "        vertical-align: top;\n",
       "    }\n",
       "\n",
       "    .dataframe thead th {\n",
       "        text-align: right;\n",
       "    }\n",
       "</style>\n",
       "<table border=\"1\" class=\"dataframe\">\n",
       "  <thead>\n",
       "    <tr style=\"text-align: right;\">\n",
       "      <th></th>\n",
       "      <th>cpu_id</th>\n",
       "      <th>pow_cpu</th>\n",
       "      <th>pow_dram</th>\n",
       "      <th>pow_pkg</th>\n",
       "    </tr>\n",
       "    <tr>\n",
       "      <th>timestamp</th>\n",
       "      <th></th>\n",
       "      <th></th>\n",
       "      <th></th>\n",
       "      <th></th>\n",
       "    </tr>\n",
       "  </thead>\n",
       "  <tbody>\n",
       "    <tr>\n",
       "      <th>2014-03-24 13:56:00</th>\n",
       "      <td>0.0</td>\n",
       "      <td>2.69024</td>\n",
       "      <td>2.798769</td>\n",
       "      <td>18.631529</td>\n",
       "    </tr>\n",
       "  </tbody>\n",
       "</table>\n",
       "</div>"
      ],
      "text/plain": [
       "                     cpu_id  pow_cpu  pow_dram    pow_pkg\n",
       "timestamp                                                \n",
       "2014-03-24 13:56:00     0.0  2.69024  2.798769  18.631529"
      ]
     },
     "execution_count": 58,
     "metadata": {},
     "output_type": "execute_result"
    }
   ],
   "source": [
    "cpu0_1min.head(1)"
   ]
  },
  {
   "cell_type": "code",
   "execution_count": 59,
   "metadata": {},
   "outputs": [
    {
     "data": {
      "text/html": [
       "<div>\n",
       "<style scoped>\n",
       "    .dataframe tbody tr th:only-of-type {\n",
       "        vertical-align: middle;\n",
       "    }\n",
       "\n",
       "    .dataframe tbody tr th {\n",
       "        vertical-align: top;\n",
       "    }\n",
       "\n",
       "    .dataframe thead th {\n",
       "        text-align: right;\n",
       "    }\n",
       "</style>\n",
       "<table border=\"1\" class=\"dataframe\">\n",
       "  <thead>\n",
       "    <tr style=\"text-align: right;\">\n",
       "      <th></th>\n",
       "      <th>cpu_id</th>\n",
       "      <th>pow_cpu</th>\n",
       "      <th>pow_dram</th>\n",
       "      <th>pow_pkg</th>\n",
       "    </tr>\n",
       "    <tr>\n",
       "      <th>timestamp</th>\n",
       "      <th></th>\n",
       "      <th></th>\n",
       "      <th></th>\n",
       "      <th></th>\n",
       "    </tr>\n",
       "  </thead>\n",
       "  <tbody>\n",
       "    <tr>\n",
       "      <th>2014-03-24 13:56:00</th>\n",
       "      <td>1.0</td>\n",
       "      <td>2.761196</td>\n",
       "      <td>2.439045</td>\n",
       "      <td>18.549075</td>\n",
       "    </tr>\n",
       "  </tbody>\n",
       "</table>\n",
       "</div>"
      ],
      "text/plain": [
       "                     cpu_id   pow_cpu  pow_dram    pow_pkg\n",
       "timestamp                                                 \n",
       "2014-03-24 13:56:00     1.0  2.761196  2.439045  18.549075"
      ]
     },
     "execution_count": 59,
     "metadata": {},
     "output_type": "execute_result"
    }
   ],
   "source": [
    "cpu1_1min.head(1)"
   ]
  },
  {
   "cell_type": "code",
   "execution_count": 60,
   "metadata": {},
   "outputs": [],
   "source": [
    "cpu0_1min = cpu0_1min.drop(['cpu_id'], axis=1)\n",
    "cpu1_1min = cpu1_1min.drop(['cpu_id'], axis=1)"
   ]
  },
  {
   "cell_type": "code",
   "execution_count": 61,
   "metadata": {},
   "outputs": [
    {
     "data": {
      "text/html": [
       "<div>\n",
       "<style scoped>\n",
       "    .dataframe tbody tr th:only-of-type {\n",
       "        vertical-align: middle;\n",
       "    }\n",
       "\n",
       "    .dataframe tbody tr th {\n",
       "        vertical-align: top;\n",
       "    }\n",
       "\n",
       "    .dataframe thead th {\n",
       "        text-align: right;\n",
       "    }\n",
       "</style>\n",
       "<table border=\"1\" class=\"dataframe\">\n",
       "  <thead>\n",
       "    <tr style=\"text-align: right;\">\n",
       "      <th></th>\n",
       "      <th>pow_cpu</th>\n",
       "      <th>pow_dram</th>\n",
       "      <th>pow_pkg</th>\n",
       "    </tr>\n",
       "    <tr>\n",
       "      <th>timestamp</th>\n",
       "      <th></th>\n",
       "      <th></th>\n",
       "      <th></th>\n",
       "    </tr>\n",
       "  </thead>\n",
       "  <tbody>\n",
       "    <tr>\n",
       "      <th>2014-03-24 13:56:00</th>\n",
       "      <td>2.69024</td>\n",
       "      <td>2.798769</td>\n",
       "      <td>18.631529</td>\n",
       "    </tr>\n",
       "  </tbody>\n",
       "</table>\n",
       "</div>"
      ],
      "text/plain": [
       "                     pow_cpu  pow_dram    pow_pkg\n",
       "timestamp                                        \n",
       "2014-03-24 13:56:00  2.69024  2.798769  18.631529"
      ]
     },
     "execution_count": 61,
     "metadata": {},
     "output_type": "execute_result"
    }
   ],
   "source": [
    "cpu0_1min.head(1)"
   ]
  },
  {
   "cell_type": "code",
   "execution_count": 62,
   "metadata": {},
   "outputs": [],
   "source": [
    "first_date = cpu0_1min.index[0]\n",
    "last_date = cpu0_1min.index[cpu0_1min.shape[0]-1]"
   ]
  },
  {
   "cell_type": "code",
   "execution_count": 63,
   "metadata": {},
   "outputs": [
    {
     "data": {
      "text/plain": [
       "DatetimeIndex(['2014-03-24 00:00:00', '2014-03-24 00:01:00',\n",
       "               '2014-03-24 00:02:00', '2014-03-24 00:03:00',\n",
       "               '2014-03-24 00:04:00', '2014-03-24 00:05:00',\n",
       "               '2014-03-24 00:06:00', '2014-03-24 00:07:00',\n",
       "               '2014-03-24 00:08:00', '2014-03-24 00:09:00',\n",
       "               ...\n",
       "               '2014-03-24 13:46:00', '2014-03-24 13:47:00',\n",
       "               '2014-03-24 13:48:00', '2014-03-24 13:49:00',\n",
       "               '2014-03-24 13:50:00', '2014-03-24 13:51:00',\n",
       "               '2014-03-24 13:52:00', '2014-03-24 13:53:00',\n",
       "               '2014-03-24 13:54:00', '2014-03-24 13:55:00'],\n",
       "              dtype='datetime64[ns]', length=836, freq='T')"
      ]
     },
     "execution_count": 63,
     "metadata": {},
     "output_type": "execute_result"
    }
   ],
   "source": [
    "index_before = pd.date_range(start=global_start_time, end=first_date - np.timedelta64(1, 'm'), freq='1Min')\n",
    "index_before"
   ]
  },
  {
   "cell_type": "code",
   "execution_count": 64,
   "metadata": {},
   "outputs": [
    {
     "data": {
      "text/plain": [
       "DatetimeIndex(['2015-04-18 18:43:00', '2015-04-18 18:44:00',\n",
       "               '2015-04-18 18:45:00', '2015-04-18 18:46:00',\n",
       "               '2015-04-18 18:47:00', '2015-04-18 18:48:00',\n",
       "               '2015-04-18 18:49:00', '2015-04-18 18:50:00',\n",
       "               '2015-04-18 18:51:00', '2015-04-18 18:52:00',\n",
       "               ...\n",
       "               '2015-08-11 23:51:00', '2015-08-11 23:52:00',\n",
       "               '2015-08-11 23:53:00', '2015-08-11 23:54:00',\n",
       "               '2015-08-11 23:55:00', '2015-08-11 23:56:00',\n",
       "               '2015-08-11 23:57:00', '2015-08-11 23:58:00',\n",
       "               '2015-08-11 23:59:00', '2015-08-12 00:00:00'],\n",
       "              dtype='datetime64[ns]', length=165918, freq='T')"
      ]
     },
     "execution_count": 64,
     "metadata": {},
     "output_type": "execute_result"
    }
   ],
   "source": [
    "index_after = pd.date_range(start=last_date + np.timedelta64(1, 'm'), end=global_end_time, freq='1Min')\n",
    "index_after"
   ]
  },
  {
   "cell_type": "code",
   "execution_count": 65,
   "metadata": {},
   "outputs": [],
   "source": [
    "padding_before = pd.DataFrame(index=index_before, columns=['pow_cpu', 'pow_dram', 'pow_pkg'])\n",
    "padding_before.index.name = 'timestamp'\n",
    "#padding_before"
   ]
  },
  {
   "cell_type": "code",
   "execution_count": 66,
   "metadata": {},
   "outputs": [],
   "source": [
    "padding_after = pd.DataFrame(index=index_after, columns=['pow_cpu', 'pow_dram', 'pow_pkg'])\n",
    "padding_after.index.name = 'timestamp'\n",
    "# padding_after"
   ]
  },
  {
   "cell_type": "code",
   "execution_count": 67,
   "metadata": {},
   "outputs": [],
   "source": [
    "# convert the timestamp column to the Pandas timestamp format\n",
    "#cpu0.timestamp = pd.to_datetime(cpu0.timestamp)\n",
    "#cpu1.timestamp = pd.to_datetime(cpu1.timestamp)"
   ]
  },
  {
   "cell_type": "code",
   "execution_count": 68,
   "metadata": {},
   "outputs": [],
   "source": [
    "cpu0_1min = pd.concat([padding_before, cpu0_1min])\n",
    "cpu1_1min = pd.concat([padding_before, cpu1_1min])\n",
    "cpu0_1min = pd.concat([cpu0_1min, padding_after])\n",
    "cpu1_1min = pd.concat([cpu1_1min, padding_after])"
   ]
  },
  {
   "cell_type": "code",
   "execution_count": 69,
   "metadata": {},
   "outputs": [
    {
     "data": {
      "text/html": [
       "<div>\n",
       "<style scoped>\n",
       "    .dataframe tbody tr th:only-of-type {\n",
       "        vertical-align: middle;\n",
       "    }\n",
       "\n",
       "    .dataframe tbody tr th {\n",
       "        vertical-align: top;\n",
       "    }\n",
       "\n",
       "    .dataframe thead th {\n",
       "        text-align: right;\n",
       "    }\n",
       "</style>\n",
       "<table border=\"1\" class=\"dataframe\">\n",
       "  <thead>\n",
       "    <tr style=\"text-align: right;\">\n",
       "      <th></th>\n",
       "      <th>pow_cpu</th>\n",
       "      <th>pow_dram</th>\n",
       "      <th>pow_pkg</th>\n",
       "    </tr>\n",
       "    <tr>\n",
       "      <th>timestamp</th>\n",
       "      <th></th>\n",
       "      <th></th>\n",
       "      <th></th>\n",
       "    </tr>\n",
       "  </thead>\n",
       "  <tbody>\n",
       "    <tr>\n",
       "      <th>2014-03-24 00:00:00</th>\n",
       "      <td>NaN</td>\n",
       "      <td>NaN</td>\n",
       "      <td>NaN</td>\n",
       "    </tr>\n",
       "    <tr>\n",
       "      <th>2014-03-24 00:01:00</th>\n",
       "      <td>NaN</td>\n",
       "      <td>NaN</td>\n",
       "      <td>NaN</td>\n",
       "    </tr>\n",
       "    <tr>\n",
       "      <th>2014-03-24 00:02:00</th>\n",
       "      <td>NaN</td>\n",
       "      <td>NaN</td>\n",
       "      <td>NaN</td>\n",
       "    </tr>\n",
       "    <tr>\n",
       "      <th>2014-03-24 00:03:00</th>\n",
       "      <td>NaN</td>\n",
       "      <td>NaN</td>\n",
       "      <td>NaN</td>\n",
       "    </tr>\n",
       "    <tr>\n",
       "      <th>2014-03-24 00:04:00</th>\n",
       "      <td>NaN</td>\n",
       "      <td>NaN</td>\n",
       "      <td>NaN</td>\n",
       "    </tr>\n",
       "    <tr>\n",
       "      <th>2014-03-24 00:05:00</th>\n",
       "      <td>NaN</td>\n",
       "      <td>NaN</td>\n",
       "      <td>NaN</td>\n",
       "    </tr>\n",
       "    <tr>\n",
       "      <th>2014-03-24 00:06:00</th>\n",
       "      <td>NaN</td>\n",
       "      <td>NaN</td>\n",
       "      <td>NaN</td>\n",
       "    </tr>\n",
       "    <tr>\n",
       "      <th>2014-03-24 00:07:00</th>\n",
       "      <td>NaN</td>\n",
       "      <td>NaN</td>\n",
       "      <td>NaN</td>\n",
       "    </tr>\n",
       "    <tr>\n",
       "      <th>2014-03-24 00:08:00</th>\n",
       "      <td>NaN</td>\n",
       "      <td>NaN</td>\n",
       "      <td>NaN</td>\n",
       "    </tr>\n",
       "    <tr>\n",
       "      <th>2014-03-24 00:09:00</th>\n",
       "      <td>NaN</td>\n",
       "      <td>NaN</td>\n",
       "      <td>NaN</td>\n",
       "    </tr>\n",
       "    <tr>\n",
       "      <th>2014-03-24 00:10:00</th>\n",
       "      <td>NaN</td>\n",
       "      <td>NaN</td>\n",
       "      <td>NaN</td>\n",
       "    </tr>\n",
       "    <tr>\n",
       "      <th>2014-03-24 00:11:00</th>\n",
       "      <td>NaN</td>\n",
       "      <td>NaN</td>\n",
       "      <td>NaN</td>\n",
       "    </tr>\n",
       "    <tr>\n",
       "      <th>2014-03-24 00:12:00</th>\n",
       "      <td>NaN</td>\n",
       "      <td>NaN</td>\n",
       "      <td>NaN</td>\n",
       "    </tr>\n",
       "    <tr>\n",
       "      <th>2014-03-24 00:13:00</th>\n",
       "      <td>NaN</td>\n",
       "      <td>NaN</td>\n",
       "      <td>NaN</td>\n",
       "    </tr>\n",
       "    <tr>\n",
       "      <th>2014-03-24 00:14:00</th>\n",
       "      <td>NaN</td>\n",
       "      <td>NaN</td>\n",
       "      <td>NaN</td>\n",
       "    </tr>\n",
       "    <tr>\n",
       "      <th>2014-03-24 00:15:00</th>\n",
       "      <td>NaN</td>\n",
       "      <td>NaN</td>\n",
       "      <td>NaN</td>\n",
       "    </tr>\n",
       "    <tr>\n",
       "      <th>2014-03-24 00:16:00</th>\n",
       "      <td>NaN</td>\n",
       "      <td>NaN</td>\n",
       "      <td>NaN</td>\n",
       "    </tr>\n",
       "    <tr>\n",
       "      <th>2014-03-24 00:17:00</th>\n",
       "      <td>NaN</td>\n",
       "      <td>NaN</td>\n",
       "      <td>NaN</td>\n",
       "    </tr>\n",
       "    <tr>\n",
       "      <th>2014-03-24 00:18:00</th>\n",
       "      <td>NaN</td>\n",
       "      <td>NaN</td>\n",
       "      <td>NaN</td>\n",
       "    </tr>\n",
       "    <tr>\n",
       "      <th>2014-03-24 00:19:00</th>\n",
       "      <td>NaN</td>\n",
       "      <td>NaN</td>\n",
       "      <td>NaN</td>\n",
       "    </tr>\n",
       "    <tr>\n",
       "      <th>2014-03-24 00:20:00</th>\n",
       "      <td>NaN</td>\n",
       "      <td>NaN</td>\n",
       "      <td>NaN</td>\n",
       "    </tr>\n",
       "    <tr>\n",
       "      <th>2014-03-24 00:21:00</th>\n",
       "      <td>NaN</td>\n",
       "      <td>NaN</td>\n",
       "      <td>NaN</td>\n",
       "    </tr>\n",
       "    <tr>\n",
       "      <th>2014-03-24 00:22:00</th>\n",
       "      <td>NaN</td>\n",
       "      <td>NaN</td>\n",
       "      <td>NaN</td>\n",
       "    </tr>\n",
       "    <tr>\n",
       "      <th>2014-03-24 00:23:00</th>\n",
       "      <td>NaN</td>\n",
       "      <td>NaN</td>\n",
       "      <td>NaN</td>\n",
       "    </tr>\n",
       "    <tr>\n",
       "      <th>2014-03-24 00:24:00</th>\n",
       "      <td>NaN</td>\n",
       "      <td>NaN</td>\n",
       "      <td>NaN</td>\n",
       "    </tr>\n",
       "    <tr>\n",
       "      <th>2014-03-24 00:25:00</th>\n",
       "      <td>NaN</td>\n",
       "      <td>NaN</td>\n",
       "      <td>NaN</td>\n",
       "    </tr>\n",
       "    <tr>\n",
       "      <th>2014-03-24 00:26:00</th>\n",
       "      <td>NaN</td>\n",
       "      <td>NaN</td>\n",
       "      <td>NaN</td>\n",
       "    </tr>\n",
       "    <tr>\n",
       "      <th>2014-03-24 00:27:00</th>\n",
       "      <td>NaN</td>\n",
       "      <td>NaN</td>\n",
       "      <td>NaN</td>\n",
       "    </tr>\n",
       "    <tr>\n",
       "      <th>2014-03-24 00:28:00</th>\n",
       "      <td>NaN</td>\n",
       "      <td>NaN</td>\n",
       "      <td>NaN</td>\n",
       "    </tr>\n",
       "    <tr>\n",
       "      <th>2014-03-24 00:29:00</th>\n",
       "      <td>NaN</td>\n",
       "      <td>NaN</td>\n",
       "      <td>NaN</td>\n",
       "    </tr>\n",
       "    <tr>\n",
       "      <th>...</th>\n",
       "      <td>...</td>\n",
       "      <td>...</td>\n",
       "      <td>...</td>\n",
       "    </tr>\n",
       "    <tr>\n",
       "      <th>2015-08-11 23:31:00</th>\n",
       "      <td>NaN</td>\n",
       "      <td>NaN</td>\n",
       "      <td>NaN</td>\n",
       "    </tr>\n",
       "    <tr>\n",
       "      <th>2015-08-11 23:32:00</th>\n",
       "      <td>NaN</td>\n",
       "      <td>NaN</td>\n",
       "      <td>NaN</td>\n",
       "    </tr>\n",
       "    <tr>\n",
       "      <th>2015-08-11 23:33:00</th>\n",
       "      <td>NaN</td>\n",
       "      <td>NaN</td>\n",
       "      <td>NaN</td>\n",
       "    </tr>\n",
       "    <tr>\n",
       "      <th>2015-08-11 23:34:00</th>\n",
       "      <td>NaN</td>\n",
       "      <td>NaN</td>\n",
       "      <td>NaN</td>\n",
       "    </tr>\n",
       "    <tr>\n",
       "      <th>2015-08-11 23:35:00</th>\n",
       "      <td>NaN</td>\n",
       "      <td>NaN</td>\n",
       "      <td>NaN</td>\n",
       "    </tr>\n",
       "    <tr>\n",
       "      <th>2015-08-11 23:36:00</th>\n",
       "      <td>NaN</td>\n",
       "      <td>NaN</td>\n",
       "      <td>NaN</td>\n",
       "    </tr>\n",
       "    <tr>\n",
       "      <th>2015-08-11 23:37:00</th>\n",
       "      <td>NaN</td>\n",
       "      <td>NaN</td>\n",
       "      <td>NaN</td>\n",
       "    </tr>\n",
       "    <tr>\n",
       "      <th>2015-08-11 23:38:00</th>\n",
       "      <td>NaN</td>\n",
       "      <td>NaN</td>\n",
       "      <td>NaN</td>\n",
       "    </tr>\n",
       "    <tr>\n",
       "      <th>2015-08-11 23:39:00</th>\n",
       "      <td>NaN</td>\n",
       "      <td>NaN</td>\n",
       "      <td>NaN</td>\n",
       "    </tr>\n",
       "    <tr>\n",
       "      <th>2015-08-11 23:40:00</th>\n",
       "      <td>NaN</td>\n",
       "      <td>NaN</td>\n",
       "      <td>NaN</td>\n",
       "    </tr>\n",
       "    <tr>\n",
       "      <th>2015-08-11 23:41:00</th>\n",
       "      <td>NaN</td>\n",
       "      <td>NaN</td>\n",
       "      <td>NaN</td>\n",
       "    </tr>\n",
       "    <tr>\n",
       "      <th>2015-08-11 23:42:00</th>\n",
       "      <td>NaN</td>\n",
       "      <td>NaN</td>\n",
       "      <td>NaN</td>\n",
       "    </tr>\n",
       "    <tr>\n",
       "      <th>2015-08-11 23:43:00</th>\n",
       "      <td>NaN</td>\n",
       "      <td>NaN</td>\n",
       "      <td>NaN</td>\n",
       "    </tr>\n",
       "    <tr>\n",
       "      <th>2015-08-11 23:44:00</th>\n",
       "      <td>NaN</td>\n",
       "      <td>NaN</td>\n",
       "      <td>NaN</td>\n",
       "    </tr>\n",
       "    <tr>\n",
       "      <th>2015-08-11 23:45:00</th>\n",
       "      <td>NaN</td>\n",
       "      <td>NaN</td>\n",
       "      <td>NaN</td>\n",
       "    </tr>\n",
       "    <tr>\n",
       "      <th>2015-08-11 23:46:00</th>\n",
       "      <td>NaN</td>\n",
       "      <td>NaN</td>\n",
       "      <td>NaN</td>\n",
       "    </tr>\n",
       "    <tr>\n",
       "      <th>2015-08-11 23:47:00</th>\n",
       "      <td>NaN</td>\n",
       "      <td>NaN</td>\n",
       "      <td>NaN</td>\n",
       "    </tr>\n",
       "    <tr>\n",
       "      <th>2015-08-11 23:48:00</th>\n",
       "      <td>NaN</td>\n",
       "      <td>NaN</td>\n",
       "      <td>NaN</td>\n",
       "    </tr>\n",
       "    <tr>\n",
       "      <th>2015-08-11 23:49:00</th>\n",
       "      <td>NaN</td>\n",
       "      <td>NaN</td>\n",
       "      <td>NaN</td>\n",
       "    </tr>\n",
       "    <tr>\n",
       "      <th>2015-08-11 23:50:00</th>\n",
       "      <td>NaN</td>\n",
       "      <td>NaN</td>\n",
       "      <td>NaN</td>\n",
       "    </tr>\n",
       "    <tr>\n",
       "      <th>2015-08-11 23:51:00</th>\n",
       "      <td>NaN</td>\n",
       "      <td>NaN</td>\n",
       "      <td>NaN</td>\n",
       "    </tr>\n",
       "    <tr>\n",
       "      <th>2015-08-11 23:52:00</th>\n",
       "      <td>NaN</td>\n",
       "      <td>NaN</td>\n",
       "      <td>NaN</td>\n",
       "    </tr>\n",
       "    <tr>\n",
       "      <th>2015-08-11 23:53:00</th>\n",
       "      <td>NaN</td>\n",
       "      <td>NaN</td>\n",
       "      <td>NaN</td>\n",
       "    </tr>\n",
       "    <tr>\n",
       "      <th>2015-08-11 23:54:00</th>\n",
       "      <td>NaN</td>\n",
       "      <td>NaN</td>\n",
       "      <td>NaN</td>\n",
       "    </tr>\n",
       "    <tr>\n",
       "      <th>2015-08-11 23:55:00</th>\n",
       "      <td>NaN</td>\n",
       "      <td>NaN</td>\n",
       "      <td>NaN</td>\n",
       "    </tr>\n",
       "    <tr>\n",
       "      <th>2015-08-11 23:56:00</th>\n",
       "      <td>NaN</td>\n",
       "      <td>NaN</td>\n",
       "      <td>NaN</td>\n",
       "    </tr>\n",
       "    <tr>\n",
       "      <th>2015-08-11 23:57:00</th>\n",
       "      <td>NaN</td>\n",
       "      <td>NaN</td>\n",
       "      <td>NaN</td>\n",
       "    </tr>\n",
       "    <tr>\n",
       "      <th>2015-08-11 23:58:00</th>\n",
       "      <td>NaN</td>\n",
       "      <td>NaN</td>\n",
       "      <td>NaN</td>\n",
       "    </tr>\n",
       "    <tr>\n",
       "      <th>2015-08-11 23:59:00</th>\n",
       "      <td>NaN</td>\n",
       "      <td>NaN</td>\n",
       "      <td>NaN</td>\n",
       "    </tr>\n",
       "    <tr>\n",
       "      <th>2015-08-12 00:00:00</th>\n",
       "      <td>NaN</td>\n",
       "      <td>NaN</td>\n",
       "      <td>NaN</td>\n",
       "    </tr>\n",
       "  </tbody>\n",
       "</table>\n",
       "<p>728641 rows × 3 columns</p>\n",
       "</div>"
      ],
      "text/plain": [
       "                     pow_cpu  pow_dram  pow_pkg\n",
       "timestamp                                      \n",
       "2014-03-24 00:00:00      NaN       NaN      NaN\n",
       "2014-03-24 00:01:00      NaN       NaN      NaN\n",
       "2014-03-24 00:02:00      NaN       NaN      NaN\n",
       "2014-03-24 00:03:00      NaN       NaN      NaN\n",
       "2014-03-24 00:04:00      NaN       NaN      NaN\n",
       "2014-03-24 00:05:00      NaN       NaN      NaN\n",
       "2014-03-24 00:06:00      NaN       NaN      NaN\n",
       "2014-03-24 00:07:00      NaN       NaN      NaN\n",
       "2014-03-24 00:08:00      NaN       NaN      NaN\n",
       "2014-03-24 00:09:00      NaN       NaN      NaN\n",
       "2014-03-24 00:10:00      NaN       NaN      NaN\n",
       "2014-03-24 00:11:00      NaN       NaN      NaN\n",
       "2014-03-24 00:12:00      NaN       NaN      NaN\n",
       "2014-03-24 00:13:00      NaN       NaN      NaN\n",
       "2014-03-24 00:14:00      NaN       NaN      NaN\n",
       "2014-03-24 00:15:00      NaN       NaN      NaN\n",
       "2014-03-24 00:16:00      NaN       NaN      NaN\n",
       "2014-03-24 00:17:00      NaN       NaN      NaN\n",
       "2014-03-24 00:18:00      NaN       NaN      NaN\n",
       "2014-03-24 00:19:00      NaN       NaN      NaN\n",
       "2014-03-24 00:20:00      NaN       NaN      NaN\n",
       "2014-03-24 00:21:00      NaN       NaN      NaN\n",
       "2014-03-24 00:22:00      NaN       NaN      NaN\n",
       "2014-03-24 00:23:00      NaN       NaN      NaN\n",
       "2014-03-24 00:24:00      NaN       NaN      NaN\n",
       "2014-03-24 00:25:00      NaN       NaN      NaN\n",
       "2014-03-24 00:26:00      NaN       NaN      NaN\n",
       "2014-03-24 00:27:00      NaN       NaN      NaN\n",
       "2014-03-24 00:28:00      NaN       NaN      NaN\n",
       "2014-03-24 00:29:00      NaN       NaN      NaN\n",
       "...                      ...       ...      ...\n",
       "2015-08-11 23:31:00      NaN       NaN      NaN\n",
       "2015-08-11 23:32:00      NaN       NaN      NaN\n",
       "2015-08-11 23:33:00      NaN       NaN      NaN\n",
       "2015-08-11 23:34:00      NaN       NaN      NaN\n",
       "2015-08-11 23:35:00      NaN       NaN      NaN\n",
       "2015-08-11 23:36:00      NaN       NaN      NaN\n",
       "2015-08-11 23:37:00      NaN       NaN      NaN\n",
       "2015-08-11 23:38:00      NaN       NaN      NaN\n",
       "2015-08-11 23:39:00      NaN       NaN      NaN\n",
       "2015-08-11 23:40:00      NaN       NaN      NaN\n",
       "2015-08-11 23:41:00      NaN       NaN      NaN\n",
       "2015-08-11 23:42:00      NaN       NaN      NaN\n",
       "2015-08-11 23:43:00      NaN       NaN      NaN\n",
       "2015-08-11 23:44:00      NaN       NaN      NaN\n",
       "2015-08-11 23:45:00      NaN       NaN      NaN\n",
       "2015-08-11 23:46:00      NaN       NaN      NaN\n",
       "2015-08-11 23:47:00      NaN       NaN      NaN\n",
       "2015-08-11 23:48:00      NaN       NaN      NaN\n",
       "2015-08-11 23:49:00      NaN       NaN      NaN\n",
       "2015-08-11 23:50:00      NaN       NaN      NaN\n",
       "2015-08-11 23:51:00      NaN       NaN      NaN\n",
       "2015-08-11 23:52:00      NaN       NaN      NaN\n",
       "2015-08-11 23:53:00      NaN       NaN      NaN\n",
       "2015-08-11 23:54:00      NaN       NaN      NaN\n",
       "2015-08-11 23:55:00      NaN       NaN      NaN\n",
       "2015-08-11 23:56:00      NaN       NaN      NaN\n",
       "2015-08-11 23:57:00      NaN       NaN      NaN\n",
       "2015-08-11 23:58:00      NaN       NaN      NaN\n",
       "2015-08-11 23:59:00      NaN       NaN      NaN\n",
       "2015-08-12 00:00:00      NaN       NaN      NaN\n",
       "\n",
       "[728641 rows x 3 columns]"
      ]
     },
     "execution_count": 69,
     "metadata": {},
     "output_type": "execute_result"
    }
   ],
   "source": [
    "cpu0_1min"
   ]
  },
  {
   "cell_type": "code",
   "execution_count": null,
   "metadata": {},
   "outputs": [],
   "source": []
  },
  {
   "cell_type": "code",
   "execution_count": 70,
   "metadata": {},
   "outputs": [],
   "source": [
    "cpu0_1min = cpu0_1min.rename(index=str, columns={\"pow_cpu\": \"pow_cpu_0\", \"pow_dram\": \"pow_dram_0\", \"pow_pkg\": \"pow_pkg_0\"})\n",
    "cpu1_1min = cpu1_1min.rename(index=str, columns={\"pow_cpu\": \"pow_cpu_1\", \"pow_dram\": \"pow_dram_1\", \"pow_pkg\": \"pow_pkg_1\"})\n",
    "# cpu0_1min.head(1)"
   ]
  },
  {
   "cell_type": "code",
   "execution_count": 71,
   "metadata": {},
   "outputs": [],
   "source": [
    "# concat\n",
    "node_1min = pd.concat([cpu0_1min, cpu1_1min], axis=1)"
   ]
  },
  {
   "cell_type": "code",
   "execution_count": 72,
   "metadata": {},
   "outputs": [
    {
     "data": {
      "text/html": [
       "<div>\n",
       "<style scoped>\n",
       "    .dataframe tbody tr th:only-of-type {\n",
       "        vertical-align: middle;\n",
       "    }\n",
       "\n",
       "    .dataframe tbody tr th {\n",
       "        vertical-align: top;\n",
       "    }\n",
       "\n",
       "    .dataframe thead th {\n",
       "        text-align: right;\n",
       "    }\n",
       "</style>\n",
       "<table border=\"1\" class=\"dataframe\">\n",
       "  <thead>\n",
       "    <tr style=\"text-align: right;\">\n",
       "      <th></th>\n",
       "      <th>pow_cpu_0</th>\n",
       "      <th>pow_dram_0</th>\n",
       "      <th>pow_pkg_0</th>\n",
       "      <th>pow_cpu_1</th>\n",
       "      <th>pow_dram_1</th>\n",
       "      <th>pow_pkg_1</th>\n",
       "    </tr>\n",
       "    <tr>\n",
       "      <th>timestamp</th>\n",
       "      <th></th>\n",
       "      <th></th>\n",
       "      <th></th>\n",
       "      <th></th>\n",
       "      <th></th>\n",
       "      <th></th>\n",
       "    </tr>\n",
       "  </thead>\n",
       "  <tbody>\n",
       "    <tr>\n",
       "      <th>2014-03-24 00:00:00</th>\n",
       "      <td>NaN</td>\n",
       "      <td>NaN</td>\n",
       "      <td>NaN</td>\n",
       "      <td>NaN</td>\n",
       "      <td>NaN</td>\n",
       "      <td>NaN</td>\n",
       "    </tr>\n",
       "  </tbody>\n",
       "</table>\n",
       "</div>"
      ],
      "text/plain": [
       "                     pow_cpu_0  pow_dram_0  pow_pkg_0  pow_cpu_1  pow_dram_1  \\\n",
       "timestamp                                                                      \n",
       "2014-03-24 00:00:00        NaN         NaN        NaN        NaN         NaN   \n",
       "\n",
       "                     pow_pkg_1  \n",
       "timestamp                       \n",
       "2014-03-24 00:00:00        NaN  "
      ]
     },
     "execution_count": 72,
     "metadata": {},
     "output_type": "execute_result"
    }
   ],
   "source": [
    "node_1min.head(1)"
   ]
  },
  {
   "cell_type": "code",
   "execution_count": 73,
   "metadata": {},
   "outputs": [],
   "source": [
    "node_1min['pow_tot_0'] = cpu0_1min['pow_cpu_0'] + cpu0_1min['pow_dram_0'] + cpu0_1min['pow_pkg_0'] \n",
    "node_1min['pow_tot_1'] = cpu1_1min['pow_cpu_1'] + cpu1_1min['pow_dram_1'] + cpu1_1min['pow_pkg_1']"
   ]
  },
  {
   "cell_type": "code",
   "execution_count": null,
   "metadata": {},
   "outputs": [],
   "source": []
  },
  {
   "cell_type": "code",
   "execution_count": 74,
   "metadata": {},
   "outputs": [
    {
     "data": {
      "text/html": [
       "<div>\n",
       "<style scoped>\n",
       "    .dataframe tbody tr th:only-of-type {\n",
       "        vertical-align: middle;\n",
       "    }\n",
       "\n",
       "    .dataframe tbody tr th {\n",
       "        vertical-align: top;\n",
       "    }\n",
       "\n",
       "    .dataframe thead th {\n",
       "        text-align: right;\n",
       "    }\n",
       "</style>\n",
       "<table border=\"1\" class=\"dataframe\">\n",
       "  <thead>\n",
       "    <tr style=\"text-align: right;\">\n",
       "      <th></th>\n",
       "      <th>pow_cpu_0</th>\n",
       "      <th>pow_dram_0</th>\n",
       "      <th>pow_pkg_0</th>\n",
       "      <th>pow_cpu_1</th>\n",
       "      <th>pow_dram_1</th>\n",
       "      <th>pow_pkg_1</th>\n",
       "      <th>pow_tot_0</th>\n",
       "      <th>pow_tot_1</th>\n",
       "    </tr>\n",
       "    <tr>\n",
       "      <th>timestamp</th>\n",
       "      <th></th>\n",
       "      <th></th>\n",
       "      <th></th>\n",
       "      <th></th>\n",
       "      <th></th>\n",
       "      <th></th>\n",
       "      <th></th>\n",
       "      <th></th>\n",
       "    </tr>\n",
       "  </thead>\n",
       "  <tbody>\n",
       "    <tr>\n",
       "      <th>2014-03-24 00:00:00</th>\n",
       "      <td>NaN</td>\n",
       "      <td>NaN</td>\n",
       "      <td>NaN</td>\n",
       "      <td>NaN</td>\n",
       "      <td>NaN</td>\n",
       "      <td>NaN</td>\n",
       "      <td>NaN</td>\n",
       "      <td>NaN</td>\n",
       "    </tr>\n",
       "  </tbody>\n",
       "</table>\n",
       "</div>"
      ],
      "text/plain": [
       "                     pow_cpu_0  pow_dram_0  pow_pkg_0  pow_cpu_1  pow_dram_1  \\\n",
       "timestamp                                                                      \n",
       "2014-03-24 00:00:00        NaN         NaN        NaN        NaN         NaN   \n",
       "\n",
       "                     pow_pkg_1  pow_tot_0  pow_tot_1  \n",
       "timestamp                                             \n",
       "2014-03-24 00:00:00        NaN        NaN        NaN  "
      ]
     },
     "execution_count": 74,
     "metadata": {},
     "output_type": "execute_result"
    }
   ],
   "source": [
    "node_1min.head(1)"
   ]
  },
  {
   "cell_type": "code",
   "execution_count": 75,
   "metadata": {},
   "outputs": [],
   "source": [
    "node_1min = node_1min.drop(['pow_cpu_0', 'pow_dram_0', 'pow_pkg_0', 'pow_cpu_1', 'pow_dram_1', 'pow_pkg_1'], axis=1)"
   ]
  },
  {
   "cell_type": "code",
   "execution_count": 76,
   "metadata": {},
   "outputs": [
    {
     "data": {
      "text/html": [
       "<div>\n",
       "<style scoped>\n",
       "    .dataframe tbody tr th:only-of-type {\n",
       "        vertical-align: middle;\n",
       "    }\n",
       "\n",
       "    .dataframe tbody tr th {\n",
       "        vertical-align: top;\n",
       "    }\n",
       "\n",
       "    .dataframe thead th {\n",
       "        text-align: right;\n",
       "    }\n",
       "</style>\n",
       "<table border=\"1\" class=\"dataframe\">\n",
       "  <thead>\n",
       "    <tr style=\"text-align: right;\">\n",
       "      <th></th>\n",
       "      <th>pow_tot_0</th>\n",
       "      <th>pow_tot_1</th>\n",
       "    </tr>\n",
       "    <tr>\n",
       "      <th>timestamp</th>\n",
       "      <th></th>\n",
       "      <th></th>\n",
       "    </tr>\n",
       "  </thead>\n",
       "  <tbody>\n",
       "    <tr>\n",
       "      <th>2014-03-24 00:00:00</th>\n",
       "      <td>NaN</td>\n",
       "      <td>NaN</td>\n",
       "    </tr>\n",
       "  </tbody>\n",
       "</table>\n",
       "</div>"
      ],
      "text/plain": [
       "                     pow_tot_0  pow_tot_1\n",
       "timestamp                                \n",
       "2014-03-24 00:00:00        NaN        NaN"
      ]
     },
     "execution_count": 76,
     "metadata": {},
     "output_type": "execute_result"
    }
   ],
   "source": [
    "node_1min.head(1)"
   ]
  },
  {
   "cell_type": "code",
   "execution_count": 77,
   "metadata": {},
   "outputs": [
    {
     "name": "stdout",
     "output_type": "stream",
     "text": [
      "first: (728641,), second: (728641,)\n"
     ]
    }
   ],
   "source": [
    "pow_tot_1 = cpu0_1min['pow_cpu_0'] + cpu0_1min['pow_dram_0'] + cpu0_1min['pow_pkg_0']\n",
    "pow_tot_2 = cpu1_1min['pow_cpu_1'] + cpu1_1min['pow_dram_1'] + cpu1_1min['pow_pkg_1']\n",
    "print(\"first: {}, second: {}\".format(pow_tot_1.shape, pow_tot_2.shape))"
   ]
  },
  {
   "cell_type": "code",
   "execution_count": null,
   "metadata": {},
   "outputs": [],
   "source": []
  },
  {
   "cell_type": "code",
   "execution_count": 41,
   "metadata": {},
   "outputs": [],
   "source": [
    "# write\n",
    "#outfile = datadir + 'CPUs/' + interval_comment + \"/node\" + cpu + \"_1min_\" + interval_comment + \".csv\"\n",
    "#node_1min.to_csv(outfile)"
   ]
  }
 ],
 "metadata": {
  "kernelspec": {
   "display_name": "Python 3",
   "language": "python",
   "name": "python3"
  },
  "language_info": {
   "codemirror_mode": {
    "name": "ipython",
    "version": 3
   },
   "file_extension": ".py",
   "mimetype": "text/x-python",
   "name": "python",
   "nbconvert_exporter": "python",
   "pygments_lexer": "ipython3",
   "version": "3.5.2"
  }
 },
 "nbformat": 4,
 "nbformat_minor": 2
}
