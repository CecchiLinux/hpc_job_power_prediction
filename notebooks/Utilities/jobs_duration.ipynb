{
 "cells": [
  {
   "cell_type": "code",
   "execution_count": 13,
   "metadata": {},
   "outputs": [
    {
     "name": "stderr",
     "output_type": "stream",
     "text": [
      "/usr/local/lib/python3.5/dist-packages/IPython/core/interactiveshell.py:3049: DtypeWarning: Columns (11) have mixed types. Specify dtype option on import or set low_memory=False.\n",
      "  interactivity=interactivity, compiler=compiler, result=result)\n"
     ]
    }
   ],
   "source": [
    "#!/usr/bin/env python3\n",
    "\n",
    "import pandas as pd\n",
    "import errno    \n",
    "import os\n",
    "import numpy as np\n",
    "import math\n",
    "\n",
    "import numpy as np\n",
    "import pandas as pd\n",
    "import matplotlib.pyplot as plt\n",
    "import matplotlib.dates as mdates\n",
    "from datetime import datetime\n",
    "\n",
    "from sklearn.metrics import r2_score\n",
    "\n",
    "\n",
    "'''\n",
    "Author: Enrico Ceccolini\n",
    "    TODO write the description\n",
    "'''\n",
    "\n",
    "#datadir = \"/datasets/eurora_data/db/\"\n",
    "datadir = \"/datasets/eurora_data/db1/\"\n",
    "infile_jobs = datadir + \"jobs.csv\"\n",
    "\n",
    "# settings\n",
    "interval_comment = \"WholeData\"\n",
    "suffix = \"_1min_\"\n",
    "\n",
    "nodes_data = pd.read_csv(infile_jobs, index_col=0)"
   ]
  },
  {
   "cell_type": "code",
   "execution_count": 14,
   "metadata": {},
   "outputs": [
    {
     "name": "stdout",
     "output_type": "stream",
     "text": [
      "jobs_whole_data contains 405771 records\n"
     ]
    }
   ],
   "source": [
    "jobs_whole_data = pd.read_csv(infile_jobs)\n",
    "print(\"jobs_whole_data contains {} records\".format(jobs_whole_data.shape[0]))"
   ]
  },
  {
   "cell_type": "code",
   "execution_count": 15,
   "metadata": {},
   "outputs": [
    {
     "data": {
      "text/html": [
       "<div>\n",
       "<style scoped>\n",
       "    .dataframe tbody tr th:only-of-type {\n",
       "        vertical-align: middle;\n",
       "    }\n",
       "\n",
       "    .dataframe tbody tr th {\n",
       "        vertical-align: top;\n",
       "    }\n",
       "\n",
       "    .dataframe thead th {\n",
       "        text-align: right;\n",
       "    }\n",
       "</style>\n",
       "<table border=\"1\" class=\"dataframe\">\n",
       "  <thead>\n",
       "    <tr style=\"text-align: right;\">\n",
       "      <th></th>\n",
       "      <th>job_id</th>\n",
       "      <th>job_id_string</th>\n",
       "      <th>job_name</th>\n",
       "      <th>queue</th>\n",
       "      <th>start_time</th>\n",
       "      <th>run_start_time</th>\n",
       "      <th>end_time</th>\n",
       "      <th>user</th>\n",
       "      <th>node_req</th>\n",
       "      <th>cpu_req</th>\n",
       "      <th>mem_req</th>\n",
       "      <th>time_req</th>\n",
       "      <th>deleted</th>\n",
       "      <th>dependency</th>\n",
       "      <th>exit_status</th>\n",
       "      <th>pbs_exit_code</th>\n",
       "    </tr>\n",
       "  </thead>\n",
       "  <tbody>\n",
       "    <tr>\n",
       "      <th>0</th>\n",
       "      <td>1</td>\n",
       "      <td>498458.node129</td>\n",
       "      <td>rth2e6t0</td>\n",
       "      <td>parallel</td>\n",
       "      <td>2014-03-31 00:30:02</td>\n",
       "      <td>2014-03-31 00:30:02</td>\n",
       "      <td>2014-03-31 01:22:40</td>\n",
       "      <td>alupi000@node129.eurora.cineca.it</td>\n",
       "      <td>1</td>\n",
       "      <td>16</td>\n",
       "      <td>14</td>\n",
       "      <td>04:00</td>\n",
       "      <td>NaN</td>\n",
       "      <td>NaN</td>\n",
       "      <td>COMPLETED</td>\n",
       "      <td>NaN</td>\n",
       "    </tr>\n",
       "  </tbody>\n",
       "</table>\n",
       "</div>"
      ],
      "text/plain": [
       "   job_id   job_id_string  job_name     queue           start_time  \\\n",
       "0       1  498458.node129  rth2e6t0  parallel  2014-03-31 00:30:02   \n",
       "\n",
       "        run_start_time             end_time  \\\n",
       "0  2014-03-31 00:30:02  2014-03-31 01:22:40   \n",
       "\n",
       "                                user  node_req  cpu_req  mem_req time_req  \\\n",
       "0  alupi000@node129.eurora.cineca.it         1       16       14    04:00   \n",
       "\n",
       "  deleted  dependency exit_status  pbs_exit_code  \n",
       "0     NaN         NaN   COMPLETED            NaN  "
      ]
     },
     "execution_count": 15,
     "metadata": {},
     "output_type": "execute_result"
    }
   ],
   "source": [
    "jobs_whole_data.head(1)"
   ]
  },
  {
   "cell_type": "code",
   "execution_count": 16,
   "metadata": {},
   "outputs": [
    {
     "name": "stdout",
     "output_type": "stream",
     "text": [
      "completed_jobs_data contains 404871 records\n",
      "completed_jobs_data contains 404871 records\n"
     ]
    }
   ],
   "source": [
    "completed_jobs_data = jobs_whole_data[jobs_whole_data.end_time != '0000-00-00 00:00:00']\n",
    "print(\"completed_jobs_data contains {} records\".format(completed_jobs_data.shape[0]))\n",
    "completed_jobs_data = completed_jobs_data.dropna(subset=['run_start_time', 'end_time'])\n",
    "print(\"completed_jobs_data contains {} records\".format(completed_jobs_data.shape[0]))"
   ]
  },
  {
   "cell_type": "code",
   "execution_count": 17,
   "metadata": {},
   "outputs": [],
   "source": [
    "completed_jobs_data['duration'] = pd.to_datetime(completed_jobs_data['end_time']) - pd.to_datetime(completed_jobs_data['run_start_time'])"
   ]
  },
  {
   "cell_type": "code",
   "execution_count": 23,
   "metadata": {},
   "outputs": [
    {
     "data": {
      "text/plain": [
       "0     3158.0\n",
       "1      202.0\n",
       "2    14439.0\n",
       "3    14476.0\n",
       "4     3267.0\n",
       "Name: duration, dtype: float64"
      ]
     },
     "execution_count": 23,
     "metadata": {},
     "output_type": "execute_result"
    }
   ],
   "source": [
    "completed_jobs_data['duration'].astype('timedelta64[s]').head()"
   ]
  },
  {
   "cell_type": "code",
   "execution_count": null,
   "metadata": {},
   "outputs": [],
   "source": []
  },
  {
   "cell_type": "code",
   "execution_count": 61,
   "metadata": {},
   "outputs": [
    {
     "data": {
      "text/plain": [
       "(333285, 17)"
      ]
     },
     "execution_count": 61,
     "metadata": {},
     "output_type": "execute_result"
    }
   ],
   "source": [
    "completed_jobs_data[completed_jobs_data['duration'] < np.timedelta64(1, 'm')].shape"
   ]
  },
  {
   "cell_type": "code",
   "execution_count": 71,
   "metadata": {},
   "outputs": [
    {
     "data": {
      "text/plain": [
       "(365673, 17)"
      ]
     },
     "execution_count": 71,
     "metadata": {},
     "output_type": "execute_result"
    }
   ],
   "source": [
    "completed_jobs_data[completed_jobs_data['duration'] < np.timedelta64(30, 'm')].shape"
   ]
  },
  {
   "cell_type": "code",
   "execution_count": 72,
   "metadata": {},
   "outputs": [
    {
     "data": {
      "text/plain": [
       "32388"
      ]
     },
     "execution_count": 72,
     "metadata": {},
     "output_type": "execute_result"
    }
   ],
   "source": [
    "365673 - 333285"
   ]
  },
  {
   "cell_type": "code",
   "execution_count": 62,
   "metadata": {},
   "outputs": [
    {
     "data": {
      "text/plain": [
       "(373061, 17)"
      ]
     },
     "execution_count": 62,
     "metadata": {},
     "output_type": "execute_result"
    }
   ],
   "source": [
    "completed_jobs_data[completed_jobs_data['duration'] < np.timedelta64(1, 'h')].shape"
   ]
  },
  {
   "cell_type": "code",
   "execution_count": 73,
   "metadata": {},
   "outputs": [
    {
     "data": {
      "text/plain": [
       "7388"
      ]
     },
     "execution_count": 73,
     "metadata": {},
     "output_type": "execute_result"
    }
   ],
   "source": [
    "373061 - 365673"
   ]
  },
  {
   "cell_type": "code",
   "execution_count": 64,
   "metadata": {},
   "outputs": [
    {
     "data": {
      "text/plain": [
       "(392106, 17)"
      ]
     },
     "execution_count": 64,
     "metadata": {},
     "output_type": "execute_result"
    }
   ],
   "source": [
    "completed_jobs_data[completed_jobs_data['duration'] < np.timedelta64(4, 'h')].shape"
   ]
  },
  {
   "cell_type": "code",
   "execution_count": 66,
   "metadata": {},
   "outputs": [
    {
     "data": {
      "text/plain": [
       "19045"
      ]
     },
     "execution_count": 66,
     "metadata": {},
     "output_type": "execute_result"
    }
   ],
   "source": [
    "392106 - 373061"
   ]
  },
  {
   "cell_type": "code",
   "execution_count": 94,
   "metadata": {},
   "outputs": [
    {
     "data": {
      "text/plain": [
       "(404705, 17)"
      ]
     },
     "execution_count": 94,
     "metadata": {},
     "output_type": "execute_result"
    }
   ],
   "source": [
    "completed_jobs_data[completed_jobs_data['duration'] < np.timedelta64(10, 'h')].shape"
   ]
  },
  {
   "cell_type": "code",
   "execution_count": 95,
   "metadata": {},
   "outputs": [
    {
     "data": {
      "text/plain": [
       "12599"
      ]
     },
     "execution_count": 95,
     "metadata": {},
     "output_type": "execute_result"
    }
   ],
   "source": [
    "404705 - 392106"
   ]
  },
  {
   "cell_type": "code",
   "execution_count": 96,
   "metadata": {},
   "outputs": [
    {
     "data": {
      "text/plain": [
       "(166, 17)"
      ]
     },
     "execution_count": 96,
     "metadata": {},
     "output_type": "execute_result"
    }
   ],
   "source": [
    "completed_jobs_data[completed_jobs_data['duration'] > np.timedelta64(10, 'h')].shape"
   ]
  },
  {
   "cell_type": "code",
   "execution_count": null,
   "metadata": {},
   "outputs": [],
   "source": []
  },
  {
   "cell_type": "code",
   "execution_count": 106,
   "metadata": {},
   "outputs": [
    {
     "data": {
      "image/png": "[encoded data removed]",
      "text/plain": [
       "<Figure size 1440x360 with 1 Axes>"
      ]
     },
     "metadata": {},
     "output_type": "display_data"
    }
   ],
   "source": [
    "import matplotlib.pyplot as plt\n",
    " \n",
    "# Pie chart, where the slices will be ordered and plotted counter-clockwise:\n",
    "labels = '< 1m', 'between 1m and 30m', 'between 30m and 1h', 'between 1h and 4h', ' > 4h'\n",
    "sizes = [333285, 32388, 7388, 19045, 12760]\n",
    "explode = (0.01, 0.7, 0.7, 0.7, 0.7) # explode 'Milk' a little away\n",
    " \n",
    "fig1, ax1 = plt.subplots()\n",
    "ax1.pie(sizes, explode=explode, labels=labels, autopct='%1.1f%%',\n",
    "        shadow=False, startangle=90)\n",
    "ax1.axis('equal') # Equal aspect ratio ensures that pie is drawn as a circle.\n",
    " \n",
    "#plt.title('Average Monthly Consumption')\n",
    " \n",
    "plt.show()"
   ]
  },
  {
   "cell_type": "code",
   "execution_count": 109,
   "metadata": {},
   "outputs": [
    {
     "data": {
      "image/png": "[encoded data removed]",
      "text/plain": [
       "<Figure size 1440x360 with 1 Axes>"
      ]
     },
     "metadata": {},
     "output_type": "display_data"
    }
   ],
   "source": [
    "import matplotlib.pyplot as plt\n",
    "import matplotlib as mpl\n",
    "mpl.rcParams['font.size'] = 17.0\n",
    " \n",
    "# Pie chart, where the slices will be ordered and plotted counter-clockwise:\n",
    "labels = 'between 1m and 30m', 'between 30m and 1h', 'between 1h and 4h', ' > 4h'\n",
    "sizes = [32388, 7388, 19045, 12760]\n",
    "explode = (0.01, 0.01, 0.01, 0.01) # explode 'Milk' a little away\n",
    " \n",
    "fig1, ax1 = plt.subplots()\n",
    "ax1.pie(sizes, explode=explode, labels=labels, autopct='%1.1f%%',\n",
    "        shadow=False, startangle=90)\n",
    "ax1.axis('equal') # Equal aspect ratio ensures that pie is drawn as a circle.\n",
    "#ax1.tick_params(labelsize=15)\n",
    "#plt.title('Jobs duration', fontsize=20)\n",
    " \n",
    "plt.show()"
   ]
  },
  {
   "cell_type": "code",
   "execution_count": null,
   "metadata": {},
   "outputs": [],
   "source": []
  },
  {
   "cell_type": "code",
   "execution_count": null,
   "metadata": {},
   "outputs": [],
   "source": []
  },
  {
   "cell_type": "code",
   "execution_count": 19,
   "metadata": {},
   "outputs": [],
   "source": [
    "#np.timedelta64(1, 'm')"
   ]
  },
  {
   "cell_type": "code",
   "execution_count": 58,
   "metadata": {},
   "outputs": [],
   "source": [
    "def plot_hist(data, n_bins):\n",
    "    plt.rcParams['figure.figsize'] = (20,5)\n",
    "    #n, bins, patches = plt.hist(data, n_bins, facecolor='blue', alpha=1)\n",
    "    #plt.axis([0, 15000, 0, 8200])\n",
    "    plt.xlabel(\"duration\")\n",
    "    plt.ylabel(\"num instances\")\n",
    "    plt.show()"
   ]
  },
  {
   "cell_type": "code",
   "execution_count": 46,
   "metadata": {},
   "outputs": [],
   "source": [
    "#plot_hist(completed_jobs_data['duration'].astype('timedelta64[s]'), 1000)"
   ]
  },
  {
   "cell_type": "code",
   "execution_count": null,
   "metadata": {},
   "outputs": [],
   "source": []
  },
  {
   "cell_type": "code",
   "execution_count": 43,
   "metadata": {},
   "outputs": [
    {
     "name": "stdout",
     "output_type": "stream",
     "text": [
      "large jobs (running time > 1 min) contains 71457 jobs\n"
     ]
    }
   ],
   "source": [
    "large_jobs = completed_jobs_data[pd.to_datetime(completed_jobs_data['end_time']) - pd.to_datetime(completed_jobs_data['run_start_time']) > np.timedelta64(1, 'm')]\n",
    "print(\"large jobs (running time > 1 min) contains {} jobs\".format(large_jobs.shape[0]))"
   ]
  },
  {
   "cell_type": "code",
   "execution_count": 59,
   "metadata": {},
   "outputs": [
    {
     "data": {
      "image/png": "[encoded data removed]",
      "text/plain": [
       "<Figure size 1440x360 with 1 Axes>"
      ]
     },
     "metadata": {
      "needs_background": "light"
     },
     "output_type": "display_data"
    }
   ],
   "source": [
    "plot_hist(large_jobs['duration'].astype('timedelta64[s]'), 500)"
   ]
  },
  {
   "cell_type": "code",
   "execution_count": null,
   "metadata": {},
   "outputs": [],
   "source": []
  }
 ],
 "metadata": {
  "kernelspec": {
   "display_name": "Python 3",
   "language": "python",
   "name": "python3"
  },
  "language_info": {
   "codemirror_mode": {
    "name": "ipython",
    "version": 3
   },
   "file_extension": ".py",
   "mimetype": "text/x-python",
   "name": "python",
   "nbconvert_exporter": "python",
   "pygments_lexer": "ipython3",
   "version": "3.5.2"
  }
 },
 "nbformat": 4,
 "nbformat_minor": 2
}
