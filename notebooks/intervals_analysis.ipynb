{
 "cells": [
  {
   "cell_type": "code",
   "execution_count": 2,
   "metadata": {},
   "outputs": [
    {
     "name": "stdout",
     "output_type": "stream",
     "text": [
      "There are 22459 jobs in the Andrea's interval\n"
     ]
    }
   ],
   "source": [
    "#!/usr/bin/env python3\n",
    "\n",
    "import pandas as pd\n",
    "import errno    \n",
    "import os, sys\n",
    "import numpy as np\n",
    "import matplotlib.mlab as mlab\n",
    "import matplotlib.dates as mdates\n",
    "import matplotlib.pyplot as plt\n",
    "from datetime import datetime\n",
    "\n",
    "plt.rcParams['figure.figsize'] = (20,5)\n",
    "\n",
    "'''\n",
    "Author: Enrico Ceccolini\n",
    "'''\n",
    "\n",
    "datadir = \"/datasets/eurora_data/db1/\"\n",
    "\n",
    "# settings\n",
    "interval_comment = \"Andrea\"\n",
    "start_time = pd.to_datetime('2014-03-31')\n",
    "end_time = pd.to_datetime('2014-05-01')\n",
    "#interval_comment = \"Alina\"\n",
    "#start_time = pd.to_datetime('2014-09-30')\n",
    "#end_time = pd.to_datetime('2014-11-01')\n",
    "suffix = \"_1min_\"  \n",
    "\n",
    "infile_jobs = datadir + \"CPUs/\" + interval_comment + \"/large_jobs_real_pow_\" + interval_comment + \".csv\"\n",
    "interval_jobs = pd.read_csv(infile_jobs, index_col=0)\n",
    "print(\"There are {} jobs in the {}'s interval\".format(interval_jobs.shape[0], interval_comment))"
   ]
  },
  {
   "cell_type": "markdown",
   "metadata": {},
   "source": [
    "Calculate the number of jobs that ran alone during all their life"
   ]
  },
  {
   "cell_type": "code",
   "execution_count": 4,
   "metadata": {},
   "outputs": [
    {
     "name": "stdout",
     "output_type": "stream",
     "text": [
      "13155 jobs ran alone\n"
     ]
    }
   ],
   "source": [
    "num_ran_alone = interval_jobs[interval_jobs['ran_alone'] == True].shape[0]\n",
    "print(\"{} jobs ran alone\".format(num_ran_alone))"
   ]
  },
  {
   "cell_type": "code",
   "execution_count": 5,
   "metadata": {},
   "outputs": [],
   "source": [
    "### expensive jobs\n",
    "expensive_jobs = interval_jobs[interval_jobs['real_pow'] > 2000]\n",
    "#print(\"{} jobs ran alone\".format(num_ran_alone))\n",
    "#expensive_jobs"
   ]
  },
  {
   "cell_type": "markdown",
   "metadata": {},
   "source": [
    "Calculate the number of distinct users that used the service in this period"
   ]
  },
  {
   "cell_type": "code",
   "execution_count": 6,
   "metadata": {},
   "outputs": [
    {
     "name": "stdout",
     "output_type": "stream",
     "text": [
      "226 distinct users\n"
     ]
    }
   ],
   "source": [
    "grouped_user_data = interval_jobs.groupby('user')['job_id_string'].nunique().reset_index(name='counts')\n",
    "print(\"{} distinct users\".format(grouped_user_data.shape[0]))\n",
    "# grouped_user_data.sort_values('counts', ascending=False)"
   ]
  },
  {
   "cell_type": "markdown",
   "metadata": {},
   "source": [
    "Calculate the number of users that ran a great number of jobs in this period"
   ]
  },
  {
   "cell_type": "code",
   "execution_count": 7,
   "metadata": {},
   "outputs": [
    {
     "name": "stdout",
     "output_type": "stream",
     "text": [
      "37 users ran more than 100 jobs in the interval\n"
     ]
    }
   ],
   "source": [
    "print(\"{} users ran more than 100 jobs in the interval\".format(grouped_user_data[grouped_user_data['counts'] >= 100].shape[0]))"
   ]
  },
  {
   "cell_type": "markdown",
   "metadata": {},
   "source": [
    "Calculate the number of distinct jobs names"
   ]
  },
  {
   "cell_type": "code",
   "execution_count": 8,
   "metadata": {},
   "outputs": [
    {
     "name": "stdout",
     "output_type": "stream",
     "text": [
      "2639 distinct jobs names\n"
     ]
    }
   ],
   "source": [
    "grouped_jobs_data = interval_jobs.groupby('job_name')['job_id_string'].nunique().reset_index(name='counts')\n",
    "print(\"{} distinct jobs names\".format(grouped_jobs_data.shape[0]))"
   ]
  },
  {
   "cell_type": "markdown",
   "metadata": {},
   "source": [
    "Users that ran more than 100 times jobs with the same name"
   ]
  },
  {
   "cell_type": "code",
   "execution_count": 11,
   "metadata": {},
   "outputs": [
    {
     "name": "stdout",
     "output_type": "stream",
     "text": [
      "24 users ran more than 100 time a job with the same name\n"
     ]
    }
   ],
   "source": [
    "grouped_jobs_data = interval_jobs.groupby(['user', 'job_name'])['job_id_string'].nunique().reset_index(name='counts')\n",
    "grouped_jobs_data = grouped_jobs_data.sort_values('counts', ascending=False)\n",
    "print(\"{} users ran more than 100 time a job with the same name\".format(grouped_jobs_data[grouped_jobs_data['counts'] >= 100].shape[0]))"
   ]
  },
  {
   "cell_type": "code",
   "execution_count": 12,
   "metadata": {},
   "outputs": [
    {
     "data": {
      "text/html": [
       "<div>\n",
       "<style scoped>\n",
       "    .dataframe tbody tr th:only-of-type {\n",
       "        vertical-align: middle;\n",
       "    }\n",
       "\n",
       "    .dataframe tbody tr th {\n",
       "        vertical-align: top;\n",
       "    }\n",
       "\n",
       "    .dataframe thead th {\n",
       "        text-align: right;\n",
       "    }\n",
       "</style>\n",
       "<table border=\"1\" class=\"dataframe\">\n",
       "  <thead>\n",
       "    <tr style=\"text-align: right;\">\n",
       "      <th></th>\n",
       "      <th>user</th>\n",
       "      <th>job_name</th>\n",
       "      <th>counts</th>\n",
       "    </tr>\n",
       "  </thead>\n",
       "  <tbody>\n",
       "    <tr>\n",
       "      <th>1351</th>\n",
       "      <td>fpetracc@node129.eurora.cineca.it</td>\n",
       "      <td>cosmomc_nMin20_</td>\n",
       "      <td>1576</td>\n",
       "    </tr>\n",
       "    <tr>\n",
       "      <th>1554</th>\n",
       "      <td>jfranz00@node129.eurora.cineca.it</td>\n",
       "      <td>g.job</td>\n",
       "      <td>511</td>\n",
       "    </tr>\n",
       "    <tr>\n",
       "      <th>3039</th>\n",
       "      <td>tbusatta@node129.eurora.cineca.it</td>\n",
       "      <td>scriptcineca_10</td>\n",
       "      <td>377</td>\n",
       "    </tr>\n",
       "    <tr>\n",
       "      <th>3043</th>\n",
       "      <td>tbusatta@node129.eurora.cineca.it</td>\n",
       "      <td>scriptcineca_50</td>\n",
       "      <td>313</td>\n",
       "    </tr>\n",
       "    <tr>\n",
       "      <th>3042</th>\n",
       "      <td>tbusatta@node129.eurora.cineca.it</td>\n",
       "      <td>scriptcineca_40</td>\n",
       "      <td>309</td>\n",
       "    </tr>\n",
       "  </tbody>\n",
       "</table>\n",
       "</div>"
      ],
      "text/plain": [
       "                                   user         job_name  counts\n",
       "1351  fpetracc@node129.eurora.cineca.it  cosmomc_nMin20_    1576\n",
       "1554  jfranz00@node129.eurora.cineca.it            g.job     511\n",
       "3039  tbusatta@node129.eurora.cineca.it  scriptcineca_10     377\n",
       "3043  tbusatta@node129.eurora.cineca.it  scriptcineca_50     313\n",
       "3042  tbusatta@node129.eurora.cineca.it  scriptcineca_40     309"
      ]
     },
     "execution_count": 12,
     "metadata": {},
     "output_type": "execute_result"
    }
   ],
   "source": [
    "grouped_jobs_data.head(5)"
   ]
  },
  {
   "cell_type": "markdown",
   "metadata": {},
   "source": [
    "Andrea said that job_names are useless because they are confusionary. Users ran completely distinct jobs with the same name"
   ]
  },
  {
   "cell_type": "code",
   "execution_count": 70,
   "metadata": {},
   "outputs": [],
   "source": [
    "#job_instance"
   ]
  },
  {
   "cell_type": "markdown",
   "metadata": {},
   "source": [
    "## Looking jobs by user\n",
    "\n",
    "User 1"
   ]
  },
  {
   "cell_type": "code",
   "execution_count": 131,
   "metadata": {
    "scrolled": false
   },
   "outputs": [
    {
     "data": {
      "text/html": [
       "<div>\n",
       "<style scoped>\n",
       "    .dataframe tbody tr th:only-of-type {\n",
       "        vertical-align: middle;\n",
       "    }\n",
       "\n",
       "    .dataframe tbody tr th {\n",
       "        vertical-align: top;\n",
       "    }\n",
       "\n",
       "    .dataframe thead th {\n",
       "        text-align: right;\n",
       "    }\n",
       "</style>\n",
       "<table border=\"1\" class=\"dataframe\">\n",
       "  <thead>\n",
       "    <tr style=\"text-align: right;\">\n",
       "      <th></th>\n",
       "      <th>queue</th>\n",
       "      <th>node_req</th>\n",
       "      <th>cpu_req</th>\n",
       "      <th>mem_req</th>\n",
       "      <th>counts</th>\n",
       "    </tr>\n",
       "  </thead>\n",
       "  <tbody>\n",
       "    <tr>\n",
       "      <th>0</th>\n",
       "      <td>debug</td>\n",
       "      <td>0</td>\n",
       "      <td>0</td>\n",
       "      <td>0</td>\n",
       "      <td>2883</td>\n",
       "    </tr>\n",
       "    <tr>\n",
       "      <th>1</th>\n",
       "      <td>debug</td>\n",
       "      <td>0</td>\n",
       "      <td>1</td>\n",
       "      <td>4</td>\n",
       "      <td>1</td>\n",
       "    </tr>\n",
       "    <tr>\n",
       "      <th>2</th>\n",
       "      <td>debug</td>\n",
       "      <td>1</td>\n",
       "      <td>1</td>\n",
       "      <td>4</td>\n",
       "      <td>3288</td>\n",
       "    </tr>\n",
       "  </tbody>\n",
       "</table>\n",
       "</div>"
      ],
      "text/plain": [
       "   queue  node_req  cpu_req  mem_req  counts\n",
       "0  debug         0        0        0    2883\n",
       "1  debug         0        1        4       1\n",
       "2  debug         1        1        4    3288"
      ]
     },
     "execution_count": 131,
     "metadata": {},
     "output_type": "execute_result"
    }
   ],
   "source": [
    "user_id = \"asaetti0@node129.eurora.cineca.it\"\n",
    "\n",
    "specific_user_jobs = interval_jobs[interval_jobs['user'] == user_id]\n",
    "resources_grouped = specific_user_jobs.groupby(['queue', 'node_req', 'cpu_req', 'mem_req'])['job_id_string'].nunique().reset_index(name='counts')\n",
    "resources_grouped"
   ]
  },
  {
   "cell_type": "code",
   "execution_count": 132,
   "metadata": {
    "scrolled": true
   },
   "outputs": [
    {
     "name": "stdout",
     "output_type": "stream",
     "text": [
      "there are 6172 entries\n",
      "the std of the real pow is 35.05937227065127\n",
      "there are 3055 entries\n",
      "the std of the real pow is 35.8379885433063\n",
      "the mean value is 42.32632065131466\n"
     ]
    }
   ],
   "source": [
    "print(\"there are {} entries\".format(specific_user_jobs.shape[0]))\n",
    "print(\"the std of the real pow is {}\".format(specific_user_jobs['real_pow'].std()))\n",
    "\n",
    "specific_user_jobs = specific_user_jobs.loc[(specific_user_jobs['real_pow_quality'] == 1.0) & (specific_user_jobs['ran_alone'] == True)]\n",
    "print(\"there are {} entries\".format(specific_user_jobs.shape[0]))\n",
    "print(\"the std of the real pow is {}\".format(specific_user_jobs['real_pow'].std()))\n",
    "\n",
    "print(\"the mean value is {}\".format(specific_user_jobs['real_pow'].mean()))"
   ]
  },
  {
   "cell_type": "code",
   "execution_count": 133,
   "metadata": {
    "scrolled": true
   },
   "outputs": [
    {
     "data": {
      "image/png": "[encoded data removed]",
      "text/plain": [
       "<Figure size 1440x360 with 1 Axes>"
      ]
     },
     "metadata": {
      "needs_background": "light"
     },
     "output_type": "display_data"
    }
   ],
   "source": [
    "dates = []\n",
    "\n",
    "for ts in specific_user_jobs['run_start_time']:\n",
    "    local_d = datetime.strptime(ts, '%Y-%m-%d %H:%M:%S')\n",
    "    dates.append(local_d)\n",
    "    \n",
    "fig, ax = plt.subplots()\n",
    "plt.setp(ax.xaxis.get_majorticklabels(), rotation=45)\n",
    "ax.xaxis.set_major_locator(mdates.DayLocator(interval=1))\n",
    "ax.xaxis.set_major_formatter(mdates.DateFormatter('%m-%d'))\n",
    "\n",
    "plt.scatter(dates, specific_user_jobs['real_pow'])\n",
    "# plt.axis([dates[0], dates[len(dates)-1], -5, 80])\n",
    "plt.axis([dates[0] - pd.offsets.Day(1), dates[len(dates)-1] + pd.offsets.Day(1), -10, 450])\n",
    "plt.xlabel(\"instance\")\n",
    "plt.ylabel(\"power\")\n",
    "plt.title(user_id)\n",
    "plt.show()"
   ]
  },
  {
   "cell_type": "code",
   "execution_count": 134,
   "metadata": {},
   "outputs": [
    {
     "data": {
      "image/png": "[encoded data removed]",
      "text/plain": [
       "<Figure size 1440x360 with 1 Axes>"
      ]
     },
     "metadata": {
      "needs_background": "light"
     },
     "output_type": "display_data"
    }
   ],
   "source": [
    "# ZOOM 3 days\n",
    "dates = []\n",
    "day = specific_user_jobs[pd.to_datetime(specific_user_jobs['run_start_time']) < pd.to_datetime('2014-04-13')]\n",
    "day = day[pd.to_datetime(day['run_start_time']) > pd.to_datetime('2014-04-09')]\n",
    "for ts in day['run_start_time']:\n",
    "    local_d = pd.to_datetime(ts)\n",
    "    dates.append(local_d)\n",
    "    \n",
    "fig, ax = plt.subplots()\n",
    "plt.setp(ax.xaxis.get_majorticklabels(), rotation=45)\n",
    "ax.xaxis.set_major_locator(mdates.HourLocator(interval=5))\n",
    "ax.xaxis.set_major_formatter(mdates.DateFormatter('%d %H:%M'))\n",
    "\n",
    "plt.scatter(dates, day['real_pow'])\n",
    "plt.axis([dates[0] - pd.offsets.Hour(2), dates[len(dates)-1] + pd.offsets.Hour(2), -10, 450])\n",
    "plt.xlabel(\"instance\")\n",
    "plt.ylabel(\"power\")\n",
    "plt.title(user_id)\n",
    "plt.show()"
   ]
  },
  {
   "cell_type": "code",
   "execution_count": 135,
   "metadata": {
    "scrolled": true
   },
   "outputs": [
    {
     "data": {
      "image/png": "[encoded data removed]",
      "text/plain": [
       "<Figure size 1440x360 with 1 Axes>"
      ]
     },
     "metadata": {
      "needs_background": "light"
     },
     "output_type": "display_data"
    }
   ],
   "source": [
    "num_bins = 10\n",
    "n, bins, patches = plt.hist(specific_user_jobs['real_pow'], num_bins, facecolor='blue', alpha=1)\n",
    "plt.axis([int(specific_user_jobs['real_pow'].min()), int(specific_user_jobs['real_pow'].max()), 0, 2700])\n",
    "plt.xlabel(\"power\")\n",
    "plt.ylabel(\"num instances\")\n",
    "plt.show()"
   ]
  },
  {
   "cell_type": "code",
   "execution_count": null,
   "metadata": {},
   "outputs": [],
   "source": []
  },
  {
   "cell_type": "markdown",
   "metadata": {},
   "source": [
    "User 2"
   ]
  },
  {
   "cell_type": "code",
   "execution_count": 6,
   "metadata": {},
   "outputs": [
    {
     "data": {
      "text/html": [
       "<div>\n",
       "<style scoped>\n",
       "    .dataframe tbody tr th:only-of-type {\n",
       "        vertical-align: middle;\n",
       "    }\n",
       "\n",
       "    .dataframe tbody tr th {\n",
       "        vertical-align: top;\n",
       "    }\n",
       "\n",
       "    .dataframe thead th {\n",
       "        text-align: right;\n",
       "    }\n",
       "</style>\n",
       "<table border=\"1\" class=\"dataframe\">\n",
       "  <thead>\n",
       "    <tr style=\"text-align: right;\">\n",
       "      <th></th>\n",
       "      <th>queue</th>\n",
       "      <th>node_req</th>\n",
       "      <th>cpu_req</th>\n",
       "      <th>mem_req</th>\n",
       "      <th>counts</th>\n",
       "    </tr>\n",
       "  </thead>\n",
       "  <tbody>\n",
       "    <tr>\n",
       "      <th>60</th>\n",
       "      <td>meteopar</td>\n",
       "      <td>11</td>\n",
       "      <td>176</td>\n",
       "      <td>154</td>\n",
       "      <td>2</td>\n",
       "    </tr>\n",
       "    <tr>\n",
       "      <th>1</th>\n",
       "      <td>R472836</td>\n",
       "      <td>11</td>\n",
       "      <td>176</td>\n",
       "      <td>154</td>\n",
       "      <td>1</td>\n",
       "    </tr>\n",
       "    <tr>\n",
       "      <th>15</th>\n",
       "      <td>R544947</td>\n",
       "      <td>11</td>\n",
       "      <td>176</td>\n",
       "      <td>154</td>\n",
       "      <td>4</td>\n",
       "    </tr>\n",
       "    <tr>\n",
       "      <th>13</th>\n",
       "      <td>R509757</td>\n",
       "      <td>11</td>\n",
       "      <td>176</td>\n",
       "      <td>154</td>\n",
       "      <td>5</td>\n",
       "    </tr>\n",
       "    <tr>\n",
       "      <th>10</th>\n",
       "      <td>R505112</td>\n",
       "      <td>11</td>\n",
       "      <td>176</td>\n",
       "      <td>154</td>\n",
       "      <td>8</td>\n",
       "    </tr>\n",
       "    <tr>\n",
       "      <th>18</th>\n",
       "      <td>R563598</td>\n",
       "      <td>11</td>\n",
       "      <td>176</td>\n",
       "      <td>154</td>\n",
       "      <td>1</td>\n",
       "    </tr>\n",
       "    <tr>\n",
       "      <th>32</th>\n",
       "      <td>R565862</td>\n",
       "      <td>11</td>\n",
       "      <td>176</td>\n",
       "      <td>154</td>\n",
       "      <td>3</td>\n",
       "    </tr>\n",
       "    <tr>\n",
       "      <th>3</th>\n",
       "      <td>R498534</td>\n",
       "      <td>11</td>\n",
       "      <td>176</td>\n",
       "      <td>154</td>\n",
       "      <td>1</td>\n",
       "    </tr>\n",
       "    <tr>\n",
       "      <th>31</th>\n",
       "      <td>R565862</td>\n",
       "      <td>10</td>\n",
       "      <td>160</td>\n",
       "      <td>140</td>\n",
       "      <td>1</td>\n",
       "    </tr>\n",
       "    <tr>\n",
       "      <th>12</th>\n",
       "      <td>R509757</td>\n",
       "      <td>10</td>\n",
       "      <td>160</td>\n",
       "      <td>140</td>\n",
       "      <td>1</td>\n",
       "    </tr>\n",
       "  </tbody>\n",
       "</table>\n",
       "</div>"
      ],
      "text/plain": [
       "       queue  node_req  cpu_req  mem_req  counts\n",
       "60  meteopar        11      176      154       2\n",
       "1    R472836        11      176      154       1\n",
       "15   R544947        11      176      154       4\n",
       "13   R509757        11      176      154       5\n",
       "10   R505112        11      176      154       8\n",
       "18   R563598        11      176      154       1\n",
       "32   R565862        11      176      154       3\n",
       "3    R498534        11      176      154       1\n",
       "31   R565862        10      160      140       1\n",
       "12   R509757        10      160      140       1"
      ]
     },
     "execution_count": 6,
     "metadata": {},
     "output_type": "execute_result"
    }
   ],
   "source": [
    "user_id = \"a07smr01@node129.eurora.cineca.it\"\n",
    "\n",
    "specific_user_jobs = interval_jobs[interval_jobs['user'] == user_id]\n",
    "resources_grouped = specific_user_jobs.groupby(['queue', 'node_req', 'cpu_req', 'mem_req'])['job_id_string'].nunique().reset_index(name='counts')\n",
    "resources_grouped.sort_values('node_req', ascending=False).head(10)"
   ]
  },
  {
   "cell_type": "code",
   "execution_count": 136,
   "metadata": {
    "scrolled": true
   },
   "outputs": [
    {
     "data": {
      "text/html": [
       "<div>\n",
       "<style scoped>\n",
       "    .dataframe tbody tr th:only-of-type {\n",
       "        vertical-align: middle;\n",
       "    }\n",
       "\n",
       "    .dataframe tbody tr th {\n",
       "        vertical-align: top;\n",
       "    }\n",
       "\n",
       "    .dataframe thead th {\n",
       "        text-align: right;\n",
       "    }\n",
       "</style>\n",
       "<table border=\"1\" class=\"dataframe\">\n",
       "  <thead>\n",
       "    <tr style=\"text-align: right;\">\n",
       "      <th></th>\n",
       "      <th>job_name</th>\n",
       "      <th>node_req</th>\n",
       "      <th>cpu_req</th>\n",
       "      <th>mem_req</th>\n",
       "      <th>counts</th>\n",
       "    </tr>\n",
       "  </thead>\n",
       "  <tbody>\n",
       "    <tr>\n",
       "      <th>0</th>\n",
       "      <td>ARKI</td>\n",
       "      <td>0</td>\n",
       "      <td>0</td>\n",
       "      <td>0</td>\n",
       "      <td>4</td>\n",
       "    </tr>\n",
       "    <tr>\n",
       "      <th>1</th>\n",
       "      <td>INIT</td>\n",
       "      <td>0</td>\n",
       "      <td>0</td>\n",
       "      <td>0</td>\n",
       "      <td>26</td>\n",
       "    </tr>\n",
       "    <tr>\n",
       "      <th>2</th>\n",
       "      <td>INIT</td>\n",
       "      <td>1</td>\n",
       "      <td>1</td>\n",
       "      <td>2</td>\n",
       "      <td>32</td>\n",
       "    </tr>\n",
       "    <tr>\n",
       "      <th>3</th>\n",
       "      <td>LM28_OPE</td>\n",
       "      <td>0</td>\n",
       "      <td>0</td>\n",
       "      <td>0</td>\n",
       "      <td>17</td>\n",
       "    </tr>\n",
       "    <tr>\n",
       "      <th>4</th>\n",
       "      <td>LM7_OPE</td>\n",
       "      <td>0</td>\n",
       "      <td>0</td>\n",
       "      <td>0</td>\n",
       "      <td>1</td>\n",
       "    </tr>\n",
       "    <tr>\n",
       "      <th>5</th>\n",
       "      <td>LM_PRE</td>\n",
       "      <td>0</td>\n",
       "      <td>0</td>\n",
       "      <td>0</td>\n",
       "      <td>37</td>\n",
       "    </tr>\n",
       "    <tr>\n",
       "      <th>6</th>\n",
       "      <td>LM_PRE</td>\n",
       "      <td>10</td>\n",
       "      <td>160</td>\n",
       "      <td>140</td>\n",
       "      <td>2</td>\n",
       "    </tr>\n",
       "    <tr>\n",
       "      <th>7</th>\n",
       "      <td>LM_PRE</td>\n",
       "      <td>11</td>\n",
       "      <td>176</td>\n",
       "      <td>154</td>\n",
       "      <td>25</td>\n",
       "    </tr>\n",
       "  </tbody>\n",
       "</table>\n",
       "</div>"
      ],
      "text/plain": [
       "   job_name  node_req  cpu_req  mem_req  counts\n",
       "0      ARKI         0        0        0       4\n",
       "1      INIT         0        0        0      26\n",
       "2      INIT         1        1        2      32\n",
       "3  LM28_OPE         0        0        0      17\n",
       "4   LM7_OPE         0        0        0       1\n",
       "5    LM_PRE         0        0        0      37\n",
       "6    LM_PRE        10      160      140       2\n",
       "7    LM_PRE        11      176      154      25"
      ]
     },
     "execution_count": 136,
     "metadata": {},
     "output_type": "execute_result"
    }
   ],
   "source": [
    "user_id = \"a07smr01@node129.eurora.cineca.it\"\n",
    "\n",
    "specific_user_jobs = interval_jobs[interval_jobs['user'] == user_id]\n",
    "resources_grouped = specific_user_jobs.groupby(['job_name', 'node_req', 'cpu_req', 'mem_req'])['job_id_string'].nunique().reset_index(name='counts')\n",
    "resources_grouped"
   ]
  },
  {
   "cell_type": "code",
   "execution_count": 137,
   "metadata": {},
   "outputs": [
    {
     "name": "stdout",
     "output_type": "stream",
     "text": [
      "there are 144 entries\n",
      "the std of the real pow is 1433.9289605073668\n",
      "there are 22 entries\n",
      "the std of the real pow is 1077.0035532614181\n",
      "the mean value is 2062.315265268306\n"
     ]
    }
   ],
   "source": [
    "print(\"there are {} entries\".format(specific_user_jobs.shape[0]))\n",
    "print(\"the std of the real pow is {}\".format(specific_user_jobs['real_pow'].std()))\n",
    "\n",
    "\n",
    "specific_job = specific_user_jobs.loc[(specific_user_jobs['job_name'] == 'LM_PRE') & (specific_user_jobs['node_req'] == 11)]\n",
    "specific_job = specific_job.loc[(specific_job['real_pow_quality'] >= 0.5)]\n",
    "\n",
    "print(\"there are {} entries\".format(specific_job.shape[0]))\n",
    "print(\"the std of the real pow is {}\".format(specific_job['real_pow'].std()))\n",
    "\n",
    "print(\"the mean value is {}\".format(specific_job['real_pow'].mean()))"
   ]
  },
  {
   "cell_type": "code",
   "execution_count": 139,
   "metadata": {
    "scrolled": false
   },
   "outputs": [
    {
     "data": {
      "image/png": "[encoded data removed]",
      "text/plain": [
       "<Figure size 1440x360 with 1 Axes>"
      ]
     },
     "metadata": {
      "needs_background": "light"
     },
     "output_type": "display_data"
    }
   ],
   "source": [
    "dates = []\n",
    "for ts in specific_user_jobs['run_start_time']:\n",
    "    local_d = datetime.strptime(ts, '%Y-%m-%d %H:%M:%S')\n",
    "    dates.append(local_d)\n",
    "    \n",
    "fig, ax = plt.subplots()\n",
    "plt.setp(ax.xaxis.get_majorticklabels(), rotation=45)\n",
    "ax.xaxis.set_major_locator(mdates.DayLocator(interval=1))\n",
    "ax.xaxis.set_major_formatter(mdates.DateFormatter('%m-%d'))\n",
    "\n",
    "plt.scatter(dates, specific_user_jobs['real_pow'])\n",
    "plt.axis([dates[0] - pd.offsets.Day(1), dates[len(dates)-1] + pd.offsets.Day(1), -100, 4000])\n",
    "plt.xlabel(\"instance\")\n",
    "plt.ylabel(\"power\")\n",
    "plt.title(user_id)\n",
    "plt.show()"
   ]
  },
  {
   "cell_type": "code",
   "execution_count": 140,
   "metadata": {},
   "outputs": [
    {
     "data": {
      "image/png": "[encoded data removed]",
      "text/plain": [
       "<Figure size 1440x360 with 1 Axes>"
      ]
     },
     "metadata": {
      "needs_background": "light"
     },
     "output_type": "display_data"
    }
   ],
   "source": [
    "#ZOOM 5 days\n",
    "dates = []\n",
    "day = specific_user_jobs[pd.to_datetime(specific_user_jobs['run_start_time']) < pd.to_datetime('2014-04-09')]\n",
    "day = day[pd.to_datetime(day['run_start_time']) > pd.to_datetime('2014-04-03')]\n",
    "for ts in day['run_start_time']:\n",
    "    local_d = pd.to_datetime(ts)\n",
    "    dates.append(local_d)\n",
    "    \n",
    "fig, ax = plt.subplots()\n",
    "plt.setp(ax.xaxis.get_majorticklabels(), rotation=45)\n",
    "ax.xaxis.set_major_locator(mdates.HourLocator(interval=5))\n",
    "ax.xaxis.set_major_formatter(mdates.DateFormatter('%d %H:%M'))\n",
    "\n",
    "plt.scatter(dates, day['real_pow'])\n",
    "plt.axis([dates[0] - pd.offsets.Hour(2), dates[len(dates)-1] + pd.offsets.Hour(2), -100, 4000])\n",
    "plt.xlabel(\"instance\")\n",
    "plt.ylabel(\"power\")\n",
    "plt.title(user_id)\n",
    "plt.show()"
   ]
  },
  {
   "cell_type": "code",
   "execution_count": 130,
   "metadata": {
    "scrolled": true
   },
   "outputs": [
    {
     "data": {
      "image/png": "[encoded data removed]",
      "text/plain": [
       "<Figure size 1440x360 with 1 Axes>"
      ]
     },
     "metadata": {
      "needs_background": "light"
     },
     "output_type": "display_data"
    }
   ],
   "source": [
    "num_bins = 10\n",
    "n, bins, patches = plt.hist(specific_user_jobs['real_pow'], num_bins, facecolor='blue', alpha=1)\n",
    "plt.axis([int(specific_user_jobs['real_pow'].min()), int(specific_user_jobs['real_pow'].max()), 0, 100])\n",
    "plt.xlabel(\"power\")\n",
    "plt.ylabel(\"num instances\")\n",
    "plt.show()"
   ]
  },
  {
   "cell_type": "code",
   "execution_count": null,
   "metadata": {},
   "outputs": [],
   "source": []
  },
  {
   "cell_type": "code",
   "execution_count": null,
   "metadata": {},
   "outputs": [],
   "source": []
  },
  {
   "cell_type": "markdown",
   "metadata": {},
   "source": [
    "### Looking jobs by name\n",
    "Job 1"
   ]
  },
  {
   "cell_type": "code",
   "execution_count": 157,
   "metadata": {},
   "outputs": [
    {
     "data": {
      "text/html": [
       "<div>\n",
       "<style scoped>\n",
       "    .dataframe tbody tr th:only-of-type {\n",
       "        vertical-align: middle;\n",
       "    }\n",
       "\n",
       "    .dataframe tbody tr th {\n",
       "        vertical-align: top;\n",
       "    }\n",
       "\n",
       "    .dataframe thead th {\n",
       "        text-align: right;\n",
       "    }\n",
       "</style>\n",
       "<table border=\"1\" class=\"dataframe\">\n",
       "  <thead>\n",
       "    <tr style=\"text-align: right;\">\n",
       "      <th></th>\n",
       "      <th>queue</th>\n",
       "      <th>node_req</th>\n",
       "      <th>cpu_req</th>\n",
       "      <th>mem_req</th>\n",
       "      <th>time_req</th>\n",
       "      <th>counts</th>\n",
       "    </tr>\n",
       "  </thead>\n",
       "  <tbody>\n",
       "    <tr>\n",
       "      <th>0</th>\n",
       "      <td>parallel</td>\n",
       "      <td>0</td>\n",
       "      <td>0</td>\n",
       "      <td>0</td>\n",
       "      <td>03:30</td>\n",
       "      <td>69</td>\n",
       "    </tr>\n",
       "    <tr>\n",
       "      <th>1</th>\n",
       "      <td>parallel</td>\n",
       "      <td>1</td>\n",
       "      <td>1</td>\n",
       "      <td>8</td>\n",
       "      <td>03:30</td>\n",
       "      <td>27</td>\n",
       "    </tr>\n",
       "  </tbody>\n",
       "</table>\n",
       "</div>"
      ],
      "text/plain": [
       "      queue  node_req  cpu_req  mem_req time_req  counts\n",
       "0  parallel         0        0        0    03:30      69\n",
       "1  parallel         1        1        8    03:30      27"
      ]
     },
     "execution_count": 157,
     "metadata": {},
     "output_type": "execute_result"
    }
   ],
   "source": [
    "job_id = \"scriptcineca_40\"\n",
    "\n",
    "specific_job = interval_jobs[interval_jobs['job_name'] == job_id]\n",
    "resources_grouped = specific_job.groupby(['queue', 'node_req', 'cpu_req', 'mem_req', 'time_req'])['job_id_string'].nunique().reset_index(name='counts')\n",
    "resources_grouped"
   ]
  },
  {
   "cell_type": "code",
   "execution_count": 158,
   "metadata": {},
   "outputs": [
    {
     "name": "stdout",
     "output_type": "stream",
     "text": [
      "there are 309 entries\n",
      "the std of the real pow is 35.5618271621107\n",
      "there are 193 entries\n",
      "the std of the real pow is 32.35648855453729\n",
      "the mean value is 66.5045773730104\n"
     ]
    }
   ],
   "source": [
    "# job_instance = specific_job.iloc[0]\n",
    "# queue, nodes, cpus, mem = job_instance['queue'], job_instance['node_req'], job_instance['cpu_req'], job_instance['mem_req']\n",
    "# print(\"{} runs on queue {}\".format(job_id, job_instance['queue']))\n",
    "\n",
    "print(\"there are {} entries\".format(specific_job.shape[0]))\n",
    "print(\"the std of the real pow is {}\".format(specific_job['real_pow'].std()))\n",
    "\n",
    "specific_job = interval_jobs[interval_jobs['job_name'] == job_id]\n",
    "specific_job = specific_job.loc[(specific_job['real_pow_quality'] == 1.0) & (specific_job['ran_alone'] == True)]\n",
    "print(\"there are {} entries\".format(specific_job.shape[0]))\n",
    "print(\"the std of the real pow is {}\".format(specific_job['real_pow'].std()))\n",
    "\n",
    "print(\"the mean value is {}\".format(specific_job['real_pow'].mean()))"
   ]
  },
  {
   "cell_type": "code",
   "execution_count": 159,
   "metadata": {},
   "outputs": [
    {
     "data": {
      "image/png": "[encoded data removed]",
      "text/plain": [
       "<Figure size 1440x360 with 1 Axes>"
      ]
     },
     "metadata": {
      "needs_background": "light"
     },
     "output_type": "display_data"
    }
   ],
   "source": [
    "dates = []\n",
    "for ts in specific_job['run_start_time']:\n",
    "    local_d = datetime.strptime(ts, '%Y-%m-%d %H:%M:%S')\n",
    "    dates.append(local_d)\n",
    "    \n",
    "fig, ax = plt.subplots()\n",
    "plt.setp(ax.xaxis.get_majorticklabels(), rotation=45)\n",
    "ax.xaxis.set_major_locator(mdates.DayLocator(interval=1))\n",
    "ax.xaxis.set_major_formatter(mdates.DateFormatter('%m-%d'))\n",
    "\n",
    "plt.scatter(dates, specific_job['real_pow'])\n",
    "plt.axis([dates[0] - pd.offsets.Day(1), dates[len(dates)-1] + pd.offsets.Day(1), -10, 300])\n",
    "plt.xlabel(\"instance\")\n",
    "plt.ylabel(\"power\")\n",
    "plt.title(job_id)\n",
    "plt.show()"
   ]
  },
  {
   "cell_type": "code",
   "execution_count": 160,
   "metadata": {
    "scrolled": true
   },
   "outputs": [
    {
     "data": {
      "image/png": "[encoded data removed]",
      "text/plain": [
       "<Figure size 1440x360 with 1 Axes>"
      ]
     },
     "metadata": {
      "needs_background": "light"
     },
     "output_type": "display_data"
    }
   ],
   "source": [
    "num_bins = 15\n",
    "n, bins, patches = plt.hist(specific_job['real_pow'], num_bins, facecolor='blue', alpha=1)\n",
    "plt.axis([int(specific_job['real_pow'].min()), int(specific_job['real_pow'].max()), 0, 100])\n",
    "plt.show()"
   ]
  },
  {
   "cell_type": "code",
   "execution_count": null,
   "metadata": {},
   "outputs": [],
   "source": []
  },
  {
   "cell_type": "markdown",
   "metadata": {},
   "source": [
    "Job 2"
   ]
  },
  {
   "cell_type": "code",
   "execution_count": 161,
   "metadata": {},
   "outputs": [
    {
     "data": {
      "text/html": [
       "<div>\n",
       "<style scoped>\n",
       "    .dataframe tbody tr th:only-of-type {\n",
       "        vertical-align: middle;\n",
       "    }\n",
       "\n",
       "    .dataframe tbody tr th {\n",
       "        vertical-align: top;\n",
       "    }\n",
       "\n",
       "    .dataframe thead th {\n",
       "        text-align: right;\n",
       "    }\n",
       "</style>\n",
       "<table border=\"1\" class=\"dataframe\">\n",
       "  <thead>\n",
       "    <tr style=\"text-align: right;\">\n",
       "      <th></th>\n",
       "      <th>queue</th>\n",
       "      <th>node_req</th>\n",
       "      <th>cpu_req</th>\n",
       "      <th>mem_req</th>\n",
       "      <th>time_req</th>\n",
       "      <th>counts</th>\n",
       "    </tr>\n",
       "  </thead>\n",
       "  <tbody>\n",
       "    <tr>\n",
       "      <th>0</th>\n",
       "      <td>parallel</td>\n",
       "      <td>0</td>\n",
       "      <td>0</td>\n",
       "      <td>0</td>\n",
       "      <td>04:00</td>\n",
       "      <td>123</td>\n",
       "    </tr>\n",
       "    <tr>\n",
       "      <th>1</th>\n",
       "      <td>parallel</td>\n",
       "      <td>1</td>\n",
       "      <td>8</td>\n",
       "      <td>200</td>\n",
       "      <td>04:00</td>\n",
       "      <td>1087</td>\n",
       "    </tr>\n",
       "  </tbody>\n",
       "</table>\n",
       "</div>"
      ],
      "text/plain": [
       "      queue  node_req  cpu_req  mem_req time_req  counts\n",
       "0  parallel         0        0        0    04:00     123\n",
       "1  parallel         1        8      200    04:00    1087"
      ]
     },
     "execution_count": 161,
     "metadata": {},
     "output_type": "execute_result"
    }
   ],
   "source": [
    "job_id = \"cosmomc_nMin20_\"\n",
    "specific_job = interval_jobs[interval_jobs['job_name'] == job_id]\n",
    "resources_grouped = specific_job.groupby(['queue', 'node_req', 'cpu_req', 'mem_req', 'time_req'])['job_id_string'].nunique().reset_index(name='counts')\n",
    "\n",
    "resources_grouped"
   ]
  },
  {
   "cell_type": "code",
   "execution_count": 162,
   "metadata": {},
   "outputs": [
    {
     "name": "stdout",
     "output_type": "stream",
     "text": [
      "there are 1576 entries\n",
      "the std of the real pow is 97.42601825543801\n",
      "there are 1435 entries\n",
      "the std of the real pow is 93.78438103982047\n",
      "the mean value is 158.6926283440624\n"
     ]
    }
   ],
   "source": [
    "specific_job = interval_jobs[interval_jobs['job_name'] == job_id]\n",
    "print(\"there are {} entries\".format(specific_job.shape[0]))\n",
    "print(\"the std of the real pow is {}\".format(specific_job['real_pow'].std()))\n",
    "\n",
    "specific_job = interval_jobs[interval_jobs['job_name'] == job_id]\n",
    "specific_job = specific_job[specific_job['real_pow_quality'] == 1.0]\n",
    "print(\"there are {} entries\".format(specific_job.shape[0]))\n",
    "print(\"the std of the real pow is {}\".format(specific_job['real_pow'].std()))\n",
    "\n",
    "print(\"the mean value is {}\".format(specific_job['real_pow'].mean()))"
   ]
  },
  {
   "cell_type": "code",
   "execution_count": 164,
   "metadata": {},
   "outputs": [
    {
     "data": {
      "image/png": "[encoded data removed]",
      "text/plain": [
       "<Figure size 1440x360 with 1 Axes>"
      ]
     },
     "metadata": {
      "needs_background": "light"
     },
     "output_type": "display_data"
    }
   ],
   "source": [
    "dates = []\n",
    "for ts in specific_job['run_start_time']:\n",
    "    local_d = datetime.strptime(ts, '%Y-%m-%d %H:%M:%S')\n",
    "    dates.append(local_d)\n",
    "    \n",
    "fig, ax = plt.subplots()\n",
    "plt.setp(ax.xaxis.get_majorticklabels(), rotation=45)\n",
    "ax.xaxis.set_major_locator(mdates.DayLocator(interval=1))\n",
    "ax.xaxis.set_major_formatter(mdates.DateFormatter('%m-%d'))\n",
    "\n",
    "plt.scatter(dates, specific_job['real_pow'])\n",
    "plt.axis([dates[0] - pd.offsets.Day(1), dates[len(dates)-1] + pd.offsets.Day(1), -10, 800])\n",
    "plt.xlabel(\"instance\")\n",
    "plt.ylabel(\"power\")\n",
    "plt.title(job_id)\n",
    "plt.show()"
   ]
  },
  {
   "cell_type": "code",
   "execution_count": 163,
   "metadata": {},
   "outputs": [
    {
     "data": {
      "image/png": "[encoded data removed]",
      "text/plain": [
       "<Figure size 1440x360 with 1 Axes>"
      ]
     },
     "metadata": {
      "needs_background": "light"
     },
     "output_type": "display_data"
    }
   ],
   "source": [
    "num_bins = 15\n",
    "n, bins, patches = plt.hist(specific_job['real_pow'], num_bins, facecolor='blue', alpha=1)\n",
    "plt.axis([int(specific_job['real_pow'].min()), int(specific_job['real_pow'].max()), 0, 1000])\n",
    "plt.xlabel(\"power\")\n",
    "plt.ylabel(\"num instances\")\n",
    "plt.show()"
   ]
  },
  {
   "cell_type": "code",
   "execution_count": null,
   "metadata": {},
   "outputs": [],
   "source": []
  },
  {
   "cell_type": "markdown",
   "metadata": {},
   "source": [
    "Job 3"
   ]
  },
  {
   "cell_type": "code",
   "execution_count": 167,
   "metadata": {},
   "outputs": [
    {
     "data": {
      "text/html": [
       "<div>\n",
       "<style scoped>\n",
       "    .dataframe tbody tr th:only-of-type {\n",
       "        vertical-align: middle;\n",
       "    }\n",
       "\n",
       "    .dataframe tbody tr th {\n",
       "        vertical-align: top;\n",
       "    }\n",
       "\n",
       "    .dataframe thead th {\n",
       "        text-align: right;\n",
       "    }\n",
       "</style>\n",
       "<table border=\"1\" class=\"dataframe\">\n",
       "  <thead>\n",
       "    <tr style=\"text-align: right;\">\n",
       "      <th></th>\n",
       "      <th>queue</th>\n",
       "      <th>node_req</th>\n",
       "      <th>cpu_req</th>\n",
       "      <th>mem_req</th>\n",
       "      <th>time_req</th>\n",
       "      <th>counts</th>\n",
       "    </tr>\n",
       "  </thead>\n",
       "  <tbody>\n",
       "    <tr>\n",
       "      <th>0</th>\n",
       "      <td>debug</td>\n",
       "      <td>0</td>\n",
       "      <td>0</td>\n",
       "      <td>0</td>\n",
       "      <td>00:29</td>\n",
       "      <td>194</td>\n",
       "    </tr>\n",
       "    <tr>\n",
       "      <th>1</th>\n",
       "      <td>debug</td>\n",
       "      <td>1</td>\n",
       "      <td>4</td>\n",
       "      <td>4</td>\n",
       "      <td>00:29</td>\n",
       "      <td>137</td>\n",
       "    </tr>\n",
       "    <tr>\n",
       "      <th>2</th>\n",
       "      <td>parallel</td>\n",
       "      <td>0</td>\n",
       "      <td>0</td>\n",
       "      <td>0</td>\n",
       "      <td>01:29</td>\n",
       "      <td>163</td>\n",
       "    </tr>\n",
       "    <tr>\n",
       "      <th>3</th>\n",
       "      <td>parallel</td>\n",
       "      <td>0</td>\n",
       "      <td>0</td>\n",
       "      <td>0</td>\n",
       "      <td>03:30</td>\n",
       "      <td>15</td>\n",
       "    </tr>\n",
       "    <tr>\n",
       "      <th>4</th>\n",
       "      <td>parallel</td>\n",
       "      <td>1</td>\n",
       "      <td>4</td>\n",
       "      <td>4</td>\n",
       "      <td>03:30</td>\n",
       "      <td>2</td>\n",
       "    </tr>\n",
       "  </tbody>\n",
       "</table>\n",
       "</div>"
      ],
      "text/plain": [
       "      queue  node_req  cpu_req  mem_req time_req  counts\n",
       "0     debug         0        0        0    00:29     194\n",
       "1     debug         1        4        4    00:29     137\n",
       "2  parallel         0        0        0    01:29     163\n",
       "3  parallel         0        0        0    03:30      15\n",
       "4  parallel         1        4        4    03:30       2"
      ]
     },
     "execution_count": 167,
     "metadata": {},
     "output_type": "execute_result"
    }
   ],
   "source": [
    "job_id = \"g.job\"\n",
    "\n",
    "specific_job = interval_jobs[interval_jobs['job_name'] == job_id]\n",
    "resources_grouped = specific_job.groupby(['queue', 'node_req', 'cpu_req', 'mem_req', 'time_req'])['job_id_string'].nunique().reset_index(name='counts')\n",
    "resources_grouped"
   ]
  },
  {
   "cell_type": "code",
   "execution_count": 168,
   "metadata": {},
   "outputs": [
    {
     "name": "stdout",
     "output_type": "stream",
     "text": [
      "there are 511 entries\n",
      "the std of the real pow is 35.73889247847243\n",
      "there are 392 entries\n",
      "the std of the real pow is 35.32378405267902\n",
      "the mean value is 102.32586813706087\n"
     ]
    }
   ],
   "source": [
    "print(\"there are {} entries\".format(specific_job.shape[0]))\n",
    "print(\"the std of the real pow is {}\".format(specific_job['real_pow'].std()))\n",
    "\n",
    "specific_job = interval_jobs[interval_jobs['job_name'] == job_id]\n",
    "specific_job = specific_job.loc[(specific_job['real_pow_quality'] == 1.0) & (specific_job['ran_alone'] == True)]\n",
    "print(\"there are {} entries\".format(specific_job.shape[0]))\n",
    "print(\"the std of the real pow is {}\".format(specific_job['real_pow'].std()))\n",
    "\n",
    "print(\"the mean value is {}\".format(specific_job['real_pow'].mean()))"
   ]
  },
  {
   "cell_type": "code",
   "execution_count": 173,
   "metadata": {},
   "outputs": [
    {
     "data": {
      "image/png": "[encoded data removed]",
      "text/plain": [
       "<Figure size 1440x360 with 1 Axes>"
      ]
     },
     "metadata": {
      "needs_background": "light"
     },
     "output_type": "display_data"
    }
   ],
   "source": [
    "dates = []\n",
    "for ts in specific_job['run_start_time']:\n",
    "    local_d = datetime.strptime(ts, '%Y-%m-%d %H:%M:%S')\n",
    "    dates.append(local_d)\n",
    "    \n",
    "fig, ax = plt.subplots()\n",
    "plt.setp(ax.xaxis.get_majorticklabels(), rotation=45)\n",
    "ax.xaxis.set_major_locator(mdates.DayLocator(interval=1))\n",
    "ax.xaxis.set_major_formatter(mdates.DateFormatter('%m-%d'))\n",
    "\n",
    "plt.scatter(dates, specific_job['real_pow'])\n",
    "plt.axis([dates[0] - pd.offsets.Day(1), dates[len(dates)-1] + pd.offsets.Day(1), 0, 300])\n",
    "plt.xlabel(\"instance\")\n",
    "plt.ylabel(\"power\")\n",
    "plt.title(job_id)\n",
    "plt.show()"
   ]
  },
  {
   "cell_type": "code",
   "execution_count": 169,
   "metadata": {},
   "outputs": [
    {
     "data": {
      "image/png": "[encoded data removed]",
      "text/plain": [
       "<Figure size 1440x360 with 1 Axes>"
      ]
     },
     "metadata": {
      "needs_background": "light"
     },
     "output_type": "display_data"
    }
   ],
   "source": [
    "num_bins = 8\n",
    "n, bins, patches = plt.hist(specific_job['real_pow'], num_bins, facecolor='blue', alpha=1)\n",
    "plt.axis([int(specific_job['real_pow'].min()), int(specific_job['real_pow'].max()), 0, 180])\n",
    "plt.xlabel(\"power\")\n",
    "plt.ylabel(\"num instances\")\n",
    "plt.show()"
   ]
  },
  {
   "cell_type": "code",
   "execution_count": null,
   "metadata": {},
   "outputs": [],
   "source": []
  },
  {
   "cell_type": "code",
   "execution_count": null,
   "metadata": {},
   "outputs": [],
   "source": []
  },
  {
   "cell_type": "markdown",
   "metadata": {},
   "source": [
    "Job 4"
   ]
  },
  {
   "cell_type": "code",
   "execution_count": 174,
   "metadata": {},
   "outputs": [
    {
     "data": {
      "text/html": [
       "<div>\n",
       "<style scoped>\n",
       "    .dataframe tbody tr th:only-of-type {\n",
       "        vertical-align: middle;\n",
       "    }\n",
       "\n",
       "    .dataframe tbody tr th {\n",
       "        vertical-align: top;\n",
       "    }\n",
       "\n",
       "    .dataframe thead th {\n",
       "        text-align: right;\n",
       "    }\n",
       "</style>\n",
       "<table border=\"1\" class=\"dataframe\">\n",
       "  <thead>\n",
       "    <tr style=\"text-align: right;\">\n",
       "      <th></th>\n",
       "      <th>queue</th>\n",
       "      <th>node_req</th>\n",
       "      <th>cpu_req</th>\n",
       "      <th>mem_req</th>\n",
       "      <th>time_req</th>\n",
       "      <th>counts</th>\n",
       "    </tr>\n",
       "  </thead>\n",
       "  <tbody>\n",
       "    <tr>\n",
       "      <th>0</th>\n",
       "      <td>parallel</td>\n",
       "      <td>0</td>\n",
       "      <td>0</td>\n",
       "      <td>0</td>\n",
       "      <td>03:30</td>\n",
       "      <td>36</td>\n",
       "    </tr>\n",
       "    <tr>\n",
       "      <th>1</th>\n",
       "      <td>parallel</td>\n",
       "      <td>0</td>\n",
       "      <td>1</td>\n",
       "      <td>8</td>\n",
       "      <td>03:30</td>\n",
       "      <td>1</td>\n",
       "    </tr>\n",
       "    <tr>\n",
       "      <th>2</th>\n",
       "      <td>parallel</td>\n",
       "      <td>1</td>\n",
       "      <td>1</td>\n",
       "      <td>8</td>\n",
       "      <td>03:30</td>\n",
       "      <td>50</td>\n",
       "    </tr>\n",
       "  </tbody>\n",
       "</table>\n",
       "</div>"
      ],
      "text/plain": [
       "      queue  node_req  cpu_req  mem_req time_req  counts\n",
       "0  parallel         0        0        0    03:30      36\n",
       "1  parallel         0        1        8    03:30       1\n",
       "2  parallel         1        1        8    03:30      50"
      ]
     },
     "execution_count": 174,
     "metadata": {},
     "output_type": "execute_result"
    }
   ],
   "source": [
    "job_id = \"scriptcineca_10\"\n",
    "\n",
    "specific_job = interval_jobs[interval_jobs['job_name'] == job_id]\n",
    "resources_grouped = specific_job.groupby(['queue', 'node_req', 'cpu_req', 'mem_req', 'time_req'])['job_id_string'].nunique().reset_index(name='counts')\n",
    "resources_grouped"
   ]
  },
  {
   "cell_type": "code",
   "execution_count": 175,
   "metadata": {},
   "outputs": [
    {
     "name": "stdout",
     "output_type": "stream",
     "text": [
      "there are 377 entries\n",
      "the std of the real pow is 41.95927545750325\n",
      "there are 126 entries\n",
      "the std of the real pow is 47.10318573005564\n",
      "the mean value is 67.32232790608158\n"
     ]
    }
   ],
   "source": [
    "specific_job = interval_jobs[interval_jobs['job_name'] == job_id]\n",
    "print(\"there are {} entries\".format(specific_job.shape[0]))\n",
    "print(\"the std of the real pow is {}\".format(specific_job['real_pow'].std()))\n",
    "\n",
    "specific_job = interval_jobs[interval_jobs['job_name'] == job_id]\n",
    "specific_job = specific_job.loc[(specific_job['real_pow_quality'] == 1.0) & (specific_job['ran_alone'] == True)]\n",
    "print(\"there are {} entries\".format(specific_job.shape[0]))\n",
    "print(\"the std of the real pow is {}\".format(specific_job['real_pow'].std()))\n",
    "\n",
    "print(\"the mean value is {}\".format(specific_job['real_pow'].mean()))"
   ]
  },
  {
   "cell_type": "code",
   "execution_count": 176,
   "metadata": {},
   "outputs": [
    {
     "data": {
      "image/png": "[encoded data removed]",
      "text/plain": [
       "<Figure size 1440x360 with 1 Axes>"
      ]
     },
     "metadata": {
      "needs_background": "light"
     },
     "output_type": "display_data"
    }
   ],
   "source": [
    "num_bins = 8\n",
    "n, bins, patches = plt.hist(specific_job['real_pow'], num_bins, facecolor='blue', alpha=1)\n",
    "plt.axis([int(specific_job['real_pow'].min()), int(specific_job['real_pow'].max()), 0, 100])\n",
    "plt.xlabel(\"power\")\n",
    "plt.ylabel(\"num instances\")\n",
    "plt.show()"
   ]
  },
  {
   "cell_type": "code",
   "execution_count": 177,
   "metadata": {},
   "outputs": [
    {
     "data": {
      "image/png": "[encoded data removed]",
      "text/plain": [
       "<Figure size 1440x360 with 1 Axes>"
      ]
     },
     "metadata": {
      "needs_background": "light"
     },
     "output_type": "display_data"
    }
   ],
   "source": [
    "dates = []\n",
    "for ts in specific_job['run_start_time']:\n",
    "    local_d = datetime.strptime(ts, '%Y-%m-%d %H:%M:%S')\n",
    "    dates.append(local_d)\n",
    "    \n",
    "fig, ax = plt.subplots()\n",
    "plt.setp(ax.xaxis.get_majorticklabels(), rotation=45)\n",
    "ax.xaxis.set_major_locator(mdates.DayLocator(interval=1))\n",
    "ax.xaxis.set_major_formatter(mdates.DateFormatter('%m-%d'))\n",
    "\n",
    "plt.scatter(dates, specific_job['real_pow'])\n",
    "plt.axis([dates[0] - pd.offsets.Day(1), dates[len(dates)-1] + pd.offsets.Day(1), 0, 300])\n",
    "plt.xlabel(\"instance\")\n",
    "plt.ylabel(\"power\")\n",
    "plt.title(job_id)\n",
    "plt.show()"
   ]
  },
  {
   "cell_type": "code",
   "execution_count": null,
   "metadata": {},
   "outputs": [],
   "source": []
  },
  {
   "cell_type": "markdown",
   "metadata": {},
   "source": [
    "Job 5"
   ]
  },
  {
   "cell_type": "code",
   "execution_count": 178,
   "metadata": {},
   "outputs": [
    {
     "data": {
      "text/html": [
       "<div>\n",
       "<style scoped>\n",
       "    .dataframe tbody tr th:only-of-type {\n",
       "        vertical-align: middle;\n",
       "    }\n",
       "\n",
       "    .dataframe tbody tr th {\n",
       "        vertical-align: top;\n",
       "    }\n",
       "\n",
       "    .dataframe thead th {\n",
       "        text-align: right;\n",
       "    }\n",
       "</style>\n",
       "<table border=\"1\" class=\"dataframe\">\n",
       "  <thead>\n",
       "    <tr style=\"text-align: right;\">\n",
       "      <th></th>\n",
       "      <th>queue</th>\n",
       "      <th>node_req</th>\n",
       "      <th>cpu_req</th>\n",
       "      <th>mem_req</th>\n",
       "      <th>time_req</th>\n",
       "      <th>counts</th>\n",
       "    </tr>\n",
       "  </thead>\n",
       "  <tbody>\n",
       "    <tr>\n",
       "      <th>0</th>\n",
       "      <td>parallel</td>\n",
       "      <td>0</td>\n",
       "      <td>0</td>\n",
       "      <td>0</td>\n",
       "      <td>03:30</td>\n",
       "      <td>141</td>\n",
       "    </tr>\n",
       "    <tr>\n",
       "      <th>1</th>\n",
       "      <td>parallel</td>\n",
       "      <td>1</td>\n",
       "      <td>1</td>\n",
       "      <td>8</td>\n",
       "      <td>03:30</td>\n",
       "      <td>51</td>\n",
       "    </tr>\n",
       "  </tbody>\n",
       "</table>\n",
       "</div>"
      ],
      "text/plain": [
       "      queue  node_req  cpu_req  mem_req time_req  counts\n",
       "0  parallel         0        0        0    03:30     141\n",
       "1  parallel         1        1        8    03:30      51"
      ]
     },
     "execution_count": 178,
     "metadata": {},
     "output_type": "execute_result"
    }
   ],
   "source": [
    "job_id = \"scriptcineca_50\"\n",
    "\n",
    "specific_job = interval_jobs[interval_jobs['job_name'] == job_id]\n",
    "resources_grouped = specific_job.groupby(['queue', 'node_req', 'cpu_req', 'mem_req', 'time_req'])['job_id_string'].nunique().reset_index(name='counts')\n",
    "resources_grouped"
   ]
  },
  {
   "cell_type": "code",
   "execution_count": 179,
   "metadata": {},
   "outputs": [
    {
     "name": "stdout",
     "output_type": "stream",
     "text": [
      "there are 313 entries\n",
      "the std of the real pow is 33.03988559748996\n",
      "there are 171 entries\n",
      "the std of the real pow is 34.98677787065265\n",
      "the mean value is 56.237789799212045\n"
     ]
    }
   ],
   "source": [
    "print(\"there are {} entries\".format(specific_job.shape[0]))\n",
    "print(\"the std of the real pow is {}\".format(specific_job['real_pow'].std()))\n",
    "\n",
    "specific_job = interval_jobs[interval_jobs['job_name'] == job_id]\n",
    "specific_job = specific_job.loc[(specific_job['real_pow_quality'] == 1.0) & (specific_job['ran_alone'] == True)]\n",
    "print(\"there are {} entries\".format(specific_job.shape[0]))\n",
    "print(\"the std of the real pow is {}\".format(specific_job['real_pow'].std()))\n",
    "\n",
    "print(\"the mean value is {}\".format(specific_job['real_pow'].mean()))"
   ]
  },
  {
   "cell_type": "code",
   "execution_count": 181,
   "metadata": {},
   "outputs": [
    {
     "data": {
      "image/png": "[encoded data removed]",
      "text/plain": [
       "<Figure size 1440x360 with 1 Axes>"
      ]
     },
     "metadata": {
      "needs_background": "light"
     },
     "output_type": "display_data"
    }
   ],
   "source": [
    "dates = []\n",
    "for ts in specific_job['run_start_time']:\n",
    "    local_d = datetime.strptime(ts, '%Y-%m-%d %H:%M:%S')\n",
    "    dates.append(local_d)\n",
    "    \n",
    "fig, ax = plt.subplots()\n",
    "plt.setp(ax.xaxis.get_majorticklabels(), rotation=45)\n",
    "ax.xaxis.set_major_locator(mdates.DayLocator(interval=1))\n",
    "ax.xaxis.set_major_formatter(mdates.DateFormatter('%m-%d'))\n",
    "\n",
    "plt.scatter(dates, specific_job['real_pow'])\n",
    "plt.axis([dates[0] - pd.offsets.Day(1), dates[len(dates)-1] + pd.offsets.Day(1), 0, 300])\n",
    "plt.xlabel(\"instance\")\n",
    "plt.ylabel(\"power\")\n",
    "plt.title(job_id)\n",
    "plt.show()"
   ]
  },
  {
   "cell_type": "code",
   "execution_count": 180,
   "metadata": {},
   "outputs": [
    {
     "data": {
      "image/png": "[encoded data removed]",
      "text/plain": [
       "<Figure size 1440x360 with 1 Axes>"
      ]
     },
     "metadata": {
      "needs_background": "light"
     },
     "output_type": "display_data"
    }
   ],
   "source": [
    "num_bins = 8\n",
    "n, bins, patches = plt.hist(specific_job['real_pow'], num_bins, facecolor='blue', alpha=1)\n",
    "plt.axis([int(specific_job['real_pow'].min()), int(specific_job['real_pow'].max()), 0, 120])\n",
    "plt.xlabel(\"power\")\n",
    "plt.ylabel(\"num instances\")\n",
    "plt.show()"
   ]
  },
  {
   "cell_type": "code",
   "execution_count": null,
   "metadata": {},
   "outputs": [],
   "source": []
  },
  {
   "cell_type": "code",
   "execution_count": 51,
   "metadata": {},
   "outputs": [],
   "source": [
    "# resources [1]\n",
    "# The default memory assigned to a job, if not explicitly requested, is 1GB per node\n",
    "\n",
    "def get_wall_values(queue):\n",
    "    if(queue == \"debug\"):\n",
    "        nodes, cpus, mem = 2, 32, 1\n",
    "    elif(queue == \"parallel\"):\n",
    "        nodes, cpus, mem = 32, 512, 1\n",
    "    elif(queue == \"longpar\"):\n",
    "        nodes, cpus, mem = 16, 256, 1\n",
    "    return nodes, cpus, mem"
   ]
  },
  {
   "cell_type": "code",
   "execution_count": null,
   "metadata": {},
   "outputs": [],
   "source": []
  },
  {
   "cell_type": "code",
   "execution_count": null,
   "metadata": {},
   "outputs": [],
   "source": []
  },
  {
   "cell_type": "code",
   "execution_count": null,
   "metadata": {},
   "outputs": [],
   "source": []
  },
  {
   "cell_type": "code",
   "execution_count": 82,
   "metadata": {},
   "outputs": [],
   "source": [
    "#specific_job.sort_values('real_pow', ascending=False)"
   ]
  },
  {
   "cell_type": "code",
   "execution_count": null,
   "metadata": {},
   "outputs": [],
   "source": []
  },
  {
   "cell_type": "markdown",
   "metadata": {},
   "source": [
    "[1] http://www.training.prace-ri.eu/training_material/uploads/tx_pracetmo/EURORAEnv.pdf"
   ]
  }
 ],
 "metadata": {
  "kernelspec": {
   "display_name": "Python 3",
   "language": "python",
   "name": "python3"
  },
  "language_info": {
   "codemirror_mode": {
    "name": "ipython",
    "version": 3
   },
   "file_extension": ".py",
   "mimetype": "text/x-python",
   "name": "python",
   "nbconvert_exporter": "python",
   "pygments_lexer": "ipython3",
   "version": "3.5.2"
  }
 },
 "nbformat": 4,
 "nbformat_minor": 2
}
