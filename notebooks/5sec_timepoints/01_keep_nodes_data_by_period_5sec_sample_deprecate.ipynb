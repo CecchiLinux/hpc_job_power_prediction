{
 "cells": [
  {
   "cell_type": "code",
   "execution_count": 4,
   "metadata": {},
   "outputs": [
    {
     "name": "stdout",
     "output_type": "stream",
     "text": [
      "there are 7158716 jobs in the whole dataset\n"
     ]
    }
   ],
   "source": [
    "#!/usr/bin/env python3\n",
    "\n",
    "import pandas as pd\n",
    "import errno\n",
    "import os, sys\n",
    "import numpy as np\n",
    "\n",
    "'''\n",
    "Author: Enrico Ceccolini\n",
    "    Given the raw data of Eurora (CORE_MEASUREMENT_FULL)\n",
    "    and a time interval, it returns only the measurements\n",
    "    of that period, sampled at 1 minute intervals\n",
    "'''\n",
    "\n",
    "\n",
    "datadir = \"/datasets/eurora_data/db/\"\n",
    "\n",
    "# settings\n",
    "global_start_time = pd.to_datetime('2014-03-24')\n",
    "global_end_time = pd.to_datetime('2015-08-12')\n",
    "\n",
    "#interval_comment = \"Andrea\"\n",
    "#start_time = pd.to_datetime('2014-03-31')\n",
    "#end_time = pd.to_datetime('2014-05-01')\n",
    "\n",
    "node = '01'\n",
    "infile = datadir + \"CPUs/cpu\" + node + \".csv\"\n",
    "\n",
    "# read dataset\n",
    "whole_node_power_data = pd.read_csv(infile) # Read a comma-separated values (csv) file into DataFrame\n",
    "print(\"there are {} jobs in the whole dataset\".format(whole_node_power_data.shape[0]))"
   ]
  },
  {
   "cell_type": "code",
   "execution_count": 5,
   "metadata": {},
   "outputs": [
    {
     "data": {
      "text/html": [
       "<div>\n",
       "<style scoped>\n",
       "    .dataframe tbody tr th:only-of-type {\n",
       "        vertical-align: middle;\n",
       "    }\n",
       "\n",
       "    .dataframe tbody tr th {\n",
       "        vertical-align: top;\n",
       "    }\n",
       "\n",
       "    .dataframe thead th {\n",
       "        text-align: right;\n",
       "    }\n",
       "</style>\n",
       "<table border=\"1\" class=\"dataframe\">\n",
       "  <thead>\n",
       "    <tr style=\"text-align: right;\">\n",
       "      <th></th>\n",
       "      <th>01</th>\n",
       "      <th>cpu_id</th>\n",
       "      <th>timestamp</th>\n",
       "      <th>pow_cpu</th>\n",
       "      <th>pow_dram</th>\n",
       "      <th>pow_pkg</th>\n",
       "    </tr>\n",
       "  </thead>\n",
       "  <tbody>\n",
       "    <tr>\n",
       "      <th>0</th>\n",
       "      <td>1</td>\n",
       "      <td>0</td>\n",
       "      <td>2014-03-24 13:56:30</td>\n",
       "      <td>2.016754</td>\n",
       "      <td>2.139374</td>\n",
       "      <td>17.738455</td>\n",
       "    </tr>\n",
       "  </tbody>\n",
       "</table>\n",
       "</div>"
      ],
      "text/plain": [
       "   01  cpu_id            timestamp   pow_cpu  pow_dram    pow_pkg\n",
       "0   1       0  2014-03-24 13:56:30  2.016754  2.139374  17.738455"
      ]
     },
     "execution_count": 5,
     "metadata": {},
     "output_type": "execute_result"
    }
   ],
   "source": [
    "whole_node_power_data.head(1)"
   ]
  },
  {
   "cell_type": "code",
   "execution_count": 6,
   "metadata": {},
   "outputs": [],
   "source": [
    "whole_node_power_data = whole_node_power_data.drop([str(node)], axis=1)"
   ]
  },
  {
   "cell_type": "code",
   "execution_count": 7,
   "metadata": {},
   "outputs": [],
   "source": [
    "# drop useless columns\n",
    "# whole_node_power_data = whole_node_power_data.drop(['01'], axis=1)"
   ]
  },
  {
   "cell_type": "markdown",
   "metadata": {},
   "source": [
    "I notice that there are duplicated rows (same timestamp and cpu_id, quite strange)."
   ]
  },
  {
   "cell_type": "code",
   "execution_count": 8,
   "metadata": {},
   "outputs": [
    {
     "name": "stdout",
     "output_type": "stream",
     "text": [
      "data rows after drop_duplicates 7057475\n"
     ]
    }
   ],
   "source": [
    "# drop the duplicates rows (same timestamp, cpu_id, ...)\n",
    "whole_node_power_data = whole_node_power_data.drop_duplicates()\n",
    "print(\"data rows after drop_duplicates {}\".format(whole_node_power_data.shape[0]))"
   ]
  },
  {
   "cell_type": "markdown",
   "metadata": {},
   "source": [
    "drop the rows before the selected started time"
   ]
  },
  {
   "cell_type": "code",
   "execution_count": 9,
   "metadata": {},
   "outputs": [],
   "source": [
    "# select data in the specified interval\n",
    "#interval_data = whole_node_power_data[pd.to_datetime(whole_node_power_data['timestamp']) >= start_time]\n",
    "#interval_data = interval_data[pd.to_datetime(interval_data['timestamp']) <= end_time]\n",
    "#print(\"data row from {} to {}: {}\".format(start_time, end_time, interval_data.shape[0]))"
   ]
  },
  {
   "cell_type": "code",
   "execution_count": 34,
   "metadata": {},
   "outputs": [
    {
     "name": "stdout",
     "output_type": "stream",
     "text": [
      "01\n",
      "data rows (7158716, 6)\n",
      "data rows after drop_duplicates 7057475\n"
     ]
    }
   ],
   "source": [
    "print(node)\n",
    "infile = datadir + \"CPUs/cpu\" + node + \".csv\"\n",
    "\n",
    "# read dataset\n",
    "whole_node_power_data = pd.read_csv(infile) # Read a comma-separated values (csv) file into DataFrame\n",
    "print(\"data rows {}\".format(whole_node_power_data.shape))\n",
    "\n",
    "# drop useless columns\n",
    "whole_node_power_data = whole_node_power_data.drop([str(node)], axis=1)\n",
    "\n",
    "# drop the duplicates rows (same timestamp, cpu_id, ...)\n",
    "whole_node_power_data = whole_node_power_data.drop_duplicates() \n",
    "print(\"data rows after drop_duplicates {}\".format(whole_node_power_data.shape[0]))"
   ]
  },
  {
   "cell_type": "code",
   "execution_count": 35,
   "metadata": {},
   "outputs": [
    {
     "data": {
      "text/html": [
       "<div>\n",
       "<style scoped>\n",
       "    .dataframe tbody tr th:only-of-type {\n",
       "        vertical-align: middle;\n",
       "    }\n",
       "\n",
       "    .dataframe tbody tr th {\n",
       "        vertical-align: top;\n",
       "    }\n",
       "\n",
       "    .dataframe thead th {\n",
       "        text-align: right;\n",
       "    }\n",
       "</style>\n",
       "<table border=\"1\" class=\"dataframe\">\n",
       "  <thead>\n",
       "    <tr style=\"text-align: right;\">\n",
       "      <th></th>\n",
       "      <th>cpu_id</th>\n",
       "      <th>timestamp</th>\n",
       "      <th>pow_tot</th>\n",
       "    </tr>\n",
       "  </thead>\n",
       "  <tbody>\n",
       "    <tr>\n",
       "      <th>0</th>\n",
       "      <td>0</td>\n",
       "      <td>2014-03-24 13:56:30</td>\n",
       "      <td>21.894583</td>\n",
       "    </tr>\n",
       "  </tbody>\n",
       "</table>\n",
       "</div>"
      ],
      "text/plain": [
       "   cpu_id            timestamp    pow_tot\n",
       "0       0  2014-03-24 13:56:30  21.894583"
      ]
     },
     "execution_count": 35,
     "metadata": {},
     "output_type": "execute_result"
    }
   ],
   "source": [
    "# select data in the specified interval\n",
    "#interval_data = whole_node_power_data.loc[(pd.to_datetime(whole_node_power_data['timestamp']) >= start_time) & (pd.to_datetime(whole_node_power_data['timestamp']) <= end_time)]\n",
    "#print(\"data row from {} to {}: {}\".format(start_time, end_time, interval_data.shape[0]))\n",
    "# no more interval\n",
    "\n",
    "whole_node_power_data['pow_tot'] = whole_node_power_data['pow_cpu'] + whole_node_power_data['pow_dram'] +  whole_node_power_data['pow_pkg']\n",
    "whole_node_power_data = whole_node_power_data.drop(['pow_dram', 'pow_pkg', 'pow_cpu'], axis=1)\n",
    "whole_node_power_data.head(1)\n"
   ]
  },
  {
   "cell_type": "code",
   "execution_count": 36,
   "metadata": {},
   "outputs": [],
   "source": [
    "interval_data = whole_node_power_data"
   ]
  },
  {
   "cell_type": "markdown",
   "metadata": {},
   "source": [
    "create two different dataFrame. One for cpu0 and one for cpu1"
   ]
  },
  {
   "cell_type": "code",
   "execution_count": 37,
   "metadata": {},
   "outputs": [
    {
     "name": "stdout",
     "output_type": "stream",
     "text": [
      "data row after split: 3528775\n",
      "data row after split: 3528700\n"
     ]
    }
   ],
   "source": [
    "# split the data referring to the cpu0 and cpu0\n",
    "cpu0 = interval_data[interval_data['cpu_id'] == 0]\n",
    "cpu1 = interval_data[interval_data['cpu_id'] == 1]\n",
    "print(\"data row after split: {}\".format(cpu0.shape[0]))\n",
    "print(\"data row after split: {}\".format(cpu1.shape[0]))"
   ]
  },
  {
   "cell_type": "code",
   "execution_count": 38,
   "metadata": {},
   "outputs": [
    {
     "name": "stdout",
     "output_type": "stream",
     "text": [
      "data row after split: 3440438\n",
      "data row after split: 3440276\n"
     ]
    }
   ],
   "source": [
    "# drop the duplicates rows \n",
    "cpu0 = cpu0.drop_duplicates(subset=['timestamp'])\n",
    "cpu1 = cpu1.drop_duplicates(subset=['timestamp'])\n",
    "print(\"data row after split: {}\".format(cpu0.shape[0]))\n",
    "print(\"data row after split: {}\".format(cpu1.shape[0]))"
   ]
  },
  {
   "cell_type": "code",
   "execution_count": 39,
   "metadata": {},
   "outputs": [
    {
     "name": "stdout",
     "output_type": "stream",
     "text": [
      "data row after split: 3440438\n",
      "data row after split: 3440276\n"
     ]
    }
   ],
   "source": [
    "if cpu0.shape[0] < cpu1.shape[0]:\n",
    "    cpu1 = cpu1[cpu1.timestamp >= cpu0['timestamp'].iloc[0]]\n",
    "if cpu1.shape[0] < cpu0.shape[0]:\n",
    "    cpu0 = cpu0[cpu0.timestamp >= cpu1['timestamp'].iloc[0]]\n",
    "print(\"data row after split: {}\".format(cpu0.shape[0]))\n",
    "print(\"data row after split: {}\".format(cpu1.shape[0]))"
   ]
  },
  {
   "cell_type": "code",
   "execution_count": 40,
   "metadata": {},
   "outputs": [
    {
     "data": {
      "text/html": [
       "<div>\n",
       "<style scoped>\n",
       "    .dataframe tbody tr th:only-of-type {\n",
       "        vertical-align: middle;\n",
       "    }\n",
       "\n",
       "    .dataframe tbody tr th {\n",
       "        vertical-align: top;\n",
       "    }\n",
       "\n",
       "    .dataframe thead th {\n",
       "        text-align: right;\n",
       "    }\n",
       "</style>\n",
       "<table border=\"1\" class=\"dataframe\">\n",
       "  <thead>\n",
       "    <tr style=\"text-align: right;\">\n",
       "      <th></th>\n",
       "      <th>cpu_id</th>\n",
       "      <th>timestamp</th>\n",
       "      <th>pow_tot</th>\n",
       "    </tr>\n",
       "  </thead>\n",
       "  <tbody>\n",
       "    <tr>\n",
       "      <th>12683</th>\n",
       "      <td>1</td>\n",
       "      <td>2014-03-24 13:56:30</td>\n",
       "      <td>22.261107</td>\n",
       "    </tr>\n",
       "  </tbody>\n",
       "</table>\n",
       "</div>"
      ],
      "text/plain": [
       "       cpu_id            timestamp    pow_tot\n",
       "12683       1  2014-03-24 13:56:30  22.261107"
      ]
     },
     "execution_count": 40,
     "metadata": {},
     "output_type": "execute_result"
    }
   ],
   "source": [
    "cpu1.head(1)"
   ]
  },
  {
   "cell_type": "markdown",
   "metadata": {},
   "source": [
    "convert the timestamp column to the pd datetime format"
   ]
  },
  {
   "cell_type": "code",
   "execution_count": 41,
   "metadata": {},
   "outputs": [
    {
     "data": {
      "text/html": [
       "<div>\n",
       "<style scoped>\n",
       "    .dataframe tbody tr th:only-of-type {\n",
       "        vertical-align: middle;\n",
       "    }\n",
       "\n",
       "    .dataframe tbody tr th {\n",
       "        vertical-align: top;\n",
       "    }\n",
       "\n",
       "    .dataframe thead th {\n",
       "        text-align: right;\n",
       "    }\n",
       "</style>\n",
       "<table border=\"1\" class=\"dataframe\">\n",
       "  <thead>\n",
       "    <tr style=\"text-align: right;\">\n",
       "      <th></th>\n",
       "      <th>cpu_id</th>\n",
       "      <th>timestamp</th>\n",
       "      <th>pow_tot</th>\n",
       "    </tr>\n",
       "  </thead>\n",
       "  <tbody>\n",
       "    <tr>\n",
       "      <th>0</th>\n",
       "      <td>0</td>\n",
       "      <td>2014-03-24 13:56:30</td>\n",
       "      <td>21.894583</td>\n",
       "    </tr>\n",
       "  </tbody>\n",
       "</table>\n",
       "</div>"
      ],
      "text/plain": [
       "   cpu_id           timestamp    pow_tot\n",
       "0       0 2014-03-24 13:56:30  21.894583"
      ]
     },
     "execution_count": 41,
     "metadata": {},
     "output_type": "execute_result"
    }
   ],
   "source": [
    "# convert the timestamp column to the Pandas timestamp format\n",
    "cpu0.timestamp = pd.to_datetime(cpu0.timestamp)\n",
    "cpu1.timestamp = pd.to_datetime(cpu1.timestamp)\n",
    "cpu0.head(1)"
   ]
  },
  {
   "cell_type": "code",
   "execution_count": 24,
   "metadata": {},
   "outputs": [
    {
     "data": {
      "text/html": [
       "<div>\n",
       "<style scoped>\n",
       "    .dataframe tbody tr th:only-of-type {\n",
       "        vertical-align: middle;\n",
       "    }\n",
       "\n",
       "    .dataframe tbody tr th {\n",
       "        vertical-align: top;\n",
       "    }\n",
       "\n",
       "    .dataframe thead th {\n",
       "        text-align: right;\n",
       "    }\n",
       "</style>\n",
       "<table border=\"1\" class=\"dataframe\">\n",
       "  <thead>\n",
       "    <tr style=\"text-align: right;\">\n",
       "      <th></th>\n",
       "      <th>cpu_id</th>\n",
       "      <th>timestamp</th>\n",
       "      <th>pow_cpu</th>\n",
       "    </tr>\n",
       "  </thead>\n",
       "  <tbody>\n",
       "    <tr>\n",
       "      <th>12683</th>\n",
       "      <td>1</td>\n",
       "      <td>2014-03-24 13:56:30</td>\n",
       "      <td>2.377958</td>\n",
       "    </tr>\n",
       "  </tbody>\n",
       "</table>\n",
       "</div>"
      ],
      "text/plain": [
       "       cpu_id           timestamp   pow_cpu\n",
       "12683       1 2014-03-24 13:56:30  2.377958"
      ]
     },
     "execution_count": 24,
     "metadata": {},
     "output_type": "execute_result"
    }
   ],
   "source": [
    "cpu1.head(1)"
   ]
  },
  {
   "cell_type": "code",
   "execution_count": 42,
   "metadata": {},
   "outputs": [],
   "source": [
    "#cpu0 = cpu0.append({'timestamp' : global_start_time} , ignore_index=True)\n",
    "#cpu0.tail(1)"
   ]
  },
  {
   "cell_type": "code",
   "execution_count": 43,
   "metadata": {},
   "outputs": [
    {
     "data": {
      "text/html": [
       "<div>\n",
       "<style scoped>\n",
       "    .dataframe tbody tr th:only-of-type {\n",
       "        vertical-align: middle;\n",
       "    }\n",
       "\n",
       "    .dataframe tbody tr th {\n",
       "        vertical-align: top;\n",
       "    }\n",
       "\n",
       "    .dataframe thead th {\n",
       "        text-align: right;\n",
       "    }\n",
       "</style>\n",
       "<table border=\"1\" class=\"dataframe\">\n",
       "  <thead>\n",
       "    <tr style=\"text-align: right;\">\n",
       "      <th></th>\n",
       "      <th>cpu_id</th>\n",
       "      <th>pow_tot</th>\n",
       "    </tr>\n",
       "    <tr>\n",
       "      <th>timestamp</th>\n",
       "      <th></th>\n",
       "      <th></th>\n",
       "    </tr>\n",
       "  </thead>\n",
       "  <tbody>\n",
       "    <tr>\n",
       "      <th>2014-03-24 13:56:30</th>\n",
       "      <td>0</td>\n",
       "      <td>21.894583</td>\n",
       "    </tr>\n",
       "    <tr>\n",
       "      <th>2014-03-24 13:56:35</th>\n",
       "      <td>0</td>\n",
       "      <td>21.722541</td>\n",
       "    </tr>\n",
       "    <tr>\n",
       "      <th>2014-03-24 13:56:40</th>\n",
       "      <td>0</td>\n",
       "      <td>22.317117</td>\n",
       "    </tr>\n",
       "    <tr>\n",
       "      <th>2014-03-24 13:56:45</th>\n",
       "      <td>0</td>\n",
       "      <td>22.040542</td>\n",
       "    </tr>\n",
       "    <tr>\n",
       "      <th>2014-03-24 13:56:50</th>\n",
       "      <td>0</td>\n",
       "      <td>22.841408</td>\n",
       "    </tr>\n",
       "  </tbody>\n",
       "</table>\n",
       "</div>"
      ],
      "text/plain": [
       "                     cpu_id    pow_tot\n",
       "timestamp                             \n",
       "2014-03-24 13:56:30       0  21.894583\n",
       "2014-03-24 13:56:35       0  21.722541\n",
       "2014-03-24 13:56:40       0  22.317117\n",
       "2014-03-24 13:56:45       0  22.040542\n",
       "2014-03-24 13:56:50       0  22.841408"
      ]
     },
     "execution_count": 43,
     "metadata": {},
     "output_type": "execute_result"
    }
   ],
   "source": [
    "cpu0 = cpu0.set_index([\"timestamp\"])\n",
    "cpu1 = cpu1.set_index([\"timestamp\"])\n",
    "cpu0.head(5)"
   ]
  },
  {
   "cell_type": "code",
   "execution_count": 44,
   "metadata": {},
   "outputs": [
    {
     "name": "stdout",
     "output_type": "stream",
     "text": [
      "data rows 6742638\n"
     ]
    }
   ],
   "source": [
    "# resample data from 5 sec to 1 min, using the mean for the new values \n",
    "cpu0_5sec = cpu0.resample('5S').mean()\n",
    "print(\"data rows {}\".format(cpu0_5sec.shape[0]))"
   ]
  },
  {
   "cell_type": "code",
   "execution_count": 45,
   "metadata": {},
   "outputs": [
    {
     "data": {
      "text/html": [
       "<div>\n",
       "<style scoped>\n",
       "    .dataframe tbody tr th:only-of-type {\n",
       "        vertical-align: middle;\n",
       "    }\n",
       "\n",
       "    .dataframe tbody tr th {\n",
       "        vertical-align: top;\n",
       "    }\n",
       "\n",
       "    .dataframe thead th {\n",
       "        text-align: right;\n",
       "    }\n",
       "</style>\n",
       "<table border=\"1\" class=\"dataframe\">\n",
       "  <thead>\n",
       "    <tr style=\"text-align: right;\">\n",
       "      <th></th>\n",
       "      <th>cpu_id</th>\n",
       "      <th>pow_tot</th>\n",
       "    </tr>\n",
       "    <tr>\n",
       "      <th>timestamp</th>\n",
       "      <th></th>\n",
       "      <th></th>\n",
       "    </tr>\n",
       "  </thead>\n",
       "  <tbody>\n",
       "    <tr>\n",
       "      <th>2014-03-24 13:56:30</th>\n",
       "      <td>0.0</td>\n",
       "      <td>21.894583</td>\n",
       "    </tr>\n",
       "    <tr>\n",
       "      <th>2014-03-24 13:56:35</th>\n",
       "      <td>0.0</td>\n",
       "      <td>21.722541</td>\n",
       "    </tr>\n",
       "    <tr>\n",
       "      <th>2014-03-24 13:56:40</th>\n",
       "      <td>0.0</td>\n",
       "      <td>22.317117</td>\n",
       "    </tr>\n",
       "    <tr>\n",
       "      <th>2014-03-24 13:56:45</th>\n",
       "      <td>0.0</td>\n",
       "      <td>22.040542</td>\n",
       "    </tr>\n",
       "    <tr>\n",
       "      <th>2014-03-24 13:56:50</th>\n",
       "      <td>0.0</td>\n",
       "      <td>22.841408</td>\n",
       "    </tr>\n",
       "  </tbody>\n",
       "</table>\n",
       "</div>"
      ],
      "text/plain": [
       "                     cpu_id    pow_tot\n",
       "timestamp                             \n",
       "2014-03-24 13:56:30     0.0  21.894583\n",
       "2014-03-24 13:56:35     0.0  21.722541\n",
       "2014-03-24 13:56:40     0.0  22.317117\n",
       "2014-03-24 13:56:45     0.0  22.040542\n",
       "2014-03-24 13:56:50     0.0  22.841408"
      ]
     },
     "execution_count": 45,
     "metadata": {},
     "output_type": "execute_result"
    }
   ],
   "source": [
    "cpu0_5sec.head()"
   ]
  },
  {
   "cell_type": "code",
   "execution_count": 46,
   "metadata": {},
   "outputs": [
    {
     "name": "stdout",
     "output_type": "stream",
     "text": [
      "data rows 6742638\n"
     ]
    }
   ],
   "source": [
    "cpu1_5sec = cpu1.resample('5S').mean()\n",
    "print(\"data rows {}\".format(cpu1_5sec.shape[0]))"
   ]
  },
  {
   "cell_type": "code",
   "execution_count": 47,
   "metadata": {},
   "outputs": [],
   "source": [
    "cpu0_5sec = cpu0_5sec.drop(['cpu_id'], axis=1)\n",
    "cpu1_5sec = cpu1_5sec.drop(['cpu_id'], axis=1)"
   ]
  },
  {
   "cell_type": "code",
   "execution_count": 48,
   "metadata": {},
   "outputs": [
    {
     "data": {
      "text/html": [
       "<div>\n",
       "<style scoped>\n",
       "    .dataframe tbody tr th:only-of-type {\n",
       "        vertical-align: middle;\n",
       "    }\n",
       "\n",
       "    .dataframe tbody tr th {\n",
       "        vertical-align: top;\n",
       "    }\n",
       "\n",
       "    .dataframe thead th {\n",
       "        text-align: right;\n",
       "    }\n",
       "</style>\n",
       "<table border=\"1\" class=\"dataframe\">\n",
       "  <thead>\n",
       "    <tr style=\"text-align: right;\">\n",
       "      <th></th>\n",
       "      <th>pow_tot</th>\n",
       "    </tr>\n",
       "    <tr>\n",
       "      <th>timestamp</th>\n",
       "      <th></th>\n",
       "    </tr>\n",
       "  </thead>\n",
       "  <tbody>\n",
       "    <tr>\n",
       "      <th>2014-03-24 13:56:30</th>\n",
       "      <td>21.894583</td>\n",
       "    </tr>\n",
       "  </tbody>\n",
       "</table>\n",
       "</div>"
      ],
      "text/plain": [
       "                       pow_tot\n",
       "timestamp                     \n",
       "2014-03-24 13:56:30  21.894583"
      ]
     },
     "execution_count": 48,
     "metadata": {},
     "output_type": "execute_result"
    }
   ],
   "source": [
    "cpu0_5sec.head(1)"
   ]
  },
  {
   "cell_type": "code",
   "execution_count": 49,
   "metadata": {},
   "outputs": [],
   "source": [
    "first_date = cpu0_5sec.index[0]\n",
    "last_date = cpu0_5sec.index[cpu0_5sec.shape[0]-1]"
   ]
  },
  {
   "cell_type": "code",
   "execution_count": 51,
   "metadata": {},
   "outputs": [
    {
     "data": {
      "text/plain": [
       "DatetimeIndex(['2014-03-24 00:00:00', '2014-03-24 00:00:05',\n",
       "               '2014-03-24 00:00:10', '2014-03-24 00:00:15',\n",
       "               '2014-03-24 00:00:20', '2014-03-24 00:00:25',\n",
       "               '2014-03-24 00:00:30', '2014-03-24 00:00:35',\n",
       "               '2014-03-24 00:00:40', '2014-03-24 00:00:45',\n",
       "               ...\n",
       "               '2014-03-24 13:55:40', '2014-03-24 13:55:45',\n",
       "               '2014-03-24 13:55:50', '2014-03-24 13:55:55',\n",
       "               '2014-03-24 13:56:00', '2014-03-24 13:56:05',\n",
       "               '2014-03-24 13:56:10', '2014-03-24 13:56:15',\n",
       "               '2014-03-24 13:56:20', '2014-03-24 13:56:25'],\n",
       "              dtype='datetime64[ns]', length=10038, freq='5S')"
      ]
     },
     "execution_count": 51,
     "metadata": {},
     "output_type": "execute_result"
    }
   ],
   "source": [
    "index_before = pd.date_range(start=global_start_time, end=first_date - np.timedelta64(5, 's'), freq='5S')\n",
    "index_before"
   ]
  },
  {
   "cell_type": "code",
   "execution_count": 52,
   "metadata": {},
   "outputs": [
    {
     "data": {
      "text/plain": [
       "DatetimeIndex(['2015-04-18 18:43:00', '2015-04-18 18:43:05',\n",
       "               '2015-04-18 18:43:10', '2015-04-18 18:43:15',\n",
       "               '2015-04-18 18:43:20', '2015-04-18 18:43:25',\n",
       "               '2015-04-18 18:43:30', '2015-04-18 18:43:35',\n",
       "               '2015-04-18 18:43:40', '2015-04-18 18:43:45',\n",
       "               ...\n",
       "               '2015-08-11 23:59:15', '2015-08-11 23:59:20',\n",
       "               '2015-08-11 23:59:25', '2015-08-11 23:59:30',\n",
       "               '2015-08-11 23:59:35', '2015-08-11 23:59:40',\n",
       "               '2015-08-11 23:59:45', '2015-08-11 23:59:50',\n",
       "               '2015-08-11 23:59:55', '2015-08-12 00:00:00'],\n",
       "              dtype='datetime64[ns]', length=1991005, freq='5S')"
      ]
     },
     "execution_count": 52,
     "metadata": {},
     "output_type": "execute_result"
    }
   ],
   "source": [
    "index_after = pd.date_range(start=last_date + np.timedelta64(5, 's'), end=global_end_time, freq='5s')\n",
    "index_after"
   ]
  },
  {
   "cell_type": "code",
   "execution_count": 53,
   "metadata": {},
   "outputs": [],
   "source": [
    "padding_before = pd.DataFrame(index=index_before, columns=['pow_tot'])\n",
    "padding_before.index.name = 'timestamp'\n",
    "#padding_before"
   ]
  },
  {
   "cell_type": "code",
   "execution_count": 54,
   "metadata": {},
   "outputs": [],
   "source": [
    "padding_after = pd.DataFrame(index=index_after, columns=['pow_tot'])\n",
    "padding_after.index.name = 'timestamp'\n",
    "# padding_after"
   ]
  },
  {
   "cell_type": "code",
   "execution_count": 55,
   "metadata": {},
   "outputs": [],
   "source": [
    "# convert the timestamp column to the Pandas timestamp format\n",
    "#cpu0.timestamp = pd.to_datetime(cpu0.timestamp)\n",
    "#cpu1.timestamp = pd.to_datetime(cpu1.timestamp)"
   ]
  },
  {
   "cell_type": "code",
   "execution_count": 56,
   "metadata": {},
   "outputs": [],
   "source": [
    "cpu0_5sec = pd.concat([padding_before, cpu0_5sec])\n",
    "cpu1_5sec = pd.concat([padding_before, cpu1_5sec])\n",
    "cpu0_5sec = pd.concat([cpu0_5sec, padding_after])\n",
    "cpu1_5sec = pd.concat([cpu1_5sec, padding_after])"
   ]
  },
  {
   "cell_type": "code",
   "execution_count": 57,
   "metadata": {},
   "outputs": [
    {
     "data": {
      "text/html": [
       "<div>\n",
       "<style scoped>\n",
       "    .dataframe tbody tr th:only-of-type {\n",
       "        vertical-align: middle;\n",
       "    }\n",
       "\n",
       "    .dataframe tbody tr th {\n",
       "        vertical-align: top;\n",
       "    }\n",
       "\n",
       "    .dataframe thead th {\n",
       "        text-align: right;\n",
       "    }\n",
       "</style>\n",
       "<table border=\"1\" class=\"dataframe\">\n",
       "  <thead>\n",
       "    <tr style=\"text-align: right;\">\n",
       "      <th></th>\n",
       "      <th>pow_tot</th>\n",
       "    </tr>\n",
       "    <tr>\n",
       "      <th>timestamp</th>\n",
       "      <th></th>\n",
       "    </tr>\n",
       "  </thead>\n",
       "  <tbody>\n",
       "    <tr>\n",
       "      <th>2014-03-24 00:00:00</th>\n",
       "      <td>NaN</td>\n",
       "    </tr>\n",
       "    <tr>\n",
       "      <th>2014-03-24 00:00:05</th>\n",
       "      <td>NaN</td>\n",
       "    </tr>\n",
       "    <tr>\n",
       "      <th>2014-03-24 00:00:10</th>\n",
       "      <td>NaN</td>\n",
       "    </tr>\n",
       "    <tr>\n",
       "      <th>2014-03-24 00:00:15</th>\n",
       "      <td>NaN</td>\n",
       "    </tr>\n",
       "    <tr>\n",
       "      <th>2014-03-24 00:00:20</th>\n",
       "      <td>NaN</td>\n",
       "    </tr>\n",
       "    <tr>\n",
       "      <th>2014-03-24 00:00:25</th>\n",
       "      <td>NaN</td>\n",
       "    </tr>\n",
       "    <tr>\n",
       "      <th>2014-03-24 00:00:30</th>\n",
       "      <td>NaN</td>\n",
       "    </tr>\n",
       "    <tr>\n",
       "      <th>2014-03-24 00:00:35</th>\n",
       "      <td>NaN</td>\n",
       "    </tr>\n",
       "    <tr>\n",
       "      <th>2014-03-24 00:00:40</th>\n",
       "      <td>NaN</td>\n",
       "    </tr>\n",
       "    <tr>\n",
       "      <th>2014-03-24 00:00:45</th>\n",
       "      <td>NaN</td>\n",
       "    </tr>\n",
       "    <tr>\n",
       "      <th>2014-03-24 00:00:50</th>\n",
       "      <td>NaN</td>\n",
       "    </tr>\n",
       "    <tr>\n",
       "      <th>2014-03-24 00:00:55</th>\n",
       "      <td>NaN</td>\n",
       "    </tr>\n",
       "    <tr>\n",
       "      <th>2014-03-24 00:01:00</th>\n",
       "      <td>NaN</td>\n",
       "    </tr>\n",
       "    <tr>\n",
       "      <th>2014-03-24 00:01:05</th>\n",
       "      <td>NaN</td>\n",
       "    </tr>\n",
       "    <tr>\n",
       "      <th>2014-03-24 00:01:10</th>\n",
       "      <td>NaN</td>\n",
       "    </tr>\n",
       "    <tr>\n",
       "      <th>2014-03-24 00:01:15</th>\n",
       "      <td>NaN</td>\n",
       "    </tr>\n",
       "    <tr>\n",
       "      <th>2014-03-24 00:01:20</th>\n",
       "      <td>NaN</td>\n",
       "    </tr>\n",
       "    <tr>\n",
       "      <th>2014-03-24 00:01:25</th>\n",
       "      <td>NaN</td>\n",
       "    </tr>\n",
       "    <tr>\n",
       "      <th>2014-03-24 00:01:30</th>\n",
       "      <td>NaN</td>\n",
       "    </tr>\n",
       "    <tr>\n",
       "      <th>2014-03-24 00:01:35</th>\n",
       "      <td>NaN</td>\n",
       "    </tr>\n",
       "    <tr>\n",
       "      <th>2014-03-24 00:01:40</th>\n",
       "      <td>NaN</td>\n",
       "    </tr>\n",
       "    <tr>\n",
       "      <th>2014-03-24 00:01:45</th>\n",
       "      <td>NaN</td>\n",
       "    </tr>\n",
       "    <tr>\n",
       "      <th>2014-03-24 00:01:50</th>\n",
       "      <td>NaN</td>\n",
       "    </tr>\n",
       "    <tr>\n",
       "      <th>2014-03-24 00:01:55</th>\n",
       "      <td>NaN</td>\n",
       "    </tr>\n",
       "    <tr>\n",
       "      <th>2014-03-24 00:02:00</th>\n",
       "      <td>NaN</td>\n",
       "    </tr>\n",
       "    <tr>\n",
       "      <th>2014-03-24 00:02:05</th>\n",
       "      <td>NaN</td>\n",
       "    </tr>\n",
       "    <tr>\n",
       "      <th>2014-03-24 00:02:10</th>\n",
       "      <td>NaN</td>\n",
       "    </tr>\n",
       "    <tr>\n",
       "      <th>2014-03-24 00:02:15</th>\n",
       "      <td>NaN</td>\n",
       "    </tr>\n",
       "    <tr>\n",
       "      <th>2014-03-24 00:02:20</th>\n",
       "      <td>NaN</td>\n",
       "    </tr>\n",
       "    <tr>\n",
       "      <th>2014-03-24 00:02:25</th>\n",
       "      <td>NaN</td>\n",
       "    </tr>\n",
       "    <tr>\n",
       "      <th>...</th>\n",
       "      <td>...</td>\n",
       "    </tr>\n",
       "    <tr>\n",
       "      <th>2015-08-11 23:57:35</th>\n",
       "      <td>NaN</td>\n",
       "    </tr>\n",
       "    <tr>\n",
       "      <th>2015-08-11 23:57:40</th>\n",
       "      <td>NaN</td>\n",
       "    </tr>\n",
       "    <tr>\n",
       "      <th>2015-08-11 23:57:45</th>\n",
       "      <td>NaN</td>\n",
       "    </tr>\n",
       "    <tr>\n",
       "      <th>2015-08-11 23:57:50</th>\n",
       "      <td>NaN</td>\n",
       "    </tr>\n",
       "    <tr>\n",
       "      <th>2015-08-11 23:57:55</th>\n",
       "      <td>NaN</td>\n",
       "    </tr>\n",
       "    <tr>\n",
       "      <th>2015-08-11 23:58:00</th>\n",
       "      <td>NaN</td>\n",
       "    </tr>\n",
       "    <tr>\n",
       "      <th>2015-08-11 23:58:05</th>\n",
       "      <td>NaN</td>\n",
       "    </tr>\n",
       "    <tr>\n",
       "      <th>2015-08-11 23:58:10</th>\n",
       "      <td>NaN</td>\n",
       "    </tr>\n",
       "    <tr>\n",
       "      <th>2015-08-11 23:58:15</th>\n",
       "      <td>NaN</td>\n",
       "    </tr>\n",
       "    <tr>\n",
       "      <th>2015-08-11 23:58:20</th>\n",
       "      <td>NaN</td>\n",
       "    </tr>\n",
       "    <tr>\n",
       "      <th>2015-08-11 23:58:25</th>\n",
       "      <td>NaN</td>\n",
       "    </tr>\n",
       "    <tr>\n",
       "      <th>2015-08-11 23:58:30</th>\n",
       "      <td>NaN</td>\n",
       "    </tr>\n",
       "    <tr>\n",
       "      <th>2015-08-11 23:58:35</th>\n",
       "      <td>NaN</td>\n",
       "    </tr>\n",
       "    <tr>\n",
       "      <th>2015-08-11 23:58:40</th>\n",
       "      <td>NaN</td>\n",
       "    </tr>\n",
       "    <tr>\n",
       "      <th>2015-08-11 23:58:45</th>\n",
       "      <td>NaN</td>\n",
       "    </tr>\n",
       "    <tr>\n",
       "      <th>2015-08-11 23:58:50</th>\n",
       "      <td>NaN</td>\n",
       "    </tr>\n",
       "    <tr>\n",
       "      <th>2015-08-11 23:58:55</th>\n",
       "      <td>NaN</td>\n",
       "    </tr>\n",
       "    <tr>\n",
       "      <th>2015-08-11 23:59:00</th>\n",
       "      <td>NaN</td>\n",
       "    </tr>\n",
       "    <tr>\n",
       "      <th>2015-08-11 23:59:05</th>\n",
       "      <td>NaN</td>\n",
       "    </tr>\n",
       "    <tr>\n",
       "      <th>2015-08-11 23:59:10</th>\n",
       "      <td>NaN</td>\n",
       "    </tr>\n",
       "    <tr>\n",
       "      <th>2015-08-11 23:59:15</th>\n",
       "      <td>NaN</td>\n",
       "    </tr>\n",
       "    <tr>\n",
       "      <th>2015-08-11 23:59:20</th>\n",
       "      <td>NaN</td>\n",
       "    </tr>\n",
       "    <tr>\n",
       "      <th>2015-08-11 23:59:25</th>\n",
       "      <td>NaN</td>\n",
       "    </tr>\n",
       "    <tr>\n",
       "      <th>2015-08-11 23:59:30</th>\n",
       "      <td>NaN</td>\n",
       "    </tr>\n",
       "    <tr>\n",
       "      <th>2015-08-11 23:59:35</th>\n",
       "      <td>NaN</td>\n",
       "    </tr>\n",
       "    <tr>\n",
       "      <th>2015-08-11 23:59:40</th>\n",
       "      <td>NaN</td>\n",
       "    </tr>\n",
       "    <tr>\n",
       "      <th>2015-08-11 23:59:45</th>\n",
       "      <td>NaN</td>\n",
       "    </tr>\n",
       "    <tr>\n",
       "      <th>2015-08-11 23:59:50</th>\n",
       "      <td>NaN</td>\n",
       "    </tr>\n",
       "    <tr>\n",
       "      <th>2015-08-11 23:59:55</th>\n",
       "      <td>NaN</td>\n",
       "    </tr>\n",
       "    <tr>\n",
       "      <th>2015-08-12 00:00:00</th>\n",
       "      <td>NaN</td>\n",
       "    </tr>\n",
       "  </tbody>\n",
       "</table>\n",
       "<p>8743681 rows × 1 columns</p>\n",
       "</div>"
      ],
      "text/plain": [
       "                     pow_tot\n",
       "timestamp                   \n",
       "2014-03-24 00:00:00      NaN\n",
       "2014-03-24 00:00:05      NaN\n",
       "2014-03-24 00:00:10      NaN\n",
       "2014-03-24 00:00:15      NaN\n",
       "2014-03-24 00:00:20      NaN\n",
       "2014-03-24 00:00:25      NaN\n",
       "2014-03-24 00:00:30      NaN\n",
       "2014-03-24 00:00:35      NaN\n",
       "2014-03-24 00:00:40      NaN\n",
       "2014-03-24 00:00:45      NaN\n",
       "2014-03-24 00:00:50      NaN\n",
       "2014-03-24 00:00:55      NaN\n",
       "2014-03-24 00:01:00      NaN\n",
       "2014-03-24 00:01:05      NaN\n",
       "2014-03-24 00:01:10      NaN\n",
       "2014-03-24 00:01:15      NaN\n",
       "2014-03-24 00:01:20      NaN\n",
       "2014-03-24 00:01:25      NaN\n",
       "2014-03-24 00:01:30      NaN\n",
       "2014-03-24 00:01:35      NaN\n",
       "2014-03-24 00:01:40      NaN\n",
       "2014-03-24 00:01:45      NaN\n",
       "2014-03-24 00:01:50      NaN\n",
       "2014-03-24 00:01:55      NaN\n",
       "2014-03-24 00:02:00      NaN\n",
       "2014-03-24 00:02:05      NaN\n",
       "2014-03-24 00:02:10      NaN\n",
       "2014-03-24 00:02:15      NaN\n",
       "2014-03-24 00:02:20      NaN\n",
       "2014-03-24 00:02:25      NaN\n",
       "...                      ...\n",
       "2015-08-11 23:57:35      NaN\n",
       "2015-08-11 23:57:40      NaN\n",
       "2015-08-11 23:57:45      NaN\n",
       "2015-08-11 23:57:50      NaN\n",
       "2015-08-11 23:57:55      NaN\n",
       "2015-08-11 23:58:00      NaN\n",
       "2015-08-11 23:58:05      NaN\n",
       "2015-08-11 23:58:10      NaN\n",
       "2015-08-11 23:58:15      NaN\n",
       "2015-08-11 23:58:20      NaN\n",
       "2015-08-11 23:58:25      NaN\n",
       "2015-08-11 23:58:30      NaN\n",
       "2015-08-11 23:58:35      NaN\n",
       "2015-08-11 23:58:40      NaN\n",
       "2015-08-11 23:58:45      NaN\n",
       "2015-08-11 23:58:50      NaN\n",
       "2015-08-11 23:58:55      NaN\n",
       "2015-08-11 23:59:00      NaN\n",
       "2015-08-11 23:59:05      NaN\n",
       "2015-08-11 23:59:10      NaN\n",
       "2015-08-11 23:59:15      NaN\n",
       "2015-08-11 23:59:20      NaN\n",
       "2015-08-11 23:59:25      NaN\n",
       "2015-08-11 23:59:30      NaN\n",
       "2015-08-11 23:59:35      NaN\n",
       "2015-08-11 23:59:40      NaN\n",
       "2015-08-11 23:59:45      NaN\n",
       "2015-08-11 23:59:50      NaN\n",
       "2015-08-11 23:59:55      NaN\n",
       "2015-08-12 00:00:00      NaN\n",
       "\n",
       "[8743681 rows x 1 columns]"
      ]
     },
     "execution_count": 57,
     "metadata": {},
     "output_type": "execute_result"
    }
   ],
   "source": [
    "cpu0_5sec"
   ]
  },
  {
   "cell_type": "code",
   "execution_count": null,
   "metadata": {},
   "outputs": [],
   "source": []
  },
  {
   "cell_type": "code",
   "execution_count": 58,
   "metadata": {},
   "outputs": [],
   "source": [
    "cpu0_5sec = cpu0_5sec.rename(index=str, columns={\"pow_tot\": \"pow_tot_0\"})\n",
    "cpu1_5sec = cpu1_5sec.rename(index=str, columns={\"pow_tot\": \"pow_tot_1\"})\n",
    "# cpu0_1min.head(1)"
   ]
  },
  {
   "cell_type": "code",
   "execution_count": 59,
   "metadata": {},
   "outputs": [],
   "source": [
    "# concat\n",
    "node_5sec = pd.concat([cpu0_5sec, cpu1_5sec], axis=1)"
   ]
  },
  {
   "cell_type": "code",
   "execution_count": 60,
   "metadata": {},
   "outputs": [
    {
     "data": {
      "text/html": [
       "<div>\n",
       "<style scoped>\n",
       "    .dataframe tbody tr th:only-of-type {\n",
       "        vertical-align: middle;\n",
       "    }\n",
       "\n",
       "    .dataframe tbody tr th {\n",
       "        vertical-align: top;\n",
       "    }\n",
       "\n",
       "    .dataframe thead th {\n",
       "        text-align: right;\n",
       "    }\n",
       "</style>\n",
       "<table border=\"1\" class=\"dataframe\">\n",
       "  <thead>\n",
       "    <tr style=\"text-align: right;\">\n",
       "      <th></th>\n",
       "      <th>pow_tot_0</th>\n",
       "      <th>pow_tot_1</th>\n",
       "    </tr>\n",
       "    <tr>\n",
       "      <th>timestamp</th>\n",
       "      <th></th>\n",
       "      <th></th>\n",
       "    </tr>\n",
       "  </thead>\n",
       "  <tbody>\n",
       "    <tr>\n",
       "      <th>2014-03-24 00:00:00</th>\n",
       "      <td>NaN</td>\n",
       "      <td>NaN</td>\n",
       "    </tr>\n",
       "  </tbody>\n",
       "</table>\n",
       "</div>"
      ],
      "text/plain": [
       "                     pow_tot_0  pow_tot_1\n",
       "timestamp                                \n",
       "2014-03-24 00:00:00        NaN        NaN"
      ]
     },
     "execution_count": 60,
     "metadata": {},
     "output_type": "execute_result"
    }
   ],
   "source": [
    "node_5sec.head(1)"
   ]
  },
  {
   "cell_type": "code",
   "execution_count": 61,
   "metadata": {},
   "outputs": [
    {
     "data": {
      "text/html": [
       "<div>\n",
       "<style scoped>\n",
       "    .dataframe tbody tr th:only-of-type {\n",
       "        vertical-align: middle;\n",
       "    }\n",
       "\n",
       "    .dataframe tbody tr th {\n",
       "        vertical-align: top;\n",
       "    }\n",
       "\n",
       "    .dataframe thead th {\n",
       "        text-align: right;\n",
       "    }\n",
       "</style>\n",
       "<table border=\"1\" class=\"dataframe\">\n",
       "  <thead>\n",
       "    <tr style=\"text-align: right;\">\n",
       "      <th></th>\n",
       "      <th>pow_tot</th>\n",
       "    </tr>\n",
       "    <tr>\n",
       "      <th>timestamp</th>\n",
       "      <th></th>\n",
       "    </tr>\n",
       "  </thead>\n",
       "  <tbody>\n",
       "    <tr>\n",
       "      <th>2014-03-24 00:00:00</th>\n",
       "      <td>NaN</td>\n",
       "    </tr>\n",
       "  </tbody>\n",
       "</table>\n",
       "</div>"
      ],
      "text/plain": [
       "                     pow_tot\n",
       "timestamp                   \n",
       "2014-03-24 00:00:00      NaN"
      ]
     },
     "execution_count": 61,
     "metadata": {},
     "output_type": "execute_result"
    }
   ],
   "source": [
    "node_5sec['pow_tot'] = node_5sec['pow_tot_0'] + node_5sec['pow_tot_1']\n",
    "node_5sec = node_5sec.drop(['pow_tot_0', 'pow_tot_1'], axis=1)\n",
    "node_5sec.head(1)\n"
   ]
  },
  {
   "cell_type": "code",
   "execution_count": null,
   "metadata": {},
   "outputs": [],
   "source": []
  },
  {
   "cell_type": "code",
   "execution_count": 77,
   "metadata": {},
   "outputs": [
    {
     "name": "stdout",
     "output_type": "stream",
     "text": [
      "first: (728641,), second: (728641,)\n"
     ]
    }
   ],
   "source": [
    "#pow_tot_1 = cpu0_1min['pow_cpu_0'] + cpu0_1min['pow_dram_0'] + cpu0_1min['pow_pkg_0']\n",
    "#pow_tot_2 = cpu1_1min['pow_cpu_1'] + cpu1_1min['pow_dram_1'] + cpu1_1min['pow_pkg_1']\n",
    "#print(\"first: {}, second: {}\".format(pow_tot_1.shape, pow_tot_2.shape))"
   ]
  },
  {
   "cell_type": "code",
   "execution_count": null,
   "metadata": {},
   "outputs": [],
   "source": []
  },
  {
   "cell_type": "code",
   "execution_count": 63,
   "metadata": {},
   "outputs": [],
   "source": [
    "# write\n",
    "interval_comment = \"WholeData\"\n",
    "outfile = datadir + 'CPUs/' + interval_comment + \"/node\" + node + \"_5sec_\" + interval_comment + \".csv\"\n",
    "node_5sec.to_csv(outfile)"
   ]
  },
  {
   "cell_type": "code",
   "execution_count": 64,
   "metadata": {},
   "outputs": [],
   "source": [
    "infile = datadir + 'CPUs/' + interval_comment + \"/node\" + node + \"_5sec_\" + interval_comment + \".csv\"\n",
    "\n",
    "# read dataset\n",
    "whole_node_power_data = pd.read_csv(infile)\n",
    "\n",
    "whole_node_power_data = whole_node_power_data.drop(['timestamp'], axis=1)\n",
    "outfile = datadir + 'CPUs/' + interval_comment + \"/node\" + node + \"_5sec_noTimestamp_\" + interval_comment + \".csv\"\n",
    "whole_node_power_data.to_csv(outfile)"
   ]
  },
  {
   "cell_type": "code",
   "execution_count": null,
   "metadata": {},
   "outputs": [],
   "source": []
  }
 ],
 "metadata": {
  "kernelspec": {
   "display_name": "Python 3",
   "language": "python",
   "name": "python3"
  },
  "language_info": {
   "codemirror_mode": {
    "name": "ipython",
    "version": 3
   },
   "file_extension": ".py",
   "mimetype": "text/x-python",
   "name": "python",
   "nbconvert_exporter": "python",
   "pygments_lexer": "ipython3",
   "version": "3.5.2"
  }
 },
 "nbformat": 4,
 "nbformat_minor": 2
}
