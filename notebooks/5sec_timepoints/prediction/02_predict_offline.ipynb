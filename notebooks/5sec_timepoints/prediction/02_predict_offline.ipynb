{
 "cells": [
  {
   "cell_type": "code",
   "execution_count": 58,
   "metadata": {},
   "outputs": [],
   "source": [
    "import pandas as pd\n",
    "import errno    \n",
    "import os\n",
    "import numpy as np\n",
    "import math\n",
    "\n",
    "'''\n",
    "Author: Enrico Ceccolini\n",
    "    Correspond to an offline power prediction model to be used to predict the mean \n",
    "    power consumption, over the execution interval, of a job submitted on the Erurora HPC. \n",
    "'''\n",
    "\n",
    "datadir = \"/datasets/eurora_data/db1/\"\n",
    "\n",
    "infile_jobs_to_nodes = datadir + \"job_nodes.csv\"\n",
    "\n",
    "suffix = \"_5sec_\"\n",
    "### select an interval from\n",
    "## 1 settings wholeData\n",
    "#interval_comment_whole = \"WholeData\"\n",
    "\n",
    "### select an interval from\n",
    "## 2 settings Andrea\n",
    "interval_comment = \"Andrea\"\n",
    "start_time = pd.to_datetime('2014-03-31')\n",
    "end_time = pd.to_datetime('2014-05-01')\n",
    "#infile_jobs = datadir + \"april_long_jobs.csv\"\n",
    "\n",
    "## 3 settings Alina\n",
    "interval_comment = \"Alina\"\n",
    "#start_time = pd.to_datetime('2014-06-30')\n",
    "tart_time = pd.to_datetime('2014-03-31')\n",
    "end_time = pd.to_datetime('2014-11-01')\n",
    "train_start_time = pd.to_datetime('2014-06-30')\n",
    "train_end_time = pd.to_datetime('2014-10-01')\n",
    "test_end_time = pd.to_datetime('2014-11-01')\n",
    "\n",
    "\n",
    "infile_jobs = datadir + \"CPUs/\" + interval_comment + \"/\" + interval_comment + \"_long_jobs_real_pow\"\n",
    "#infile_long_jobs = datadir + \"CPUs/\" + interval_comment + \"/\" + interval_comment + \"_long_jobs_real_pow_64_359350\"\n",
    "\n",
    "nodes=['01', '02', '03', '04', '05', '06', '07', '08', '09', '10', '11', '12', '13', '14', '15', '16', '17', '18', '19', '20', '21', '22', '23', '24', '25', '26', '27', '28', '29', '30', '31', '32', '33', '34', '35', '36', '37', '38', '39', '40', '41', '42', '44', '45', '46', '47', '48', '49', '50', '51', '52', '53', '54', '55', '56', '57', '58', '59', '60', '61', '62', '63', '64']"
   ]
  },
  {
   "cell_type": "code",
   "execution_count": 59,
   "metadata": {},
   "outputs": [
    {
     "name": "stdout",
     "output_type": "stream",
     "text": [
      "jobs_to_nodes_whole_data contains 469095 records\n"
     ]
    },
    {
     "name": "stderr",
     "output_type": "stream",
     "text": [
      "/usr/local/lib/python3.5/dist-packages/IPython/core/interactiveshell.py:3049: DtypeWarning: Columns (11) have mixed types. Specify dtype option on import or set low_memory=False.\n",
      "  interactivity=interactivity, compiler=compiler, result=result)\n"
     ]
    },
    {
     "name": "stdout",
     "output_type": "stream",
     "text": [
      "There are 336787 long jobs in the Alina's interval\n"
     ]
    }
   ],
   "source": [
    "jobs_to_nodes_whole_data = pd.read_csv(infile_jobs_to_nodes, index_col=0)\n",
    "print(\"jobs_to_nodes_whole_data contains {} records\".format(jobs_to_nodes_whole_data.shape[0]))\n",
    "\n",
    "jobs = pd.read_csv(infile_jobs + \".csv\", index_col=0)\n",
    "print(\"There are {} long jobs in the {}'s interval\".format(jobs.shape[0], interval_comment))\n",
    "\n",
    "# clean user names\n",
    "jobs['user'] = jobs.apply(lambda row: row['user'].split('@')[0], axis=1)"
   ]
  },
  {
   "cell_type": "code",
   "execution_count": 60,
   "metadata": {},
   "outputs": [
    {
     "name": "stdout",
     "output_type": "stream",
     "text": [
      "test set contains 24918 records\n"
     ]
    }
   ],
   "source": [
    "jobs_not_zero_quality = jobs[jobs['real_pow'] > 0]\n",
    "\n",
    "jobs_test = jobs_not_zero_quality[pd.to_datetime(jobs_not_zero_quality['end_time']) <= test_end_time]\n",
    "jobs_test = jobs_test[pd.to_datetime(jobs_test['run_start_time']) > train_end_time]\n",
    "print(\"test set contains {} records\".format(jobs_test.shape[0]))"
   ]
  },
  {
   "cell_type": "code",
   "execution_count": 107,
   "metadata": {},
   "outputs": [
    {
     "data": {
      "text/plain": [
       "8741"
      ]
     },
     "execution_count": 107,
     "metadata": {},
     "output_type": "execute_result"
    }
   ],
   "source": [
    "jobs_test = jobs_test[pd.to_datetime(jobs_test['end_time']) - pd.to_datetime(jobs_test['run_start_time']) > np.timedelta64(5, 's')]\n",
    "jobs_test.shape[0]"
   ]
  },
  {
   "cell_type": "code",
   "execution_count": 108,
   "metadata": {},
   "outputs": [
    {
     "name": "stdout",
     "output_type": "stream",
     "text": [
      "after the clean, jobs_to_nodes_whole_data contains 444610 records\n",
      "merged_jobs_to_nodes contains 9391 records\n"
     ]
    }
   ],
   "source": [
    "### clean the data\n",
    "# remove jobs runned on the inexistent node 129\n",
    "jobs_to_nodes_whole_data = jobs_to_nodes_whole_data[jobs_to_nodes_whole_data['node_id'] != 129] \n",
    "# remove jobs with the same id that runned on the same node\n",
    "jobs_to_nodes_whole_data = jobs_to_nodes_whole_data.drop_duplicates(subset=['job_id_string', 'node_id'])\n",
    "print(\"after the clean, jobs_to_nodes_whole_data contains {} records\".format(jobs_to_nodes_whole_data.shape[0]))\n",
    "\n",
    "### merge the info from the two tables\n",
    "merged_jobs_to_nodes = pd.merge(jobs_test, jobs_to_nodes_whole_data, how='left', on='job_id_string')\n",
    "print(\"merged_jobs_to_nodes contains {} records\".format(merged_jobs_to_nodes.shape[0]))"
   ]
  },
  {
   "cell_type": "code",
   "execution_count": 109,
   "metadata": {},
   "outputs": [],
   "source": [
    "infile_user_job_node = datadir + \"CPUs/\" + interval_comment + \"/\" + interval_comment + \"_mean_core_user_job_node_whole\"\n",
    "df_user_job_node = pd.read_csv(infile_user_job_node + \".csv\", index_col=0)\n",
    "#infile_user_job = datadir + \"CPUs/\" + interval_comment + \"/\" + interval_comment + \"_mean_core_user_job_whole\"\n",
    "#df_user_job = pd.read_csv(infile_user_job + \".csv\", index_col=0)\n",
    "#infile_user_node = datadir + \"CPUs/\" + interval_comment + \"/\" + interval_comment + \"_mean_core_user_node_whole\"\n",
    "#df_user_node = pd.read_csv(infile_user_node + \".csv\", index_col=0)\n",
    "#infile_user = datadir + \"CPUs/\" + interval_comment + \"/\" + interval_comment + \"_mean_core_user_whole\"\n",
    "#df_user = pd.read_csv(infile_user + \".csv\", index_col=0)\n",
    "#infile_node = datadir + \"CPUs/\" + interval_comment + \"/\" + interval_comment + \"_mean_core_node_whole\"\n",
    "#df_node = pd.read_csv(infile_node + \".csv\", index_col=0)\n",
    "\n",
    "df_user_job_node_copy = df_user_job_node"
   ]
  },
  {
   "cell_type": "code",
   "execution_count": 110,
   "metadata": {},
   "outputs": [
    {
     "data": {
      "text/plain": [
       "23260"
      ]
     },
     "execution_count": 110,
     "metadata": {},
     "output_type": "execute_result"
    }
   ],
   "source": [
    "#debug\n",
    "df_user_job_node_copy.shape[0]"
   ]
  },
  {
   "cell_type": "code",
   "execution_count": null,
   "metadata": {},
   "outputs": [],
   "source": []
  },
  {
   "cell_type": "code",
   "execution_count": 111,
   "metadata": {
    "scrolled": true
   },
   "outputs": [
    {
     "data": {
      "text/html": [
       "<div>\n",
       "<style scoped>\n",
       "    .dataframe tbody tr th:only-of-type {\n",
       "        vertical-align: middle;\n",
       "    }\n",
       "\n",
       "    .dataframe tbody tr th {\n",
       "        vertical-align: top;\n",
       "    }\n",
       "\n",
       "    .dataframe thead th {\n",
       "        text-align: right;\n",
       "    }\n",
       "</style>\n",
       "<table border=\"1\" class=\"dataframe\">\n",
       "  <thead>\n",
       "    <tr style=\"text-align: right;\">\n",
       "      <th></th>\n",
       "      <th>user</th>\n",
       "      <th>job_name</th>\n",
       "      <th>node_id</th>\n",
       "      <th>count</th>\n",
       "      <th>mean_core</th>\n",
       "    </tr>\n",
       "  </thead>\n",
       "  <tbody>\n",
       "    <tr>\n",
       "      <th>0</th>\n",
       "      <td>a07smr01</td>\n",
       "      <td>A2REPO</td>\n",
       "      <td>7</td>\n",
       "      <td>1</td>\n",
       "      <td>12.412156</td>\n",
       "    </tr>\n",
       "    <tr>\n",
       "      <th>1</th>\n",
       "      <td>a07smr01</td>\n",
       "      <td>A2REPO</td>\n",
       "      <td>33</td>\n",
       "      <td>1</td>\n",
       "      <td>3.937672</td>\n",
       "    </tr>\n",
       "    <tr>\n",
       "      <th>2</th>\n",
       "      <td>a07smr01</td>\n",
       "      <td>A2REPO</td>\n",
       "      <td>35</td>\n",
       "      <td>59</td>\n",
       "      <td>4.375295</td>\n",
       "    </tr>\n",
       "    <tr>\n",
       "      <th>3</th>\n",
       "      <td>a07smr01</td>\n",
       "      <td>A2REPO</td>\n",
       "      <td>46</td>\n",
       "      <td>24</td>\n",
       "      <td>2.406068</td>\n",
       "    </tr>\n",
       "    <tr>\n",
       "      <th>4</th>\n",
       "      <td>a07smr01</td>\n",
       "      <td>ARCHIVE</td>\n",
       "      <td>7</td>\n",
       "      <td>1</td>\n",
       "      <td>11.895912</td>\n",
       "    </tr>\n",
       "    <tr>\n",
       "      <th>5</th>\n",
       "      <td>a07smr01</td>\n",
       "      <td>ARKI</td>\n",
       "      <td>33</td>\n",
       "      <td>7</td>\n",
       "      <td>5.766090</td>\n",
       "    </tr>\n",
       "    <tr>\n",
       "      <th>6</th>\n",
       "      <td>a07smr01</td>\n",
       "      <td>ARKI</td>\n",
       "      <td>35</td>\n",
       "      <td>81</td>\n",
       "      <td>4.299856</td>\n",
       "    </tr>\n",
       "    <tr>\n",
       "      <th>7</th>\n",
       "      <td>a07smr01</td>\n",
       "      <td>ARKI</td>\n",
       "      <td>46</td>\n",
       "      <td>27</td>\n",
       "      <td>3.992453</td>\n",
       "    </tr>\n",
       "    <tr>\n",
       "      <th>8</th>\n",
       "      <td>a07smr01</td>\n",
       "      <td>INIT</td>\n",
       "      <td>33</td>\n",
       "      <td>4</td>\n",
       "      <td>4.631090</td>\n",
       "    </tr>\n",
       "    <tr>\n",
       "      <th>9</th>\n",
       "      <td>a07smr01</td>\n",
       "      <td>INIT</td>\n",
       "      <td>35</td>\n",
       "      <td>78</td>\n",
       "      <td>3.525155</td>\n",
       "    </tr>\n",
       "  </tbody>\n",
       "</table>\n",
       "</div>"
      ],
      "text/plain": [
       "       user job_name  node_id  count  mean_core\n",
       "0  a07smr01   A2REPO        7      1  12.412156\n",
       "1  a07smr01   A2REPO       33      1   3.937672\n",
       "2  a07smr01   A2REPO       35     59   4.375295\n",
       "3  a07smr01   A2REPO       46     24   2.406068\n",
       "4  a07smr01  ARCHIVE        7      1  11.895912\n",
       "5  a07smr01     ARKI       33      7   5.766090\n",
       "6  a07smr01     ARKI       35     81   4.299856\n",
       "7  a07smr01     ARKI       46     27   3.992453\n",
       "8  a07smr01     INIT       33      4   4.631090\n",
       "9  a07smr01     INIT       35     78   3.525155"
      ]
     },
     "execution_count": 111,
     "metadata": {},
     "output_type": "execute_result"
    }
   ],
   "source": [
    "df_user_job_node.head(10)"
   ]
  },
  {
   "cell_type": "markdown",
   "metadata": {},
   "source": [
    "### some study of jobs distribution"
   ]
  },
  {
   "cell_type": "code",
   "execution_count": 112,
   "metadata": {},
   "outputs": [
    {
     "name": "stdout",
     "output_type": "stream",
     "text": [
      "7640/9391 distinct execution\n"
     ]
    }
   ],
   "source": [
    "grouped_jobs_test = merged_jobs_to_nodes.groupby(['user', 'job_name', 'node_id']).size().reset_index(name='counts')\n",
    "\n",
    "print(\"{}/{} distinct execution\".format(grouped_jobs_test.shape[0], merged_jobs_to_nodes.shape[0]))"
   ]
  },
  {
   "cell_type": "code",
   "execution_count": 113,
   "metadata": {},
   "outputs": [
    {
     "name": "stdout",
     "output_type": "stream",
     "text": [
      "5060/9391 distinct job names\n"
     ]
    }
   ],
   "source": [
    "grouped_jobs_test = jobs_test.groupby(['user', 'job_name']).size().reset_index(name='counts')\n",
    "print(\"{}/{} distinct job names\".format(grouped_jobs_test.shape[0], merged_jobs_to_nodes.shape[0]))"
   ]
  },
  {
   "cell_type": "code",
   "execution_count": 114,
   "metadata": {},
   "outputs": [
    {
     "data": {
      "text/html": [
       "<div>\n",
       "<style scoped>\n",
       "    .dataframe tbody tr th:only-of-type {\n",
       "        vertical-align: middle;\n",
       "    }\n",
       "\n",
       "    .dataframe tbody tr th {\n",
       "        vertical-align: top;\n",
       "    }\n",
       "\n",
       "    .dataframe thead th {\n",
       "        text-align: right;\n",
       "    }\n",
       "</style>\n",
       "<table border=\"1\" class=\"dataframe\">\n",
       "  <thead>\n",
       "    <tr style=\"text-align: right;\">\n",
       "      <th></th>\n",
       "      <th>user</th>\n",
       "      <th>job_name</th>\n",
       "      <th>counts</th>\n",
       "    </tr>\n",
       "  </thead>\n",
       "  <tbody>\n",
       "    <tr>\n",
       "      <th>2529</th>\n",
       "      <td>asaetti0</td>\n",
       "      <td>run4975.sh</td>\n",
       "      <td>1</td>\n",
       "    </tr>\n",
       "    <tr>\n",
       "      <th>3262</th>\n",
       "      <td>asaetti0</td>\n",
       "      <td>run5776.sh</td>\n",
       "      <td>1</td>\n",
       "    </tr>\n",
       "    <tr>\n",
       "      <th>3261</th>\n",
       "      <td>asaetti0</td>\n",
       "      <td>run5775.sh</td>\n",
       "      <td>1</td>\n",
       "    </tr>\n",
       "    <tr>\n",
       "      <th>3260</th>\n",
       "      <td>asaetti0</td>\n",
       "      <td>run5773.sh</td>\n",
       "      <td>1</td>\n",
       "    </tr>\n",
       "    <tr>\n",
       "      <th>3258</th>\n",
       "      <td>asaetti0</td>\n",
       "      <td>run5771.sh</td>\n",
       "      <td>1</td>\n",
       "    </tr>\n",
       "    <tr>\n",
       "      <th>3257</th>\n",
       "      <td>asaetti0</td>\n",
       "      <td>run5770.sh</td>\n",
       "      <td>1</td>\n",
       "    </tr>\n",
       "    <tr>\n",
       "      <th>3256</th>\n",
       "      <td>asaetti0</td>\n",
       "      <td>run577.sh</td>\n",
       "      <td>1</td>\n",
       "    </tr>\n",
       "    <tr>\n",
       "      <th>3263</th>\n",
       "      <td>asaetti0</td>\n",
       "      <td>run5777.sh</td>\n",
       "      <td>1</td>\n",
       "    </tr>\n",
       "    <tr>\n",
       "      <th>3255</th>\n",
       "      <td>asaetti0</td>\n",
       "      <td>run5769.sh</td>\n",
       "      <td>1</td>\n",
       "    </tr>\n",
       "    <tr>\n",
       "      <th>3253</th>\n",
       "      <td>asaetti0</td>\n",
       "      <td>run5767.sh</td>\n",
       "      <td>1</td>\n",
       "    </tr>\n",
       "    <tr>\n",
       "      <th>3252</th>\n",
       "      <td>asaetti0</td>\n",
       "      <td>run5766.sh</td>\n",
       "      <td>1</td>\n",
       "    </tr>\n",
       "    <tr>\n",
       "      <th>3251</th>\n",
       "      <td>asaetti0</td>\n",
       "      <td>run5765.sh</td>\n",
       "      <td>1</td>\n",
       "    </tr>\n",
       "    <tr>\n",
       "      <th>3250</th>\n",
       "      <td>asaetti0</td>\n",
       "      <td>run5764.sh</td>\n",
       "      <td>1</td>\n",
       "    </tr>\n",
       "    <tr>\n",
       "      <th>3249</th>\n",
       "      <td>asaetti0</td>\n",
       "      <td>run5763.sh</td>\n",
       "      <td>1</td>\n",
       "    </tr>\n",
       "    <tr>\n",
       "      <th>3248</th>\n",
       "      <td>asaetti0</td>\n",
       "      <td>run5762.sh</td>\n",
       "      <td>1</td>\n",
       "    </tr>\n",
       "    <tr>\n",
       "      <th>3254</th>\n",
       "      <td>asaetti0</td>\n",
       "      <td>run5768.sh</td>\n",
       "      <td>1</td>\n",
       "    </tr>\n",
       "    <tr>\n",
       "      <th>3246</th>\n",
       "      <td>asaetti0</td>\n",
       "      <td>run5760.sh</td>\n",
       "      <td>1</td>\n",
       "    </tr>\n",
       "    <tr>\n",
       "      <th>3264</th>\n",
       "      <td>asaetti0</td>\n",
       "      <td>run5778.sh</td>\n",
       "      <td>1</td>\n",
       "    </tr>\n",
       "    <tr>\n",
       "      <th>3266</th>\n",
       "      <td>asaetti0</td>\n",
       "      <td>run578.sh</td>\n",
       "      <td>1</td>\n",
       "    </tr>\n",
       "    <tr>\n",
       "      <th>3287</th>\n",
       "      <td>asaetti0</td>\n",
       "      <td>run5801.sh</td>\n",
       "      <td>1</td>\n",
       "    </tr>\n",
       "    <tr>\n",
       "      <th>3286</th>\n",
       "      <td>asaetti0</td>\n",
       "      <td>run5800.sh</td>\n",
       "      <td>1</td>\n",
       "    </tr>\n",
       "    <tr>\n",
       "      <th>3285</th>\n",
       "      <td>asaetti0</td>\n",
       "      <td>run580.sh</td>\n",
       "      <td>1</td>\n",
       "    </tr>\n",
       "    <tr>\n",
       "      <th>3280</th>\n",
       "      <td>asaetti0</td>\n",
       "      <td>run5796.sh</td>\n",
       "      <td>1</td>\n",
       "    </tr>\n",
       "    <tr>\n",
       "      <th>3279</th>\n",
       "      <td>asaetti0</td>\n",
       "      <td>run5795.sh</td>\n",
       "      <td>1</td>\n",
       "    </tr>\n",
       "    <tr>\n",
       "      <th>3278</th>\n",
       "      <td>asaetti0</td>\n",
       "      <td>run5794.sh</td>\n",
       "      <td>1</td>\n",
       "    </tr>\n",
       "    <tr>\n",
       "      <th>3265</th>\n",
       "      <td>asaetti0</td>\n",
       "      <td>run5779.sh</td>\n",
       "      <td>1</td>\n",
       "    </tr>\n",
       "    <tr>\n",
       "      <th>3275</th>\n",
       "      <td>asaetti0</td>\n",
       "      <td>run5791.sh</td>\n",
       "      <td>1</td>\n",
       "    </tr>\n",
       "    <tr>\n",
       "      <th>3273</th>\n",
       "      <td>asaetti0</td>\n",
       "      <td>run579.sh</td>\n",
       "      <td>1</td>\n",
       "    </tr>\n",
       "    <tr>\n",
       "      <th>3272</th>\n",
       "      <td>asaetti0</td>\n",
       "      <td>run5788.sh</td>\n",
       "      <td>1</td>\n",
       "    </tr>\n",
       "    <tr>\n",
       "      <th>3271</th>\n",
       "      <td>asaetti0</td>\n",
       "      <td>run5787.sh</td>\n",
       "      <td>1</td>\n",
       "    </tr>\n",
       "    <tr>\n",
       "      <th>...</th>\n",
       "      <td>...</td>\n",
       "      <td>...</td>\n",
       "      <td>...</td>\n",
       "    </tr>\n",
       "    <tr>\n",
       "      <th>4989</th>\n",
       "      <td>mdotti00</td>\n",
       "      <td>H25_vmet</td>\n",
       "      <td>18</td>\n",
       "    </tr>\n",
       "    <tr>\n",
       "      <th>5047</th>\n",
       "      <td>sdimicco</td>\n",
       "      <td>subcpt.sh</td>\n",
       "      <td>18</td>\n",
       "    </tr>\n",
       "    <tr>\n",
       "      <th>4995</th>\n",
       "      <td>mdotti00</td>\n",
       "      <td>S1_vmet</td>\n",
       "      <td>20</td>\n",
       "    </tr>\n",
       "    <tr>\n",
       "      <th>4991</th>\n",
       "      <td>mdotti00</td>\n",
       "      <td>H4_0met</td>\n",
       "      <td>20</td>\n",
       "    </tr>\n",
       "    <tr>\n",
       "      <th>4833</th>\n",
       "      <td>fpetracc</td>\n",
       "      <td>cosmomc_nMin364</td>\n",
       "      <td>20</td>\n",
       "    </tr>\n",
       "    <tr>\n",
       "      <th>5044</th>\n",
       "      <td>sdimicco</td>\n",
       "      <td>4al0</td>\n",
       "      <td>20</td>\n",
       "    </tr>\n",
       "    <tr>\n",
       "      <th>5002</th>\n",
       "      <td>mdotti00</td>\n",
       "      <td>testHR</td>\n",
       "      <td>21</td>\n",
       "    </tr>\n",
       "    <tr>\n",
       "      <th>4852</th>\n",
       "      <td>ggrazios</td>\n",
       "      <td>a7_wat_epj</td>\n",
       "      <td>22</td>\n",
       "    </tr>\n",
       "    <tr>\n",
       "      <th>4993</th>\n",
       "      <td>mdotti00</td>\n",
       "      <td>H4_vmet</td>\n",
       "      <td>23</td>\n",
       "    </tr>\n",
       "    <tr>\n",
       "      <th>4589</th>\n",
       "      <td>dmarson0</td>\n",
       "      <td>D_G596R_p</td>\n",
       "      <td>23</td>\n",
       "    </tr>\n",
       "    <tr>\n",
       "      <th>4985</th>\n",
       "      <td>mdotti00</td>\n",
       "      <td>H1_vmet</td>\n",
       "      <td>23</td>\n",
       "    </tr>\n",
       "    <tr>\n",
       "      <th>4834</th>\n",
       "      <td>fpetracc</td>\n",
       "      <td>cosmomc_nMin63_</td>\n",
       "      <td>24</td>\n",
       "    </tr>\n",
       "    <tr>\n",
       "      <th>4851</th>\n",
       "      <td>ggrazios</td>\n",
       "      <td>a7_wat</td>\n",
       "      <td>24</td>\n",
       "    </tr>\n",
       "    <tr>\n",
       "      <th>4591</th>\n",
       "      <td>dmarson0</td>\n",
       "      <td>D_G596V_p</td>\n",
       "      <td>24</td>\n",
       "    </tr>\n",
       "    <tr>\n",
       "      <th>4983</th>\n",
       "      <td>mdotti00</td>\n",
       "      <td>H1_0met</td>\n",
       "      <td>24</td>\n",
       "    </tr>\n",
       "    <tr>\n",
       "      <th>4836</th>\n",
       "      <td>framondo</td>\n",
       "      <td>DLP</td>\n",
       "      <td>25</td>\n",
       "    </tr>\n",
       "    <tr>\n",
       "      <th>4845</th>\n",
       "      <td>gbertain</td>\n",
       "      <td>x0707_025vmc</td>\n",
       "      <td>25</td>\n",
       "    </tr>\n",
       "    <tr>\n",
       "      <th>4846</th>\n",
       "      <td>gbertain</td>\n",
       "      <td>x0707_050dmc</td>\n",
       "      <td>25</td>\n",
       "    </tr>\n",
       "    <tr>\n",
       "      <th>4847</th>\n",
       "      <td>gbertain</td>\n",
       "      <td>x0707_050vmc</td>\n",
       "      <td>25</td>\n",
       "    </tr>\n",
       "    <tr>\n",
       "      <th>4844</th>\n",
       "      <td>gbertain</td>\n",
       "      <td>x0707_025dmc</td>\n",
       "      <td>26</td>\n",
       "    </tr>\n",
       "    <tr>\n",
       "      <th>5032</th>\n",
       "      <td>planucar</td>\n",
       "      <td>STDIN</td>\n",
       "      <td>37</td>\n",
       "    </tr>\n",
       "    <tr>\n",
       "      <th>4894</th>\n",
       "      <td>mcerini0</td>\n",
       "      <td>script</td>\n",
       "      <td>39</td>\n",
       "    </tr>\n",
       "    <tr>\n",
       "      <th>4831</th>\n",
       "      <td>fpetracc</td>\n",
       "      <td>cosmomc_nMin20_</td>\n",
       "      <td>39</td>\n",
       "    </tr>\n",
       "    <tr>\n",
       "      <th>5005</th>\n",
       "      <td>mmorgott</td>\n",
       "      <td>hpl-singlenode.</td>\n",
       "      <td>40</td>\n",
       "    </tr>\n",
       "    <tr>\n",
       "      <th>4617</th>\n",
       "      <td>dmeggiol</td>\n",
       "      <td>job</td>\n",
       "      <td>57</td>\n",
       "    </tr>\n",
       "    <tr>\n",
       "      <th>5034</th>\n",
       "      <td>psilvest</td>\n",
       "      <td>input_new.job</td>\n",
       "      <td>65</td>\n",
       "    </tr>\n",
       "    <tr>\n",
       "      <th>21</th>\n",
       "      <td>aambrose</td>\n",
       "      <td>input.job</td>\n",
       "      <td>69</td>\n",
       "    </tr>\n",
       "    <tr>\n",
       "      <th>5055</th>\n",
       "      <td>tjones00</td>\n",
       "      <td>S1</td>\n",
       "      <td>79</td>\n",
       "    </tr>\n",
       "    <tr>\n",
       "      <th>5016</th>\n",
       "      <td>msaba000</td>\n",
       "      <td>nst.sh</td>\n",
       "      <td>154</td>\n",
       "    </tr>\n",
       "    <tr>\n",
       "      <th>4629</th>\n",
       "      <td>fesposit</td>\n",
       "      <td>convlwalle</td>\n",
       "      <td>236</td>\n",
       "    </tr>\n",
       "  </tbody>\n",
       "</table>\n",
       "<p>5060 rows × 3 columns</p>\n",
       "</div>"
      ],
      "text/plain": [
       "          user         job_name  counts\n",
       "2529  asaetti0       run4975.sh       1\n",
       "3262  asaetti0       run5776.sh       1\n",
       "3261  asaetti0       run5775.sh       1\n",
       "3260  asaetti0       run5773.sh       1\n",
       "3258  asaetti0       run5771.sh       1\n",
       "3257  asaetti0       run5770.sh       1\n",
       "3256  asaetti0        run577.sh       1\n",
       "3263  asaetti0       run5777.sh       1\n",
       "3255  asaetti0       run5769.sh       1\n",
       "3253  asaetti0       run5767.sh       1\n",
       "3252  asaetti0       run5766.sh       1\n",
       "3251  asaetti0       run5765.sh       1\n",
       "3250  asaetti0       run5764.sh       1\n",
       "3249  asaetti0       run5763.sh       1\n",
       "3248  asaetti0       run5762.sh       1\n",
       "3254  asaetti0       run5768.sh       1\n",
       "3246  asaetti0       run5760.sh       1\n",
       "3264  asaetti0       run5778.sh       1\n",
       "3266  asaetti0        run578.sh       1\n",
       "3287  asaetti0       run5801.sh       1\n",
       "3286  asaetti0       run5800.sh       1\n",
       "3285  asaetti0        run580.sh       1\n",
       "3280  asaetti0       run5796.sh       1\n",
       "3279  asaetti0       run5795.sh       1\n",
       "3278  asaetti0       run5794.sh       1\n",
       "3265  asaetti0       run5779.sh       1\n",
       "3275  asaetti0       run5791.sh       1\n",
       "3273  asaetti0        run579.sh       1\n",
       "3272  asaetti0       run5788.sh       1\n",
       "3271  asaetti0       run5787.sh       1\n",
       "...        ...              ...     ...\n",
       "4989  mdotti00         H25_vmet      18\n",
       "5047  sdimicco        subcpt.sh      18\n",
       "4995  mdotti00          S1_vmet      20\n",
       "4991  mdotti00          H4_0met      20\n",
       "4833  fpetracc  cosmomc_nMin364      20\n",
       "5044  sdimicco             4al0      20\n",
       "5002  mdotti00           testHR      21\n",
       "4852  ggrazios       a7_wat_epj      22\n",
       "4993  mdotti00          H4_vmet      23\n",
       "4589  dmarson0        D_G596R_p      23\n",
       "4985  mdotti00          H1_vmet      23\n",
       "4834  fpetracc  cosmomc_nMin63_      24\n",
       "4851  ggrazios           a7_wat      24\n",
       "4591  dmarson0        D_G596V_p      24\n",
       "4983  mdotti00          H1_0met      24\n",
       "4836  framondo              DLP      25\n",
       "4845  gbertain     x0707_025vmc      25\n",
       "4846  gbertain     x0707_050dmc      25\n",
       "4847  gbertain     x0707_050vmc      25\n",
       "4844  gbertain     x0707_025dmc      26\n",
       "5032  planucar            STDIN      37\n",
       "4894  mcerini0           script      39\n",
       "4831  fpetracc  cosmomc_nMin20_      39\n",
       "5005  mmorgott  hpl-singlenode.      40\n",
       "4617  dmeggiol              job      57\n",
       "5034  psilvest    input_new.job      65\n",
       "21    aambrose        input.job      69\n",
       "5055  tjones00               S1      79\n",
       "5016  msaba000           nst.sh     154\n",
       "4629  fesposit       convlwalle     236\n",
       "\n",
       "[5060 rows x 3 columns]"
      ]
     },
     "execution_count": 114,
     "metadata": {},
     "output_type": "execute_result"
    }
   ],
   "source": [
    "grouped_jobs_test.sort_values('counts')"
   ]
  },
  {
   "cell_type": "code",
   "execution_count": 116,
   "metadata": {},
   "outputs": [],
   "source": [
    "#convlwalle = jobs_test[jobs_test['job_name'] == 'convlwalle'][['real_pow','cpu_req', '']]\n",
    "#convlwalle['mean_core'] = convlwalle['real_pow'] / convlwalle['cpu_req']\n",
    "#convlwalle"
   ]
  },
  {
   "cell_type": "code",
   "execution_count": null,
   "metadata": {},
   "outputs": [],
   "source": []
  },
  {
   "cell_type": "code",
   "execution_count": null,
   "metadata": {},
   "outputs": [],
   "source": []
  },
  {
   "cell_type": "code",
   "execution_count": null,
   "metadata": {},
   "outputs": [],
   "source": []
  },
  {
   "cell_type": "code",
   "execution_count": null,
   "metadata": {},
   "outputs": [],
   "source": []
  },
  {
   "cell_type": "code",
   "execution_count": null,
   "metadata": {},
   "outputs": [],
   "source": []
  },
  {
   "cell_type": "code",
   "execution_count": 117,
   "metadata": {},
   "outputs": [],
   "source": [
    "''' 1 dataframe\n",
    "Predict the power consumption of a job.\n",
    "    If the user and the job name are known, than it use the method 1 [user,job,nodes]\n",
    "    if only the user is known, than it use the method 2 [user,nodes]\n",
    "    Otherwise it use the method 3 [nodes]\n",
    "'''\n",
    "\n",
    "def predict_pow(user, job_name, used_nodes, used_cpus):\n",
    "    pred_pow = 0.0\n",
    "    \n",
    "    methods = [0, 0, 0, 0, 0]\n",
    "    \n",
    "    # check if the method 1 is available\n",
    "    mean_core_user_job = df_user_job_node.loc[(df_user_job_node['user']==user) & (df_user_job_node['job_name'] == job_name)]\n",
    "    if(mean_core_user_job.shape[0] != 0):  # if != 0 than user and job name exist on hystoric data\n",
    "        \n",
    "        #mean_core_wholeNodes = mean_core_user_job['mean_core'].mean()\n",
    "        mean_core_wholeNodes = np.average(mean_core_user_job['mean_core'], weights=mean_core_user_job['count'])\n",
    "        \n",
    "        for node, ncpu in zip(used_nodes, used_cpus):\n",
    "            mean_node = mean_core_user_job.loc[(mean_core_user_job['node_id']==node)]\n",
    "            if(mean_node.shape[0] != 0):\n",
    "                #pred_pow += mean_node['mean_core'].iloc[0] * ncpu\n",
    "                pred_pow += mean_node['mean_core'].mean() * ncpu\n",
    "                methods[0] += 1\n",
    "            else:\n",
    "                pred_pow += mean_core_wholeNodes * ncpu\n",
    "                methods[1] += 1\n",
    "        return (methods, pred_pow)\n",
    "    \n",
    "    \n",
    "    # check if the method 2 is available\n",
    "    mean_core_user = df_user_job_node.loc[df_user_job_node['user']==user]\n",
    "    if(mean_core_user.shape[0] != 0):  # if != 0 than user exists on hystoric data\n",
    "        \n",
    "        #mean_core_wholeUserJobs = mean_core_user['mean_core'].mean()\n",
    "        mean_core_wholeUserJobs = np.average(mean_core_user['mean_core'], weights=mean_core_user['count'])\n",
    "        \n",
    "        for node, ncpu in zip(used_nodes, used_cpus):\n",
    "            mean_node = mean_core_user.loc[(mean_core_user['node_id']==node)]\n",
    "            if(mean_node.shape[0] != 0):\n",
    "                #pred_pow += mean_node['mean_core'].iloc[0] * ncpu\n",
    "                pred_pow += mean_node['mean_core'].mean() * ncpu\n",
    "                methods[2] += 1\n",
    "            else:\n",
    "                pred_pow += mean_core_wholeUserJobs * ncpu\n",
    "                methods[3] += 1\n",
    "        return (methods, pred_pow)\n",
    "    \n",
    "    \n",
    "    # method 3 is the only one available\n",
    "    for node, ncpu in zip(used_nodes, used_cpus):\n",
    "        mean_node = df_user_job_node.loc[df_user_job_node['node_id']==node]\n",
    "        mean_core_node = np.average(mean_node['mean_core'], weights=mean_node['count'])\n",
    "        \n",
    "        pred_pow += mean_core_node * ncpu\n",
    "        methods[4] += 1\n",
    "    return (methods, pred_pow)"
   ]
  },
  {
   "cell_type": "code",
   "execution_count": 119,
   "metadata": {},
   "outputs": [
    {
     "name": "stdout",
     "output_type": "stream",
     "text": [
      "1000/8741\n",
      "2000/8741\n",
      "3000/8741\n",
      "4000/8741\n",
      "5000/8741\n",
      "6000/8741\n",
      "7000/8741\n",
      "8000/8741\n"
     ]
    }
   ],
   "source": [
    "## OFFLINE 1 FILE\n",
    "df_user_job_node = df_user_job_node_copy\n",
    "\n",
    "i = 0\n",
    "jobs_test['predict_off_whole'] = 0.0\n",
    "#jobs_test['method_off_whole'] = 0\n",
    "global_methods = [0, 0, 0, 0, 0]\n",
    "\n",
    "for index_job_test, row_job_test in jobs_test.iterrows():\n",
    "    merged_job_to_nodes = merged_jobs_to_nodes[merged_jobs_to_nodes['job_id_string'] == row_job_test['job_id_string']]\n",
    "    grouped_job_to_nodes = merged_job_to_nodes.groupby(['node_id', 'ncpus','ngpus', 'nmics']).size().reset_index(name='counts')\n",
    "    \n",
    "    used_nodes = grouped_job_to_nodes['node_id']\n",
    "    used_cpus = grouped_job_to_nodes['ncpus']\n",
    "    \n",
    "    methods, predicted_pow = predict_pow(row_job_test['user'], row_job_test['job_name'], used_nodes, used_cpus)\n",
    "    \n",
    "    for j in range(5):\n",
    "        global_methods[j] += methods[j]\n",
    "    \n",
    "    #print(\"{}: {} ------- {}\".format(method, predicted_pow, row_job_test['real_pow']))\n",
    "    jobs_test.at[index_job_test, 'predict_off_whole'] = predicted_pow\n",
    "    #jobs_test.at[index_job_test, 'method_off_whole'] = method\n",
    "    \n",
    "    i += 1\n",
    "    if(i%1000 == 0):\n",
    "        print(\"{}/{}\".format(i, jobs_test.shape[0]))\n",
    "    #print(\"{}/{}\".format(i, jobs_test.shape[0]))\n",
    "\n",
    "df_user_job_node_offline = df_user_job_node"
   ]
  },
  {
   "cell_type": "code",
   "execution_count": 120,
   "metadata": {},
   "outputs": [
    {
     "data": {
      "text/plain": [
       "[2044, 1627, 5614, 77, 29]"
      ]
     },
     "execution_count": 120,
     "metadata": {},
     "output_type": "execute_result"
    }
   ],
   "source": [
    "global_methods"
   ]
  },
  {
   "cell_type": "code",
   "execution_count": 122,
   "metadata": {},
   "outputs": [
    {
     "name": "stdout",
     "output_type": "stream",
     "text": [
      "the mean is 109.18671703238813\n",
      "r_2 is 0.787867975703753\n",
      "RMSE is 113.5100905031374\n",
      "NRMSE is 1.039596148581579\n"
     ]
    }
   ],
   "source": [
    "jobs_test_copy = jobs_test\n",
    "#good_quality_jobs = long_jobs[long_jobs['real_pow_quality'] != 0]\n",
    "#print(math.sqrt(np.var(good_quality_jobs['real_pow'])))\n",
    "#good_quality_jobs = long_jobs\n",
    "\n",
    "mean_real_pow = jobs_test['real_pow'].mean()\n",
    "print(\"the mean is {}\".format(mean_real_pow))\n",
    "\n",
    "jobs_test['numerator'] = (jobs_test['real_pow'] - jobs_test['predict_off_whole'])**2\n",
    "jobs_test['denumerator'] = (jobs_test['real_pow'] - mean_real_pow)**2\n",
    "N = jobs_test['numerator'].shape[0]\n",
    "\n",
    "r_2 = 1 - (jobs_test['numerator'].sum() / jobs_test['denumerator'].sum())\n",
    "print(\"r_2 is {}\".format(r_2))\n",
    "\n",
    "rmse = math.sqrt(jobs_test['numerator'].sum() / N)\n",
    "print(\"RMSE is {}\".format(rmse))\n",
    "print(\"NRMSE is {}\".format(rmse/mean_real_pow))"
   ]
  },
  {
   "cell_type": "code",
   "execution_count": null,
   "metadata": {},
   "outputs": [],
   "source": []
  },
  {
   "cell_type": "code",
   "execution_count": null,
   "metadata": {},
   "outputs": [],
   "source": []
  },
  {
   "cell_type": "code",
   "execution_count": 31,
   "metadata": {},
   "outputs": [
    {
     "data": {
      "text/plain": [
       "23260"
      ]
     },
     "execution_count": 31,
     "metadata": {},
     "output_type": "execute_result"
    }
   ],
   "source": [
    "#debug\n",
    "df_user_job_node.shape[0]"
   ]
  },
  {
   "cell_type": "code",
   "execution_count": 32,
   "metadata": {},
   "outputs": [
    {
     "data": {
      "text/plain": [
       "23260"
      ]
     },
     "execution_count": 32,
     "metadata": {},
     "output_type": "execute_result"
    }
   ],
   "source": [
    "df_user_job_node_copy.shape[0]"
   ]
  },
  {
   "cell_type": "code",
   "execution_count": null,
   "metadata": {},
   "outputs": [],
   "source": []
  },
  {
   "cell_type": "code",
   "execution_count": null,
   "metadata": {},
   "outputs": [],
   "source": []
  },
  {
   "cell_type": "code",
   "execution_count": null,
   "metadata": {},
   "outputs": [],
   "source": []
  },
  {
   "cell_type": "code",
   "execution_count": 123,
   "metadata": {},
   "outputs": [
    {
     "name": "stdout",
     "output_type": "stream",
     "text": [
      "1000/8741\n",
      "2000/8741\n",
      "3000/8741\n",
      "4000/8741\n",
      "5000/8741\n",
      "6000/8741\n",
      "7000/8741\n",
      "8000/8741\n"
     ]
    }
   ],
   "source": [
    "## ONLINE 1 FILE\n",
    "df_user_job_node = df_user_job_node_copy\n",
    "i = 0\n",
    "jobs_test['predict_online_whole'] = 0.0\n",
    "#jobs_test['method_off_whole'] = 0\n",
    "global_methods_online = [0, 0, 0, 0, 0]\n",
    "\n",
    "for index_job_test, row_job_test in jobs_test.iterrows():\n",
    "    merged_job_to_nodes = merged_jobs_to_nodes[merged_jobs_to_nodes['job_id_string'] == row_job_test['job_id_string']]\n",
    "    grouped_job_to_nodes = merged_job_to_nodes.groupby(['node_id', 'ncpus','ngpus', 'nmics']).size().reset_index(name='counts')\n",
    "    \n",
    "    used_nodes = grouped_job_to_nodes['node_id']\n",
    "    used_cpus = grouped_job_to_nodes['ncpus']\n",
    "    \n",
    "    methods, predicted_pow = predict_pow(row_job_test['user'], row_job_test['job_name'], used_nodes, used_cpus)\n",
    "    \n",
    "    for j in range(5):\n",
    "        global_methods_online[j] += methods[j]\n",
    "    \n",
    "    #print(\"{}: {} ------- {}\".format(method, predicted_pow, row_job_test['real_pow']))\n",
    "    jobs_test.at[index_job_test, 'predict_online_whole'] = predicted_pow\n",
    "    #jobs_test.at[index_job_test, 'method_off_whole'] = method\n",
    "    \n",
    "    ## ONLINE ---\n",
    "    for node in used_nodes:\n",
    "        job_node_mean_core = row_job_test['real_pow'] / row_job_test['cpu_req']\n",
    "        #online_new_row = {'user':row_job_test['user'], 'job_name':row_job_test['job_name'], 'node_id':node, 'count':1, 'mean_core':mean_core}\n",
    "        #append row to the dataframe\n",
    "        \n",
    "        conditions = (df_user_job_node['user'] == row_job_test['user']) & (df_user_job_node['job_name'] == row_job_test['job_name']) & (df_user_job_node['node_id'] == node)\n",
    "        \n",
    "        if(conditions.any()):\n",
    "            ##1 avg between the previous value and the current one\n",
    "            #df_user_job_node.loc[conditions, ['mean_core', 'count']] = [(df_user_job_node.loc[conditions, 'mean_core'] + mean_core) / 2, df_user_job_node.loc[conditions, 'count'] + 1]\n",
    "            \n",
    "            ##2 just place the current one instead the previous (bad results)\n",
    "            #df_user_job_node.loc[conditions, ['mean_core', 'count']] = [mean_core, df_user_job_node.loc[conditions, 'count'] + 1]\n",
    "            \n",
    "            ##3 weighted avg\n",
    "            prev_mean_core = df_user_job_node.loc[conditions, 'mean_core'].iloc[0]\n",
    "            prev_count = df_user_job_node.loc[conditions, 'count'].iloc[0]\n",
    "            df_user_job_node.loc[conditions, ['mean_core', 'count']] = [(prev_mean_core*prev_count + job_node_mean_core) / (prev_count+1), prev_count + 1]\n",
    "            \n",
    "        else:\n",
    "            #print(\"-------b\")\n",
    "            online_new_row = {'user':row_job_test['user'], 'job_name':row_job_test['job_name'], 'node_id':node, 'count':1, 'mean_core':job_node_mean_core}\n",
    "            #append row to the dataframe\n",
    "            df_user_job_node = df_user_job_node.append(online_new_row, ignore_index=True)\n",
    "        \n",
    "        \n",
    "    #df_user_job_node_online = df_user_job_node_online.groupby(['user', 'job_name', 'node_id']).agg({'mean_core':'mean'}).reset_index()\n",
    "    \n",
    "    \n",
    "    #if(i%100 == 0):\n",
    "    #    break\n",
    "    \n",
    "    i += 1\n",
    "    if(i%1000 == 0):\n",
    "        print(\"{}/{}\".format(i, jobs_test.shape[0]))\n",
    "        #break\n",
    "        \n",
    "    #print(\"{}/{}\".format(i, jobs_test.shape[0]))\n",
    "    \n",
    "df_user_job_node_online = df_user_job_node"
   ]
  },
  {
   "cell_type": "code",
   "execution_count": 124,
   "metadata": {},
   "outputs": [
    {
     "data": {
      "text/plain": [
       "[2652, 2434, 4261, 36, 8]"
      ]
     },
     "execution_count": 124,
     "metadata": {},
     "output_type": "execute_result"
    }
   ],
   "source": [
    "global_methods_online\n"
   ]
  },
  {
   "cell_type": "code",
   "execution_count": 125,
   "metadata": {
    "code_folding": []
   },
   "outputs": [
    {
     "name": "stdout",
     "output_type": "stream",
     "text": [
      "the mean is 109.18671703238813\n",
      "r_2 is 0.8362628722386918\n",
      "RMSE is 99.7252045341582\n",
      "NRMSE is 0.9133455721044954\n"
     ]
    }
   ],
   "source": [
    "jobs_test_copy = jobs_test\n",
    "#good_quality_jobs = long_jobs[long_jobs['real_pow_quality'] != 0]\n",
    "#print(math.sqrt(np.var(good_quality_jobs['real_pow'])))\n",
    "#good_quality_jobs = long_jobs\n",
    "\n",
    "mean_real_pow = jobs_test['real_pow'].mean()\n",
    "print(\"the mean is {}\".format(mean_real_pow))\n",
    "\n",
    "jobs_test['numerator'] = (jobs_test['real_pow'] - jobs_test['predict_online_whole'])**2\n",
    "jobs_test['denumerator'] = (jobs_test['real_pow'] - mean_real_pow)**2\n",
    "N = jobs_test['numerator'].shape[0]\n",
    "\n",
    "r_2 = 1 - (jobs_test['numerator'].sum() / jobs_test['denumerator'].sum())\n",
    "print(\"r_2 is {}\".format(r_2))\n",
    "\n",
    "rmse = math.sqrt(jobs_test['numerator'].sum() / N)\n",
    "print(\"RMSE is {}\".format(rmse))\n",
    "print(\"NRMSE is {}\".format(rmse/mean_real_pow))"
   ]
  },
  {
   "cell_type": "code",
   "execution_count": 84,
   "metadata": {},
   "outputs": [],
   "source": [
    "##OFFLINE 1\n",
    "#the mean is 74.0599653418435\n",
    "#r_2 is 0.6449911853863788\n",
    "#RMSE is 95.8368082651351\n",
    "#NRMSE is 1.2940433852861637\n",
    "#[2758, 3828, 18875, 78, 30]\n",
    "\n",
    "\n",
    "##ONLINE 1\n",
    "#the mean is 74.0599653418435\n",
    "#r_2 is 0.6002694823421173\n",
    "#RMSE is 101.69425671452096\n",
    "#NRMSE is 1.3731340035756705\n",
    "#[4856, 13920, 6751, 34, 8]\n",
    "\n",
    "# NOTE: only 8 new user"
   ]
  },
  {
   "cell_type": "code",
   "execution_count": null,
   "metadata": {},
   "outputs": [],
   "source": []
  },
  {
   "cell_type": "code",
   "execution_count": null,
   "metadata": {},
   "outputs": [],
   "source": []
  },
  {
   "cell_type": "code",
   "execution_count": null,
   "metadata": {},
   "outputs": [],
   "source": []
  },
  {
   "cell_type": "code",
   "execution_count": null,
   "metadata": {},
   "outputs": [],
   "source": []
  },
  {
   "cell_type": "markdown",
   "metadata": {},
   "source": [
    "# old"
   ]
  },
  {
   "cell_type": "code",
   "execution_count": 71,
   "metadata": {},
   "outputs": [],
   "source": [
    "'''\n",
    "Predict the power consumption of a job.\n",
    "    If the user and the job name are known, than it use the method 1 [user,job,nodes]\n",
    "    if only the user is known, than it use the method 2 [user,nodes]\n",
    "    Otherwise it use the method 3 [nodes]\n",
    "'''\n",
    "\n",
    "def predict_pow(user, job_name, used_nodes, used_cpus):\n",
    "    pred_pow = 0.0\n",
    "    \n",
    "    methods = [0, 0, 0, 0, 0]\n",
    "    \n",
    "    # check if the method 1 is available\n",
    "    mean_core_user_job = df_user_job_node.loc[(df_user_job_node['user']==user) & (df_user_job_node['job_name'] == job_name)]\n",
    "    if(mean_core_user_job.shape[0] != 0):  # if != 0 than user and job name exist on hystoric data\n",
    "        mean_core_wholeNodes = mean_core_user_job['mean_core'].mean()\n",
    "        for node, ncpu in zip(used_nodes, used_cpus):\n",
    "            mean_node = mean_core_user_job.loc[(mean_core_user_job['node_id']==node)]\n",
    "            if(mean_node.shape[0] != 0):\n",
    "                pred_pow += mean_node['mean_core'].iloc[0] * ncpu\n",
    "                methods[0] += 1\n",
    "            else:\n",
    "                pred_pow += mean_core_wholeNodes * ncpu\n",
    "                methods[1] += 1\n",
    "        return (methods, pred_pow)\n",
    "    \n",
    "    \n",
    "    # check if the method 2 is available\n",
    "    mean_core_user = df_user_node.loc[(df_user_node['user']==user)]\n",
    "    if(mean_core_user.shape[0] != 0):  # if != 0 than user exists on hystoric data\n",
    "        mean_core_wholeUserJobs = mean_core_user['mean_core'].mean()\n",
    "        for node, ncpu in zip(used_nodes, used_cpus):\n",
    "            mean_node = mean_core_user.loc[(mean_core_user['node_id']==node)]\n",
    "            if(mean_node.shape[0] != 0):\n",
    "                pred_pow += mean_node['mean_core'].iloc[0] * ncpu\n",
    "                methods[2] += 1\n",
    "            else:\n",
    "                pred_pow += mean_core_wholeUserJobs * ncpu\n",
    "                methods[3] += 1\n",
    "        return (methods, pred_pow)\n",
    "    \n",
    "    \n",
    "    # method 3 is the only one available\n",
    "    for node, ncpu in zip(used_nodes, used_cpus):\n",
    "        mean_node = df_node.loc[(df_node['node_id']==node)]\n",
    "        pred_pow += mean_node['mean_core'].iloc[0] * ncpu\n",
    "        methods[4] += 1\n",
    "    return (methods, pred_pow)"
   ]
  },
  {
   "cell_type": "code",
   "execution_count": null,
   "metadata": {},
   "outputs": [],
   "source": []
  },
  {
   "cell_type": "code",
   "execution_count": 5,
   "metadata": {},
   "outputs": [],
   "source": [
    "# Prediction"
   ]
  },
  {
   "cell_type": "code",
   "execution_count": 73,
   "metadata": {},
   "outputs": [],
   "source": [
    "#debug\n",
    "#merged_jobs_to_nodes[merged_jobs_to_nodes[['user', 'job_name', 'node_req', 'node_id', 'ncpus']]['node_req']>1]"
   ]
  },
  {
   "cell_type": "code",
   "execution_count": null,
   "metadata": {},
   "outputs": [],
   "source": [
    "## OFFLINE 3 FILE\n",
    "\n",
    "i = 0\n",
    "jobs_test['predict_off_whole'] = 0.0\n",
    "#jobs_test['method_off_whole'] = 0\n",
    "global_methods = [0, 0, 0, 0, 0]\n",
    "\n",
    "for index_job_test, row_job_test in jobs_test.iterrows():\n",
    "    merged_job_to_nodes = merged_jobs_to_nodes[merged_jobs_to_nodes['job_id_string'] == row_job_test['job_id_string']]\n",
    "    grouped_job_to_nodes = merged_job_to_nodes.groupby(['node_id', 'ncpus','ngpus', 'nmics']).size().reset_index(name='counts')\n",
    "    \n",
    "    used_nodes = grouped_job_to_nodes['node_id']\n",
    "    used_cpus = grouped_job_to_nodes['ncpus']\n",
    "    \n",
    "    methods, predicted_pow = predict_pow(row_job_test['user'], row_job_test['job_name'], used_nodes, used_cpus)\n",
    "    \n",
    "    for j in range(5):\n",
    "        global_methods[j] += methods[j]\n",
    "    \n",
    "    #global_methods[0] += methods[0]\n",
    "    #global_methods[1] += methods[1]\n",
    "    #global_methods[2] += methods[2]\n",
    "    #global_methods[3] += methods[3]\n",
    "    #global_methods[4] += methods[4]\n",
    "    \n",
    "       \n",
    "    #print(\"{}: {} ------- {}\".format(method, predicted_pow, row_job_test['real_pow']))\n",
    "    jobs_test.at[index_job_test, 'predict_off_whole'] = predicted_pow\n",
    "    #jobs_test.at[index_job_test, 'method_off_whole'] = method\n",
    "    \n",
    "    i += 1\n",
    "    if(i%1000 == 0):\n",
    "        print(\"{}/{}\".format(i, jobs_test.shape[0]))\n",
    "    #print(\"{}/{}\".format(i, jobs_test.shape[0]))"
   ]
  },
  {
   "cell_type": "code",
   "execution_count": 44,
   "metadata": {},
   "outputs": [
    {
     "data": {
      "text/plain": [
       "[2758, 3828, 0, 18953, 30]"
      ]
     },
     "execution_count": 44,
     "metadata": {},
     "output_type": "execute_result"
    }
   ],
   "source": [
    "global_methods"
   ]
  },
  {
   "cell_type": "code",
   "execution_count": 46,
   "metadata": {},
   "outputs": [
    {
     "data": {
      "text/plain": [
       "25569"
      ]
     },
     "execution_count": 46,
     "metadata": {},
     "output_type": "execute_result"
    }
   ],
   "source": [
    "merged_jobs_to_nodes.shape[0]"
   ]
  },
  {
   "cell_type": "code",
   "execution_count": 45,
   "metadata": {},
   "outputs": [
    {
     "data": {
      "text/plain": [
       "25569"
      ]
     },
     "execution_count": 45,
     "metadata": {},
     "output_type": "execute_result"
    }
   ],
   "source": [
    "2758+3828+18953+30"
   ]
  },
  {
   "cell_type": "code",
   "execution_count": null,
   "metadata": {},
   "outputs": [],
   "source": []
  },
  {
   "cell_type": "code",
   "execution_count": null,
   "metadata": {},
   "outputs": [],
   "source": []
  },
  {
   "cell_type": "code",
   "execution_count": null,
   "metadata": {},
   "outputs": [],
   "source": []
  },
  {
   "cell_type": "code",
   "execution_count": null,
   "metadata": {},
   "outputs": [],
   "source": []
  },
  {
   "cell_type": "code",
   "execution_count": null,
   "metadata": {},
   "outputs": [],
   "source": []
  },
  {
   "cell_type": "code",
   "execution_count": null,
   "metadata": {},
   "outputs": [],
   "source": []
  },
  {
   "cell_type": "code",
   "execution_count": null,
   "metadata": {},
   "outputs": [],
   "source": [
    "# method 1 whole\n",
    "#the mean is 104.10646370851616\n",
    "#r_2 is 0.7946394725232087\n",
    "#RMSE is 128.29866772525662\n",
    "#NRMSE is 1.2323794618984976\n",
    "\n",
    "# method 1\n",
    "#the mean is 146.6539413363719\n",
    "#r_2 is 0.7891392216999262\n",
    "#RMSE is 165.15338225831218\n",
    "#NRMSE is 1.1261434964063404\n",
    "\n",
    "# all\n",
    "#the mean is 74.0599653418435\n",
    "#r_2 is 0.6330236798554962\n",
    "#RMSE is 97.43877023494733\n",
    "#NRMSE is 1.3156739918145077\n",
    "\n",
    "\n",
    "\n",
    "# user jobs\n",
    "#the mean is 110.35204538702968\n",
    "#r_2 is 0.810136180971846\n",
    "#RMSE is 117.51841984031236\n",
    "#NRMSE is 1.0649410206049972"
   ]
  },
  {
   "cell_type": "code",
   "execution_count": 5,
   "metadata": {},
   "outputs": [],
   "source": [
    "infile_user_job_node = datadir + \"CPUs/\" + interval_comment + \"/\" + interval_comment + \"_mean_core_user_job_node\"\n",
    "df_user_job_node = pd.read_csv(infile_user_job_node + \".csv\", index_col=0)\n",
    "infile_user_job = datadir + \"CPUs/\" + interval_comment + \"/\" + interval_comment + \"_mean_core_user_job\"\n",
    "df_user_job = pd.read_csv(infile_user_job + \".csv\", index_col=0)\n",
    "infile_user_node = datadir + \"CPUs/\" + interval_comment + \"/\" + interval_comment + \"_mean_core_user_node\"\n",
    "df_user_node = pd.read_csv(infile_user_node + \".csv\", index_col=0)\n",
    "infile_user = datadir + \"CPUs/\" + interval_comment + \"/\" + interval_comment + \"_mean_core_user\"\n",
    "df_user = pd.read_csv(infile_user + \".csv\", index_col=0)\n",
    "infile_node = datadir + \"CPUs/\" + interval_comment + \"/\" + interval_comment + \"_mean_core_node\"\n",
    "df_node = pd.read_csv(infile_node + \".csv\", index_col=0)"
   ]
  }
 ],
 "metadata": {
  "kernelspec": {
   "display_name": "Python 3",
   "language": "python",
   "name": "python3"
  },
  "language_info": {
   "codemirror_mode": {
    "name": "ipython",
    "version": 3
   },
   "file_extension": ".py",
   "mimetype": "text/x-python",
   "name": "python",
   "nbconvert_exporter": "python",
   "pygments_lexer": "ipython3",
   "version": "3.5.2"
  }
 },
 "nbformat": 4,
 "nbformat_minor": 2
}
