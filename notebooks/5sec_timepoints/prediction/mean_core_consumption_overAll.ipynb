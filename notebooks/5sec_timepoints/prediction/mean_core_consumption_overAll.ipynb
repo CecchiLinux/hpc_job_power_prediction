{
 "cells": [
  {
   "cell_type": "code",
   "execution_count": 57,
   "metadata": {},
   "outputs": [],
   "source": [
    "import pandas as pd\n",
    "import errno    \n",
    "import os\n",
    "import numpy as np\n",
    "import math\n",
    "\n",
    "'''\n",
    "Author: Enrico Ceccolini\n",
    "    TODO\n",
    "'''\n",
    "\n",
    "datadir = \"/datasets/eurora_data/db1/\"\n",
    "\n",
    "suffix = \"_5sec_\"\n",
    "### select an interval from\n",
    "## 1 settings wholeData\n",
    "#interval_comment_whole = \"WholeData\"\n",
    "\n",
    "### select an interval from\n",
    "## 2 settings Andrea\n",
    "interval_comment = \"Andrea\"\n",
    "start_time = pd.to_datetime('2014-03-31')\n",
    "end_time = pd.to_datetime('2014-05-01')\n",
    "#infile_jobs = datadir + \"april_long_jobs.csv\"\n",
    "\n",
    "## 3 settings Alina\n",
    "#interval_comment = \"Alina\"\n",
    "#start_time = pd.to_datetime('2014-06-30')\n",
    "#end_time = pd.to_datetime('2014-11-01')\n",
    "\n",
    "infile_long_jobs = datadir + \"CPUs/\" + interval_comment + \"/\" + interval_comment + \"_long_jobs_real_pow\"\n",
    "infile_short_jobs = datadir + \"CPUs/\" + interval_comment + \"/\" + interval_comment + \"_short_jobs_real_pow\""
   ]
  },
  {
   "cell_type": "code",
   "execution_count": 58,
   "metadata": {},
   "outputs": [
    {
     "name": "stdout",
     "output_type": "stream",
     "text": [
      "There are 35284 long jobs in the Andrea's interval\n"
     ]
    }
   ],
   "source": [
    "long_jobs = pd.read_csv(infile_long_jobs + \".csv\", index_col=0)\n",
    "print(\"There are {} long jobs in the {}'s interval\".format(long_jobs.shape[0], interval_comment))"
   ]
  },
  {
   "cell_type": "code",
   "execution_count": 59,
   "metadata": {},
   "outputs": [
    {
     "name": "stdout",
     "output_type": "stream",
     "text": [
      "There are 53253 long jobs in the Andrea's interval\n"
     ]
    }
   ],
   "source": [
    "short_jobs = pd.read_csv(infile_short_jobs + \".csv\", index_col=0)\n",
    "print(\"There are {} long jobs in the {}'s interval\".format(short_jobs.shape[0], interval_comment))"
   ]
  },
  {
   "cell_type": "markdown",
   "metadata": {},
   "source": [
    "Separo i nodi che hanno eseguito esclusivamente su un tipo di nodo"
   ]
  },
  {
   "cell_type": "code",
   "execution_count": 60,
   "metadata": {},
   "outputs": [
    {
     "name": "stdout",
     "output_type": "stream",
     "text": [
      "There are 5352 jobs completely running on this type of cpu\n",
      "There are 1501 jobs completely running on this type of cpu\n",
      "There are 27977 jobs completely running on this type of cpu\n"
     ]
    }
   ],
   "source": [
    "long_jobs_2_1 = long_jobs[long_jobs['node_req'] == long_jobs['n_2_1']]\n",
    "print(\"There are {} jobs completely running on this type of cpu\".format(long_jobs_2_1.shape[0]))\n",
    "long_jobs_2_2 = long_jobs[long_jobs['node_req'] == long_jobs['n_2_2']]\n",
    "print(\"There are {} jobs completely running on this type of cpu\".format(long_jobs_2_2.shape[0]))\n",
    "long_jobs_3_1 = long_jobs[long_jobs['node_req'] == long_jobs['n_3_1']]\n",
    "print(\"There are {} jobs completely running on this type of cpu\".format(long_jobs_3_1.shape[0]))"
   ]
  },
  {
   "cell_type": "code",
   "execution_count": null,
   "metadata": {},
   "outputs": [],
   "source": []
  },
  {
   "cell_type": "code",
   "execution_count": 61,
   "metadata": {},
   "outputs": [
    {
     "name": "stdout",
     "output_type": "stream",
     "text": [
      "The average per core is 11.805211341194319 W\n",
      "The average per core is 15.155948239686275 W\n",
      "The average per core is 20.042816552284968 W\n"
     ]
    }
   ],
   "source": [
    "mean_core_2_1 = long_jobs_2_1['real_pow'].sum() / long_jobs_2_1['cpu_req'].sum()\n",
    "print(\"The average per core is {} W\".format(mean_core_2_1))\n",
    "mean_core_2_2 = long_jobs_2_2['real_pow'].sum() / long_jobs_2_2['cpu_req'].sum()\n",
    "print(\"The average per core is {} W\".format(mean_core_2_2))\n",
    "mean_core_3_1 = long_jobs_3_1['real_pow'].sum() / long_jobs_3_1['cpu_req'].sum()\n",
    "print(\"The average per core is {} W\".format(mean_core_3_1))"
   ]
  },
  {
   "cell_type": "code",
   "execution_count": null,
   "metadata": {},
   "outputs": [],
   "source": []
  },
  {
   "cell_type": "code",
   "execution_count": 62,
   "metadata": {},
   "outputs": [
    {
     "name": "stdout",
     "output_type": "stream",
     "text": [
      "There are 4910 jobs completely running on this type of cpu with that quality\n",
      "There are 1459 jobs completely running on this type of cpu with that quality\n",
      "There are 26312 jobs completely running on this type of cpu with that quality\n"
     ]
    }
   ],
   "source": [
    "### Esclude the jobs with 0 quality of approximation\n",
    "zero_quality_long_jobs_2_1 = long_jobs_2_1[long_jobs_2_1['real_pow_quality'] != 0]\n",
    "print(\"There are {} jobs completely running on this type of cpu with that quality\".format(zero_quality_long_jobs_2_1.shape[0]))\n",
    "zero_quality_long_jobs_2_2 = long_jobs_2_2[long_jobs_2_2['real_pow_quality'] != 0]\n",
    "print(\"There are {} jobs completely running on this type of cpu with that quality\".format(zero_quality_long_jobs_2_2.shape[0]))\n",
    "zero_quality_long_jobs_3_1 = long_jobs_3_1[long_jobs_3_1['real_pow_quality'] != 0]\n",
    "print(\"There are {} jobs completely running on this type of cpu with that quality\".format(zero_quality_long_jobs_3_1.shape[0]))"
   ]
  },
  {
   "cell_type": "code",
   "execution_count": 63,
   "metadata": {},
   "outputs": [
    {
     "name": "stdout",
     "output_type": "stream",
     "text": [
      "The average per core is 12.098567814188913 W\n",
      "The average per core is 15.297503542496774 W\n",
      "The average per core is 20.882423850237572 W\n"
     ]
    }
   ],
   "source": [
    "zero_quality_mean_core_2_1 = zero_quality_long_jobs_2_1['real_pow'].sum() / zero_quality_long_jobs_2_1['cpu_req'].sum()\n",
    "print(\"The average per core is {} W\".format(zero_quality_mean_core_2_1))\n",
    "zero_quality_mean_core_2_2 = zero_quality_long_jobs_2_2['real_pow'].sum() / zero_quality_long_jobs_2_2['cpu_req'].sum()\n",
    "print(\"The average per core is {} W\".format(zero_quality_mean_core_2_2))\n",
    "zero_quality_mean_core_3_1 = zero_quality_long_jobs_3_1['real_pow'].sum() / zero_quality_long_jobs_3_1['cpu_req'].sum()\n",
    "print(\"The average per core is {} W\".format(zero_quality_mean_core_3_1))"
   ]
  },
  {
   "cell_type": "code",
   "execution_count": null,
   "metadata": {},
   "outputs": [],
   "source": []
  },
  {
   "cell_type": "code",
   "execution_count": 64,
   "metadata": {},
   "outputs": [
    {
     "name": "stdout",
     "output_type": "stream",
     "text": [
      "There are 4731 jobs completely running on this type of cpu with that quality\n",
      "There are 1398 jobs completely running on this type of cpu with that quality\n",
      "There are 25447 jobs completely running on this type of cpu with that quality\n"
     ]
    }
   ],
   "source": [
    "### Take only jobs with a good quality of approximation\n",
    "quality_long_jobs_2_1 = long_jobs_2_1[long_jobs_2_1['real_pow_quality'] >= 0.9]\n",
    "print(\"There are {} jobs completely running on this type of cpu with that quality\".format(quality_long_jobs_2_1.shape[0]))\n",
    "quality_long_jobs_2_2 = long_jobs_2_2[long_jobs_2_2['real_pow_quality'] >= 0.9]\n",
    "print(\"There are {} jobs completely running on this type of cpu with that quality\".format(quality_long_jobs_2_2.shape[0]))\n",
    "quality_long_jobs_3_1 = long_jobs_3_1[long_jobs_3_1['real_pow_quality'] >= 0.9]\n",
    "print(\"There are {} jobs completely running on this type of cpu with that quality\".format(quality_long_jobs_3_1.shape[0]))"
   ]
  },
  {
   "cell_type": "code",
   "execution_count": 65,
   "metadata": {},
   "outputs": [
    {
     "name": "stdout",
     "output_type": "stream",
     "text": [
      "The average per core is 12.19604734402967 W\n",
      "The average per core is 15.711895511800247 W\n",
      "The average per core is 21.883188521615374 W\n"
     ]
    }
   ],
   "source": [
    "quality_mean_core_2_1 = quality_long_jobs_2_1['real_pow'].sum() / quality_long_jobs_2_1['cpu_req'].sum()\n",
    "print(\"The average per core is {} W\".format(quality_mean_core_2_1))\n",
    "quality_mean_core_2_2 = zero_quality_long_jobs_2_2['real_pow'].sum() / quality_long_jobs_2_2['cpu_req'].sum()\n",
    "print(\"The average per core is {} W\".format(quality_mean_core_2_2))\n",
    "quality_mean_core_3_1 = zero_quality_long_jobs_3_1['real_pow'].sum() / quality_long_jobs_3_1['cpu_req'].sum()\n",
    "print(\"The average per core is {} W\".format(quality_mean_core_3_1))"
   ]
  },
  {
   "cell_type": "markdown",
   "metadata": {},
   "source": [
    "## Prediction"
   ]
  },
  {
   "cell_type": "code",
   "execution_count": 70,
   "metadata": {},
   "outputs": [
    {
     "name": "stdout",
     "output_type": "stream",
     "text": [
      "There are 35284 long jobs in the Andrea's interval\n"
     ]
    },
    {
     "data": {
      "text/html": [
       "<div>\n",
       "<style scoped>\n",
       "    .dataframe tbody tr th:only-of-type {\n",
       "        vertical-align: middle;\n",
       "    }\n",
       "\n",
       "    .dataframe tbody tr th {\n",
       "        vertical-align: top;\n",
       "    }\n",
       "\n",
       "    .dataframe thead th {\n",
       "        text-align: right;\n",
       "    }\n",
       "</style>\n",
       "<table border=\"1\" class=\"dataframe\">\n",
       "  <thead>\n",
       "    <tr style=\"text-align: right;\">\n",
       "      <th></th>\n",
       "      <th>job_id_string</th>\n",
       "      <th>job_name</th>\n",
       "      <th>queue</th>\n",
       "      <th>start_time</th>\n",
       "      <th>run_start_time</th>\n",
       "      <th>end_time</th>\n",
       "      <th>user</th>\n",
       "      <th>node_req</th>\n",
       "      <th>cpu_req</th>\n",
       "      <th>mem_req</th>\n",
       "      <th>...</th>\n",
       "      <th>exit_status</th>\n",
       "      <th>pbs_exit_code</th>\n",
       "      <th>gpu_req</th>\n",
       "      <th>mic_req</th>\n",
       "      <th>real_pow</th>\n",
       "      <th>runned_alone</th>\n",
       "      <th>real_pow_quality</th>\n",
       "      <th>n_2_1</th>\n",
       "      <th>n_2_2</th>\n",
       "      <th>n_3_1</th>\n",
       "    </tr>\n",
       "    <tr>\n",
       "      <th>job_id</th>\n",
       "      <th></th>\n",
       "      <th></th>\n",
       "      <th></th>\n",
       "      <th></th>\n",
       "      <th></th>\n",
       "      <th></th>\n",
       "      <th></th>\n",
       "      <th></th>\n",
       "      <th></th>\n",
       "      <th></th>\n",
       "      <th></th>\n",
       "      <th></th>\n",
       "      <th></th>\n",
       "      <th></th>\n",
       "      <th></th>\n",
       "      <th></th>\n",
       "      <th></th>\n",
       "      <th></th>\n",
       "      <th></th>\n",
       "      <th></th>\n",
       "      <th></th>\n",
       "    </tr>\n",
       "  </thead>\n",
       "  <tbody>\n",
       "    <tr>\n",
       "      <th>1</th>\n",
       "      <td>498458.node129</td>\n",
       "      <td>rth2e6t0</td>\n",
       "      <td>parallel</td>\n",
       "      <td>2014-03-31 00:30:02</td>\n",
       "      <td>2014-03-31 00:30:02</td>\n",
       "      <td>2014-03-31 01:22:40</td>\n",
       "      <td>alupi000@node129.eurora.cineca.it</td>\n",
       "      <td>1</td>\n",
       "      <td>16</td>\n",
       "      <td>14</td>\n",
       "      <td>...</td>\n",
       "      <td>COMPLETED</td>\n",
       "      <td>NaN</td>\n",
       "      <td>NaN</td>\n",
       "      <td>NaN</td>\n",
       "      <td>140.0</td>\n",
       "      <td>True</td>\n",
       "      <td>0.0</td>\n",
       "      <td>0.0</td>\n",
       "      <td>1.0</td>\n",
       "      <td>0.0</td>\n",
       "    </tr>\n",
       "  </tbody>\n",
       "</table>\n",
       "<p>1 rows × 23 columns</p>\n",
       "</div>"
      ],
      "text/plain": [
       "         job_id_string  job_name     queue           start_time  \\\n",
       "job_id                                                            \n",
       "1       498458.node129  rth2e6t0  parallel  2014-03-31 00:30:02   \n",
       "\n",
       "             run_start_time             end_time  \\\n",
       "job_id                                             \n",
       "1       2014-03-31 00:30:02  2014-03-31 01:22:40   \n",
       "\n",
       "                                     user  node_req  cpu_req  mem_req  ...  \\\n",
       "job_id                                                                 ...   \n",
       "1       alupi000@node129.eurora.cineca.it         1       16       14  ...   \n",
       "\n",
       "       exit_status pbs_exit_code  gpu_req mic_req  real_pow  runned_alone  \\\n",
       "job_id                                                                      \n",
       "1        COMPLETED           NaN      NaN     NaN     140.0          True   \n",
       "\n",
       "        real_pow_quality  n_2_1  n_2_2  n_3_1  \n",
       "job_id                                         \n",
       "1                    0.0    0.0    1.0    0.0  \n",
       "\n",
       "[1 rows x 23 columns]"
      ]
     },
     "execution_count": 70,
     "metadata": {},
     "output_type": "execute_result"
    }
   ],
   "source": [
    "from sklearn.metrics import r2_score\n",
    "from scipy import stats\n",
    "\n",
    "from sklearn.metrics import mean_squared_error\n",
    "\n",
    "infile_mean_core_consumptions = datadir + \"CPUs/\" + interval_comment + \"/\" + interval_comment + \"_mean_core_consumption_overAll\"\n",
    "mean_core_consumptions = pd.read_csv(infile_mean_core_consumptions + \".csv\")\n",
    "\n",
    "long_jobs = pd.read_csv(infile_long_jobs + \".csv\", index_col=0)\n",
    "print(\"There are {} long jobs in the {}'s interval\".format(long_jobs.shape[0], interval_comment))\n",
    "long_jobs.head(1)"
   ]
  },
  {
   "cell_type": "code",
   "execution_count": 71,
   "metadata": {},
   "outputs": [
    {
     "data": {
      "text/html": [
       "<div>\n",
       "<style scoped>\n",
       "    .dataframe tbody tr th:only-of-type {\n",
       "        vertical-align: middle;\n",
       "    }\n",
       "\n",
       "    .dataframe tbody tr th {\n",
       "        vertical-align: top;\n",
       "    }\n",
       "\n",
       "    .dataframe thead th {\n",
       "        text-align: right;\n",
       "    }\n",
       "</style>\n",
       "<table border=\"1\" class=\"dataframe\">\n",
       "  <thead>\n",
       "    <tr style=\"text-align: right;\">\n",
       "      <th></th>\n",
       "      <th>job_quality</th>\n",
       "      <th>2_1_ghz</th>\n",
       "      <th>2_2_ghz</th>\n",
       "      <th>3_1_ghz</th>\n",
       "    </tr>\n",
       "  </thead>\n",
       "  <tbody>\n",
       "    <tr>\n",
       "      <th>0</th>\n",
       "      <td>all</td>\n",
       "      <td>11.805211</td>\n",
       "      <td>15.155948</td>\n",
       "      <td>20.042817</td>\n",
       "    </tr>\n",
       "    <tr>\n",
       "      <th>1</th>\n",
       "      <td>medium</td>\n",
       "      <td>12.098568</td>\n",
       "      <td>15.297504</td>\n",
       "      <td>20.882424</td>\n",
       "    </tr>\n",
       "    <tr>\n",
       "      <th>2</th>\n",
       "      <td>high</td>\n",
       "      <td>12.196047</td>\n",
       "      <td>15.711896</td>\n",
       "      <td>21.883189</td>\n",
       "    </tr>\n",
       "  </tbody>\n",
       "</table>\n",
       "</div>"
      ],
      "text/plain": [
       "  job_quality    2_1_ghz    2_2_ghz    3_1_ghz\n",
       "0         all  11.805211  15.155948  20.042817\n",
       "1      medium  12.098568  15.297504  20.882424\n",
       "2        high  12.196047  15.711896  21.883189"
      ]
     },
     "execution_count": 71,
     "metadata": {},
     "output_type": "execute_result"
    }
   ],
   "source": [
    "mean_core_consumptions"
   ]
  },
  {
   "cell_type": "code",
   "execution_count": 72,
   "metadata": {},
   "outputs": [],
   "source": [
    "long_jobs['pred_overAll'] = 0.0\n",
    "mean_core_consumptions_2_1_all = mean_core_consumptions[mean_core_consumptions['job_quality'] == 'all']['2_1_ghz']\n",
    "mean_core_consumptions_2_2_all = mean_core_consumptions[mean_core_consumptions['job_quality'] == 'all']['2_2_ghz']\n",
    "mean_core_consumptions_3_1_all = mean_core_consumptions[mean_core_consumptions['job_quality'] == 'all']['3_1_ghz']"
   ]
  },
  {
   "cell_type": "code",
   "execution_count": 73,
   "metadata": {},
   "outputs": [
    {
     "name": "stdout",
     "output_type": "stream",
     "text": [
      "0\n",
      "10000\n",
      "20000\n",
      "30000\n"
     ]
    }
   ],
   "source": [
    "i = 0\n",
    "for index, job in long_jobs.iterrows():\n",
    "    job_n_2_1 = job['n_2_1']\n",
    "    job_n_2_2 = job['n_2_2']\n",
    "    job_n_3_1 = job['n_3_1']\n",
    "    \n",
    "    job_predicted_consumption = job_n_2_1 * mean_core_consumptions_2_1_all + job_n_2_2 * mean_core_consumptions_2_2_all + job_n_3_1 * mean_core_consumptions_3_1_all\n",
    "    \n",
    "    long_jobs.at[index, 'pred_overAll'] = job_predicted_consumption\n",
    "    \n",
    "    if (i % 10000 == 0):\n",
    "        print(i)\n",
    "    i += 1"
   ]
  },
  {
   "cell_type": "code",
   "execution_count": 74,
   "metadata": {},
   "outputs": [
    {
     "name": "stdout",
     "output_type": "stream",
     "text": [
      "R-squared: 0.5897189775029389\n"
     ]
    }
   ],
   "source": [
    "slope, intercept, r_value, p_value, std_err = stats.linregress(long_jobs['real_pow'], long_jobs['pred_overAll'])\n",
    "print(\"R-squared: {}\".format(r_value**2))"
   ]
  },
  {
   "cell_type": "code",
   "execution_count": null,
   "metadata": {},
   "outputs": [],
   "source": []
  },
  {
   "cell_type": "code",
   "execution_count": 75,
   "metadata": {},
   "outputs": [],
   "source": [
    "long_jobs = long_jobs[long_jobs['real_pow_quality'] > 0]\n",
    "\n",
    "long_jobs['pred_overAll_medium'] = 0.0\n",
    "mean_core_consumptions_2_1_all = mean_core_consumptions[mean_core_consumptions['job_quality'] == 'medium']['2_1_ghz']\n",
    "mean_core_consumptions_2_2_all = mean_core_consumptions[mean_core_consumptions['job_quality'] == 'medium']['2_2_ghz']\n",
    "mean_core_consumptions_3_1_all = mean_core_consumptions[mean_core_consumptions['job_quality'] == 'medium']['3_1_ghz']\n"
   ]
  },
  {
   "cell_type": "code",
   "execution_count": 76,
   "metadata": {},
   "outputs": [
    {
     "name": "stdout",
     "output_type": "stream",
     "text": [
      "0\n",
      "10000\n",
      "20000\n",
      "30000\n"
     ]
    }
   ],
   "source": [
    "i = 0\n",
    "for index, job in long_jobs.iterrows():\n",
    "    job_n_2_1 = job['n_2_1']\n",
    "    job_n_2_2 = job['n_2_2']\n",
    "    job_n_3_1 = job['n_3_1']\n",
    "    \n",
    "    job_predicted_consumption = job_n_2_1 * mean_core_consumptions_2_1_all + job_n_2_2 * mean_core_consumptions_2_2_all + job_n_3_1 * mean_core_consumptions_3_1_all\n",
    "    \n",
    "    long_jobs.at[index, 'pred_overAll_medium'] = job_predicted_consumption\n",
    "    \n",
    "    if (i % 10000 == 0):\n",
    "        print(i)\n",
    "    i += 1"
   ]
  },
  {
   "cell_type": "code",
   "execution_count": 77,
   "metadata": {},
   "outputs": [
    {
     "name": "stdout",
     "output_type": "stream",
     "text": [
      "R-squared: 0.5888832141963917\n"
     ]
    }
   ],
   "source": [
    "slope, intercept, r_value, p_value, std_err = stats.linregress(long_jobs['real_pow'], long_jobs['pred_overAll_medium'])\n",
    "print(\"R-squared: {}\".format(r_value**2))"
   ]
  },
  {
   "cell_type": "code",
   "execution_count": null,
   "metadata": {},
   "outputs": [],
   "source": []
  },
  {
   "cell_type": "code",
   "execution_count": null,
   "metadata": {},
   "outputs": [],
   "source": []
  },
  {
   "cell_type": "code",
   "execution_count": 81,
   "metadata": {},
   "outputs": [],
   "source": [
    "long_jobs = long_jobs[long_jobs['real_pow_quality'] > 0.5]\n",
    "\n",
    "long_jobs['pred_overAll_high'] = 0.0\n",
    "mean_core_consumptions_2_1_all = mean_core_consumptions[mean_core_consumptions['job_quality'] == 'high']['2_1_ghz']\n",
    "mean_core_consumptions_2_2_all = mean_core_consumptions[mean_core_consumptions['job_quality'] == 'high']['2_2_ghz']\n",
    "mean_core_consumptions_3_1_all = mean_core_consumptions[mean_core_consumptions['job_quality'] == 'high']['3_1_ghz']"
   ]
  },
  {
   "cell_type": "code",
   "execution_count": 82,
   "metadata": {},
   "outputs": [
    {
     "name": "stdout",
     "output_type": "stream",
     "text": [
      "0\n",
      "10000\n",
      "20000\n",
      "30000\n"
     ]
    }
   ],
   "source": [
    "i = 0\n",
    "for index, job in long_jobs.iterrows():\n",
    "    job_n_2_1 = job['n_2_1']\n",
    "    job_n_2_2 = job['n_2_2']\n",
    "    job_n_3_1 = job['n_3_1']\n",
    "    \n",
    "    job_predicted_consumption = job_n_2_1 * mean_core_consumptions_2_1_all + job_n_2_2 * mean_core_consumptions_2_2_all + job_n_3_1 * mean_core_consumptions_3_1_all\n",
    "    \n",
    "    long_jobs.at[index, 'pred_overAll_high'] = job_predicted_consumption\n",
    "    \n",
    "    if (i % 10000 == 0):\n",
    "        print(i)\n",
    "    i += 1"
   ]
  },
  {
   "cell_type": "code",
   "execution_count": 83,
   "metadata": {},
   "outputs": [
    {
     "name": "stdout",
     "output_type": "stream",
     "text": [
      "R-squared: 0.5905750563103266\n"
     ]
    }
   ],
   "source": [
    "slope, intercept, r_value, p_value, std_err = stats.linregress(long_jobs['real_pow'], long_jobs['pred_overAll_high'])\n",
    "print(\"R-squared: {}\".format(r_value**2))"
   ]
  },
  {
   "cell_type": "code",
   "execution_count": null,
   "metadata": {},
   "outputs": [],
   "source": []
  }
 ],
 "metadata": {
  "kernelspec": {
   "display_name": "Python 3",
   "language": "python",
   "name": "python3"
  },
  "language_info": {
   "codemirror_mode": {
    "name": "ipython",
    "version": 3
   },
   "file_extension": ".py",
   "mimetype": "text/x-python",
   "name": "python",
   "nbconvert_exporter": "python",
   "pygments_lexer": "ipython3",
   "version": "3.5.2"
  }
 },
 "nbformat": 4,
 "nbformat_minor": 2
}
