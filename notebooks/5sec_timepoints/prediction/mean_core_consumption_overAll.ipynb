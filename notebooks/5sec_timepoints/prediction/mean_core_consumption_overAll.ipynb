{
 "cells": [
  {
   "cell_type": "code",
   "execution_count": 1,
   "metadata": {},
   "outputs": [],
   "source": [
    "import pandas as pd\n",
    "import errno    \n",
    "import os\n",
    "import numpy as np\n",
    "import math\n",
    "\n",
    "from sklearn.metrics import r2_score\n",
    "from scipy import stats\n",
    "\n",
    "from sklearn.metrics import mean_squared_error\n",
    "\n",
    "'''\n",
    "Author: Enrico Ceccolini\n",
    "    TODO\n",
    "'''\n",
    "\n",
    "datadir = \"/datasets/eurora_data/db1/\"\n",
    "\n",
    "infile_jobs_to_nodes = datadir + \"job_nodes.csv\"\n",
    "\n",
    "suffix = \"_5sec_\"\n",
    "### select an interval from\n",
    "## 1 settings wholeData\n",
    "#interval_comment_whole = \"WholeData\"\n",
    "\n",
    "### select an interval from\n",
    "## 2 settings Andrea\n",
    "interval_comment = \"Andrea\"\n",
    "start_time = pd.to_datetime('2014-03-31')\n",
    "end_time = pd.to_datetime('2014-05-01')\n",
    "#infile_jobs = datadir + \"april_long_jobs.csv\"\n",
    "\n",
    "## 3 settings Alina\n",
    "#interval_comment = \"Alina\"\n",
    "#start_time = pd.to_datetime('2014-06-30')\n",
    "#end_time = pd.to_datetime('2014-11-01')\n",
    "\n",
    "infile_long_jobs = datadir + \"CPUs/\" + interval_comment + \"/\" + interval_comment + \"_long_jobs_real_pow\"\n",
    "infile_short_jobs = datadir + \"CPUs/\" + interval_comment + \"/\" + interval_comment + \"_short_jobs_real_pow\""
   ]
  },
  {
   "cell_type": "code",
   "execution_count": 2,
   "metadata": {},
   "outputs": [
    {
     "name": "stdout",
     "output_type": "stream",
     "text": [
      "jobs_to_nodes_whole_data contains 469095 records\n"
     ]
    },
    {
     "name": "stderr",
     "output_type": "stream",
     "text": [
      "/usr/local/lib/python3.5/dist-packages/IPython/core/interactiveshell.py:3049: DtypeWarning: Columns (11) have mixed types. Specify dtype option on import or set low_memory=False.\n",
      "  interactivity=interactivity, compiler=compiler, result=result)\n"
     ]
    },
    {
     "name": "stdout",
     "output_type": "stream",
     "text": [
      "There are 35284 long jobs in the Andrea's interval\n",
      "after the clean, jobs_to_nodes_whole_data contains 444610 records\n",
      "merged_jobs_to_nodes contains 41216 records\n"
     ]
    }
   ],
   "source": [
    "jobs_to_nodes_whole_data = pd.read_csv(infile_jobs_to_nodes, index_col=0)\n",
    "print(\"jobs_to_nodes_whole_data contains {} records\".format(jobs_to_nodes_whole_data.shape[0]))\n",
    "\n",
    "long_jobs = pd.read_csv(infile_long_jobs + \".csv\", index_col=0)\n",
    "print(\"There are {} long jobs in the {}'s interval\".format(long_jobs.shape[0], interval_comment))\n",
    "\n",
    "### clean the data\n",
    "# remove jobs runned on the inexistent node 129\n",
    "jobs_to_nodes_whole_data = jobs_to_nodes_whole_data[jobs_to_nodes_whole_data['node_id'] != 129] \n",
    "# remove jobs with the same id that runned on the same node\n",
    "jobs_to_nodes_whole_data = jobs_to_nodes_whole_data.drop_duplicates(subset=['job_id_string', 'node_id'])\n",
    "print(\"after the clean, jobs_to_nodes_whole_data contains {} records\".format(jobs_to_nodes_whole_data.shape[0]))\n",
    "\n",
    "### merge the info from the two tables\n",
    "merged_jobs_to_nodes = pd.merge(long_jobs, jobs_to_nodes_whole_data, how='left', on='job_id_string')\n",
    "print(\"merged_jobs_to_nodes contains {} records\".format(merged_jobs_to_nodes.shape[0]))"
   ]
  },
  {
   "cell_type": "code",
   "execution_count": 3,
   "metadata": {},
   "outputs": [
    {
     "name": "stdout",
     "output_type": "stream",
     "text": [
      "There are 53253 short jobs in the Andrea's interval\n"
     ]
    }
   ],
   "source": [
    "short_jobs = pd.read_csv(infile_short_jobs + \".csv\", index_col=0)\n",
    "print(\"There are {} short jobs in the {}'s interval\".format(short_jobs.shape[0], interval_comment))"
   ]
  },
  {
   "cell_type": "code",
   "execution_count": 4,
   "metadata": {},
   "outputs": [
    {
     "data": {
      "text/html": [
       "<div>\n",
       "<style scoped>\n",
       "    .dataframe tbody tr th:only-of-type {\n",
       "        vertical-align: middle;\n",
       "    }\n",
       "\n",
       "    .dataframe tbody tr th {\n",
       "        vertical-align: top;\n",
       "    }\n",
       "\n",
       "    .dataframe thead th {\n",
       "        text-align: right;\n",
       "    }\n",
       "</style>\n",
       "<table border=\"1\" class=\"dataframe\">\n",
       "  <thead>\n",
       "    <tr style=\"text-align: right;\">\n",
       "      <th></th>\n",
       "      <th>job_id_string</th>\n",
       "      <th>job_name</th>\n",
       "      <th>queue</th>\n",
       "      <th>start_time</th>\n",
       "      <th>run_start_time</th>\n",
       "      <th>end_time</th>\n",
       "      <th>user</th>\n",
       "      <th>node_req</th>\n",
       "      <th>cpu_req</th>\n",
       "      <th>mem_req</th>\n",
       "      <th>...</th>\n",
       "      <th>n_cores_2_2</th>\n",
       "      <th>n_cores_3_1</th>\n",
       "      <th>user_short</th>\n",
       "      <th>pred_user</th>\n",
       "      <th>pred_userJob</th>\n",
       "      <th>node_id</th>\n",
       "      <th>ncpus</th>\n",
       "      <th>ngpus</th>\n",
       "      <th>nmics</th>\n",
       "      <th>mem_requested</th>\n",
       "    </tr>\n",
       "  </thead>\n",
       "  <tbody>\n",
       "    <tr>\n",
       "      <th>0</th>\n",
       "      <td>498458.node129</td>\n",
       "      <td>rth2e6t0</td>\n",
       "      <td>parallel</td>\n",
       "      <td>2014-03-31 00:30:02</td>\n",
       "      <td>2014-03-31 00:30:02</td>\n",
       "      <td>2014-03-31 01:22:40</td>\n",
       "      <td>alupi000@node129.eurora.cineca.it</td>\n",
       "      <td>1</td>\n",
       "      <td>16</td>\n",
       "      <td>14</td>\n",
       "      <td>...</td>\n",
       "      <td>16.0</td>\n",
       "      <td>0.0</td>\n",
       "      <td>alupi000</td>\n",
       "      <td>225.932207</td>\n",
       "      <td>198.527435</td>\n",
       "      <td>17</td>\n",
       "      <td>16</td>\n",
       "      <td>0</td>\n",
       "      <td>0</td>\n",
       "      <td>14680064</td>\n",
       "    </tr>\n",
       "    <tr>\n",
       "      <th>1</th>\n",
       "      <td>498459.node129</td>\n",
       "      <td>CPMD</td>\n",
       "      <td>parallel</td>\n",
       "      <td>2014-03-31 00:36:51</td>\n",
       "      <td>2014-03-31 00:36:51</td>\n",
       "      <td>2014-03-31 00:40:13</td>\n",
       "      <td>framondo@node129.eurora.cineca.it</td>\n",
       "      <td>1</td>\n",
       "      <td>16</td>\n",
       "      <td>14</td>\n",
       "      <td>...</td>\n",
       "      <td>0.0</td>\n",
       "      <td>0.0</td>\n",
       "      <td>framondo</td>\n",
       "      <td>138.451208</td>\n",
       "      <td>163.188808</td>\n",
       "      <td>9</td>\n",
       "      <td>16</td>\n",
       "      <td>0</td>\n",
       "      <td>0</td>\n",
       "      <td>14680064</td>\n",
       "    </tr>\n",
       "    <tr>\n",
       "      <th>2</th>\n",
       "      <td>498460.node129</td>\n",
       "      <td>7ribb-relax</td>\n",
       "      <td>parallel</td>\n",
       "      <td>2014-03-31 00:54:37</td>\n",
       "      <td>2014-03-31 00:54:38</td>\n",
       "      <td>2014-03-31 04:55:17</td>\n",
       "      <td>vcalzia0@node129.eurora.cineca.it</td>\n",
       "      <td>6</td>\n",
       "      <td>96</td>\n",
       "      <td>84</td>\n",
       "      <td>...</td>\n",
       "      <td>16.0</td>\n",
       "      <td>0.0</td>\n",
       "      <td>vcalzia0</td>\n",
       "      <td>936.382877</td>\n",
       "      <td>1172.141601</td>\n",
       "      <td>9</td>\n",
       "      <td>16</td>\n",
       "      <td>0</td>\n",
       "      <td>0</td>\n",
       "      <td>14680064</td>\n",
       "    </tr>\n",
       "    <tr>\n",
       "      <th>3</th>\n",
       "      <td>498460.node129</td>\n",
       "      <td>7ribb-relax</td>\n",
       "      <td>parallel</td>\n",
       "      <td>2014-03-31 00:54:37</td>\n",
       "      <td>2014-03-31 00:54:38</td>\n",
       "      <td>2014-03-31 04:55:17</td>\n",
       "      <td>vcalzia0@node129.eurora.cineca.it</td>\n",
       "      <td>6</td>\n",
       "      <td>96</td>\n",
       "      <td>84</td>\n",
       "      <td>...</td>\n",
       "      <td>16.0</td>\n",
       "      <td>0.0</td>\n",
       "      <td>vcalzia0</td>\n",
       "      <td>936.382877</td>\n",
       "      <td>1172.141601</td>\n",
       "      <td>28</td>\n",
       "      <td>16</td>\n",
       "      <td>0</td>\n",
       "      <td>0</td>\n",
       "      <td>14680064</td>\n",
       "    </tr>\n",
       "    <tr>\n",
       "      <th>4</th>\n",
       "      <td>498460.node129</td>\n",
       "      <td>7ribb-relax</td>\n",
       "      <td>parallel</td>\n",
       "      <td>2014-03-31 00:54:37</td>\n",
       "      <td>2014-03-31 00:54:38</td>\n",
       "      <td>2014-03-31 04:55:17</td>\n",
       "      <td>vcalzia0@node129.eurora.cineca.it</td>\n",
       "      <td>6</td>\n",
       "      <td>96</td>\n",
       "      <td>84</td>\n",
       "      <td>...</td>\n",
       "      <td>16.0</td>\n",
       "      <td>0.0</td>\n",
       "      <td>vcalzia0</td>\n",
       "      <td>936.382877</td>\n",
       "      <td>1172.141601</td>\n",
       "      <td>25</td>\n",
       "      <td>16</td>\n",
       "      <td>0</td>\n",
       "      <td>0</td>\n",
       "      <td>14680064</td>\n",
       "    </tr>\n",
       "  </tbody>\n",
       "</table>\n",
       "<p>5 rows × 36 columns</p>\n",
       "</div>"
      ],
      "text/plain": [
       "    job_id_string     job_name     queue           start_time  \\\n",
       "0  498458.node129     rth2e6t0  parallel  2014-03-31 00:30:02   \n",
       "1  498459.node129         CPMD  parallel  2014-03-31 00:36:51   \n",
       "2  498460.node129  7ribb-relax  parallel  2014-03-31 00:54:37   \n",
       "3  498460.node129  7ribb-relax  parallel  2014-03-31 00:54:37   \n",
       "4  498460.node129  7ribb-relax  parallel  2014-03-31 00:54:37   \n",
       "\n",
       "        run_start_time             end_time  \\\n",
       "0  2014-03-31 00:30:02  2014-03-31 01:22:40   \n",
       "1  2014-03-31 00:36:51  2014-03-31 00:40:13   \n",
       "2  2014-03-31 00:54:38  2014-03-31 04:55:17   \n",
       "3  2014-03-31 00:54:38  2014-03-31 04:55:17   \n",
       "4  2014-03-31 00:54:38  2014-03-31 04:55:17   \n",
       "\n",
       "                                user  node_req  cpu_req  mem_req  ...  \\\n",
       "0  alupi000@node129.eurora.cineca.it         1       16       14  ...   \n",
       "1  framondo@node129.eurora.cineca.it         1       16       14  ...   \n",
       "2  vcalzia0@node129.eurora.cineca.it         6       96       84  ...   \n",
       "3  vcalzia0@node129.eurora.cineca.it         6       96       84  ...   \n",
       "4  vcalzia0@node129.eurora.cineca.it         6       96       84  ...   \n",
       "\n",
       "  n_cores_2_2 n_cores_3_1  user_short   pred_user  pred_userJob  node_id  \\\n",
       "0        16.0         0.0    alupi000  225.932207    198.527435       17   \n",
       "1         0.0         0.0    framondo  138.451208    163.188808        9   \n",
       "2        16.0         0.0    vcalzia0  936.382877   1172.141601        9   \n",
       "3        16.0         0.0    vcalzia0  936.382877   1172.141601       28   \n",
       "4        16.0         0.0    vcalzia0  936.382877   1172.141601       25   \n",
       "\n",
       "   ncpus  ngpus  nmics  mem_requested  \n",
       "0     16      0      0       14680064  \n",
       "1     16      0      0       14680064  \n",
       "2     16      0      0       14680064  \n",
       "3     16      0      0       14680064  \n",
       "4     16      0      0       14680064  \n",
       "\n",
       "[5 rows x 36 columns]"
      ]
     },
     "execution_count": 4,
     "metadata": {},
     "output_type": "execute_result"
    }
   ],
   "source": [
    "merged_jobs_to_nodes.head()"
   ]
  },
  {
   "cell_type": "markdown",
   "metadata": {},
   "source": [
    "## Calculate the mean core consumption"
   ]
  },
  {
   "cell_type": "code",
   "execution_count": 6,
   "metadata": {},
   "outputs": [],
   "source": [
    "good_jobs = long_jobs[long_jobs['real_pow_quality'] > 0.5]"
   ]
  },
  {
   "cell_type": "markdown",
   "metadata": {},
   "source": [
    "Separo i nodi che hanno eseguito esclusivamente su un tipo di nodo"
   ]
  },
  {
   "cell_type": "code",
   "execution_count": 7,
   "metadata": {},
   "outputs": [
    {
     "name": "stdout",
     "output_type": "stream",
     "text": [
      "There are 4786 jobs completely running on this type of cpu\n",
      "There are 1426 jobs completely running on this type of cpu\n",
      "There are 25315 jobs completely running on this type of cpu\n"
     ]
    }
   ],
   "source": [
    "long_jobs_2_1 = good_jobs[good_jobs['node_req'] == good_jobs['n_2_1']]\n",
    "print(\"There are {} jobs completely running on this type of cpu\".format(long_jobs_2_1.shape[0]))\n",
    "long_jobs_2_2 = good_jobs[good_jobs['node_req'] == good_jobs['n_2_2']]\n",
    "print(\"There are {} jobs completely running on this type of cpu\".format(long_jobs_2_2.shape[0]))\n",
    "long_jobs_3_1 = good_jobs[good_jobs['node_req'] == good_jobs['n_3_1']]\n",
    "print(\"There are {} jobs completely running on this type of cpu\".format(long_jobs_3_1.shape[0]))"
   ]
  },
  {
   "cell_type": "code",
   "execution_count": 8,
   "metadata": {},
   "outputs": [
    {
     "name": "stdout",
     "output_type": "stream",
     "text": [
      "The average per core is 12.223003952684024 W\n",
      "The average per core is 15.287422699162688 W\n",
      "The average per core is 20.872660829336393 W\n"
     ]
    }
   ],
   "source": [
    "mean_core_2_1 = long_jobs_2_1['real_pow'].sum() / long_jobs_2_1['cpu_req'].sum()\n",
    "print(\"The average per core is {} W\".format(mean_core_2_1))\n",
    "mean_core_2_2 = long_jobs_2_2['real_pow'].sum() / long_jobs_2_2['cpu_req'].sum()\n",
    "print(\"The average per core is {} W\".format(mean_core_2_2))\n",
    "mean_core_3_1 = long_jobs_3_1['real_pow'].sum() / long_jobs_3_1['cpu_req'].sum()\n",
    "print(\"The average per core is {} W\".format(mean_core_3_1))"
   ]
  },
  {
   "cell_type": "code",
   "execution_count": null,
   "metadata": {},
   "outputs": [],
   "source": []
  },
  {
   "cell_type": "code",
   "execution_count": 9,
   "metadata": {},
   "outputs": [
    {
     "name": "stdout",
     "output_type": "stream",
     "text": [
      "There are 4786 jobs completely running on this type of cpu with that quality\n",
      "There are 1426 jobs completely running on this type of cpu with that quality\n",
      "There are 25315 jobs completely running on this type of cpu with that quality\n"
     ]
    }
   ],
   "source": [
    "### Esclude the jobs with 0 quality of approximation\n",
    "zero_quality_long_jobs_2_1 = long_jobs_2_1[long_jobs_2_1['real_pow_quality'] != 0]\n",
    "print(\"There are {} jobs completely running on this type of cpu with that quality\".format(zero_quality_long_jobs_2_1.shape[0]))\n",
    "zero_quality_long_jobs_2_2 = long_jobs_2_2[long_jobs_2_2['real_pow_quality'] != 0]\n",
    "print(\"There are {} jobs completely running on this type of cpu with that quality\".format(zero_quality_long_jobs_2_2.shape[0]))\n",
    "zero_quality_long_jobs_3_1 = long_jobs_3_1[long_jobs_3_1['real_pow_quality'] != 0]\n",
    "print(\"There are {} jobs completely running on this type of cpu with that quality\".format(zero_quality_long_jobs_3_1.shape[0]))"
   ]
  },
  {
   "cell_type": "code",
   "execution_count": 10,
   "metadata": {},
   "outputs": [
    {
     "name": "stdout",
     "output_type": "stream",
     "text": [
      "The average per core is 12.223003952684024 W\n",
      "The average per core is 15.287422699162688 W\n",
      "The average per core is 20.872660829336393 W\n"
     ]
    }
   ],
   "source": [
    "zero_quality_mean_core_2_1 = zero_quality_long_jobs_2_1['real_pow'].sum() / zero_quality_long_jobs_2_1['cpu_req'].sum()\n",
    "print(\"The average per core is {} W\".format(zero_quality_mean_core_2_1))\n",
    "zero_quality_mean_core_2_2 = zero_quality_long_jobs_2_2['real_pow'].sum() / zero_quality_long_jobs_2_2['cpu_req'].sum()\n",
    "print(\"The average per core is {} W\".format(zero_quality_mean_core_2_2))\n",
    "zero_quality_mean_core_3_1 = zero_quality_long_jobs_3_1['real_pow'].sum() / zero_quality_long_jobs_3_1['cpu_req'].sum()\n",
    "print(\"The average per core is {} W\".format(zero_quality_mean_core_3_1))"
   ]
  },
  {
   "cell_type": "code",
   "execution_count": null,
   "metadata": {},
   "outputs": [],
   "source": []
  },
  {
   "cell_type": "code",
   "execution_count": 18,
   "metadata": {},
   "outputs": [
    {
     "name": "stdout",
     "output_type": "stream",
     "text": [
      "There are 4716 jobs completely running on this type of cpu with that quality\n",
      "There are 1397 jobs completely running on this type of cpu with that quality\n",
      "There are 24884 jobs completely running on this type of cpu with that quality\n"
     ]
    }
   ],
   "source": [
    "### Take only jobs with a good quality of approximation\n",
    "quality_long_jobs_2_1 = long_jobs_2_1[long_jobs_2_1['real_pow_quality'] >= 0.9]\n",
    "print(\"There are {} jobs completely running on this type of cpu with that quality\".format(quality_long_jobs_2_1.shape[0]))\n",
    "quality_long_jobs_2_2 = long_jobs_2_2[long_jobs_2_2['real_pow_quality'] >= 0.9]\n",
    "print(\"There are {} jobs completely running on this type of cpu with that quality\".format(quality_long_jobs_2_2.shape[0]))\n",
    "quality_long_jobs_3_1 = long_jobs_3_1[long_jobs_3_1['real_pow_quality'] >= 0.9]\n",
    "print(\"There are {} jobs completely running on this type of cpu with that quality\".format(quality_long_jobs_3_1.shape[0]))"
   ]
  },
  {
   "cell_type": "code",
   "execution_count": 19,
   "metadata": {},
   "outputs": [
    {
     "name": "stdout",
     "output_type": "stream",
     "text": [
      "The average per core is 12.199523757603714 W\n",
      "The average per core is 15.501496987371722 W\n",
      "The average per core is 21.621871784108887 W\n"
     ]
    }
   ],
   "source": [
    "quality_mean_core_2_1 = quality_long_jobs_2_1['real_pow'].sum() / quality_long_jobs_2_1['cpu_req'].sum()\n",
    "print(\"The average per core is {} W\".format(quality_mean_core_2_1))\n",
    "quality_mean_core_2_2 = zero_quality_long_jobs_2_2['real_pow'].sum() / quality_long_jobs_2_2['cpu_req'].sum()\n",
    "print(\"The average per core is {} W\".format(quality_mean_core_2_2))\n",
    "quality_mean_core_3_1 = zero_quality_long_jobs_3_1['real_pow'].sum() / quality_long_jobs_3_1['cpu_req'].sum()\n",
    "print(\"The average per core is {} W\".format(quality_mean_core_3_1))"
   ]
  },
  {
   "cell_type": "code",
   "execution_count": null,
   "metadata": {},
   "outputs": [],
   "source": []
  },
  {
   "cell_type": "markdown",
   "metadata": {},
   "source": [
    "# Predict"
   ]
  },
  {
   "cell_type": "code",
   "execution_count": 4,
   "metadata": {},
   "outputs": [],
   "source": [
    "infile_mean_core_consumptions = datadir + \"CPUs/\" + interval_comment + \"/\" + interval_comment + \"_mean_core_consumption_overAll\"\n",
    "mean_core_consumptions = pd.read_csv(infile_mean_core_consumptions + \".csv\")"
   ]
  },
  {
   "cell_type": "code",
   "execution_count": 5,
   "metadata": {},
   "outputs": [
    {
     "data": {
      "text/html": [
       "<div>\n",
       "<style scoped>\n",
       "    .dataframe tbody tr th:only-of-type {\n",
       "        vertical-align: middle;\n",
       "    }\n",
       "\n",
       "    .dataframe tbody tr th {\n",
       "        vertical-align: top;\n",
       "    }\n",
       "\n",
       "    .dataframe thead th {\n",
       "        text-align: right;\n",
       "    }\n",
       "</style>\n",
       "<table border=\"1\" class=\"dataframe\">\n",
       "  <thead>\n",
       "    <tr style=\"text-align: right;\">\n",
       "      <th></th>\n",
       "      <th>job_quality</th>\n",
       "      <th>2_1_ghz</th>\n",
       "      <th>2_2_ghz</th>\n",
       "      <th>3_1_ghz</th>\n",
       "    </tr>\n",
       "  </thead>\n",
       "  <tbody>\n",
       "    <tr>\n",
       "      <th>0</th>\n",
       "      <td>all</td>\n",
       "      <td>11.805211</td>\n",
       "      <td>15.155948</td>\n",
       "      <td>20.042817</td>\n",
       "    </tr>\n",
       "    <tr>\n",
       "      <th>1</th>\n",
       "      <td>medium</td>\n",
       "      <td>12.223004</td>\n",
       "      <td>15.501497</td>\n",
       "      <td>20.872661</td>\n",
       "    </tr>\n",
       "    <tr>\n",
       "      <th>2</th>\n",
       "      <td>high</td>\n",
       "      <td>12.199524</td>\n",
       "      <td>15.711896</td>\n",
       "      <td>21.621872</td>\n",
       "    </tr>\n",
       "  </tbody>\n",
       "</table>\n",
       "</div>"
      ],
      "text/plain": [
       "  job_quality    2_1_ghz    2_2_ghz    3_1_ghz\n",
       "0         all  11.805211  15.155948  20.042817\n",
       "1      medium  12.223004  15.501497  20.872661\n",
       "2        high  12.199524  15.711896  21.621872"
      ]
     },
     "execution_count": 5,
     "metadata": {},
     "output_type": "execute_result"
    }
   ],
   "source": [
    "mean_core_consumptions"
   ]
  },
  {
   "cell_type": "code",
   "execution_count": 23,
   "metadata": {},
   "outputs": [],
   "source": [
    "long_jobs['pred_overAll'] = 0.0\n",
    "mean_core_consumptions_2_1_all = mean_core_consumptions[mean_core_consumptions['job_quality'] == 'medium']['2_1_ghz']\n",
    "mean_core_consumptions_2_2_all = mean_core_consumptions[mean_core_consumptions['job_quality'] == 'medium']['2_2_ghz']\n",
    "mean_core_consumptions_3_1_all = mean_core_consumptions[mean_core_consumptions['job_quality'] == 'medium']['3_1_ghz']"
   ]
  },
  {
   "cell_type": "code",
   "execution_count": null,
   "metadata": {},
   "outputs": [],
   "source": []
  },
  {
   "cell_type": "code",
   "execution_count": null,
   "metadata": {},
   "outputs": [],
   "source": []
  },
  {
   "cell_type": "code",
   "execution_count": 24,
   "metadata": {},
   "outputs": [
    {
     "name": "stdout",
     "output_type": "stream",
     "text": [
      "0\n",
      "10000\n",
      "20000\n",
      "30000\n"
     ]
    }
   ],
   "source": [
    "i = 0\n",
    "for index, job in long_jobs.iterrows():\n",
    "    job_n_cores_2_1 = job['n_cores_2_1']\n",
    "    job_n_cores_2_2 = job['n_cores_2_2']\n",
    "    job_n_cores_3_1 = job['n_cores_3_1']\n",
    "    \n",
    "    job_predicted_consumption = job_n_cores_2_1 * mean_core_consumptions_2_1_all + job_n_cores_2_2 * mean_core_consumptions_2_2_all + job_n_cores_3_1 * mean_core_consumptions_3_1_all\n",
    "    \n",
    "    long_jobs.at[index, 'pred_overAll'] = job_predicted_consumption\n",
    "    \n",
    "    if (i % 10000 == 0):\n",
    "        print(i)\n",
    "    i += 1"
   ]
  },
  {
   "cell_type": "code",
   "execution_count": 25,
   "metadata": {},
   "outputs": [],
   "source": [
    "# write to long_jobs\n",
    "long_jobs.to_csv(infile_long_jobs + \".csv\")"
   ]
  },
  {
   "cell_type": "code",
   "execution_count": null,
   "metadata": {},
   "outputs": [],
   "source": []
  },
  {
   "cell_type": "markdown",
   "metadata": {},
   "source": [
    "# Validate"
   ]
  },
  {
   "cell_type": "code",
   "execution_count": 3,
   "metadata": {},
   "outputs": [
    {
     "name": "stdout",
     "output_type": "stream",
     "text": [
      "the mean is 110.35204538702968\n",
      "r_2 is 0.5133103109341102\n",
      "RMSE is 188.15289712851822\n",
      "NRMSE is 1.705024102350104\n"
     ]
    },
    {
     "name": "stderr",
     "output_type": "stream",
     "text": [
      "/usr/local/lib/python3.5/dist-packages/ipykernel_launcher.py:9: SettingWithCopyWarning: \n",
      "A value is trying to be set on a copy of a slice from a DataFrame.\n",
      "Try using .loc[row_indexer,col_indexer] = value instead\n",
      "\n",
      "See the caveats in the documentation: http://pandas.pydata.org/pandas-docs/stable/indexing.html#indexing-view-versus-copy\n",
      "  if __name__ == '__main__':\n",
      "/usr/local/lib/python3.5/dist-packages/ipykernel_launcher.py:10: SettingWithCopyWarning: \n",
      "A value is trying to be set on a copy of a slice from a DataFrame.\n",
      "Try using .loc[row_indexer,col_indexer] = value instead\n",
      "\n",
      "See the caveats in the documentation: http://pandas.pydata.org/pandas-docs/stable/indexing.html#indexing-view-versus-copy\n",
      "  # Remove the CWD from sys.path while we load stuff.\n"
     ]
    }
   ],
   "source": [
    "good_quality_jobs = long_jobs[long_jobs['real_pow_quality'] != 0]\n",
    "#print(math.sqrt(np.var(good_quality_jobs['real_pow'])))\n",
    "#good_quality_jobs = long_jobs\n",
    "\n",
    "mean_real_pow = long_jobs['real_pow'].mean()\n",
    "print(\"the mean is {}\".format(mean_real_pow))\n",
    "\n",
    "\n",
    "good_quality_jobs['numerator'] = (good_quality_jobs['real_pow'] - good_quality_jobs['pred_overAll'])**2\n",
    "good_quality_jobs['denumerator'] = (good_quality_jobs['real_pow'] - mean_real_pow)**2\n",
    "N = good_quality_jobs['numerator'].shape[0]\n",
    "\n",
    "r_2 = 1 - (good_quality_jobs['numerator'].sum() / good_quality_jobs['denumerator'].sum())\n",
    "print(\"r_2 is {}\".format(r_2))\n",
    "\n",
    "rmse = math.sqrt(good_quality_jobs['numerator'].sum() / N)\n",
    "print(\"RMSE is {}\".format(rmse))\n",
    "print(\"NRMSE is {}\".format(rmse/mean_real_pow))"
   ]
  },
  {
   "cell_type": "markdown",
   "metadata": {},
   "source": [
    "### NRMSE\n",
    "\n",
    "$$ NRMSE = \\frac{\\sqrt{(\\sum^N_{i=1}{(P_i - P_i^*)^2})/N}}{\\overline{P}} $$"
   ]
  },
  {
   "cell_type": "code",
   "execution_count": null,
   "metadata": {},
   "outputs": [],
   "source": []
  },
  {
   "cell_type": "markdown",
   "metadata": {},
   "source": [
    "### debug"
   ]
  },
  {
   "cell_type": "code",
   "execution_count": 18,
   "metadata": {},
   "outputs": [
    {
     "name": "stdout",
     "output_type": "stream",
     "text": [
      "32517\n"
     ]
    }
   ],
   "source": [
    "long_jobs = long_jobs[long_jobs['real_pow_quality'] > 0.5]\n",
    "print(long_jobs.shape[0])"
   ]
  },
  {
   "cell_type": "code",
   "execution_count": 17,
   "metadata": {},
   "outputs": [
    {
     "name": "stdout",
     "output_type": "stream",
     "text": [
      "R-squared: 0.5918227460516069\n",
      "mean_quared_error: 72473.61063968857\n"
     ]
    }
   ],
   "source": [
    "slope, intercept, r_value, p_value, std_err = stats.linregress(long_jobs['real_pow'], long_jobs['pred_overAll'])\n",
    "print(\"R-squared: {}\".format(r_value**2))\n",
    "from sklearn.metrics import mean_squared_error\n",
    "print(\"mean_quared_error: {}\".format(mean_squared_error(long_jobs['real_pow'], long_jobs['pred_overAll'])))"
   ]
  },
  {
   "cell_type": "code",
   "execution_count": 83,
   "metadata": {},
   "outputs": [
    {
     "name": "stdout",
     "output_type": "stream",
     "text": [
      "R-squared: 0.5905750563103266\n"
     ]
    }
   ],
   "source": [
    "slope, intercept, r_value, p_value, std_err = stats.linregress(long_jobs['real_pow'], long_jobs['pred_overAll_high'])\n",
    "print(\"R-squared: {}\".format(r_value**2))"
   ]
  },
  {
   "cell_type": "code",
   "execution_count": null,
   "metadata": {},
   "outputs": [],
   "source": []
  }
 ],
 "metadata": {
  "kernelspec": {
   "display_name": "Python 3",
   "language": "python",
   "name": "python3"
  },
  "language_info": {
   "codemirror_mode": {
    "name": "ipython",
    "version": 3
   },
   "file_extension": ".py",
   "mimetype": "text/x-python",
   "name": "python",
   "nbconvert_exporter": "python",
   "pygments_lexer": "ipython3",
   "version": "3.5.2"
  }
 },
 "nbformat": 4,
 "nbformat_minor": 2
}
