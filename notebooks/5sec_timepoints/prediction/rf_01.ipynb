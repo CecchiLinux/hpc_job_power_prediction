{
 "cells": [
  {
   "cell_type": "code",
   "execution_count": 96,
   "metadata": {},
   "outputs": [],
   "source": [
    "import pandas as pd\n",
    "import errno    \n",
    "import os\n",
    "import numpy as np\n",
    "import math\n",
    "\n",
    "'''\n",
    "Author: Enrico Ceccolini\n",
    "    Create a dataframe to be used as the base of a power prediction model\n",
    "'''\n",
    "\n",
    "datadir = \"/datasets/eurora_data/db1/\"\n",
    "\n",
    "infile_jobs_to_nodes = datadir + \"job_nodes.csv\"\n",
    "\n",
    "suffix = \"_5sec_\"\n",
    "### select an interval from\n",
    "## 1 settings wholeData\n",
    "#interval_comment_whole = \"WholeData\"\n",
    "\n",
    "### select an interval from\n",
    "## 2 settings Andrea\n",
    "interval_comment = \"Andrea\"\n",
    "start_time = pd.to_datetime('2014-03-31')\n",
    "end_time = pd.to_datetime('2014-05-01')\n",
    "#infile_jobs = datadir + \"april_long_jobs.csv\"\n",
    "\n",
    "## 3 settings Alina\n",
    "interval_comment = \"Alina\"\n",
    "start_time = pd.to_datetime('2014-03-31')\n",
    "#start_time = pd.to_datetime('2014-05-31')\n",
    "end_time = pd.to_datetime('2014-11-01')\n",
    "train_start_time = pd.to_datetime('2014-03-31')\n",
    "train_end_time = pd.to_datetime('2014-10-01')\n",
    "test_end_time = pd.to_datetime('2014-11-01')\n",
    "\n",
    "infile_jobs = datadir + \"CPUs/\" + interval_comment + \"/\" + interval_comment + \"_long_jobs_real_pow\"\n",
    "#infile_long_jobs = datadir + \"CPUs/\" + interval_comment + \"/\" + interval_comment + \"_long_jobs_real_pow_64_359350\"\n",
    "\n",
    "nodes=['01', '02', '03', '04', '05', '06', '07', '08', '09', '10', '11', '12', '13', '14', '15', '16', '17', '18', '19', '20', '21', '22', '23', '24', '25', '26', '27', '28', '29', '30', '31', '32', '33', '34', '35', '36', '37', '38', '39', '40', '41', '42', '44', '45', '46', '47', '48', '49', '50', '51', '52', '53', '54', '55', '56', '57', '58', '59', '60', '61', '62', '63', '64']"
   ]
  },
  {
   "cell_type": "code",
   "execution_count": 97,
   "metadata": {},
   "outputs": [
    {
     "name": "stdout",
     "output_type": "stream",
     "text": [
      "jobs_to_nodes_whole_data contains 469095 records\n"
     ]
    },
    {
     "name": "stderr",
     "output_type": "stream",
     "text": [
      "/usr/local/lib/python3.5/dist-packages/IPython/core/interactiveshell.py:3049: DtypeWarning: Columns (11) have mixed types. Specify dtype option on import or set low_memory=False.\n",
      "  interactivity=interactivity, compiler=compiler, result=result)\n"
     ]
    },
    {
     "name": "stdout",
     "output_type": "stream",
     "text": [
      "There are 336787 long jobs in the Alina's interval\n"
     ]
    }
   ],
   "source": [
    "jobs_to_nodes_whole_data = pd.read_csv(infile_jobs_to_nodes, index_col=0)\n",
    "print(\"jobs_to_nodes_whole_data contains {} records\".format(jobs_to_nodes_whole_data.shape[0]))\n",
    "\n",
    "jobs = pd.read_csv(infile_jobs + \".csv\", index_col=0)\n",
    "print(\"There are {} long jobs in the {}'s interval\".format(jobs.shape[0], interval_comment))\n",
    "\n",
    "# clean user names\n",
    "jobs['user'] = jobs.apply(lambda row: row['user'].split('@')[0], axis=1)"
   ]
  },
  {
   "cell_type": "code",
   "execution_count": 98,
   "metadata": {},
   "outputs": [
    {
     "data": {
      "text/html": [
       "<div>\n",
       "<style scoped>\n",
       "    .dataframe tbody tr th:only-of-type {\n",
       "        vertical-align: middle;\n",
       "    }\n",
       "\n",
       "    .dataframe tbody tr th {\n",
       "        vertical-align: top;\n",
       "    }\n",
       "\n",
       "    .dataframe thead th {\n",
       "        text-align: right;\n",
       "    }\n",
       "</style>\n",
       "<table border=\"1\" class=\"dataframe\">\n",
       "  <thead>\n",
       "    <tr style=\"text-align: right;\">\n",
       "      <th></th>\n",
       "      <th>job_id_string</th>\n",
       "      <th>job_name</th>\n",
       "      <th>queue</th>\n",
       "      <th>start_time</th>\n",
       "      <th>run_start_time</th>\n",
       "      <th>end_time</th>\n",
       "      <th>user</th>\n",
       "      <th>node_req</th>\n",
       "      <th>cpu_req</th>\n",
       "      <th>mem_req</th>\n",
       "      <th>...</th>\n",
       "      <th>mic_req</th>\n",
       "      <th>real_pow</th>\n",
       "      <th>ran_alone</th>\n",
       "      <th>real_pow_quality</th>\n",
       "      <th>n_2_1</th>\n",
       "      <th>n_2_2</th>\n",
       "      <th>n_3_1</th>\n",
       "      <th>job_tot_timepoints</th>\n",
       "      <th>job_timepoints</th>\n",
       "      <th>good_nodes</th>\n",
       "    </tr>\n",
       "    <tr>\n",
       "      <th>job_id</th>\n",
       "      <th></th>\n",
       "      <th></th>\n",
       "      <th></th>\n",
       "      <th></th>\n",
       "      <th></th>\n",
       "      <th></th>\n",
       "      <th></th>\n",
       "      <th></th>\n",
       "      <th></th>\n",
       "      <th></th>\n",
       "      <th></th>\n",
       "      <th></th>\n",
       "      <th></th>\n",
       "      <th></th>\n",
       "      <th></th>\n",
       "      <th></th>\n",
       "      <th></th>\n",
       "      <th></th>\n",
       "      <th></th>\n",
       "      <th></th>\n",
       "      <th></th>\n",
       "    </tr>\n",
       "  </thead>\n",
       "  <tbody>\n",
       "    <tr>\n",
       "      <th>1</th>\n",
       "      <td>498458.node129</td>\n",
       "      <td>rth2e6t0</td>\n",
       "      <td>parallel</td>\n",
       "      <td>2014-03-31 00:30:02</td>\n",
       "      <td>2014-03-31 00:30:02</td>\n",
       "      <td>2014-03-31 01:22:40</td>\n",
       "      <td>alupi000</td>\n",
       "      <td>1</td>\n",
       "      <td>16</td>\n",
       "      <td>14</td>\n",
       "      <td>...</td>\n",
       "      <td>NaN</td>\n",
       "      <td>0.0</td>\n",
       "      <td>True</td>\n",
       "      <td>1.0</td>\n",
       "      <td>0</td>\n",
       "      <td>1</td>\n",
       "      <td>0</td>\n",
       "      <td>631</td>\n",
       "      <td>631</td>\n",
       "      <td>0</td>\n",
       "    </tr>\n",
       "  </tbody>\n",
       "</table>\n",
       "<p>1 rows × 26 columns</p>\n",
       "</div>"
      ],
      "text/plain": [
       "         job_id_string  job_name     queue           start_time  \\\n",
       "job_id                                                            \n",
       "1       498458.node129  rth2e6t0  parallel  2014-03-31 00:30:02   \n",
       "\n",
       "             run_start_time             end_time      user  node_req  cpu_req  \\\n",
       "job_id                                                                          \n",
       "1       2014-03-31 00:30:02  2014-03-31 01:22:40  alupi000         1       16   \n",
       "\n",
       "        mem_req  ... mic_req real_pow  ran_alone real_pow_quality  n_2_1  \\\n",
       "job_id           ...                                                       \n",
       "1            14  ...     NaN      0.0       True              1.0      0   \n",
       "\n",
       "        n_2_2  n_3_1  job_tot_timepoints  job_timepoints  good_nodes  \n",
       "job_id                                                                \n",
       "1           1      0                 631             631           0  \n",
       "\n",
       "[1 rows x 26 columns]"
      ]
     },
     "execution_count": 98,
     "metadata": {},
     "output_type": "execute_result"
    }
   ],
   "source": [
    "jobs.head(1)"
   ]
  },
  {
   "cell_type": "code",
   "execution_count": 102,
   "metadata": {},
   "outputs": [
    {
     "name": "stdout",
     "output_type": "stream",
     "text": [
      "165126\n"
     ]
    }
   ],
   "source": [
    "jobs_q1 = jobs[jobs['real_pow_quality'] > 0]\n",
    "jobs_q1 = jobs_q1[jobs_q1['real_pow'] > 0]\n",
    "print(jobs_q1.shape[0])"
   ]
  },
  {
   "cell_type": "code",
   "execution_count": 103,
   "metadata": {
    "code_folding": []
   },
   "outputs": [
    {
     "data": {
      "text/plain": [
       "Index(['job_id_string', 'job_name', 'queue', 'run_start_time', 'end_time',\n",
       "       'user', 'node_req', 'cpu_req', 'mem_req', 'real_pow', 'ran_alone',\n",
       "       'n_2_1', 'n_2_2', 'n_3_1'],\n",
       "      dtype='object')"
      ]
     },
     "execution_count": 103,
     "metadata": {},
     "output_type": "execute_result"
    }
   ],
   "source": [
    "\n",
    "#target = jobs['real_pow']\n",
    "\n",
    "# drop unused (or not usable) info\n",
    "#data = jobs_q1.drop(['job_id_string'], axis=1)\n",
    "data = jobs_q1.drop(['start_time'], axis=1)\n",
    "data = data.drop(['job_tot_timepoints'], axis=1) #<--- Andrea\n",
    "data = data.drop(['job_timepoints'], axis=1) #<--- Andrea\n",
    "data = data.drop(['good_nodes'], axis=1) #<--- Andrea\n",
    "data = data.drop(['exit_status'], axis=1)\n",
    "data = data.drop(['pbs_exit_code'], axis=1)\n",
    "data = data.drop(['deleted'], axis=1)\n",
    "data = data.drop(['dependency'], axis=1)\n",
    "data = data.drop(['real_pow_quality'], axis=1)\n",
    "data = data.drop(['time_req'], axis=1)\n",
    "#data = data.drop(['real_pow'], axis=1)\n",
    "#data = data.drop(['job_name'], axis=1)\n",
    "\n",
    "data = data.drop(['gpu_req'], axis=1)\n",
    "data = data.drop(['mic_req'], axis=1)\n",
    "\n",
    "data.keys()"
   ]
  },
  {
   "cell_type": "code",
   "execution_count": 104,
   "metadata": {},
   "outputs": [
    {
     "name": "stdout",
     "output_type": "stream",
     "text": [
      "train set contains 146901 records\n",
      "test set contains 18224 records\n"
     ]
    }
   ],
   "source": [
    "jobs_train = data[pd.to_datetime(data['end_time']) <= train_end_time]\n",
    "jobs_train = jobs_train[pd.to_datetime(jobs_train['run_start_time']) > train_start_time]\n",
    "print(\"train set contains {} records\".format(jobs_train.shape[0]))\n",
    "\n",
    "train_target = jobs_train['real_pow']\n",
    "#jobs_train = jobs_train.drop(['run_start_time'], axis=1)\n",
    "#jobs_train = jobs_train.drop(['end_time'], axis=1)\n",
    "#jobs_train = jobs_train.drop(['real_pow'], axis=1)\n",
    "\n",
    "jobs_test = data[pd.to_datetime(data['end_time']) <= test_end_time]\n",
    "jobs_test = jobs_test[pd.to_datetime(jobs_test['run_start_time']) > train_end_time]\n",
    "print(\"test set contains {} records\".format(jobs_test.shape[0]))\n",
    "test_target = jobs_test['real_pow']\n",
    "#jobs_test = jobs_test.drop(['run_start_time'], axis=1)\n",
    "#jobs_test = jobs_test.drop(['end_time'], axis=1)\n",
    "#jobs_test = jobs_test.drop(['real_pow'], axis=1)"
   ]
  },
  {
   "cell_type": "code",
   "execution_count": 105,
   "metadata": {},
   "outputs": [],
   "source": [
    "###### NB eseguire solo se non si vogliono job sotto 5 sec\n",
    "\n",
    "#jobs_test = jobs_test[pd.to_datetime(jobs_test['end_time']) - pd.to_datetime(jobs_test['run_start_time']) > np.timedelta64(5, 's')]\n",
    "#jobs_test.shape[0]\n",
    "#test_target = jobs_test['real_pow']"
   ]
  },
  {
   "cell_type": "code",
   "execution_count": 106,
   "metadata": {},
   "outputs": [],
   "source": [
    "###### NB eseguire solo for Andrea's split\n",
    "#from sklearn.model_selection import train_test_split\n",
    "#\n",
    "#jobs_data_features = data.loc[ : , ['job_name', 'queue', 'user', 'node_req', 'cpu_req', 'mem_req', 'ran_alone', 'n_2_1', 'n_2_2', 'n_3_1'] ]\n",
    "## create test and training set\n",
    "#jobs_train, jobs_test, train_target, test_target = train_test_split(jobs_data_features, data['real_pow'], test_size = 0.2, random_state = 42)\n",
    "#\n",
    "#print(jobs_train.shape[0])\n",
    "#print(jobs_test.shape[0])"
   ]
  },
  {
   "cell_type": "code",
   "execution_count": null,
   "metadata": {},
   "outputs": [],
   "source": []
  },
  {
   "cell_type": "code",
   "execution_count": 107,
   "metadata": {},
   "outputs": [
    {
     "data": {
      "text/html": [
       "<div>\n",
       "<style scoped>\n",
       "    .dataframe tbody tr th:only-of-type {\n",
       "        vertical-align: middle;\n",
       "    }\n",
       "\n",
       "    .dataframe tbody tr th {\n",
       "        vertical-align: top;\n",
       "    }\n",
       "\n",
       "    .dataframe thead th {\n",
       "        text-align: right;\n",
       "    }\n",
       "</style>\n",
       "<table border=\"1\" class=\"dataframe\">\n",
       "  <thead>\n",
       "    <tr style=\"text-align: right;\">\n",
       "      <th></th>\n",
       "      <th>job_id_string</th>\n",
       "      <th>job_name</th>\n",
       "      <th>queue</th>\n",
       "      <th>run_start_time</th>\n",
       "      <th>end_time</th>\n",
       "      <th>user</th>\n",
       "      <th>node_req</th>\n",
       "      <th>cpu_req</th>\n",
       "      <th>mem_req</th>\n",
       "      <th>real_pow</th>\n",
       "      <th>ran_alone</th>\n",
       "      <th>n_2_1</th>\n",
       "      <th>n_2_2</th>\n",
       "      <th>n_3_1</th>\n",
       "    </tr>\n",
       "    <tr>\n",
       "      <th>job_id</th>\n",
       "      <th></th>\n",
       "      <th></th>\n",
       "      <th></th>\n",
       "      <th></th>\n",
       "      <th></th>\n",
       "      <th></th>\n",
       "      <th></th>\n",
       "      <th></th>\n",
       "      <th></th>\n",
       "      <th></th>\n",
       "      <th></th>\n",
       "      <th></th>\n",
       "      <th></th>\n",
       "      <th></th>\n",
       "    </tr>\n",
       "  </thead>\n",
       "  <tbody>\n",
       "    <tr>\n",
       "      <th>2</th>\n",
       "      <td>498459.node129</td>\n",
       "      <td>CPMD</td>\n",
       "      <td>parallel</td>\n",
       "      <td>2014-03-31 00:36:51</td>\n",
       "      <td>2014-03-31 00:40:13</td>\n",
       "      <td>framondo</td>\n",
       "      <td>1</td>\n",
       "      <td>16</td>\n",
       "      <td>14</td>\n",
       "      <td>213.907235</td>\n",
       "      <td>True</td>\n",
       "      <td>1</td>\n",
       "      <td>0</td>\n",
       "      <td>0</td>\n",
       "    </tr>\n",
       "    <tr>\n",
       "      <th>3</th>\n",
       "      <td>498460.node129</td>\n",
       "      <td>7ribb-relax</td>\n",
       "      <td>parallel</td>\n",
       "      <td>2014-03-31 00:54:38</td>\n",
       "      <td>2014-03-31 04:55:17</td>\n",
       "      <td>vcalzia0</td>\n",
       "      <td>6</td>\n",
       "      <td>96</td>\n",
       "      <td>84</td>\n",
       "      <td>1232.722332</td>\n",
       "      <td>True</td>\n",
       "      <td>5</td>\n",
       "      <td>1</td>\n",
       "      <td>0</td>\n",
       "    </tr>\n",
       "    <tr>\n",
       "      <th>4</th>\n",
       "      <td>498461.node129</td>\n",
       "      <td>rth2e6t0DC</td>\n",
       "      <td>parallel</td>\n",
       "      <td>2014-03-31 01:00:02</td>\n",
       "      <td>2014-03-31 05:01:18</td>\n",
       "      <td>alupi000</td>\n",
       "      <td>1</td>\n",
       "      <td>16</td>\n",
       "      <td>14</td>\n",
       "      <td>204.154343</td>\n",
       "      <td>True</td>\n",
       "      <td>1</td>\n",
       "      <td>0</td>\n",
       "      <td>0</td>\n",
       "    </tr>\n",
       "    <tr>\n",
       "      <th>8</th>\n",
       "      <td>498465.node129</td>\n",
       "      <td>INIT</td>\n",
       "      <td>R472836</td>\n",
       "      <td>2014-03-31 04:00:17</td>\n",
       "      <td>2014-03-31 07:50:11</td>\n",
       "      <td>a07smr01</td>\n",
       "      <td>1</td>\n",
       "      <td>1</td>\n",
       "      <td>2</td>\n",
       "      <td>4.619396</td>\n",
       "      <td>False</td>\n",
       "      <td>0</td>\n",
       "      <td>0</td>\n",
       "      <td>1</td>\n",
       "    </tr>\n",
       "    <tr>\n",
       "      <th>9</th>\n",
       "      <td>498466.node129</td>\n",
       "      <td>LM_PRE</td>\n",
       "      <td>R472836</td>\n",
       "      <td>2014-03-31 04:00:18</td>\n",
       "      <td>2014-03-31 04:23:30</td>\n",
       "      <td>a07smr01</td>\n",
       "      <td>11</td>\n",
       "      <td>176</td>\n",
       "      <td>154</td>\n",
       "      <td>3437.597435</td>\n",
       "      <td>True</td>\n",
       "      <td>0</td>\n",
       "      <td>0</td>\n",
       "      <td>11</td>\n",
       "    </tr>\n",
       "  </tbody>\n",
       "</table>\n",
       "</div>"
      ],
      "text/plain": [
       "         job_id_string     job_name     queue       run_start_time  \\\n",
       "job_id                                                               \n",
       "2       498459.node129         CPMD  parallel  2014-03-31 00:36:51   \n",
       "3       498460.node129  7ribb-relax  parallel  2014-03-31 00:54:38   \n",
       "4       498461.node129   rth2e6t0DC  parallel  2014-03-31 01:00:02   \n",
       "8       498465.node129         INIT   R472836  2014-03-31 04:00:17   \n",
       "9       498466.node129       LM_PRE   R472836  2014-03-31 04:00:18   \n",
       "\n",
       "                   end_time      user  node_req  cpu_req  mem_req  \\\n",
       "job_id                                                              \n",
       "2       2014-03-31 00:40:13  framondo         1       16       14   \n",
       "3       2014-03-31 04:55:17  vcalzia0         6       96       84   \n",
       "4       2014-03-31 05:01:18  alupi000         1       16       14   \n",
       "8       2014-03-31 07:50:11  a07smr01         1        1        2   \n",
       "9       2014-03-31 04:23:30  a07smr01        11      176      154   \n",
       "\n",
       "           real_pow  ran_alone  n_2_1  n_2_2  n_3_1  \n",
       "job_id                                               \n",
       "2        213.907235       True      1      0      0  \n",
       "3       1232.722332       True      5      1      0  \n",
       "4        204.154343       True      1      0      0  \n",
       "8          4.619396      False      0      0      1  \n",
       "9       3437.597435       True      0      0     11  "
      ]
     },
     "execution_count": 107,
     "metadata": {},
     "output_type": "execute_result"
    }
   ],
   "source": [
    "data.head(5)"
   ]
  },
  {
   "cell_type": "code",
   "execution_count": 108,
   "metadata": {},
   "outputs": [
    {
     "name": "stdout",
     "output_type": "stream",
     "text": [
      "165126\n"
     ]
    }
   ],
   "source": [
    "print(data.shape[0])"
   ]
  },
  {
   "cell_type": "code",
   "execution_count": 109,
   "metadata": {},
   "outputs": [],
   "source": [
    "## time req\n",
    "#data['time_req'].unique()\n",
    "#data[data['time_req'].isnull()].shape[0]\n",
    "#data.loc[data['time_req'] == '--', 'time_req'] = np.nan\n",
    "#y = data.time_req.str.split(':')   \n",
    "#i, j = y.str[0], y.str[1]  \n",
    "#\n",
    "#data['time_req'] = i.astype(int) + (j.astype(float) / 60) \n",
    "#data.head(5)"
   ]
  },
  {
   "cell_type": "code",
   "execution_count": 110,
   "metadata": {},
   "outputs": [
    {
     "data": {
      "text/plain": [
       "6284"
      ]
     },
     "execution_count": 110,
     "metadata": {},
     "output_type": "execute_result"
    }
   ],
   "source": [
    "#debug\n",
    "jobs_train['job_name'].unique().shape[0]\n"
   ]
  },
  {
   "cell_type": "code",
   "execution_count": 111,
   "metadata": {},
   "outputs": [
    {
     "data": {
      "text/plain": [
       "Index(['job_id_string', 'job_name', 'queue', 'run_start_time', 'end_time',\n",
       "       'user', 'node_req', 'cpu_req', 'mem_req', 'real_pow', 'ran_alone',\n",
       "       'n_2_1', 'n_2_2', 'n_3_1'],\n",
       "      dtype='object')"
      ]
     },
     "execution_count": 111,
     "metadata": {},
     "output_type": "execute_result"
    }
   ],
   "source": [
    "jobs_train.columns"
   ]
  },
  {
   "cell_type": "code",
   "execution_count": 120,
   "metadata": {},
   "outputs": [],
   "source": [
    "# select feautures columns\n",
    "\n",
    "jobs_train_features = jobs_train.loc[ : , ['job_name', 'queue', 'user', 'node_req', 'cpu_req', 'mem_req', 'ran_alone', 'n_2_1', 'n_2_2', 'n_3_1'] ]\n",
    "jobs_test_features = jobs_test.loc[ : , ['job_name', 'queue', 'user', 'node_req', 'cpu_req', 'mem_req', 'ran_alone', 'n_2_1', 'n_2_2', 'n_3_1'] ]\n",
    "\n",
    "#jobs_train_features = jobs_train.loc[ : , ['queue', 'user', 'node_req', 'cpu_req', 'mem_req', 'ran_alone', 'n_2_1', 'n_2_2', 'n_3_1'] ]\n",
    "#jobs_test_features = jobs_test.loc[ : , ['queue', 'user', 'node_req', 'cpu_req', 'mem_req', 'ran_alone', 'n_2_1', 'n_2_2', 'n_3_1'] ]"
   ]
  },
  {
   "cell_type": "code",
   "execution_count": 121,
   "metadata": {},
   "outputs": [
    {
     "data": {
      "text/plain": [
       "Index(['job_name', 'queue', 'user', 'node_req', 'cpu_req', 'mem_req',\n",
       "       'ran_alone', 'n_2_1', 'n_2_2', 'n_3_1'],\n",
       "      dtype='object')"
      ]
     },
     "execution_count": 121,
     "metadata": {},
     "output_type": "execute_result"
    }
   ],
   "source": [
    "jobs_train_features.columns"
   ]
  },
  {
   "cell_type": "code",
   "execution_count": 122,
   "metadata": {},
   "outputs": [
    {
     "name": "stdout",
     "output_type": "stream",
     "text": [
      "--- 2.4815213680267334 seconds ---\n"
     ]
    },
    {
     "name": "stderr",
     "output_type": "stream",
     "text": [
      "/usr/local/lib/python3.5/dist-packages/sklearn/ensemble/forest.py:246: FutureWarning: The default value of n_estimators will change from 10 in version 0.20 to 100 in 0.22.\n",
      "  \"10 in version 0.20 to 100 in 0.22.\", FutureWarning)\n"
     ]
    },
    {
     "name": "stdout",
     "output_type": "stream",
     "text": [
      "--- 36.96151924133301 seconds ---\n"
     ]
    }
   ],
   "source": [
    "from sklearn.feature_extraction import FeatureHasher\n",
    "import copy\n",
    "from sklearn.ensemble import RandomForestRegressor\n",
    "\n",
    "\n",
    "import time\n",
    "start_time = time.time()\n",
    "\n",
    "X_train_hash = copy.copy(jobs_train_features)\n",
    "X_test_hash = copy.copy(jobs_test_features)\n",
    "for i in range(X_train_hash.shape[1]):\n",
    "    X_train_hash.iloc[:,i]=X_train_hash.iloc[:,i].astype('str')\n",
    "for i in range(X_test_hash.shape[1]):\n",
    "    X_test_hash.iloc[:,i]=X_test_hash.iloc[:,i].astype('str')\n",
    "h = FeatureHasher(n_features=1000, input_type=\"string\")\n",
    "X_train_hash = h.transform(X_train_hash.values)\n",
    "X_test_hash = h.transform(X_test_hash.values)\n",
    "\n",
    "print(\"--- %s seconds ---\" % (time.time() - start_time))\n",
    "start_time = time.time()\n",
    "\n",
    "regr = RandomForestRegressor()\n",
    "regr.fit(X_train_hash,train_target)\n",
    "\n",
    "print(\"--- %s seconds ---\" % (time.time() - start_time))"
   ]
  },
  {
   "cell_type": "code",
   "execution_count": 126,
   "metadata": {},
   "outputs": [],
   "source": [
    "#regr = RandomForestRegressor()\n",
    "#regr.fit(X_train_hash,train_target)\n",
    "\n",
    "\n",
    "#l.fit(X_train_hash,y_train)\n",
    "#y_pred = l.predict_proba(X_test_hash)\n",
    "#print(log_loss(y_test,y_pred))#0.4"
   ]
  },
  {
   "cell_type": "code",
   "execution_count": null,
   "metadata": {},
   "outputs": [],
   "source": []
  },
  {
   "cell_type": "code",
   "execution_count": 127,
   "metadata": {},
   "outputs": [
    {
     "name": "stdout",
     "output_type": "stream",
     "text": [
      "[RandomForestRegressor] Train data Accuracy: 0.94 \n",
      "[RandomForestRegressor] Test data Accuracy: 0.75 \n"
     ]
    }
   ],
   "source": [
    "from sklearn.model_selection import cross_val_score\n",
    "print(\"[RandomForestRegressor] Train data Accuracy: %0.2f \" % regr.score(X_train_hash, train_target))\n",
    "\n",
    "print(\"[RandomForestRegressor] Test data Accuracy: %0.2f \" % regr.score(X_test_hash, test_target))"
   ]
  },
  {
   "cell_type": "code",
   "execution_count": 128,
   "metadata": {},
   "outputs": [
    {
     "data": {
      "text/plain": [
       "18224"
      ]
     },
     "execution_count": 128,
     "metadata": {},
     "output_type": "execute_result"
    }
   ],
   "source": [
    "test_predictions = regr.predict(X_test_hash)\n",
    "test_predictions.shape[0]"
   ]
  },
  {
   "cell_type": "code",
   "execution_count": 129,
   "metadata": {},
   "outputs": [
    {
     "name": "stdout",
     "output_type": "stream",
     "text": [
      "the mean is 75.89084796065079\n",
      "r_2 is 0.747721589153159\n",
      "RMSE is 90.20490989297143\n",
      "NRMSE is 1.1886138093982352\n"
     ]
    }
   ],
   "source": [
    "jobs_test_full = data[pd.to_datetime(data['end_time']) <= test_end_time]\n",
    "jobs_test_full = jobs_test_full[pd.to_datetime(jobs_test_full['run_start_time']) > train_end_time]\n",
    "\n",
    "# execute this for jobs shorter tha 5 sec\n",
    "#jobs_test_full = jobs_test_full[pd.to_datetime(jobs_test_full['end_time']) - pd.to_datetime(jobs_test_full['run_start_time']) > np.timedelta64(5, 's')]\n",
    "\n",
    "jobs_test_full['predict_rf'] = test_predictions\n",
    "\n",
    "#jobs_test.shape[0]\n",
    "#test_target = jobs_test['real_pow']\n",
    "\n",
    "mean_real_pow = jobs_test_full['real_pow'].mean()\n",
    "print(\"the mean is {}\".format(mean_real_pow))\n",
    "\n",
    "jobs_test_full['numerator'] = (jobs_test_full['real_pow'] - jobs_test_full['predict_rf'])**2\n",
    "jobs_test_full['denumerator'] = (jobs_test_full['real_pow'] - mean_real_pow)**2\n",
    "N = jobs_test_full['numerator'].shape[0]\n",
    "\n",
    "r_2 = 1 - (jobs_test_full['numerator'].sum() / jobs_test_full['denumerator'].sum())\n",
    "print(\"r_2 is {}\".format(r_2))\n",
    "\n",
    "rmse = math.sqrt(jobs_test_full['numerator'].sum() / N)\n",
    "print(\"RMSE is {}\".format(rmse))\n",
    "print(\"NRMSE is {}\".format(rmse/mean_real_pow))"
   ]
  },
  {
   "cell_type": "code",
   "execution_count": null,
   "metadata": {},
   "outputs": [],
   "source": []
  },
  {
   "cell_type": "code",
   "execution_count": null,
   "metadata": {},
   "outputs": [],
   "source": []
  },
  {
   "cell_type": "code",
   "execution_count": null,
   "metadata": {},
   "outputs": [],
   "source": []
  },
  {
   "cell_type": "code",
   "execution_count": null,
   "metadata": {},
   "outputs": [],
   "source": []
  },
  {
   "cell_type": "code",
   "execution_count": null,
   "metadata": {},
   "outputs": [],
   "source": []
  },
  {
   "cell_type": "code",
   "execution_count": 130,
   "metadata": {},
   "outputs": [
    {
     "name": "stdout",
     "output_type": "stream",
     "text": [
      "merged_jobs_to_nodes contains 18843 records\n"
     ]
    }
   ],
   "source": [
    "import datetime\n",
    "\n",
    "infile_nodes = datadir + \"nodes.csv\"\n",
    "\n",
    "nodes = pd.read_csv(infile_nodes, index_col=0)\n",
    "#print(nodes.shape[0])\n",
    "\n",
    "### merge the info from the two tables\n",
    "merged_jobs_to_nodes = pd.merge(jobs_test_full, jobs_to_nodes_whole_data, how='left', on='job_id_string')\n",
    "print(\"merged_jobs_to_nodes contains {} records\".format(merged_jobs_to_nodes.shape[0]))\n",
    "\n",
    "period = (test_end_time - train_end_time)\n",
    "period = period.total_seconds() / 5 # total seconds / 5\n",
    "interval_serie = pd.date_range(train_end_time, periods=period, freq='5s')\n",
    "frame = { 'timestamp': interval_serie }\n",
    "all_time_interval_power_consumption = pd.DataFrame(frame)"
   ]
  },
  {
   "cell_type": "code",
   "execution_count": 131,
   "metadata": {},
   "outputs": [],
   "source": [
    "def calculate_power_consumption(node_str, node_core_idle, interval_size, node_start_time):\n",
    "    \n",
    "    # num_minutes = 535680 \n",
    "    # node_start_time = pd.to_datetime('2014-03-31 00:00:00')\n",
    "    total_approx_power_consumption = pd.Series(0, index=np.arange(interval_size))\n",
    "    total_active_cores = pd.Series(0, index=np.arange(interval_size))\n",
    "    total_real_power_consumption = pd.Series(0, index=np.arange(interval_size))\n",
    "    \n",
    "    jobs_to_node = merged_jobs_to_nodes[merged_jobs_to_nodes['node_id'] == int(node_str)]\n",
    "    #infile_node = datadir + \"CPUs/\" + interval_comment + \"/node\" + node_str + suffix + interval_comment + \"_active_cores_and_jobs\"\n",
    "    #node_data = pd.read_csv(infile_node + \".csv\")\n",
    "    \n",
    "    power_consumption_real = pd.Series(0, index=np.arange(interval_size))\n",
    "    power_consumption_pred = pd.Series(0, index=np.arange(interval_size))\n",
    "    active_cores = pd.Series(0, index=np.arange(interval_size))\n",
    "    \n",
    "    i = 0\n",
    "    num_jobs = jobs_to_node.shape[0]\n",
    "    print(\"{}\".format(num_jobs))\n",
    "    for job_index, job_row in jobs_to_node.iterrows():\n",
    "        \n",
    "        #print(\"{}/{}\".format(i, num_jobs))\n",
    "        i = i + 1\n",
    "        job_start_time = pd.to_datetime(job_row['run_start_time'])\n",
    "        job_end_time = pd.to_datetime(job_row['end_time'])\n",
    "        job_cores = job_row['ncpus']\n",
    "        job_cores_total = job_row['cpu_req']\n",
    "        #job_gpus = row['ngpus']\n",
    "        #job_mics = row['nmics']\n",
    "        job_power_consumption_pred = job_row['predict_rf'] * (job_cores / job_cores_total) # real_pow contains the total, here we need only the node portion\n",
    "        job_power_consumption_real = job_row['real_pow'] * (job_cores / job_cores_total) # real_pow contains the total, here we need only the node portion\n",
    "        \n",
    "        \n",
    "        # print(job_power_consumption_pred)\n",
    "\n",
    "        before_minutes = int((job_start_time - pd.to_datetime(node_start_time) - np.timedelta64(5, 's')) / np.timedelta64(5, 's'))\n",
    "        running_minutes = int((job_end_time - job_start_time) / np.timedelta64(5, 's'))\n",
    "        after_minutes = interval_size - running_minutes - before_minutes\n",
    "\n",
    "        #pred\n",
    "        before_serie = pd.Series(0, index=np.arange(before_minutes))\n",
    "        running_serie = pd.Series(job_power_consumption_pred, index=np.arange(running_minutes))\n",
    "        after_serie = pd.Series(0, index=np.arange(after_minutes))\n",
    "        concat_series = pd.concat([before_serie, running_serie, after_serie], ignore_index=True)\n",
    "        power_consumption_pred = power_consumption_pred.add(concat_series, fill_value=0)\n",
    "        \n",
    "        # real\n",
    "        running_serie = pd.Series(job_power_consumption_real, index=np.arange(running_minutes))\n",
    "        concat_series = pd.concat([before_serie, running_serie, after_serie], ignore_index=True)\n",
    "        power_consumption_real = power_consumption_real.add(concat_series, fill_value=0)\n",
    "\n",
    "        running_serie = pd.Series(job_cores, index=np.arange(running_minutes))\n",
    "        concat_series = pd.concat([before_serie, running_serie, after_serie], ignore_index=True)\n",
    "        active_cores = active_cores.add(concat_series, fill_value=0)\n",
    "\n",
    "        \n",
    "    #for x in range(0, 17):\n",
    "    #    # active_cores[active_cores == x] += (node_core_idle * 16) * (16 - x) / 16\n",
    "    #    active_cores[active_cores == x] += node_core_idle * (16 - x)\n",
    "    #\n",
    "    #power_consumption_pred = power_consumption_pred.add(active_cores, fill_value=0)\n",
    "    #power_consumption_real = power_consumption_real.add(active_cores, fill_value=0)\n",
    "        \n",
    "    #indices = node_data['active_cores'] == 0\n",
    "    #node_data.at[indices, 'pow_tot'] = node_core_idle * 16\n",
    "    #total_real_power_consumption = node_data['pow_tot']\n",
    "    \n",
    "    return power_consumption_real, power_consumption_pred"
   ]
  },
  {
   "cell_type": "code",
   "execution_count": 132,
   "metadata": {},
   "outputs": [
    {
     "name": "stdout",
     "output_type": "stream",
     "text": [
      "01\n",
      "46\n",
      "02\n",
      "0\n",
      "03\n",
      "51\n",
      "04\n",
      "38\n",
      "05\n",
      "0\n",
      "06\n",
      "40\n",
      "07\n",
      "76\n",
      "08\n",
      "47\n",
      "09\n",
      "0\n",
      "10\n",
      "40\n",
      "11\n",
      "37\n",
      "12\n",
      "0\n",
      "13\n",
      "35\n",
      "14\n",
      "0\n",
      "15\n",
      "0\n",
      "16\n",
      "0\n",
      "17\n",
      "761\n",
      "18\n",
      "26\n",
      "19\n",
      "40\n",
      "20\n",
      "34\n",
      "21\n",
      "21\n",
      "22\n",
      "0\n",
      "23\n",
      "35\n",
      "24\n",
      "41\n",
      "25\n",
      "43\n",
      "26\n",
      "41\n",
      "27\n",
      "42\n",
      "28\n",
      "30\n",
      "29\n",
      "32\n",
      "30\n",
      "47\n",
      "31\n",
      "56\n",
      "32\n",
      "0\n",
      "33\n",
      "1829\n",
      "34\n",
      "2365\n",
      "35\n",
      "1105\n",
      "36\n",
      "0\n",
      "37\n",
      "247\n",
      "38\n",
      "1670\n",
      "39\n",
      "7\n",
      "40\n",
      "193\n",
      "41\n",
      "0\n",
      "42\n",
      "145\n",
      "43\n",
      "44\n",
      "1728\n",
      "45\n",
      "239\n",
      "46\n",
      "228\n",
      "47\n",
      "114\n",
      "48\n",
      "859\n",
      "49\n",
      "84\n",
      "50\n",
      "113\n",
      "51\n",
      "110\n",
      "52\n",
      "0\n",
      "53\n",
      "0\n",
      "54\n",
      "622\n",
      "55\n",
      "506\n",
      "56\n",
      "105\n",
      "57\n",
      "73\n",
      "58\n",
      "77\n",
      "59\n",
      "122\n",
      "60\n",
      "1225\n",
      "61\n",
      "549\n",
      "62\n",
      "791\n",
      "63\n",
      "1777\n",
      "64\n",
      "301\n"
     ]
    }
   ],
   "source": [
    "infile_validate_approx = datadir + \"CPUs/\" + interval_comment + \"/validate_pred_rf_\" + interval_comment + \".csv\"\n",
    "\n",
    "# per ogni nodo sommo quanto è stato il consumo ad ogni intervallo in un vettore parallelo\n",
    "# questo sia per il valore approssimato guardando i job\n",
    "# sia per il valore reale\n",
    "j = 0\n",
    "for node_index, node_row in nodes.iterrows():\n",
    "    node_id = node_row['node_id']\n",
    "    if( int(node_id) < 10):\n",
    "        node_id = \"0\" + str(node_id)\n",
    "    else:\n",
    "        node_id = str(node_id)\n",
    "    print(node_id)\n",
    "    node_core_idle = node_row['core_idle']\n",
    "    \n",
    "    if (node_id != \"43\"):\n",
    "        total_real_power_consumption, total_pred_power_consumption = calculate_power_consumption(node_id, node_core_idle, period, train_end_time)\n",
    "        all_time_interval_power_consumption[node_id + \"_real\"] = total_real_power_consumption\n",
    "        all_time_interval_power_consumption[node_id + \"_pred\"] = total_pred_power_consumption\n",
    "    \n",
    "    if(j%10 == 0):\n",
    "        all_time_interval_power_consumption.to_csv(infile_validate_approx)\n",
    "all_time_interval_power_consumption.to_csv(infile_validate_approx)"
   ]
  },
  {
   "cell_type": "code",
   "execution_count": 133,
   "metadata": {},
   "outputs": [],
   "source": [
    "import matplotlib.pyplot as plt\n",
    "import matplotlib.dates as mdates\n",
    "from datetime import datetime\n",
    "\n",
    "def plot_line(data_dates, data_real, data_approx, days_interval):\n",
    "    plt.rcParams['figure.figsize'] = (20,5)\n",
    "\n",
    "    X_AXIS_NAME = 'Time (min)'\n",
    "    Y_AXIS_NAME = 'Power (W)'\n",
    "    # TITLE = 'Nodes power consumption - Andrea\\'s data'\n",
    "\n",
    "    fig, ax = plt.subplots()\n",
    "    ax.xaxis.get_majorticklabels()\n",
    "    ax.xaxis.set_major_locator(mdates.DayLocator(interval=days_interval))\n",
    "    ax.xaxis.set_major_formatter(mdates.DateFormatter('%Y-%m-%d'))\n",
    "    ax.tick_params(axis='both', which='major', labelsize=15)\n",
    "\n",
    "    dates = []\n",
    "    colors = (\"orange\", \"blue\")\n",
    "    #colors = (\"orange\", \"green\")\n",
    "\n",
    "    for ts in data_dates['timestamp']:\n",
    "        local_d = datetime.strptime(ts, '%Y-%m-%d %H:%M:%S')\n",
    "        dates.append(local_d)\n",
    "\n",
    "\n",
    "    plt.plot(dates, data_real, c=colors[1], alpha=0.5)\n",
    "    plt.plot(dates, data_real, c=colors[1])\n",
    "    \n",
    "    plt.plot(dates, data_approx, c=colors[0], alpha=1)\n",
    "\n",
    "    #plt.plot(dates, data_real, c=colors[1], alpha=0.6, dashes=[2, 2])\n",
    "    \n",
    "    #plt.scatter(dates, node_data['pow_tot_0'] + node_data['pow_tot_1'])\n",
    "\n",
    "    #fig.autofmt_xdate()\n",
    "    plt.xlabel(X_AXIS_NAME, fontsize=20)\n",
    "    plt.ylabel(Y_AXIS_NAME, fontsize=20)\n",
    "    # plt.title(TITLE)\n",
    "\n",
    "    # function to show the plot\n",
    "    plt.show()\n",
    "    #fig.savefig('graph.png', dpi=fig.dpi)"
   ]
  },
  {
   "cell_type": "code",
   "execution_count": 134,
   "metadata": {},
   "outputs": [
    {
     "name": "stderr",
     "output_type": "stream",
     "text": [
      "/usr/local/lib/python3.5/dist-packages/ipykernel_launcher.py:10: FutureWarning: 'select' is deprecated and will be removed in a future release. You can use .loc[labels.map(crit)] as a replacement\n",
      "  # Remove the CWD from sys.path while we load stuff.\n",
      "/usr/local/lib/python3.5/dist-packages/ipykernel_launcher.py:11: FutureWarning: 'select' is deprecated and will be removed in a future release. You can use .loc[labels.map(crit)] as a replacement\n",
      "  # This is added back by InteractiveShellApp.init_path()\n"
     ]
    }
   ],
   "source": [
    "infile_approximated = datadir + \"CPUs/\" + interval_comment + \"/validate_pred_rf_\" + interval_comment + \".csv\"\n",
    "predicted_power_consumptions = pd.read_csv(infile_approximated)\n",
    "\n",
    "#approximated_power_consumption = approximated_power_consumption[pd.to_datetime(approximated_power_consumption['timestamp']) >= pd.to_datetime('2014-03-31 11:21:00')]\n",
    "#approximated_power_consumption = approximated_power_consumption[pd.to_datetime(approximated_power_consumption['timestamp']) <= pd.to_datetime('2014-04-30 20:32:00')]\n",
    "#predicted_power_consumptions = predicted_power_consumptions[pd.to_datetime(predicted_power_consumptions['timestamp']) >= pd.to_datetime('2014-10-01 11:21:00')]\n",
    "predicted_power_consumptions = predicted_power_consumptions[pd.to_datetime(predicted_power_consumptions['timestamp']) <= pd.to_datetime('2014-10-07 18:30:00')]\n",
    "\n",
    "#approx = approximated_power_consumption.select(lambda col: col.endswith(\"approx\"), axis=1)\n",
    "real = predicted_power_consumptions.select(lambda col: col.endswith(\"real\"), axis=1)\n",
    "predicted = predicted_power_consumptions.select(lambda col: col.endswith(\"pred\"), axis=1)"
   ]
  },
  {
   "cell_type": "code",
   "execution_count": 135,
   "metadata": {},
   "outputs": [
    {
     "name": "stderr",
     "output_type": "stream",
     "text": [
      "/usr/local/lib/python3.5/dist-packages/pandas/plotting/_converter.py:129: FutureWarning: Using an implicitly registered datetime converter for a matplotlib plotting method. The converter was registered by pandas on import. Future versions of pandas will require you to explicitly register matplotlib converters.\n",
      "\n",
      "To register the converters:\n",
      "\t>>> from pandas.plotting import register_matplotlib_converters\n",
      "\t>>> register_matplotlib_converters()\n",
      "  warnings.warn(msg, FutureWarning)\n"
     ]
    },
    {
     "data": {
      "image/png": "[encoded data removed]",
      "text/plain": [
       "<Figure size 1440x360 with 1 Axes>"
      ]
     },
     "metadata": {
      "needs_background": "light"
     },
     "output_type": "display_data"
    }
   ],
   "source": [
    "#approx['Total'] = approx.iloc[:, -64:-1].sum(axis=1)\n",
    "real['Total'] = real.iloc[:, -64:-1].sum(axis=1)\n",
    "predicted['Total'] = predicted.iloc[:, -64:-1].sum(axis=1)\n",
    "#differences = approx['Total'] - predicted['Total']\n",
    "#df = pd.DataFrame(differences)\n",
    "#df = df.apply(lambda x: (x - np.mean(x)) / (np.max(x) - np.min(x)))\n",
    "#differences_norm = df['Total']\n",
    "\n",
    "#plot_hist(n_bins=150, data=differences)\n",
    "#plot_hist(n_bins=150, data=differences_norm)\n",
    "\n",
    "#plot_line(data_dates=approximated_power_consumption, data_real=real['Total'], data_approx=predicted['Total'], days_interval=5)\n",
    "plot_line(data_dates=predicted_power_consumptions, data_real=real['Total'], data_approx=predicted['Total'], days_interval=1)\n",
    "\n",
    "#print(\"approximation accuracy: {}\".format(r2_score(real['Total'], approx['Total'])))"
   ]
  },
  {
   "cell_type": "code",
   "execution_count": null,
   "metadata": {},
   "outputs": [],
   "source": []
  },
  {
   "cell_type": "code",
   "execution_count": null,
   "metadata": {},
   "outputs": [],
   "source": []
  },
  {
   "cell_type": "code",
   "execution_count": 61,
   "metadata": {},
   "outputs": [],
   "source": [
    "# print(X_train_hash)"
   ]
  },
  {
   "cell_type": "code",
   "execution_count": 46,
   "metadata": {},
   "outputs": [
    {
     "name": "stdout",
     "output_type": "stream",
     "text": [
      "queue\n",
      "user\n"
     ]
    },
    {
     "data": {
      "text/html": [
       "<div>\n",
       "<style scoped>\n",
       "    .dataframe tbody tr th:only-of-type {\n",
       "        vertical-align: middle;\n",
       "    }\n",
       "\n",
       "    .dataframe tbody tr th {\n",
       "        vertical-align: top;\n",
       "    }\n",
       "\n",
       "    .dataframe thead th {\n",
       "        text-align: right;\n",
       "    }\n",
       "</style>\n",
       "<table border=\"1\" class=\"dataframe\">\n",
       "  <thead>\n",
       "    <tr style=\"text-align: right;\">\n",
       "      <th></th>\n",
       "      <th>n_2_2</th>\n",
       "      <th>n_3_1</th>\n",
       "      <th>R1010870</th>\n",
       "      <th>R1010998</th>\n",
       "      <th>R1011000</th>\n",
       "      <th>R1013900</th>\n",
       "      <th>R1013901</th>\n",
       "      <th>R1013902</th>\n",
       "      <th>R1013903</th>\n",
       "      <th>R1013904</th>\n",
       "      <th>...</th>\n",
       "      <th>tbusatta</th>\n",
       "      <th>tgiorgin</th>\n",
       "      <th>tjones00</th>\n",
       "      <th>tlucchin</th>\n",
       "      <th>vcalzia0</th>\n",
       "      <th>vdalcol0</th>\n",
       "      <th>vmarino0</th>\n",
       "      <th>vmiglior</th>\n",
       "      <th>vruggie1</th>\n",
       "      <th>wxie0000</th>\n",
       "    </tr>\n",
       "    <tr>\n",
       "      <th>job_id</th>\n",
       "      <th></th>\n",
       "      <th></th>\n",
       "      <th></th>\n",
       "      <th></th>\n",
       "      <th></th>\n",
       "      <th></th>\n",
       "      <th></th>\n",
       "      <th></th>\n",
       "      <th></th>\n",
       "      <th></th>\n",
       "      <th></th>\n",
       "      <th></th>\n",
       "      <th></th>\n",
       "      <th></th>\n",
       "      <th></th>\n",
       "      <th></th>\n",
       "      <th></th>\n",
       "      <th></th>\n",
       "      <th></th>\n",
       "      <th></th>\n",
       "      <th></th>\n",
       "    </tr>\n",
       "  </thead>\n",
       "  <tbody>\n",
       "    <tr>\n",
       "      <th>2</th>\n",
       "      <td>0</td>\n",
       "      <td>0</td>\n",
       "      <td>0</td>\n",
       "      <td>0</td>\n",
       "      <td>0</td>\n",
       "      <td>0</td>\n",
       "      <td>0</td>\n",
       "      <td>0</td>\n",
       "      <td>0</td>\n",
       "      <td>0</td>\n",
       "      <td>...</td>\n",
       "      <td>0</td>\n",
       "      <td>0</td>\n",
       "      <td>0</td>\n",
       "      <td>0</td>\n",
       "      <td>0</td>\n",
       "      <td>0</td>\n",
       "      <td>0</td>\n",
       "      <td>0</td>\n",
       "      <td>0</td>\n",
       "      <td>0</td>\n",
       "    </tr>\n",
       "    <tr>\n",
       "      <th>3</th>\n",
       "      <td>1</td>\n",
       "      <td>0</td>\n",
       "      <td>0</td>\n",
       "      <td>0</td>\n",
       "      <td>0</td>\n",
       "      <td>0</td>\n",
       "      <td>0</td>\n",
       "      <td>0</td>\n",
       "      <td>0</td>\n",
       "      <td>0</td>\n",
       "      <td>...</td>\n",
       "      <td>0</td>\n",
       "      <td>0</td>\n",
       "      <td>0</td>\n",
       "      <td>0</td>\n",
       "      <td>1</td>\n",
       "      <td>0</td>\n",
       "      <td>0</td>\n",
       "      <td>0</td>\n",
       "      <td>0</td>\n",
       "      <td>0</td>\n",
       "    </tr>\n",
       "    <tr>\n",
       "      <th>4</th>\n",
       "      <td>0</td>\n",
       "      <td>0</td>\n",
       "      <td>0</td>\n",
       "      <td>0</td>\n",
       "      <td>0</td>\n",
       "      <td>0</td>\n",
       "      <td>0</td>\n",
       "      <td>0</td>\n",
       "      <td>0</td>\n",
       "      <td>0</td>\n",
       "      <td>...</td>\n",
       "      <td>0</td>\n",
       "      <td>0</td>\n",
       "      <td>0</td>\n",
       "      <td>0</td>\n",
       "      <td>0</td>\n",
       "      <td>0</td>\n",
       "      <td>0</td>\n",
       "      <td>0</td>\n",
       "      <td>0</td>\n",
       "      <td>0</td>\n",
       "    </tr>\n",
       "    <tr>\n",
       "      <th>8</th>\n",
       "      <td>0</td>\n",
       "      <td>1</td>\n",
       "      <td>0</td>\n",
       "      <td>0</td>\n",
       "      <td>0</td>\n",
       "      <td>0</td>\n",
       "      <td>0</td>\n",
       "      <td>0</td>\n",
       "      <td>0</td>\n",
       "      <td>0</td>\n",
       "      <td>...</td>\n",
       "      <td>0</td>\n",
       "      <td>0</td>\n",
       "      <td>0</td>\n",
       "      <td>0</td>\n",
       "      <td>0</td>\n",
       "      <td>0</td>\n",
       "      <td>0</td>\n",
       "      <td>0</td>\n",
       "      <td>0</td>\n",
       "      <td>0</td>\n",
       "    </tr>\n",
       "    <tr>\n",
       "      <th>9</th>\n",
       "      <td>0</td>\n",
       "      <td>11</td>\n",
       "      <td>0</td>\n",
       "      <td>0</td>\n",
       "      <td>0</td>\n",
       "      <td>0</td>\n",
       "      <td>0</td>\n",
       "      <td>0</td>\n",
       "      <td>0</td>\n",
       "      <td>0</td>\n",
       "      <td>...</td>\n",
       "      <td>0</td>\n",
       "      <td>0</td>\n",
       "      <td>0</td>\n",
       "      <td>0</td>\n",
       "      <td>0</td>\n",
       "      <td>0</td>\n",
       "      <td>0</td>\n",
       "      <td>0</td>\n",
       "      <td>0</td>\n",
       "      <td>0</td>\n",
       "    </tr>\n",
       "  </tbody>\n",
       "</table>\n",
       "<p>5 rows × 394 columns</p>\n",
       "</div>"
      ],
      "text/plain": [
       "        n_2_2  n_3_1  R1010870  R1010998  R1011000  R1013900  R1013901  \\\n",
       "job_id                                                                   \n",
       "2           0      0         0         0         0         0         0   \n",
       "3           1      0         0         0         0         0         0   \n",
       "4           0      0         0         0         0         0         0   \n",
       "8           0      1         0         0         0         0         0   \n",
       "9           0     11         0         0         0         0         0   \n",
       "\n",
       "        R1013902  R1013903  R1013904  ...  tbusatta  tgiorgin  tjones00  \\\n",
       "job_id                                ...                                 \n",
       "2              0         0         0  ...         0         0         0   \n",
       "3              0         0         0  ...         0         0         0   \n",
       "4              0         0         0  ...         0         0         0   \n",
       "8              0         0         0  ...         0         0         0   \n",
       "9              0         0         0  ...         0         0         0   \n",
       "\n",
       "        tlucchin  vcalzia0  vdalcol0  vmarino0  vmiglior  vruggie1  wxie0000  \n",
       "job_id                                                                        \n",
       "2              0         0         0         0         0         0         0  \n",
       "3              0         1         0         0         0         0         0  \n",
       "4              0         0         0         0         0         0         0  \n",
       "8              0         0         0         0         0         0         0  \n",
       "9              0         0         0         0         0         0         0  \n",
       "\n",
       "[5 rows x 394 columns]"
      ]
     },
     "execution_count": 46,
     "metadata": {},
     "output_type": "execute_result"
    }
   ],
   "source": [
    "#qs = []\n",
    "#for q in data['queue']:\n",
    "#    if not q in qs:\n",
    "#        qs.append(q)\n",
    "#us = []\n",
    "#for u in data['user']:\n",
    "#    if not u in us:\n",
    "#        us.append(u)\n",
    "#jns = []\n",
    "#for jn in data['job_name']:\n",
    "#    if not jn in jns:\n",
    "#        jns.append(jn)\n",
    "\n",
    "# convert categorical data\n",
    "#print('job_name')\n",
    "#dms = pd.get_dummies(data['job_name'])\n",
    "#data = pd.concat([data, dms], axis=1)    \n",
    "#data = data.drop(['job_name'], axis=1)\n",
    "\n",
    "print('queue')\n",
    "dms = pd.get_dummies(data['queue'])\n",
    "data = pd.concat([data, dms], axis=1)    \n",
    "data = data.drop(['queue'], axis=1)\n",
    "\n",
    "print('user')\n",
    "dms = pd.get_dummies(data['user'])\n",
    "data = pd.concat([data, dms], axis=1)    \n",
    "data = data.drop(['user'], axis=1)\n",
    "\n",
    "\n",
    "# delete rows  with missing values\n",
    "data = data.dropna()\n",
    "#target = target.dropna()\n",
    "\n",
    "target = data['real_pow']\n",
    "data = data.drop(['real_pow'], axis=1)\n",
    "\n",
    "features_list = list(data.columns)\n",
    "# print(features_list)\n",
    "\n",
    "# convert panda dataframe into numpy arrays\n",
    "data_np = np.array(data)\n",
    "target_np = np.array(target)\n",
    "\n",
    "# scale (obtain data with zero mean and unit variance)\n",
    "#data_scaled = preprocessing.scale(data_np)\n",
    "#target_scaled = preprocessing.scale(target_np)\n",
    "data_scaled = data_np\n",
    "target_scaled = target_np\n",
    "\n",
    "data.iloc[:,5:].head(5)"
   ]
  },
  {
   "cell_type": "code",
   "execution_count": 31,
   "metadata": {},
   "outputs": [
    {
     "name": "stdout",
     "output_type": "stream",
     "text": [
      "274889\n",
      "274889\n"
     ]
    }
   ],
   "source": [
    "print(data_scaled.shape[0])\n",
    "print(target_scaled.shape[0])"
   ]
  },
  {
   "cell_type": "code",
   "execution_count": null,
   "metadata": {},
   "outputs": [],
   "source": []
  },
  {
   "cell_type": "code",
   "execution_count": null,
   "metadata": {},
   "outputs": [],
   "source": []
  },
  {
   "cell_type": "markdown",
   "metadata": {},
   "source": [
    "trying to use the train_test_split"
   ]
  },
  {
   "cell_type": "code",
   "execution_count": 6,
   "metadata": {},
   "outputs": [],
   "source": [
    "# select feautures columns\n",
    "\n",
    "data_features = data.loc[ : , ['job_name', 'queue', 'user', 'node_req', 'cpu_req', 'mem_req', 'ran_alone', 'n_2_1', 'n_2_2', 'n_3_1'] ]\n",
    "data_target = data['real_pow']"
   ]
  },
  {
   "cell_type": "code",
   "execution_count": 7,
   "metadata": {},
   "outputs": [],
   "source": [
    "from sklearn.model_selection import train_test_split\n",
    "\n",
    "# create test and training set\n",
    "train_data, test_data, train_target, test_target = train_test_split(data_features, data_target, test_size = 0.2, random_state = 42)"
   ]
  },
  {
   "cell_type": "code",
   "execution_count": 8,
   "metadata": {},
   "outputs": [
    {
     "name": "stdout",
     "output_type": "stream",
     "text": [
      "248937\n",
      "62235\n"
     ]
    }
   ],
   "source": [
    "print(train_data.shape[0])\n",
    "print(test_data.shape[0])"
   ]
  },
  {
   "cell_type": "code",
   "execution_count": 9,
   "metadata": {},
   "outputs": [],
   "source": [
    "from sklearn.feature_extraction import FeatureHasher\n",
    "import copy\n",
    "from sklearn.ensemble import RandomForestRegressor\n",
    "\n",
    "\n",
    "X_train_hash = copy.copy(train_data)\n",
    "X_test_hash = copy.copy(test_data)\n",
    "for i in range(X_train_hash.shape[1]):\n",
    "    X_train_hash.iloc[:,i]=X_train_hash.iloc[:,i].astype('str')\n",
    "for i in range(X_test_hash.shape[1]):\n",
    "    X_test_hash.iloc[:,i]=X_test_hash.iloc[:,i].astype('str')\n",
    "h = FeatureHasher(n_features=1000, input_type=\"string\")\n",
    "X_train_hash = h.transform(X_train_hash.values)\n",
    "X_test_hash = h.transform(X_test_hash.values)"
   ]
  },
  {
   "cell_type": "code",
   "execution_count": 10,
   "metadata": {},
   "outputs": [
    {
     "name": "stderr",
     "output_type": "stream",
     "text": [
      "/usr/local/lib/python3.5/dist-packages/sklearn/ensemble/forest.py:246: FutureWarning: The default value of n_estimators will change from 10 in version 0.20 to 100 in 0.22.\n",
      "  \"10 in version 0.20 to 100 in 0.22.\", FutureWarning)\n"
     ]
    },
    {
     "data": {
      "text/plain": [
       "RandomForestRegressor(bootstrap=True, criterion='mse', max_depth=None,\n",
       "           max_features='auto', max_leaf_nodes=None,\n",
       "           min_impurity_decrease=0.0, min_impurity_split=None,\n",
       "           min_samples_leaf=1, min_samples_split=2,\n",
       "           min_weight_fraction_leaf=0.0, n_estimators=10, n_jobs=None,\n",
       "           oob_score=False, random_state=None, verbose=0, warm_start=False)"
      ]
     },
     "execution_count": 10,
     "metadata": {},
     "output_type": "execute_result"
    }
   ],
   "source": [
    "regr = RandomForestRegressor()\n",
    "regr.fit(X_train_hash,train_target)\n",
    "\n",
    "\n",
    "#l.fit(X_train_hash,y_train)\n",
    "#y_pred = l.predict_proba(X_test_hash)\n",
    "#print(log_loss(y_test,y_pred))#0.4"
   ]
  },
  {
   "cell_type": "code",
   "execution_count": 11,
   "metadata": {},
   "outputs": [
    {
     "name": "stdout",
     "output_type": "stream",
     "text": [
      "[RandomForestRegressor] Train data Accuracy: 0.82 \n",
      "[RandomForestRegressor] Test data Accuracy: 0.72 \n"
     ]
    }
   ],
   "source": [
    "from sklearn.model_selection import cross_val_score\n",
    "print(\"[RandomForestRegressor] Train data Accuracy: %0.2f \" % regr.score(X_train_hash, train_target))\n",
    "\n",
    "print(\"[RandomForestRegressor] Test data Accuracy: %0.2f \" % regr.score(X_test_hash, test_target))"
   ]
  },
  {
   "cell_type": "code",
   "execution_count": null,
   "metadata": {},
   "outputs": [],
   "source": []
  },
  {
   "cell_type": "code",
   "execution_count": null,
   "metadata": {},
   "outputs": [],
   "source": []
  },
  {
   "cell_type": "code",
   "execution_count": null,
   "metadata": {},
   "outputs": [],
   "source": []
  },
  {
   "cell_type": "code",
   "execution_count": null,
   "metadata": {},
   "outputs": [],
   "source": []
  },
  {
   "cell_type": "code",
   "execution_count": null,
   "metadata": {},
   "outputs": [],
   "source": []
  },
  {
   "cell_type": "code",
   "execution_count": null,
   "metadata": {},
   "outputs": [],
   "source": []
  },
  {
   "cell_type": "code",
   "execution_count": null,
   "metadata": {},
   "outputs": [],
   "source": []
  },
  {
   "cell_type": "code",
   "execution_count": null,
   "metadata": {},
   "outputs": [],
   "source": []
  },
  {
   "cell_type": "code",
   "execution_count": null,
   "metadata": {},
   "outputs": [],
   "source": []
  },
  {
   "cell_type": "code",
   "execution_count": 32,
   "metadata": {},
   "outputs": [],
   "source": [
    "from sklearn.model_selection import train_test_split\n",
    "\n",
    "# create test and training set\n",
    "train_data, test_data, train_target, test_target = train_test_split(data_scaled, target_scaled, test_size = 0.2, random_state = 42)"
   ]
  },
  {
   "cell_type": "code",
   "execution_count": 33,
   "metadata": {},
   "outputs": [
    {
     "name": "stderr",
     "output_type": "stream",
     "text": [
      "/usr/local/lib/python3.5/dist-packages/sklearn/ensemble/forest.py:246: FutureWarning: The default value of n_estimators will change from 10 in version 0.20 to 100 in 0.22.\n",
      "  \"10 in version 0.20 to 100 in 0.22.\", FutureWarning)\n"
     ]
    },
    {
     "data": {
      "text/plain": [
       "RandomForestRegressor(bootstrap=True, criterion='mse', max_depth=None,\n",
       "           max_features='auto', max_leaf_nodes=None,\n",
       "           min_impurity_decrease=0.0, min_impurity_split=None,\n",
       "           min_samples_leaf=1, min_samples_split=2,\n",
       "           min_weight_fraction_leaf=0.0, n_estimators=10, n_jobs=None,\n",
       "           oob_score=False, random_state=None, verbose=0, warm_start=False)"
      ]
     },
     "execution_count": 33,
     "metadata": {},
     "output_type": "execute_result"
    }
   ],
   "source": [
    "from sklearn.ensemble import RandomForestRegressor\n",
    "regr = RandomForestRegressor()\n",
    "regr.fit(train_data,train_target)\n",
    "\n"
   ]
  },
  {
   "cell_type": "code",
   "execution_count": 34,
   "metadata": {},
   "outputs": [
    {
     "name": "stdout",
     "output_type": "stream",
     "text": [
      "[RandomForestRegressor] Train data Accuracy: 0.74 \n",
      "[RandomForestRegressor] Test data Accuracy: 0.70 \n"
     ]
    }
   ],
   "source": [
    "from sklearn.model_selection import cross_val_score\n",
    "print(\"[RandomForestRegressor] Train data Accuracy: %0.2f \" % regr.score(train_data, train_target))\n",
    "\n",
    "\n",
    "print(\"[RandomForestRegressor] Test data Accuracy: %0.2f \" % regr.score(test_data, test_target))"
   ]
  },
  {
   "cell_type": "code",
   "execution_count": null,
   "metadata": {},
   "outputs": [],
   "source": []
  }
 ],
 "metadata": {
  "kernelspec": {
   "display_name": "Python 3",
   "language": "python",
   "name": "python3"
  },
  "language_info": {
   "codemirror_mode": {
    "name": "ipython",
    "version": 3
   },
   "file_extension": ".py",
   "mimetype": "text/x-python",
   "name": "python",
   "nbconvert_exporter": "python",
   "pygments_lexer": "ipython3",
   "version": "3.5.2"
  }
 },
 "nbformat": 4,
 "nbformat_minor": 2
}
