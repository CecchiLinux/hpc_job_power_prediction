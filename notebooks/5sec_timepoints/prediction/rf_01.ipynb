{
 "cells": [
  {
   "cell_type": "code",
   "execution_count": 1,
   "metadata": {},
   "outputs": [],
   "source": [
    "import pandas as pd\n",
    "import errno    \n",
    "import os\n",
    "import numpy as np\n",
    "import math\n",
    "\n",
    "'''\n",
    "Author: Enrico Ceccolini\n",
    "    Create a dataframe to be used as the base of a power prediction model\n",
    "'''\n",
    "\n",
    "datadir = \"/datasets/eurora_data/db1/\"\n",
    "\n",
    "infile_jobs_to_nodes = datadir + \"job_nodes.csv\"\n",
    "\n",
    "suffix = \"_5sec_\"\n",
    "### select an interval from\n",
    "## 1 settings wholeData\n",
    "#interval_comment_whole = \"WholeData\"\n",
    "\n",
    "### select an interval from\n",
    "## 2 settings Andrea\n",
    "interval_comment = \"Andrea\"\n",
    "start_time = pd.to_datetime('2014-03-31')\n",
    "end_time = pd.to_datetime('2014-05-01')\n",
    "#infile_jobs = datadir + \"april_long_jobs.csv\"\n",
    "\n",
    "## 3 settings Alina\n",
    "interval_comment = \"Alina\"\n",
    "start_time = pd.to_datetime('2014-03-31')\n",
    "start_time = pd.to_datetime('2014-05-31')\n",
    "end_time = pd.to_datetime('2014-11-01')\n",
    "train_start_time = pd.to_datetime('2014-03-31')\n",
    "train_end_time = pd.to_datetime('2014-10-01')\n",
    "test_end_time = pd.to_datetime('2014-11-01')\n",
    "\n",
    "\n",
    "infile_jobs = datadir + \"CPUs/\" + interval_comment + \"/\" + interval_comment + \"_long_jobs_real_pow\"\n",
    "#infile_long_jobs = datadir + \"CPUs/\" + interval_comment + \"/\" + interval_comment + \"_long_jobs_real_pow_64_359350\"\n",
    "\n",
    "nodes=['01', '02', '03', '04', '05', '06', '07', '08', '09', '10', '11', '12', '13', '14', '15', '16', '17', '18', '19', '20', '21', '22', '23', '24', '25', '26', '27', '28', '29', '30', '31', '32', '33', '34', '35', '36', '37', '38', '39', '40', '41', '42', '44', '45', '46', '47', '48', '49', '50', '51', '52', '53', '54', '55', '56', '57', '58', '59', '60', '61', '62', '63', '64']"
   ]
  },
  {
   "cell_type": "code",
   "execution_count": 19,
   "metadata": {},
   "outputs": [
    {
     "name": "stdout",
     "output_type": "stream",
     "text": [
      "jobs_to_nodes_whole_data contains 469095 records\n",
      "There are 336787 long jobs in the Alina's interval\n"
     ]
    }
   ],
   "source": [
    "jobs_to_nodes_whole_data = pd.read_csv(infile_jobs_to_nodes, index_col=0)\n",
    "print(\"jobs_to_nodes_whole_data contains {} records\".format(jobs_to_nodes_whole_data.shape[0]))\n",
    "\n",
    "jobs = pd.read_csv(infile_jobs + \".csv\", index_col=0)\n",
    "print(\"There are {} long jobs in the {}'s interval\".format(jobs.shape[0], interval_comment))\n",
    "\n",
    "# clean user names\n",
    "jobs['user'] = jobs.apply(lambda row: row['user'].split('@')[0], axis=1)"
   ]
  },
  {
   "cell_type": "code",
   "execution_count": 20,
   "metadata": {},
   "outputs": [
    {
     "data": {
      "text/html": [
       "<div>\n",
       "<style scoped>\n",
       "    .dataframe tbody tr th:only-of-type {\n",
       "        vertical-align: middle;\n",
       "    }\n",
       "\n",
       "    .dataframe tbody tr th {\n",
       "        vertical-align: top;\n",
       "    }\n",
       "\n",
       "    .dataframe thead th {\n",
       "        text-align: right;\n",
       "    }\n",
       "</style>\n",
       "<table border=\"1\" class=\"dataframe\">\n",
       "  <thead>\n",
       "    <tr style=\"text-align: right;\">\n",
       "      <th></th>\n",
       "      <th>job_id_string</th>\n",
       "      <th>job_name</th>\n",
       "      <th>queue</th>\n",
       "      <th>start_time</th>\n",
       "      <th>run_start_time</th>\n",
       "      <th>end_time</th>\n",
       "      <th>user</th>\n",
       "      <th>node_req</th>\n",
       "      <th>cpu_req</th>\n",
       "      <th>mem_req</th>\n",
       "      <th>...</th>\n",
       "      <th>mic_req</th>\n",
       "      <th>real_pow</th>\n",
       "      <th>ran_alone</th>\n",
       "      <th>real_pow_quality</th>\n",
       "      <th>n_2_1</th>\n",
       "      <th>n_2_2</th>\n",
       "      <th>n_3_1</th>\n",
       "      <th>job_tot_timepoints</th>\n",
       "      <th>job_timepoints</th>\n",
       "      <th>good_nodes</th>\n",
       "    </tr>\n",
       "    <tr>\n",
       "      <th>job_id</th>\n",
       "      <th></th>\n",
       "      <th></th>\n",
       "      <th></th>\n",
       "      <th></th>\n",
       "      <th></th>\n",
       "      <th></th>\n",
       "      <th></th>\n",
       "      <th></th>\n",
       "      <th></th>\n",
       "      <th></th>\n",
       "      <th></th>\n",
       "      <th></th>\n",
       "      <th></th>\n",
       "      <th></th>\n",
       "      <th></th>\n",
       "      <th></th>\n",
       "      <th></th>\n",
       "      <th></th>\n",
       "      <th></th>\n",
       "      <th></th>\n",
       "      <th></th>\n",
       "    </tr>\n",
       "  </thead>\n",
       "  <tbody>\n",
       "    <tr>\n",
       "      <th>1</th>\n",
       "      <td>498458.node129</td>\n",
       "      <td>rth2e6t0</td>\n",
       "      <td>parallel</td>\n",
       "      <td>2014-03-31 00:30:02</td>\n",
       "      <td>2014-03-31 00:30:02</td>\n",
       "      <td>2014-03-31 01:22:40</td>\n",
       "      <td>alupi000</td>\n",
       "      <td>1</td>\n",
       "      <td>16</td>\n",
       "      <td>14</td>\n",
       "      <td>...</td>\n",
       "      <td>NaN</td>\n",
       "      <td>0.0</td>\n",
       "      <td>True</td>\n",
       "      <td>1.0</td>\n",
       "      <td>0</td>\n",
       "      <td>1</td>\n",
       "      <td>0</td>\n",
       "      <td>631</td>\n",
       "      <td>631</td>\n",
       "      <td>0</td>\n",
       "    </tr>\n",
       "  </tbody>\n",
       "</table>\n",
       "<p>1 rows × 26 columns</p>\n",
       "</div>"
      ],
      "text/plain": [
       "         job_id_string  job_name     queue           start_time  \\\n",
       "job_id                                                            \n",
       "1       498458.node129  rth2e6t0  parallel  2014-03-31 00:30:02   \n",
       "\n",
       "             run_start_time             end_time      user  node_req  cpu_req  \\\n",
       "job_id                                                                          \n",
       "1       2014-03-31 00:30:02  2014-03-31 01:22:40  alupi000         1       16   \n",
       "\n",
       "        mem_req  ... mic_req real_pow  ran_alone real_pow_quality  n_2_1  \\\n",
       "job_id           ...                                                       \n",
       "1            14  ...     NaN      0.0       True              1.0      0   \n",
       "\n",
       "        n_2_2  n_3_1  job_tot_timepoints  job_timepoints  good_nodes  \n",
       "job_id                                                                \n",
       "1           1      0                 631             631           0  \n",
       "\n",
       "[1 rows x 26 columns]"
      ]
     },
     "execution_count": 20,
     "metadata": {},
     "output_type": "execute_result"
    }
   ],
   "source": [
    "jobs.head(1)"
   ]
  },
  {
   "cell_type": "code",
   "execution_count": 21,
   "metadata": {},
   "outputs": [],
   "source": [
    "jobs_q1 = jobs[jobs['real_pow'] > 0]"
   ]
  },
  {
   "cell_type": "code",
   "execution_count": 26,
   "metadata": {
    "code_folding": []
   },
   "outputs": [
    {
     "data": {
      "text/plain": [
       "Index(['job_name', 'queue', 'run_start_time', 'end_time', 'user', 'node_req',\n",
       "       'cpu_req', 'mem_req', 'real_pow', 'ran_alone', 'n_2_1', 'n_2_2',\n",
       "       'n_3_1'],\n",
       "      dtype='object')"
      ]
     },
     "execution_count": 26,
     "metadata": {},
     "output_type": "execute_result"
    }
   ],
   "source": [
    "\n",
    "#target = jobs['real_pow']\n",
    "\n",
    "# drop unused (or not usable) info\n",
    "data = jobs_q1.drop(['job_id_string'], axis=1)\n",
    "data = data.drop(['start_time'], axis=1)\n",
    "data = data.drop(['job_tot_timepoints'], axis=1)\n",
    "data = data.drop(['job_timepoints'], axis=1)\n",
    "data = data.drop(['good_nodes'], axis=1) \n",
    "data = data.drop(['exit_status'], axis=1)\n",
    "data = data.drop(['pbs_exit_code'], axis=1)\n",
    "data = data.drop(['deleted'], axis=1)\n",
    "data = data.drop(['dependency'], axis=1)\n",
    "data = data.drop(['real_pow_quality'], axis=1)\n",
    "data = data.drop(['time_req'], axis=1)\n",
    "#data = data.drop(['real_pow'], axis=1)\n",
    "#data = data.drop(['job_name'], axis=1)\n",
    "\n",
    "data = data.drop(['gpu_req'], axis=1)\n",
    "data = data.drop(['mic_req'], axis=1)\n",
    "\n",
    "data.keys()"
   ]
  },
  {
   "cell_type": "code",
   "execution_count": 54,
   "metadata": {},
   "outputs": [
    {
     "name": "stdout",
     "output_type": "stream",
     "text": [
      "train set contains 286253 records\n",
      "test set contains 24918 records\n"
     ]
    }
   ],
   "source": [
    "jobs_train = data[pd.to_datetime(data['end_time']) <= train_end_time]\n",
    "jobs_train = jobs_train[pd.to_datetime(jobs_train['run_start_time']) > train_start_time]\n",
    "print(\"train set contains {} records\".format(jobs_train.shape[0]))\n",
    "\n",
    "train_target = jobs_train['real_pow']\n",
    "jobs_train = jobs_train.drop(['run_start_time'], axis=1)\n",
    "jobs_train = jobs_train.drop(['end_time'], axis=1)\n",
    "jobs_train = jobs_train.drop(['real_pow'], axis=1)\n",
    "\n",
    "jobs_test = data[pd.to_datetime(data['end_time']) <= test_end_time]\n",
    "jobs_test = jobs_test[pd.to_datetime(jobs_test['run_start_time']) > train_end_time]\n",
    "print(\"test set contains {} records\".format(jobs_test.shape[0]))\n",
    "test_target = jobs_test['real_pow']\n",
    "jobs_test = jobs_test.drop(['run_start_time'], axis=1)\n",
    "jobs_test = jobs_test.drop(['end_time'], axis=1)\n",
    "jobs_test = jobs_test.drop(['real_pow'], axis=1)"
   ]
  },
  {
   "cell_type": "code",
   "execution_count": 55,
   "metadata": {},
   "outputs": [
    {
     "data": {
      "text/html": [
       "<div>\n",
       "<style scoped>\n",
       "    .dataframe tbody tr th:only-of-type {\n",
       "        vertical-align: middle;\n",
       "    }\n",
       "\n",
       "    .dataframe tbody tr th {\n",
       "        vertical-align: top;\n",
       "    }\n",
       "\n",
       "    .dataframe thead th {\n",
       "        text-align: right;\n",
       "    }\n",
       "</style>\n",
       "<table border=\"1\" class=\"dataframe\">\n",
       "  <thead>\n",
       "    <tr style=\"text-align: right;\">\n",
       "      <th></th>\n",
       "      <th>job_name</th>\n",
       "      <th>queue</th>\n",
       "      <th>run_start_time</th>\n",
       "      <th>end_time</th>\n",
       "      <th>user</th>\n",
       "      <th>node_req</th>\n",
       "      <th>cpu_req</th>\n",
       "      <th>mem_req</th>\n",
       "      <th>real_pow</th>\n",
       "      <th>ran_alone</th>\n",
       "      <th>n_2_1</th>\n",
       "      <th>n_2_2</th>\n",
       "      <th>n_3_1</th>\n",
       "    </tr>\n",
       "    <tr>\n",
       "      <th>job_id</th>\n",
       "      <th></th>\n",
       "      <th></th>\n",
       "      <th></th>\n",
       "      <th></th>\n",
       "      <th></th>\n",
       "      <th></th>\n",
       "      <th></th>\n",
       "      <th></th>\n",
       "      <th></th>\n",
       "      <th></th>\n",
       "      <th></th>\n",
       "      <th></th>\n",
       "      <th></th>\n",
       "    </tr>\n",
       "  </thead>\n",
       "  <tbody>\n",
       "    <tr>\n",
       "      <th>2</th>\n",
       "      <td>CPMD</td>\n",
       "      <td>parallel</td>\n",
       "      <td>2014-03-31 00:36:51</td>\n",
       "      <td>2014-03-31 00:40:13</td>\n",
       "      <td>framondo</td>\n",
       "      <td>1</td>\n",
       "      <td>16</td>\n",
       "      <td>14</td>\n",
       "      <td>213.907235</td>\n",
       "      <td>True</td>\n",
       "      <td>1</td>\n",
       "      <td>0</td>\n",
       "      <td>0</td>\n",
       "    </tr>\n",
       "    <tr>\n",
       "      <th>3</th>\n",
       "      <td>7ribb-relax</td>\n",
       "      <td>parallel</td>\n",
       "      <td>2014-03-31 00:54:38</td>\n",
       "      <td>2014-03-31 04:55:17</td>\n",
       "      <td>vcalzia0</td>\n",
       "      <td>6</td>\n",
       "      <td>96</td>\n",
       "      <td>84</td>\n",
       "      <td>1232.722332</td>\n",
       "      <td>True</td>\n",
       "      <td>5</td>\n",
       "      <td>1</td>\n",
       "      <td>0</td>\n",
       "    </tr>\n",
       "    <tr>\n",
       "      <th>4</th>\n",
       "      <td>rth2e6t0DC</td>\n",
       "      <td>parallel</td>\n",
       "      <td>2014-03-31 01:00:02</td>\n",
       "      <td>2014-03-31 05:01:18</td>\n",
       "      <td>alupi000</td>\n",
       "      <td>1</td>\n",
       "      <td>16</td>\n",
       "      <td>14</td>\n",
       "      <td>204.154343</td>\n",
       "      <td>True</td>\n",
       "      <td>1</td>\n",
       "      <td>0</td>\n",
       "      <td>0</td>\n",
       "    </tr>\n",
       "    <tr>\n",
       "      <th>8</th>\n",
       "      <td>INIT</td>\n",
       "      <td>R472836</td>\n",
       "      <td>2014-03-31 04:00:17</td>\n",
       "      <td>2014-03-31 07:50:11</td>\n",
       "      <td>a07smr01</td>\n",
       "      <td>1</td>\n",
       "      <td>1</td>\n",
       "      <td>2</td>\n",
       "      <td>4.619396</td>\n",
       "      <td>False</td>\n",
       "      <td>0</td>\n",
       "      <td>0</td>\n",
       "      <td>1</td>\n",
       "    </tr>\n",
       "    <tr>\n",
       "      <th>9</th>\n",
       "      <td>LM_PRE</td>\n",
       "      <td>R472836</td>\n",
       "      <td>2014-03-31 04:00:18</td>\n",
       "      <td>2014-03-31 04:23:30</td>\n",
       "      <td>a07smr01</td>\n",
       "      <td>11</td>\n",
       "      <td>176</td>\n",
       "      <td>154</td>\n",
       "      <td>3437.597435</td>\n",
       "      <td>True</td>\n",
       "      <td>0</td>\n",
       "      <td>0</td>\n",
       "      <td>11</td>\n",
       "    </tr>\n",
       "  </tbody>\n",
       "</table>\n",
       "</div>"
      ],
      "text/plain": [
       "           job_name     queue       run_start_time             end_time  \\\n",
       "job_id                                                                    \n",
       "2              CPMD  parallel  2014-03-31 00:36:51  2014-03-31 00:40:13   \n",
       "3       7ribb-relax  parallel  2014-03-31 00:54:38  2014-03-31 04:55:17   \n",
       "4        rth2e6t0DC  parallel  2014-03-31 01:00:02  2014-03-31 05:01:18   \n",
       "8              INIT   R472836  2014-03-31 04:00:17  2014-03-31 07:50:11   \n",
       "9            LM_PRE   R472836  2014-03-31 04:00:18  2014-03-31 04:23:30   \n",
       "\n",
       "            user  node_req  cpu_req  mem_req     real_pow  ran_alone  n_2_1  \\\n",
       "job_id                                                                        \n",
       "2       framondo         1       16       14   213.907235       True      1   \n",
       "3       vcalzia0         6       96       84  1232.722332       True      5   \n",
       "4       alupi000         1       16       14   204.154343       True      1   \n",
       "8       a07smr01         1        1        2     4.619396      False      0   \n",
       "9       a07smr01        11      176      154  3437.597435       True      0   \n",
       "\n",
       "        n_2_2  n_3_1  \n",
       "job_id                \n",
       "2           0      0  \n",
       "3           1      0  \n",
       "4           0      0  \n",
       "8           0      1  \n",
       "9           0     11  "
      ]
     },
     "execution_count": 55,
     "metadata": {},
     "output_type": "execute_result"
    }
   ],
   "source": [
    "data.head(5)"
   ]
  },
  {
   "cell_type": "code",
   "execution_count": 56,
   "metadata": {},
   "outputs": [
    {
     "name": "stdout",
     "output_type": "stream",
     "text": [
      "311172\n"
     ]
    }
   ],
   "source": [
    "print(data.shape[0])"
   ]
  },
  {
   "cell_type": "code",
   "execution_count": 57,
   "metadata": {},
   "outputs": [],
   "source": [
    "#data['time_req'].unique()"
   ]
  },
  {
   "cell_type": "code",
   "execution_count": 43,
   "metadata": {},
   "outputs": [],
   "source": [
    "#data[data['time_req'].isnull()].shape[0]"
   ]
  },
  {
   "cell_type": "code",
   "execution_count": 44,
   "metadata": {},
   "outputs": [],
   "source": [
    "#data.loc[data['time_req'] == '--', 'time_req'] = np.nan"
   ]
  },
  {
   "cell_type": "code",
   "execution_count": 45,
   "metadata": {},
   "outputs": [],
   "source": [
    "#y = data.time_req.str.split(':')   \n",
    "#i, j = y.str[0], y.str[1]  \n",
    "#\n",
    "#data['time_req'] = i.astype(int) + (j.astype(float) / 60) \n",
    "#data.head(5)\n"
   ]
  },
  {
   "cell_type": "code",
   "execution_count": 53,
   "metadata": {},
   "outputs": [
    {
     "data": {
      "text/plain": [
       "8890"
      ]
     },
     "execution_count": 53,
     "metadata": {},
     "output_type": "execute_result"
    }
   ],
   "source": [
    "#debug\n",
    "jobs_train['job_name'].unique().shape[0]"
   ]
  },
  {
   "cell_type": "code",
   "execution_count": null,
   "metadata": {},
   "outputs": [],
   "source": []
  },
  {
   "cell_type": "code",
   "execution_count": 58,
   "metadata": {},
   "outputs": [
    {
     "name": "stderr",
     "output_type": "stream",
     "text": [
      "/usr/local/lib/python3.5/dist-packages/sklearn/ensemble/forest.py:246: FutureWarning: The default value of n_estimators will change from 10 in version 0.20 to 100 in 0.22.\n",
      "  \"10 in version 0.20 to 100 in 0.22.\", FutureWarning)\n"
     ]
    },
    {
     "data": {
      "text/plain": [
       "RandomForestRegressor(bootstrap=True, criterion='mse', max_depth=None,\n",
       "           max_features='auto', max_leaf_nodes=None,\n",
       "           min_impurity_decrease=0.0, min_impurity_split=None,\n",
       "           min_samples_leaf=1, min_samples_split=2,\n",
       "           min_weight_fraction_leaf=0.0, n_estimators=10, n_jobs=None,\n",
       "           oob_score=False, random_state=None, verbose=0, warm_start=False)"
      ]
     },
     "execution_count": 58,
     "metadata": {},
     "output_type": "execute_result"
    }
   ],
   "source": [
    "from sklearn.feature_extraction import FeatureHasher\n",
    "import copy\n",
    "from sklearn.ensemble import RandomForestRegressor\n",
    "\n",
    "\n",
    "X_train_hash = copy.copy(jobs_train)\n",
    "X_test_hash = copy.copy(jobs_test)\n",
    "for i in range(X_train_hash.shape[1]):\n",
    "    X_train_hash.iloc[:,i]=X_train_hash.iloc[:,i].astype('str')\n",
    "for i in range(X_test_hash.shape[1]):\n",
    "    X_test_hash.iloc[:,i]=X_test_hash.iloc[:,i].astype('str')\n",
    "h = FeatureHasher(n_features=1000, input_type=\"string\")\n",
    "X_train_hash = h.transform(X_train_hash.values)\n",
    "X_test_hash = h.transform(X_test_hash.values)\n",
    "\n"
   ]
  },
  {
   "cell_type": "code",
   "execution_count": null,
   "metadata": {},
   "outputs": [],
   "source": [
    "regr = RandomForestRegressor()\n",
    "regr.fit(X_train_hash,train_target)\n",
    "\n",
    "\n",
    "#l.fit(X_train_hash,y_train)\n",
    "#y_pred = l.predict_proba(X_test_hash)\n",
    "#print(log_loss(y_test,y_pred))#0.4"
   ]
  },
  {
   "cell_type": "code",
   "execution_count": null,
   "metadata": {},
   "outputs": [],
   "source": []
  },
  {
   "cell_type": "code",
   "execution_count": 60,
   "metadata": {},
   "outputs": [
    {
     "name": "stdout",
     "output_type": "stream",
     "text": [
      "[RandomForestRegressor] Train data Accuracy: 0.81 \n",
      "[RandomForestRegressor] Test data Accuracy: 0.68 \n"
     ]
    }
   ],
   "source": [
    "from sklearn.model_selection import cross_val_score\n",
    "print(\"[RandomForestRegressor] Train data Accuracy: %0.2f \" % regr.score(X_train_hash, train_target))\n",
    "\n",
    "\n",
    "print(\"[RandomForestRegressor] Test data Accuracy: %0.2f \" % regr.score(X_test_hash, test_target))"
   ]
  },
  {
   "cell_type": "code",
   "execution_count": 64,
   "metadata": {},
   "outputs": [
    {
     "data": {
      "text/plain": [
       "24918"
      ]
     },
     "execution_count": 64,
     "metadata": {},
     "output_type": "execute_result"
    }
   ],
   "source": [
    "test_predictions = regr.predict(X_test_hash)\n",
    "test_predictions.shape[0]"
   ]
  },
  {
   "cell_type": "code",
   "execution_count": 65,
   "metadata": {},
   "outputs": [
    {
     "name": "stdout",
     "output_type": "stream",
     "text": [
      "the mean is 74.0599653418435\n",
      "r_2 is 0.6761439322256165\n",
      "RMSE is 91.53533864787914\n",
      "NRMSE is 1.2359624829065665\n"
     ]
    }
   ],
   "source": [
    "jobs_test_full = data[pd.to_datetime(data['end_time']) <= test_end_time]\n",
    "jobs_test_full = jobs_test_full[pd.to_datetime(jobs_test_full['run_start_time']) > train_end_time]\n",
    "\n",
    "mean_real_pow = jobs_test_full['real_pow'].mean()\n",
    "print(\"the mean is {}\".format(mean_real_pow))\n",
    "\n",
    "jobs_test_full['numerator'] = (jobs_test_full['real_pow'] - test_predictions)**2\n",
    "jobs_test_full['denumerator'] = (jobs_test_full['real_pow'] - mean_real_pow)**2\n",
    "N = jobs_test_full['numerator'].shape[0]\n",
    "\n",
    "r_2 = 1 - (jobs_test_full['numerator'].sum() / jobs_test_full['denumerator'].sum())\n",
    "print(\"r_2 is {}\".format(r_2))\n",
    "\n",
    "rmse = math.sqrt(jobs_test_full['numerator'].sum() / N)\n",
    "print(\"RMSE is {}\".format(rmse))\n",
    "print(\"NRMSE is {}\".format(rmse/mean_real_pow))"
   ]
  },
  {
   "cell_type": "code",
   "execution_count": 61,
   "metadata": {},
   "outputs": [],
   "source": [
    "# print(X_train_hash)"
   ]
  },
  {
   "cell_type": "code",
   "execution_count": 46,
   "metadata": {},
   "outputs": [
    {
     "name": "stdout",
     "output_type": "stream",
     "text": [
      "queue\n",
      "user\n"
     ]
    },
    {
     "data": {
      "text/html": [
       "<div>\n",
       "<style scoped>\n",
       "    .dataframe tbody tr th:only-of-type {\n",
       "        vertical-align: middle;\n",
       "    }\n",
       "\n",
       "    .dataframe tbody tr th {\n",
       "        vertical-align: top;\n",
       "    }\n",
       "\n",
       "    .dataframe thead th {\n",
       "        text-align: right;\n",
       "    }\n",
       "</style>\n",
       "<table border=\"1\" class=\"dataframe\">\n",
       "  <thead>\n",
       "    <tr style=\"text-align: right;\">\n",
       "      <th></th>\n",
       "      <th>n_2_2</th>\n",
       "      <th>n_3_1</th>\n",
       "      <th>R1010870</th>\n",
       "      <th>R1010998</th>\n",
       "      <th>R1011000</th>\n",
       "      <th>R1013900</th>\n",
       "      <th>R1013901</th>\n",
       "      <th>R1013902</th>\n",
       "      <th>R1013903</th>\n",
       "      <th>R1013904</th>\n",
       "      <th>...</th>\n",
       "      <th>tbusatta</th>\n",
       "      <th>tgiorgin</th>\n",
       "      <th>tjones00</th>\n",
       "      <th>tlucchin</th>\n",
       "      <th>vcalzia0</th>\n",
       "      <th>vdalcol0</th>\n",
       "      <th>vmarino0</th>\n",
       "      <th>vmiglior</th>\n",
       "      <th>vruggie1</th>\n",
       "      <th>wxie0000</th>\n",
       "    </tr>\n",
       "    <tr>\n",
       "      <th>job_id</th>\n",
       "      <th></th>\n",
       "      <th></th>\n",
       "      <th></th>\n",
       "      <th></th>\n",
       "      <th></th>\n",
       "      <th></th>\n",
       "      <th></th>\n",
       "      <th></th>\n",
       "      <th></th>\n",
       "      <th></th>\n",
       "      <th></th>\n",
       "      <th></th>\n",
       "      <th></th>\n",
       "      <th></th>\n",
       "      <th></th>\n",
       "      <th></th>\n",
       "      <th></th>\n",
       "      <th></th>\n",
       "      <th></th>\n",
       "      <th></th>\n",
       "      <th></th>\n",
       "    </tr>\n",
       "  </thead>\n",
       "  <tbody>\n",
       "    <tr>\n",
       "      <th>2</th>\n",
       "      <td>0</td>\n",
       "      <td>0</td>\n",
       "      <td>0</td>\n",
       "      <td>0</td>\n",
       "      <td>0</td>\n",
       "      <td>0</td>\n",
       "      <td>0</td>\n",
       "      <td>0</td>\n",
       "      <td>0</td>\n",
       "      <td>0</td>\n",
       "      <td>...</td>\n",
       "      <td>0</td>\n",
       "      <td>0</td>\n",
       "      <td>0</td>\n",
       "      <td>0</td>\n",
       "      <td>0</td>\n",
       "      <td>0</td>\n",
       "      <td>0</td>\n",
       "      <td>0</td>\n",
       "      <td>0</td>\n",
       "      <td>0</td>\n",
       "    </tr>\n",
       "    <tr>\n",
       "      <th>3</th>\n",
       "      <td>1</td>\n",
       "      <td>0</td>\n",
       "      <td>0</td>\n",
       "      <td>0</td>\n",
       "      <td>0</td>\n",
       "      <td>0</td>\n",
       "      <td>0</td>\n",
       "      <td>0</td>\n",
       "      <td>0</td>\n",
       "      <td>0</td>\n",
       "      <td>...</td>\n",
       "      <td>0</td>\n",
       "      <td>0</td>\n",
       "      <td>0</td>\n",
       "      <td>0</td>\n",
       "      <td>1</td>\n",
       "      <td>0</td>\n",
       "      <td>0</td>\n",
       "      <td>0</td>\n",
       "      <td>0</td>\n",
       "      <td>0</td>\n",
       "    </tr>\n",
       "    <tr>\n",
       "      <th>4</th>\n",
       "      <td>0</td>\n",
       "      <td>0</td>\n",
       "      <td>0</td>\n",
       "      <td>0</td>\n",
       "      <td>0</td>\n",
       "      <td>0</td>\n",
       "      <td>0</td>\n",
       "      <td>0</td>\n",
       "      <td>0</td>\n",
       "      <td>0</td>\n",
       "      <td>...</td>\n",
       "      <td>0</td>\n",
       "      <td>0</td>\n",
       "      <td>0</td>\n",
       "      <td>0</td>\n",
       "      <td>0</td>\n",
       "      <td>0</td>\n",
       "      <td>0</td>\n",
       "      <td>0</td>\n",
       "      <td>0</td>\n",
       "      <td>0</td>\n",
       "    </tr>\n",
       "    <tr>\n",
       "      <th>8</th>\n",
       "      <td>0</td>\n",
       "      <td>1</td>\n",
       "      <td>0</td>\n",
       "      <td>0</td>\n",
       "      <td>0</td>\n",
       "      <td>0</td>\n",
       "      <td>0</td>\n",
       "      <td>0</td>\n",
       "      <td>0</td>\n",
       "      <td>0</td>\n",
       "      <td>...</td>\n",
       "      <td>0</td>\n",
       "      <td>0</td>\n",
       "      <td>0</td>\n",
       "      <td>0</td>\n",
       "      <td>0</td>\n",
       "      <td>0</td>\n",
       "      <td>0</td>\n",
       "      <td>0</td>\n",
       "      <td>0</td>\n",
       "      <td>0</td>\n",
       "    </tr>\n",
       "    <tr>\n",
       "      <th>9</th>\n",
       "      <td>0</td>\n",
       "      <td>11</td>\n",
       "      <td>0</td>\n",
       "      <td>0</td>\n",
       "      <td>0</td>\n",
       "      <td>0</td>\n",
       "      <td>0</td>\n",
       "      <td>0</td>\n",
       "      <td>0</td>\n",
       "      <td>0</td>\n",
       "      <td>...</td>\n",
       "      <td>0</td>\n",
       "      <td>0</td>\n",
       "      <td>0</td>\n",
       "      <td>0</td>\n",
       "      <td>0</td>\n",
       "      <td>0</td>\n",
       "      <td>0</td>\n",
       "      <td>0</td>\n",
       "      <td>0</td>\n",
       "      <td>0</td>\n",
       "    </tr>\n",
       "  </tbody>\n",
       "</table>\n",
       "<p>5 rows × 394 columns</p>\n",
       "</div>"
      ],
      "text/plain": [
       "        n_2_2  n_3_1  R1010870  R1010998  R1011000  R1013900  R1013901  \\\n",
       "job_id                                                                   \n",
       "2           0      0         0         0         0         0         0   \n",
       "3           1      0         0         0         0         0         0   \n",
       "4           0      0         0         0         0         0         0   \n",
       "8           0      1         0         0         0         0         0   \n",
       "9           0     11         0         0         0         0         0   \n",
       "\n",
       "        R1013902  R1013903  R1013904  ...  tbusatta  tgiorgin  tjones00  \\\n",
       "job_id                                ...                                 \n",
       "2              0         0         0  ...         0         0         0   \n",
       "3              0         0         0  ...         0         0         0   \n",
       "4              0         0         0  ...         0         0         0   \n",
       "8              0         0         0  ...         0         0         0   \n",
       "9              0         0         0  ...         0         0         0   \n",
       "\n",
       "        tlucchin  vcalzia0  vdalcol0  vmarino0  vmiglior  vruggie1  wxie0000  \n",
       "job_id                                                                        \n",
       "2              0         0         0         0         0         0         0  \n",
       "3              0         1         0         0         0         0         0  \n",
       "4              0         0         0         0         0         0         0  \n",
       "8              0         0         0         0         0         0         0  \n",
       "9              0         0         0         0         0         0         0  \n",
       "\n",
       "[5 rows x 394 columns]"
      ]
     },
     "execution_count": 46,
     "metadata": {},
     "output_type": "execute_result"
    }
   ],
   "source": [
    "#qs = []\n",
    "#for q in data['queue']:\n",
    "#    if not q in qs:\n",
    "#        qs.append(q)\n",
    "#us = []\n",
    "#for u in data['user']:\n",
    "#    if not u in us:\n",
    "#        us.append(u)\n",
    "#jns = []\n",
    "#for jn in data['job_name']:\n",
    "#    if not jn in jns:\n",
    "#        jns.append(jn)\n",
    "\n",
    "# convert categorical data\n",
    "#print('job_name')\n",
    "#dms = pd.get_dummies(data['job_name'])\n",
    "#data = pd.concat([data, dms], axis=1)    \n",
    "#data = data.drop(['job_name'], axis=1)\n",
    "\n",
    "print('queue')\n",
    "dms = pd.get_dummies(data['queue'])\n",
    "data = pd.concat([data, dms], axis=1)    \n",
    "data = data.drop(['queue'], axis=1)\n",
    "\n",
    "print('user')\n",
    "dms = pd.get_dummies(data['user'])\n",
    "data = pd.concat([data, dms], axis=1)    \n",
    "data = data.drop(['user'], axis=1)\n",
    "\n",
    "\n",
    "# delete rows  with missing values\n",
    "data = data.dropna()\n",
    "#target = target.dropna()\n",
    "\n",
    "target = data['real_pow']\n",
    "data = data.drop(['real_pow'], axis=1)\n",
    "\n",
    "features_list = list(data.columns)\n",
    "# print(features_list)\n",
    "\n",
    "# convert panda dataframe into numpy arrays\n",
    "data_np = np.array(data)\n",
    "target_np = np.array(target)\n",
    "\n",
    "# scale (obtain data with zero mean and unit variance)\n",
    "#data_scaled = preprocessing.scale(data_np)\n",
    "#target_scaled = preprocessing.scale(target_np)\n",
    "data_scaled = data_np\n",
    "target_scaled = target_np\n",
    "\n",
    "data.iloc[:,5:].head(5)"
   ]
  },
  {
   "cell_type": "code",
   "execution_count": 31,
   "metadata": {},
   "outputs": [
    {
     "name": "stdout",
     "output_type": "stream",
     "text": [
      "274889\n",
      "274889\n"
     ]
    }
   ],
   "source": [
    "print(data_scaled.shape[0])\n",
    "print(target_scaled.shape[0])"
   ]
  },
  {
   "cell_type": "code",
   "execution_count": null,
   "metadata": {},
   "outputs": [],
   "source": []
  },
  {
   "cell_type": "code",
   "execution_count": null,
   "metadata": {},
   "outputs": [],
   "source": []
  },
  {
   "cell_type": "code",
   "execution_count": null,
   "metadata": {},
   "outputs": [],
   "source": []
  },
  {
   "cell_type": "code",
   "execution_count": 32,
   "metadata": {},
   "outputs": [],
   "source": [
    "from sklearn.model_selection import train_test_split\n",
    "\n",
    "# create test and training set\n",
    "train_data, test_data, train_target, test_target = train_test_split(data_scaled, target_scaled, test_size = 0.2, random_state = 42)"
   ]
  },
  {
   "cell_type": "code",
   "execution_count": 33,
   "metadata": {},
   "outputs": [
    {
     "name": "stderr",
     "output_type": "stream",
     "text": [
      "/usr/local/lib/python3.5/dist-packages/sklearn/ensemble/forest.py:246: FutureWarning: The default value of n_estimators will change from 10 in version 0.20 to 100 in 0.22.\n",
      "  \"10 in version 0.20 to 100 in 0.22.\", FutureWarning)\n"
     ]
    },
    {
     "data": {
      "text/plain": [
       "RandomForestRegressor(bootstrap=True, criterion='mse', max_depth=None,\n",
       "           max_features='auto', max_leaf_nodes=None,\n",
       "           min_impurity_decrease=0.0, min_impurity_split=None,\n",
       "           min_samples_leaf=1, min_samples_split=2,\n",
       "           min_weight_fraction_leaf=0.0, n_estimators=10, n_jobs=None,\n",
       "           oob_score=False, random_state=None, verbose=0, warm_start=False)"
      ]
     },
     "execution_count": 33,
     "metadata": {},
     "output_type": "execute_result"
    }
   ],
   "source": [
    "from sklearn.ensemble import RandomForestRegressor\n",
    "regr = RandomForestRegressor()\n",
    "regr.fit(train_data,train_target)\n",
    "\n"
   ]
  },
  {
   "cell_type": "code",
   "execution_count": 34,
   "metadata": {},
   "outputs": [
    {
     "name": "stdout",
     "output_type": "stream",
     "text": [
      "[RandomForestRegressor] Train data Accuracy: 0.74 \n",
      "[RandomForestRegressor] Test data Accuracy: 0.70 \n"
     ]
    }
   ],
   "source": [
    "from sklearn.model_selection import cross_val_score\n",
    "print(\"[RandomForestRegressor] Train data Accuracy: %0.2f \" % regr.score(train_data, train_target))\n",
    "\n",
    "\n",
    "print(\"[RandomForestRegressor] Test data Accuracy: %0.2f \" % regr.score(test_data, test_target))"
   ]
  },
  {
   "cell_type": "code",
   "execution_count": null,
   "metadata": {},
   "outputs": [],
   "source": []
  }
 ],
 "metadata": {
  "kernelspec": {
   "display_name": "Python 3",
   "language": "python",
   "name": "python3"
  },
  "language_info": {
   "codemirror_mode": {
    "name": "ipython",
    "version": 3
   },
   "file_extension": ".py",
   "mimetype": "text/x-python",
   "name": "python",
   "nbconvert_exporter": "python",
   "pygments_lexer": "ipython3",
   "version": "3.5.2"
  }
 },
 "nbformat": 4,
 "nbformat_minor": 2
}
