{
 "cells": [
  {
   "cell_type": "code",
   "execution_count": 3,
   "metadata": {},
   "outputs": [],
   "source": [
    "#!/usr/bin/env python3\n",
    "\n",
    "import pandas as pd\n",
    "import errno    \n",
    "import os\n",
    "import numpy as np\n",
    "import math\n",
    "\n",
    "#pd.set_option('display.max_rows', 4000)\n",
    "#pd.set_option('display.max_columns', 500)\n",
    "#pd.set_option('display.width', 1000)\n",
    "\n",
    "'''\n",
    "Author: Enrico Ceccolini\n",
    "    TODO write the description\n",
    "'''\n",
    "\n",
    "datadir = \"/datasets/eurora_data/db1/\"\n",
    "infile_jobs_to_nodes = datadir + \"job_nodes.csv\"\n",
    "infile_nodes = datadir + \"nodes.csv\"\n",
    "\n",
    "suffix = \"_5sec_\"\n",
    "### select an interval from\n",
    "## 1 settings wholeData\n",
    "#interval_comment_whole = \"WholeData\"\n",
    "\n",
    "### select an interval from\n",
    "## 2 settings Andrea\n",
    "interval_comment = \"Andrea\"\n",
    "start_time = pd.to_datetime('2014-03-31')\n",
    "end_time = pd.to_datetime('2014-05-01')\n",
    "#infile_jobs = datadir + \"april_long_jobs.csv\"\n",
    "\n",
    "## 3 settings Alina\n",
    "#interval_comment = \"Alina\"\n",
    "#start_time = pd.to_datetime('2014-06-30')\n",
    "#end_time = pd.to_datetime('2014-11-01')\n",
    "\n",
    "\n",
    "infile_long_jobs = datadir + \"CPUs/\" + interval_comment + \"/\" + interval_comment + \"_long_jobs_real_pow\"\n",
    "\n",
    "## notice that 43 doesn't exists in the db\n",
    "#nodes=['01', '02', '03', '04', '05', '06', '07', '08', '09', '10', '11', '12', '13', '14', '15', '16', '17', '18', '19', '20', '21', '22', '23', '24', '25', '26', '27', '28', '29', '30', '31', '32', '33', '34', '35', '36', '37', '38', '39', '40', '41', '42', '44', '45', '46', '47', '48', '49', '50', '51', '52', '53', '54', '55', '56', '57', '58', '59', '60', '61', '62', '63', '64']\n",
    "#nodes=['01'] # test"
   ]
  },
  {
   "cell_type": "code",
   "execution_count": 4,
   "metadata": {},
   "outputs": [
    {
     "name": "stdout",
     "output_type": "stream",
     "text": [
      "jobs_to_nodes_whole_data contains 469095 records\n",
      "There are 35284 long jobs in the Andrea's interval\n"
     ]
    },
    {
     "name": "stderr",
     "output_type": "stream",
     "text": [
      "/usr/local/lib/python3.5/dist-packages/IPython/core/interactiveshell.py:3049: DtypeWarning: Columns (11) have mixed types. Specify dtype option on import or set low_memory=False.\n",
      "  interactivity=interactivity, compiler=compiler, result=result)\n"
     ]
    }
   ],
   "source": [
    "jobs_to_nodes_whole_data = pd.read_csv(infile_jobs_to_nodes, index_col=0)\n",
    "print(\"jobs_to_nodes_whole_data contains {} records\".format(jobs_to_nodes_whole_data.shape[0]))\n",
    "\n",
    "long_jobs = pd.read_csv(infile_long_jobs + \".csv\", index_col=0)\n",
    "print(\"There are {} long jobs in the {}'s interval\".format(long_jobs.shape[0], interval_comment))"
   ]
  },
  {
   "cell_type": "code",
   "execution_count": 5,
   "metadata": {},
   "outputs": [
    {
     "name": "stdout",
     "output_type": "stream",
     "text": [
      "after the clean, jobs_to_nodes_whole_data contains 444610 records\n"
     ]
    }
   ],
   "source": [
    "### clean the data\n",
    "# remove jobs runned on the inexistent node 129\n",
    "jobs_to_nodes_whole_data = jobs_to_nodes_whole_data[jobs_to_nodes_whole_data['node_id'] != 129] \n",
    "# remove jobs with the same id that runned on the same node\n",
    "jobs_to_nodes_whole_data = jobs_to_nodes_whole_data.drop_duplicates(subset=['job_id_string', 'node_id'])\n",
    "print(\"after the clean, jobs_to_nodes_whole_data contains {} records\".format(jobs_to_nodes_whole_data.shape[0]))"
   ]
  },
  {
   "cell_type": "code",
   "execution_count": 6,
   "metadata": {},
   "outputs": [
    {
     "name": "stdout",
     "output_type": "stream",
     "text": [
      "merged_jobs_to_nodes contains 41216 records\n"
     ]
    }
   ],
   "source": [
    "### merge the info from the two tables\n",
    "merged_jobs_to_nodes = pd.merge(long_jobs, jobs_to_nodes_whole_data, how='left', on='job_id_string')\n",
    "print(\"merged_jobs_to_nodes contains {} records\".format(merged_jobs_to_nodes.shape[0]))"
   ]
  },
  {
   "cell_type": "code",
   "execution_count": 7,
   "metadata": {},
   "outputs": [],
   "source": [
    "nodes = pd.read_csv(infile_nodes, index_col=0)\n",
    "#print(nodes.shape[0])\n",
    "#nodes.head()"
   ]
  },
  {
   "cell_type": "code",
   "execution_count": 8,
   "metadata": {},
   "outputs": [],
   "source": [
    "# create the file where to calculate the approximated consumption\n",
    "### part 1\n",
    "infile_node = datadir + \"CPUs/\" + interval_comment + \"/node01\" + suffix + interval_comment + \"_active_cores_and_jobs\"\n",
    "node_data = pd.read_csv(infile_node + \".csv\")\n",
    "\n",
    "all_time_interval_power_consumption = pd.DataFrame(node_data['timestamp'])\n",
    "infile_validate_approx = datadir + \"CPUs/\" + interval_comment + \"/validate_approx_\" + interval_comment + \".csv\"\n",
    "all_time_interval_power_consumption.to_csv(infile_validate_approx)\n",
    "\n",
    "\n",
    "### part 2\n",
    "#all_time_interval_power_consumption = pd.read_csv(infile_validate_approx, index_col=0)\n",
    "#all_time_interval_power_consumption.shape"
   ]
  },
  {
   "cell_type": "code",
   "execution_count": 9,
   "metadata": {},
   "outputs": [],
   "source": [
    "#all_time_interval_power_consumption"
   ]
  },
  {
   "cell_type": "code",
   "execution_count": 10,
   "metadata": {},
   "outputs": [
    {
     "name": "stdout",
     "output_type": "stream",
     "text": [
      "01\n",
      "443\n",
      "02\n",
      "191\n",
      "03\n",
      "409\n",
      "04\n",
      "384\n",
      "05\n",
      "358\n",
      "06\n",
      "334\n",
      "07\n",
      "335\n",
      "08\n",
      "356\n",
      "09\n",
      "266\n",
      "10\n",
      "308\n",
      "11\n",
      "294\n",
      "12\n",
      "308\n",
      "13\n",
      "295\n",
      "14\n",
      "280\n",
      "15\n",
      "286\n",
      "16\n",
      "288\n",
      "17\n",
      "468\n",
      "18\n",
      "178\n",
      "19\n",
      "273\n",
      "20\n",
      "283\n",
      "21\n",
      "270\n",
      "22\n",
      "3\n",
      "23\n",
      "290\n",
      "24\n",
      "237\n",
      "25\n",
      "264\n",
      "26\n",
      "191\n",
      "27\n",
      "270\n",
      "28\n",
      "233\n",
      "29\n",
      "246\n",
      "30\n",
      "215\n",
      "31\n",
      "202\n",
      "32\n",
      "218\n",
      "33\n",
      "2358\n",
      "34\n",
      "1649\n",
      "35\n",
      "1030\n",
      "36\n",
      "1295\n",
      "37\n",
      "1081\n",
      "38\n",
      "942\n",
      "39\n",
      "101\n",
      "40\n",
      "1116\n",
      "41\n",
      "3\n",
      "42\n",
      "845\n",
      "43\n",
      "44\n",
      "1909\n",
      "45\n",
      "1551\n",
      "46\n",
      "795\n",
      "47\n",
      "731\n",
      "48\n",
      "694\n",
      "49\n",
      "1490\n",
      "50\n",
      "973\n",
      "51\n",
      "905\n",
      "52\n",
      "598\n",
      "53\n",
      "13\n",
      "54\n",
      "689\n",
      "55\n",
      "1802\n",
      "56\n",
      "677\n",
      "57\n",
      "828\n",
      "58\n",
      "916\n",
      "59\n",
      "2828\n",
      "60\n",
      "1007\n",
      "61\n",
      "856\n",
      "62\n",
      "727\n",
      "63\n",
      "627\n",
      "64\n",
      "1204\n"
     ]
    }
   ],
   "source": [
    "\n",
    "# per ogni nodo sommo quanto è stato il consumo ad ogni intervallo in un vettore parallelo\n",
    "# questo sia per il valore approssimato guardando i job\n",
    "# sia per il valore reale\n",
    "j = 0\n",
    "for node_index, node_row in nodes.iterrows():\n",
    "    node_id = node_row['node_id']\n",
    "    if( int(node_id) < 10):\n",
    "        node_id = \"0\" + str(node_id)\n",
    "    else:\n",
    "        node_id = str(node_id)\n",
    "    print(node_id)\n",
    "    node_core_idle = node_row['core_idle']\n",
    "    \n",
    "    if (node_id != \"43\"):\n",
    "        total_real_power_consumption, total_approx_power_consumption = calculate_power_consumption(node_id, node_core_idle)\n",
    "        all_time_interval_power_consumption[node_id + \"_real\"] = total_real_power_consumption\n",
    "        all_time_interval_power_consumption[node_id + \"_approx\"] = total_approx_power_consumption\n",
    "    \n",
    "\n",
    "    all_time_interval_power_consumption.to_csv(infile_validate_approx)"
   ]
  },
  {
   "cell_type": "code",
   "execution_count": 23,
   "metadata": {},
   "outputs": [],
   "source": [
    "#all_time_interval_power_consumption"
   ]
  },
  {
   "cell_type": "code",
   "execution_count": 2,
   "metadata": {},
   "outputs": [],
   "source": [
    "def calculate_power_consumption(node_str, node_core_idle):\n",
    "    \n",
    "    num_minutes = 535680 # number of minutes on the Andrea's interval\n",
    "    node_start_time = pd.to_datetime('2014-03-31 00:00:00')\n",
    "    total_approx_power_consumption = pd.Series(0, index=np.arange(num_minutes))\n",
    "    total_active_cores = pd.Series(0, index=np.arange(num_minutes))\n",
    "    total_real_power_consumption = pd.Series(0, index=np.arange(num_minutes))\n",
    "    \n",
    "    jobs_to_node = merged_jobs_to_nodes[merged_jobs_to_nodes['node_id'] == int(node_str)]\n",
    "    infile_node = datadir + \"CPUs/\" + interval_comment + \"/node\" + node_str + suffix + interval_comment + \"_active_cores_and_jobs\"\n",
    "    node_data = pd.read_csv(infile_node + \".csv\")\n",
    "    #print(\"{}\".format(node_data.shape[0]))\n",
    "    #print(\"{}\".format(jobs_to_node.shape[0]))\n",
    "\n",
    "    #node_start_time = node_data.iloc[0]['timestamp']\n",
    "    #num_minutes = node_data.shape[0]\n",
    "    #power_consumption = pd.Series(0, index=np.arange(num_minutes))\n",
    "    #active_cores = pd.Series(0, index=np.arange(num_minutes))\n",
    "    #print(\"{}\".format(node_start_time))\n",
    "    \n",
    "    power_consumption = pd.Series(0, index=np.arange(num_minutes))\n",
    "    active_cores = pd.Series(0, index=np.arange(num_minutes))\n",
    "    \n",
    "    i = 0\n",
    "    num_jobs = jobs_to_node.shape[0]\n",
    "    print(\"{}\".format(num_jobs))\n",
    "    for job_index, job_row in jobs_to_node.iterrows():\n",
    "        \n",
    "        #print(\"{}/{}\".format(i, num_jobs))\n",
    "        i = i + 1\n",
    "        job_start_time = pd.to_datetime(job_row['run_start_time'])\n",
    "        job_end_time = pd.to_datetime(job_row['end_time'])\n",
    "        job_cores = job_row['ncpus']\n",
    "        job_cores_total = job_row['cpu_req']\n",
    "        #job_gpus = row['ngpus']\n",
    "        #job_mics = row['nmics']\n",
    "        job_power_consumption = job_row['real_pow'] * (job_cores / job_cores_total) # real_pow contains the total, here we need only the node portion\n",
    "        # print(job_power_consumption)\n",
    "\n",
    "        before_minutes = int((job_start_time - pd.to_datetime(node_start_time) - np.timedelta64(5, 's')) / np.timedelta64(5, 's'))\n",
    "        running_minutes = int((job_end_time - job_start_time) / np.timedelta64(5, 's'))\n",
    "        after_minutes = num_minutes - running_minutes - before_minutes\n",
    "\n",
    "        #print(\"{} - {} - {}\".format(before_minutes, running_minutes, after_minutes))\n",
    "        before_serie = pd.Series(0, index=np.arange(before_minutes))\n",
    "        running_serie = pd.Series(job_power_consumption, index=np.arange(running_minutes))\n",
    "        after_serie = pd.Series(0, index=np.arange(after_minutes))\n",
    "        concat_series = pd.concat([before_serie, running_serie, after_serie], ignore_index=True)\n",
    "        power_consumption = power_consumption.add(concat_series, fill_value=0)\n",
    "\n",
    "        running_serie = pd.Series(job_cores, index=np.arange(running_minutes))\n",
    "        concat_series = pd.concat([before_serie, running_serie, after_serie], ignore_index=True)\n",
    "        active_cores = active_cores.add(concat_series, fill_value=0)\n",
    "\n",
    "        \n",
    "    for x in range(0, 17):\n",
    "        # active_cores[active_cores == x] += (node_core_idle * 16) * (16 - x) / 16\n",
    "        active_cores[active_cores == x] += node_core_idle * (16 - x)\n",
    "    \n",
    "    power_consumption = power_consumption.add(active_cores, fill_value=0)\n",
    "        \n",
    "    indices = node_data['active_cores'] == 0\n",
    "    node_data.at[indices, 'pow_tot'] = node_core_idle * 16\n",
    "    total_real_power_consumption = node_data['pow_tot']\n",
    "    \n",
    "    return total_real_power_consumption, power_consumption"
   ]
  },
  {
   "cell_type": "code",
   "execution_count": 11,
   "metadata": {},
   "outputs": [],
   "source": [
    "all_time_interval_power_consumption = all_time_interval_power_consumption[pd.to_datetime(all_time_interval_power_consumption['timestamp']) >= pd.to_datetime('2014-03-31 11:21:00')]\n",
    "all_time_interval_power_consumption = all_time_interval_power_consumption[pd.to_datetime(all_time_interval_power_consumption['timestamp']) <= pd.to_datetime('2014-04-30 20:32:00')]"
   ]
  },
  {
   "cell_type": "code",
   "execution_count": 12,
   "metadata": {},
   "outputs": [],
   "source": [
    "#all_time_interval_power_consumption = all_time_interval_power_consumption.fillna(55.52)"
   ]
  },
  {
   "cell_type": "code",
   "execution_count": 13,
   "metadata": {},
   "outputs": [
    {
     "name": "stderr",
     "output_type": "stream",
     "text": [
      "/usr/local/lib/python3.5/dist-packages/ipykernel_launcher.py:1: FutureWarning: 'select' is deprecated and will be removed in a future release. You can use .loc[labels.map(crit)] as a replacement\n",
      "  \"\"\"Entry point for launching an IPython kernel.\n",
      "/usr/local/lib/python3.5/dist-packages/ipykernel_launcher.py:2: FutureWarning: 'select' is deprecated and will be removed in a future release. You can use .loc[labels.map(crit)] as a replacement\n",
      "  \n"
     ]
    }
   ],
   "source": [
    "real = all_time_interval_power_consumption.select(lambda col: col.endswith(\"real\"), axis=1)\n",
    "approx = all_time_interval_power_consumption.select(lambda col: col.endswith(\"approx\"), axis=1)"
   ]
  },
  {
   "cell_type": "code",
   "execution_count": 14,
   "metadata": {},
   "outputs": [],
   "source": [
    "real['Total']= real.iloc[:, -63:-1].sum(axis=1)\n",
    "approx['Total']= approx.iloc[:, -63:-1].sum(axis=1)\n",
    "differences = real['Total'] - approx['Total']\n",
    "df = pd.DataFrame(differences)\n",
    "df = df.apply(lambda x: (x - np.mean(x)) / (np.max(x) - np.min(x)))\n",
    "differences_norm = df['Total']"
   ]
  },
  {
   "cell_type": "code",
   "execution_count": 16,
   "metadata": {},
   "outputs": [
    {
     "data": {
      "image/png": "[encoded data removed]",
      "text/plain": [
       "<Figure size 1440x360 with 1 Axes>"
      ]
     },
     "metadata": {
      "needs_background": "light"
     },
     "output_type": "display_data"
    }
   ],
   "source": [
    "import numpy as np\n",
    "import pandas as pd\n",
    "import matplotlib.pyplot as plt\n",
    "import matplotlib.dates as mdates\n",
    "from datetime import datetime\n",
    "from matplotlib.pyplot import figure\n",
    "plt.rcParams['figure.figsize'] = (20,5)\n",
    "\n",
    "num_bins = 150\n",
    "n, bins, patches = plt.hist(differences_norm, num_bins, facecolor='blue', alpha=1)\n",
    "#plt.axis([-0.4, 0.4, 0, 600])\n",
    "plt.xlabel(\"power\")\n",
    "plt.ylabel(\"num instances\")\n",
    "plt.show()"
   ]
  }
 ],
 "metadata": {
  "kernelspec": {
   "display_name": "Python 3",
   "language": "python",
   "name": "python3"
  },
  "language_info": {
   "codemirror_mode": {
    "name": "ipython",
    "version": 3
   },
   "file_extension": ".py",
   "mimetype": "text/x-python",
   "name": "python",
   "nbconvert_exporter": "python",
   "pygments_lexer": "ipython3",
   "version": "3.5.2"
  }
 },
 "nbformat": 4,
 "nbformat_minor": 2
}
