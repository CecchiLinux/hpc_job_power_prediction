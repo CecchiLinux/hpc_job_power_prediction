{
 "cells": [
  {
   "cell_type": "code",
   "execution_count": 3,
   "metadata": {},
   "outputs": [],
   "source": [
    "#!/usr/bin/env python3\n",
    "\n",
    "import pandas as pd\n",
    "import errno    \n",
    "import os\n",
    "import numpy as np\n",
    "import math\n",
    "\n",
    "'''\n",
    "Author: Enrico Ceccolini\n",
    "    TODO write the description\n",
    "'''\n",
    "\n",
    "datadir = \"/datasets/eurora_data/db1/\"\n",
    "\n",
    "infile_jobs_to_nodes = datadir + \"job_nodes.csv\"\n",
    "\n",
    "# settings\n",
    "interval_comment = \"Andrea\"\n",
    "start_time = pd.to_datetime('2014-03-31')\n",
    "end_time = pd.to_datetime('2014-05-01')\n",
    "\n",
    "interval_comment_whole = \"WholeData\"\n",
    "start_time_whole = pd.to_datetime('2014-03-24')\n",
    "end_time_whole = pd.to_datetime('2015-08-12')\n",
    "\n",
    "suffix = \"_5sec_\"\n",
    "\n",
    "infile_jobs = datadir + \"CPUs/\" + interval_comment + \"/jobs_cleaned.csv\"\n",
    "\n",
    "## notice that 43 doesn't exists in the db\n",
    "nodes=['01', '02', '03', '04', '05', '06', '07', '08', '09', '10', '11', '12', '13', '14', '15', '16', '17', '18', '19', '20', '21', '22', '23', '24', '25', '26', '27', '28', '29', '30', '31', '32', '33', '34', '35', '36', '37', '38', '39', '40', '41', '42', '44', '45', '46', '47', '48', '49', '50', '51', '52', '53', '54', '55', '56', '57', '58', '59', '60', '61', '62', '63', '64']\n",
    "# cpus=['02'] # test\n"
   ]
  },
  {
   "cell_type": "code",
   "execution_count": 4,
   "metadata": {},
   "outputs": [
    {
     "name": "stdout",
     "output_type": "stream",
     "text": [
      "jobs_to_nodes_whole_data contains 469095 records\n",
      "jobs_whole_data contains 88537 records\n"
     ]
    },
    {
     "name": "stderr",
     "output_type": "stream",
     "text": [
      "/usr/local/lib/python3.5/dist-packages/IPython/core/interactiveshell.py:3049: DtypeWarning: Columns (11) have mixed types. Specify dtype option on import or set low_memory=False.\n",
      "  interactivity=interactivity, compiler=compiler, result=result)\n"
     ]
    }
   ],
   "source": [
    "jobs_to_nodes_whole_data = pd.read_csv(infile_jobs_to_nodes, index_col=0)\n",
    "print(\"jobs_to_nodes_whole_data contains {} records\".format(jobs_to_nodes_whole_data.shape[0]))\n",
    "\n",
    "\n",
    "jobs_data = pd.read_csv(infile_jobs)\n",
    "print(\"jobs_whole_data contains {} records\".format(jobs_data.shape[0]))"
   ]
  },
  {
   "cell_type": "code",
   "execution_count": 5,
   "metadata": {},
   "outputs": [
    {
     "data": {
      "text/plain": [
       "'2014-03-31 00:30:02'"
      ]
     },
     "execution_count": 5,
     "metadata": {},
     "output_type": "execute_result"
    }
   ],
   "source": [
    "jobs_data['run_start_time'].min()"
   ]
  },
  {
   "cell_type": "code",
   "execution_count": 6,
   "metadata": {},
   "outputs": [
    {
     "data": {
      "text/plain": [
       "Timedelta('0 days 00:30:02')"
      ]
     },
     "execution_count": 6,
     "metadata": {},
     "output_type": "execute_result"
    }
   ],
   "source": [
    "pd.to_datetime(jobs_data['run_start_time'].min()) - start_time"
   ]
  },
  {
   "cell_type": "markdown",
   "metadata": {},
   "source": [
    "#### solve the problem of jobs runned on node 129"
   ]
  },
  {
   "cell_type": "code",
   "execution_count": 7,
   "metadata": {},
   "outputs": [
    {
     "name": "stdout",
     "output_type": "stream",
     "text": [
      "after the clean, jobs_to_nodes_whole_data contains 444610 records\n"
     ]
    }
   ],
   "source": [
    "### clean the data\n",
    "# remove jobs runned on the inexistent node 129\n",
    "jobs_to_nodes_whole_data = jobs_to_nodes_whole_data[jobs_to_nodes_whole_data['node_id'] != 129] \n",
    "# remove jobs with the same id that runned on the same node\n",
    "jobs_to_nodes_whole_data = jobs_to_nodes_whole_data.drop_duplicates(subset=['job_id_string', 'node_id'])\n",
    "print(\"after the clean, jobs_to_nodes_whole_data contains {} records\".format(jobs_to_nodes_whole_data.shape[0]))"
   ]
  },
  {
   "cell_type": "code",
   "execution_count": 8,
   "metadata": {},
   "outputs": [
    {
     "name": "stdout",
     "output_type": "stream",
     "text": [
      "merged_jobs_to_nodes contains 94962 records\n"
     ]
    }
   ],
   "source": [
    "### merge the info from the two tables\n",
    "merged_jobs_to_nodes = pd.merge(jobs_data, jobs_to_nodes_whole_data, how='left', on='job_id_string')\n",
    "print(\"merged_jobs_to_nodes contains {} records\".format(merged_jobs_to_nodes.shape[0]))"
   ]
  },
  {
   "cell_type": "code",
   "execution_count": 9,
   "metadata": {},
   "outputs": [],
   "source": [
    "# drop the jobs out of time range\n",
    "#interval_data_jobs = merged_jobs_to_nodes[pd.to_datetime(merged_jobs_to_nodes['run_start_time']) >= start_time]\n",
    "#interval_data_jobs = interval_data_jobs[pd.to_datetime(interval_data_jobs['end_time']) <= end_time]\n",
    "#interval_data_jobs = interval_data_jobs.sort_values('run_start_time')\n",
    "#print(\"interval_data_jobs contains {} records\".format(interval_data_jobs.shape[0]))"
   ]
  },
  {
   "cell_type": "code",
   "execution_count": 10,
   "metadata": {
    "scrolled": true
   },
   "outputs": [
    {
     "data": {
      "text/html": [
       "<div>\n",
       "<style scoped>\n",
       "    .dataframe tbody tr th:only-of-type {\n",
       "        vertical-align: middle;\n",
       "    }\n",
       "\n",
       "    .dataframe tbody tr th {\n",
       "        vertical-align: top;\n",
       "    }\n",
       "\n",
       "    .dataframe thead th {\n",
       "        text-align: right;\n",
       "    }\n",
       "</style>\n",
       "<table border=\"1\" class=\"dataframe\">\n",
       "  <thead>\n",
       "    <tr style=\"text-align: right;\">\n",
       "      <th></th>\n",
       "      <th>job_id</th>\n",
       "      <th>job_id_string</th>\n",
       "      <th>job_name</th>\n",
       "      <th>queue</th>\n",
       "      <th>start_time</th>\n",
       "      <th>run_start_time</th>\n",
       "      <th>end_time</th>\n",
       "      <th>user</th>\n",
       "      <th>node_req</th>\n",
       "      <th>cpu_req</th>\n",
       "      <th>...</th>\n",
       "      <th>dependency</th>\n",
       "      <th>exit_status</th>\n",
       "      <th>pbs_exit_code</th>\n",
       "      <th>gpu_req</th>\n",
       "      <th>mic_req</th>\n",
       "      <th>node_id</th>\n",
       "      <th>ncpus</th>\n",
       "      <th>ngpus</th>\n",
       "      <th>nmics</th>\n",
       "      <th>mem_requested</th>\n",
       "    </tr>\n",
       "  </thead>\n",
       "  <tbody>\n",
       "    <tr>\n",
       "      <th>0</th>\n",
       "      <td>1</td>\n",
       "      <td>498458.node129</td>\n",
       "      <td>rth2e6t0</td>\n",
       "      <td>parallel</td>\n",
       "      <td>2014-03-31 00:30:02</td>\n",
       "      <td>2014-03-31 00:30:02</td>\n",
       "      <td>2014-03-31 01:22:40</td>\n",
       "      <td>alupi000@node129.eurora.cineca.it</td>\n",
       "      <td>1</td>\n",
       "      <td>16</td>\n",
       "      <td>...</td>\n",
       "      <td>NaN</td>\n",
       "      <td>COMPLETED</td>\n",
       "      <td>NaN</td>\n",
       "      <td>NaN</td>\n",
       "      <td>NaN</td>\n",
       "      <td>17</td>\n",
       "      <td>16</td>\n",
       "      <td>0</td>\n",
       "      <td>0</td>\n",
       "      <td>14680064</td>\n",
       "    </tr>\n",
       "    <tr>\n",
       "      <th>1</th>\n",
       "      <td>2</td>\n",
       "      <td>498459.node129</td>\n",
       "      <td>CPMD</td>\n",
       "      <td>parallel</td>\n",
       "      <td>2014-03-31 00:36:51</td>\n",
       "      <td>2014-03-31 00:36:51</td>\n",
       "      <td>2014-03-31 00:40:13</td>\n",
       "      <td>framondo@node129.eurora.cineca.it</td>\n",
       "      <td>1</td>\n",
       "      <td>16</td>\n",
       "      <td>...</td>\n",
       "      <td>NaN</td>\n",
       "      <td>COMPLETED</td>\n",
       "      <td>NaN</td>\n",
       "      <td>NaN</td>\n",
       "      <td>NaN</td>\n",
       "      <td>9</td>\n",
       "      <td>16</td>\n",
       "      <td>0</td>\n",
       "      <td>0</td>\n",
       "      <td>14680064</td>\n",
       "    </tr>\n",
       "  </tbody>\n",
       "</table>\n",
       "<p>2 rows × 23 columns</p>\n",
       "</div>"
      ],
      "text/plain": [
       "   job_id   job_id_string  job_name     queue           start_time  \\\n",
       "0       1  498458.node129  rth2e6t0  parallel  2014-03-31 00:30:02   \n",
       "1       2  498459.node129      CPMD  parallel  2014-03-31 00:36:51   \n",
       "\n",
       "        run_start_time             end_time  \\\n",
       "0  2014-03-31 00:30:02  2014-03-31 01:22:40   \n",
       "1  2014-03-31 00:36:51  2014-03-31 00:40:13   \n",
       "\n",
       "                                user  node_req  cpu_req  ...  dependency  \\\n",
       "0  alupi000@node129.eurora.cineca.it         1       16  ...         NaN   \n",
       "1  framondo@node129.eurora.cineca.it         1       16  ...         NaN   \n",
       "\n",
       "  exit_status pbs_exit_code  gpu_req mic_req  node_id  ncpus  ngpus  nmics  \\\n",
       "0   COMPLETED           NaN      NaN     NaN       17     16      0      0   \n",
       "1   COMPLETED           NaN      NaN     NaN        9     16      0      0   \n",
       "\n",
       "   mem_requested  \n",
       "0       14680064  \n",
       "1       14680064  \n",
       "\n",
       "[2 rows x 23 columns]"
      ]
     },
     "execution_count": 10,
     "metadata": {},
     "output_type": "execute_result"
    }
   ],
   "source": [
    "merged_jobs_to_nodes.head(2)"
   ]
  },
  {
   "cell_type": "markdown",
   "metadata": {},
   "source": [
    "drop where node_id is NaN"
   ]
  },
  {
   "cell_type": "markdown",
   "metadata": {},
   "source": [
    "torna l'assenza del node 43 e la scarsità di 22, 41, 53,"
   ]
  },
  {
   "cell_type": "code",
   "execution_count": 11,
   "metadata": {},
   "outputs": [],
   "source": [
    "#regular_data_jobs = merged_jobs_to_nodes[merged_jobs_to_nodes.node_id >= 1]\n",
    "#regular_data_jobs = regular_data_jobs[regular_data_jobs.node_id <= 64]\n",
    "#regular_data_jobs.shape"
   ]
  },
  {
   "cell_type": "markdown",
   "metadata": {},
   "source": [
    "# final"
   ]
  },
  {
   "cell_type": "code",
   "execution_count": 12,
   "metadata": {},
   "outputs": [
    {
     "data": {
      "text/plain": [
       "Timestamp('2014-03-31 00:30:02')"
      ]
     },
     "execution_count": 12,
     "metadata": {},
     "output_type": "execute_result"
    }
   ],
   "source": [
    "pd.to_datetime(merged_jobs_to_nodes['run_start_time']).min()"
   ]
  },
  {
   "cell_type": "code",
   "execution_count": 13,
   "metadata": {},
   "outputs": [
    {
     "name": "stdout",
     "output_type": "stream",
     "text": [
      "5 seconds\n"
     ]
    }
   ],
   "source": [
    "#node_start_time = start_time\n",
    "print(np.timedelta64(5, 's'))"
   ]
  },
  {
   "cell_type": "code",
   "execution_count": 16,
   "metadata": {},
   "outputs": [
    {
     "name": "stdout",
     "output_type": "stream",
     "text": [
      "01\n",
      "interval_jobs_node_data contains 494 records\n",
      "535681\n"
     ]
    }
   ],
   "source": [
    "for node in nodes:\n",
    "    print(node)\n",
    "    interval_jobs_to_node = merged_jobs_to_nodes[merged_jobs_to_nodes['node_id'] == int(node)]\n",
    "    print(\"interval_jobs_node_data contains {} records\".format(interval_jobs_to_node.shape[0]))\n",
    "    # read the power mesuraments file obtained with \"keep_nodes_data_by_period_1min_sample.py\"\n",
    "    infile_node = datadir + \"CPUs/\" + interval_comment + \"/node\" + node + suffix + interval_comment\n",
    "    \n",
    "    node_data = pd.read_csv(infile_node + \".csv\", index_col=1)\n",
    "    print(node_data.shape[0])\n",
    "    node_start_time = node_data.index[0]\n",
    "    #node_data.reset_index()\n",
    "    \n",
    "    num_minutes = node_data.shape[0]\n",
    "    active_cores = pd.Series(0, index=np.arange(num_minutes))\n",
    "    active_jobs = pd.Series(0, index=np.arange(num_minutes))\n",
    "    active_gpus = pd.Series(0, index=np.arange(num_minutes))\n",
    "    active_mics = pd.Series(0, index=np.arange(num_minutes))\n",
    "    \n",
    "    i = 0\n",
    "    num_jobs = interval_jobs_to_node.shape[0]\n",
    "    for index, row in interval_jobs_to_node.iterrows():\n",
    "        #print(\"{}/{}   {}\".format(i, num_jobs, row['job_id_string']))\n",
    "        i = i + 1\n",
    "        job_start_time = pd.to_datetime(row['run_start_time'])\n",
    "        # print(start_time)\n",
    "        job_end_time = pd.to_datetime(row['end_time'])\n",
    "        job_cores = row['ncpus']\n",
    "        job_gpus = row['ngpus']\n",
    "        job_mics = row['nmics']\n",
    "        \n",
    "        #print(job_start_time)\n",
    "        #print(pd.to_datetime(node_start_time))\n",
    "        before_minutes = int((job_start_time - pd.to_datetime(node_start_time)) / np.timedelta64(5, 's'))\n",
    "        running_minutes = int((job_end_time - job_start_time) / np.timedelta64(5, 's'))\n",
    "        after_minutes = num_minutes - running_minutes - before_minutes\n",
    "        #print(\"{} - {} - {}\".format(before_minutes, running_minutes, after_minutes))\n",
    "        before_serie = pd.Series(0, index=np.arange(before_minutes))\n",
    "        after_serie = pd.Series(0, index=np.arange(after_minutes))\n",
    "        running_serie = pd.Series(job_cores, index=np.arange(running_minutes))\n",
    "        concat_series = pd.concat([before_serie, running_serie, after_serie], ignore_index=True)\n",
    "        active_cores = active_cores.add(concat_series, fill_value=0)\n",
    "\n",
    "        running_serie = pd.Series(1, index=np.arange(running_minutes))\n",
    "        concat_series = pd.concat([before_serie, running_serie, after_serie], ignore_index=True)\n",
    "        active_jobs= active_jobs.add(concat_series, fill_value=0)\n",
    "\n",
    "        running_serie = pd.Series(job_gpus, index=np.arange(running_minutes))\n",
    "        concat_series = pd.concat([before_serie, running_serie, after_serie], ignore_index=True)\n",
    "        active_gpus = active_gpus.add(concat_series, fill_value=0)\n",
    "\n",
    "        running_serie = pd.Series(job_mics, index=np.arange(running_minutes))\n",
    "        concat_series = pd.concat([before_serie, running_serie, after_serie], ignore_index=True)\n",
    "        active_mics = active_mics.add(concat_series, fill_value=0)\n",
    "        \n",
    "    node_data['active_cores'] = active_cores.values\n",
    "    node_data['active_jobs'] = active_jobs.values\n",
    "    node_data['active_gpus'] = active_gpus.values\n",
    "    node_data['active_mics'] = active_mics.values\n",
    "    \n",
    "    node_data.to_csv(infile_node + \"_active_cores_and_jobs\" + \".csv\")"
   ]
  },
  {
   "cell_type": "code",
   "execution_count": null,
   "metadata": {},
   "outputs": [],
   "source": []
  },
  {
   "cell_type": "code",
   "execution_count": null,
   "metadata": {},
   "outputs": [],
   "source": []
  }
 ],
 "metadata": {
  "kernelspec": {
   "display_name": "Python 3",
   "language": "python",
   "name": "python3"
  },
  "language_info": {
   "codemirror_mode": {
    "name": "ipython",
    "version": 3
   },
   "file_extension": ".py",
   "mimetype": "text/x-python",
   "name": "python",
   "nbconvert_exporter": "python",
   "pygments_lexer": "ipython3",
   "version": "3.7.3"
  }
 },
 "nbformat": 4,
 "nbformat_minor": 2
}
