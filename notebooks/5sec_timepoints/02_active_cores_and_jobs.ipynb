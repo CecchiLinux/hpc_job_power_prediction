{
 "cells": [
  {
   "cell_type": "code",
   "execution_count": 1,
   "metadata": {},
   "outputs": [],
   "source": [
    "#!/usr/bin/env python3\n",
    "\n",
    "import pandas as pd\n",
    "import errno    \n",
    "import os\n",
    "import numpy as np\n",
    "import math\n",
    "\n",
    "'''\n",
    "Author: Enrico Ceccolini\n",
    "    assing to each timepoint the number of active cores and active jobs\n",
    "    \n",
    "'''\n",
    "\n",
    "datadir = \"/datasets/eurora_data/db1/\"\n",
    "datadir = \"/datasets/eurora_data/db/\"\n",
    "\n",
    "infile_jobs_to_nodes = datadir + \"job_nodes.csv\"\n",
    "\n",
    "# settings\n",
    "interval_comment = \"Andrea\"\n",
    "start_time = pd.to_datetime('2014-03-31')\n",
    "end_time = pd.to_datetime('2014-05-01')\n",
    "\n",
    "interval_comment_whole = \"WholeData\"\n",
    "start_time_whole = pd.to_datetime('2014-03-24')\n",
    "end_time_whole = pd.to_datetime('2015-08-12')\n",
    "\n",
    "suffix = \"_5sec_\"\n",
    "\n",
    "infile_jobs = datadir + \"CPUs/\" + interval_comment + \"/jobs_cleaned.csv\" #01_clean_original_data_jobs\n",
    "\n",
    "## notice that 43 doesn't exists in the db\n",
    "nodes=['01', '02', '03', '04', '05', '06', '07', '08', '09', '10', '11', '12', '13', '14', '15', '16', '17', '18', '19', '20', '21', '22', '23', '24', '25', '26', '27', '28', '29', '30', '31', '32', '33', '34', '35', '36', '37', '38', '39', '40', '41', '42', '44', '45', '46', '47', '48', '49', '50', '51', '52', '53', '54', '55', '56', '57', '58', '59', '60', '61', '62', '63', '64']\n",
    "# cpus=['02'] # test\n"
   ]
  },
  {
   "cell_type": "code",
   "execution_count": 2,
   "metadata": {},
   "outputs": [
    {
     "name": "stdout",
     "output_type": "stream",
     "text": [
      "jobs_to_nodes_whole_data contains 469095 records\n",
      "jobs_whole_data contains 88537 records\n"
     ]
    },
    {
     "name": "stderr",
     "output_type": "stream",
     "text": [
      "/usr/local/lib/python3.5/dist-packages/IPython/core/interactiveshell.py:3049: DtypeWarning: Columns (11) have mixed types. Specify dtype option on import or set low_memory=False.\n",
      "  interactivity=interactivity, compiler=compiler, result=result)\n"
     ]
    }
   ],
   "source": [
    "jobs_to_nodes_whole_data = pd.read_csv(infile_jobs_to_nodes, index_col=0)\n",
    "print(\"jobs_to_nodes_whole_data contains {} records\".format(jobs_to_nodes_whole_data.shape[0]))\n",
    "\n",
    "jobs_data = pd.read_csv(infile_jobs)\n",
    "print(\"jobs_whole_data contains {} records\".format(jobs_data.shape[0]))"
   ]
  },
  {
   "cell_type": "code",
   "execution_count": 3,
   "metadata": {},
   "outputs": [
    {
     "name": "stdout",
     "output_type": "stream",
     "text": [
      "interval_data_jobs contains 88537 records\n"
     ]
    }
   ],
   "source": [
    "interval_data_jobs = jobs_data[pd.to_datetime(jobs_data['run_start_time']) >= start_time]\n",
    "interval_data_jobs = interval_data_jobs[pd.to_datetime(interval_data_jobs['end_time']) <= end_time]\n",
    "print(\"interval_data_jobs contains {} records\".format(interval_data_jobs.shape[0]))"
   ]
  },
  {
   "cell_type": "code",
   "execution_count": null,
   "metadata": {},
   "outputs": [],
   "source": []
  },
  {
   "cell_type": "markdown",
   "metadata": {},
   "source": [
    "#### solve the problem of jobs runned on node 129"
   ]
  },
  {
   "cell_type": "code",
   "execution_count": 4,
   "metadata": {},
   "outputs": [
    {
     "name": "stdout",
     "output_type": "stream",
     "text": [
      "after the clean, jobs_to_nodes_whole_data contains 444610 records\n"
     ]
    }
   ],
   "source": [
    "### clean the data\n",
    "# remove jobs runned on the inexistent node 129\n",
    "jobs_to_nodes_whole_data = jobs_to_nodes_whole_data[jobs_to_nodes_whole_data['node_id'] != 129] \n",
    "# remove jobs with the same id that runned on the same node\n",
    "jobs_to_nodes_whole_data = jobs_to_nodes_whole_data.drop_duplicates(subset=['job_id_string', 'node_id'])\n",
    "print(\"after the clean, jobs_to_nodes_whole_data contains {} records\".format(jobs_to_nodes_whole_data.shape[0]))"
   ]
  },
  {
   "cell_type": "code",
   "execution_count": 5,
   "metadata": {},
   "outputs": [
    {
     "name": "stdout",
     "output_type": "stream",
     "text": [
      "merged_jobs_to_nodes contains 94962 records\n"
     ]
    }
   ],
   "source": [
    "### merge the info from the two tables\n",
    "merged_jobs_to_nodes = pd.merge(interval_data_jobs, jobs_to_nodes_whole_data, how='left', on='job_id_string')\n",
    "print(\"merged_jobs_to_nodes contains {} records\".format(merged_jobs_to_nodes.shape[0]))"
   ]
  },
  {
   "cell_type": "code",
   "execution_count": 6,
   "metadata": {},
   "outputs": [],
   "source": [
    "# drop the jobs out of time range\n",
    "#interval_data_jobs = merged_jobs_to_nodes[pd.to_datetime(merged_jobs_to_nodes['run_start_time']) >= start_time]\n",
    "#interval_data_jobs = interval_data_jobs[pd.to_datetime(interval_data_jobs['end_time']) <= end_time]\n",
    "#interval_data_jobs = interval_data_jobs.sort_values('run_start_time')\n",
    "#print(\"interval_data_jobs contains {} records\".format(interval_data_jobs.shape[0]))"
   ]
  },
  {
   "cell_type": "code",
   "execution_count": 7,
   "metadata": {
    "scrolled": true
   },
   "outputs": [
    {
     "data": {
      "text/html": [
       "<div>\n",
       "<style scoped>\n",
       "    .dataframe tbody tr th:only-of-type {\n",
       "        vertical-align: middle;\n",
       "    }\n",
       "\n",
       "    .dataframe tbody tr th {\n",
       "        vertical-align: top;\n",
       "    }\n",
       "\n",
       "    .dataframe thead th {\n",
       "        text-align: right;\n",
       "    }\n",
       "</style>\n",
       "<table border=\"1\" class=\"dataframe\">\n",
       "  <thead>\n",
       "    <tr style=\"text-align: right;\">\n",
       "      <th></th>\n",
       "      <th>job_id</th>\n",
       "      <th>job_id_string</th>\n",
       "      <th>job_name</th>\n",
       "      <th>queue</th>\n",
       "      <th>start_time</th>\n",
       "      <th>run_start_time</th>\n",
       "      <th>end_time</th>\n",
       "      <th>user</th>\n",
       "      <th>node_req</th>\n",
       "      <th>cpu_req</th>\n",
       "      <th>...</th>\n",
       "      <th>dependency</th>\n",
       "      <th>exit_status</th>\n",
       "      <th>pbs_exit_code</th>\n",
       "      <th>gpu_req</th>\n",
       "      <th>mic_req</th>\n",
       "      <th>node_id</th>\n",
       "      <th>ncpus</th>\n",
       "      <th>ngpus</th>\n",
       "      <th>nmics</th>\n",
       "      <th>mem_requested</th>\n",
       "    </tr>\n",
       "  </thead>\n",
       "  <tbody>\n",
       "    <tr>\n",
       "      <th>0</th>\n",
       "      <td>1</td>\n",
       "      <td>498458.node129</td>\n",
       "      <td>rth2e6t0</td>\n",
       "      <td>parallel</td>\n",
       "      <td>2014-03-31 00:30:02</td>\n",
       "      <td>2014-03-31 00:30:02</td>\n",
       "      <td>2014-03-31 01:22:40</td>\n",
       "      <td>alupi000@node129.eurora.cineca.it</td>\n",
       "      <td>1</td>\n",
       "      <td>16</td>\n",
       "      <td>...</td>\n",
       "      <td>NaN</td>\n",
       "      <td>COMPLETED</td>\n",
       "      <td>NaN</td>\n",
       "      <td>NaN</td>\n",
       "      <td>NaN</td>\n",
       "      <td>17</td>\n",
       "      <td>16</td>\n",
       "      <td>0</td>\n",
       "      <td>0</td>\n",
       "      <td>14680064</td>\n",
       "    </tr>\n",
       "  </tbody>\n",
       "</table>\n",
       "<p>1 rows × 23 columns</p>\n",
       "</div>"
      ],
      "text/plain": [
       "   job_id   job_id_string  job_name     queue           start_time  \\\n",
       "0       1  498458.node129  rth2e6t0  parallel  2014-03-31 00:30:02   \n",
       "\n",
       "        run_start_time             end_time  \\\n",
       "0  2014-03-31 00:30:02  2014-03-31 01:22:40   \n",
       "\n",
       "                                user  node_req  cpu_req  ...  dependency  \\\n",
       "0  alupi000@node129.eurora.cineca.it         1       16  ...         NaN   \n",
       "\n",
       "  exit_status pbs_exit_code  gpu_req mic_req  node_id  ncpus  ngpus  nmics  \\\n",
       "0   COMPLETED           NaN      NaN     NaN       17     16      0      0   \n",
       "\n",
       "   mem_requested  \n",
       "0       14680064  \n",
       "\n",
       "[1 rows x 23 columns]"
      ]
     },
     "execution_count": 7,
     "metadata": {},
     "output_type": "execute_result"
    }
   ],
   "source": [
    "merged_jobs_to_nodes.head(1)"
   ]
  },
  {
   "cell_type": "code",
   "execution_count": 8,
   "metadata": {},
   "outputs": [
    {
     "name": "stdout",
     "output_type": "stream",
     "text": [
      "33\n",
      "interval_jobs_node_data contains 3144 records\n",
      "535681\n"
     ]
    }
   ],
   "source": [
    "node = \"33\"\n",
    "print(node)\n",
    "interval_jobs_to_node = merged_jobs_to_nodes[merged_jobs_to_nodes['node_id'] == int(node)]\n",
    "print(\"interval_jobs_node_data contains {} records\".format(interval_jobs_to_node.shape[0]))\n",
    "# read the power mesuraments file obtained with \"keep_nodes_data_by_period_1min_sample.py\"\n",
    "infile_node = datadir + \"CPUs/\" + interval_comment + \"/node\" + node + suffix + interval_comment\n",
    "\n",
    "node_data = pd.read_csv(infile_node + \".csv\", index_col=1)\n",
    "print(node_data.shape[0])"
   ]
  },
  {
   "cell_type": "code",
   "execution_count": 9,
   "metadata": {},
   "outputs": [
    {
     "data": {
      "text/plain": [
       "<bound method NDFrame.head of                      Unnamed: 0    pow_tot\n",
       "timestamp                                 \n",
       "2014-03-31 00:00:00      120960  48.470363\n",
       "2014-03-31 00:00:05      120961  48.666712\n",
       "2014-03-31 00:00:10      120962  48.103143\n",
       "2014-03-31 00:00:15      120963  48.825427\n",
       "2014-03-31 00:00:20      120964  49.113086\n",
       "2014-03-31 00:00:25      120965  49.517445\n",
       "2014-03-31 00:00:30      120966  49.479958\n",
       "2014-03-31 00:00:35      120967  53.959151\n",
       "2014-03-31 00:00:40      120968  48.646717\n",
       "2014-03-31 00:00:45      120969  48.088002\n",
       "2014-03-31 00:00:50      120970  48.352716\n",
       "2014-03-31 00:00:55      120971  48.077022\n",
       "2014-03-31 00:01:00      120972  47.976708\n",
       "2014-03-31 00:01:05      120973  47.526813\n",
       "2014-03-31 00:01:10      120974  48.320169\n",
       "2014-03-31 00:01:15      120975  47.795408\n",
       "2014-03-31 00:01:20      120976  47.921526\n",
       "2014-03-31 00:01:25      120977  47.844918\n",
       "2014-03-31 00:01:30      120978  47.839340\n",
       "2014-03-31 00:01:35      120979  47.759985\n",
       "2014-03-31 00:01:40      120980  47.464234\n",
       "2014-03-31 00:01:45      120981  48.253777\n",
       "2014-03-31 00:01:50      120982  49.490724\n",
       "2014-03-31 00:01:55      120983  47.472237\n",
       "2014-03-31 00:02:00      120984  48.542139\n",
       "2014-03-31 00:02:05      120985  47.446722\n",
       "2014-03-31 00:02:10      120986  47.769354\n",
       "2014-03-31 00:02:15      120987  48.085272\n",
       "2014-03-31 00:02:20      120988  47.698478\n",
       "2014-03-31 00:02:25      120989  47.879309\n",
       "...                         ...        ...\n",
       "2014-04-30 23:57:35      656611  54.682863\n",
       "2014-04-30 23:57:40      656612  54.628532\n",
       "2014-04-30 23:57:45      656613  54.600004\n",
       "2014-04-30 23:57:50      656614  54.568982\n",
       "2014-04-30 23:57:55      656615  54.634207\n",
       "2014-04-30 23:58:00      656616  54.744791\n",
       "2014-04-30 23:58:05      656617  54.569355\n",
       "2014-04-30 23:58:10      656618        NaN\n",
       "2014-04-30 23:58:15      656619  54.676868\n",
       "2014-04-30 23:58:20      656620  54.801298\n",
       "2014-04-30 23:58:25      656621  54.677424\n",
       "2014-04-30 23:58:30      656622  54.844066\n",
       "2014-04-30 23:58:35      656623  55.001594\n",
       "2014-04-30 23:58:40      656624  54.920362\n",
       "2014-04-30 23:58:45      656625  54.831278\n",
       "2014-04-30 23:58:50      656626  54.946097\n",
       "2014-04-30 23:58:55      656627  54.827073\n",
       "2014-04-30 23:59:00      656628  54.884245\n",
       "2014-04-30 23:59:05      656629  54.904135\n",
       "2014-04-30 23:59:10      656630  54.940552\n",
       "2014-04-30 23:59:15      656631  55.171922\n",
       "2014-04-30 23:59:20      656632  55.055096\n",
       "2014-04-30 23:59:25      656633  54.965863\n",
       "2014-04-30 23:59:30      656634  54.830033\n",
       "2014-04-30 23:59:35      656635  54.857816\n",
       "2014-04-30 23:59:40      656636  54.931046\n",
       "2014-04-30 23:59:45      656637  54.794237\n",
       "2014-04-30 23:59:50      656638  54.737390\n",
       "2014-04-30 23:59:55      656639  54.786441\n",
       "2014-05-01 00:00:00      656640  55.246406\n",
       "\n",
       "[535681 rows x 2 columns]>"
      ]
     },
     "execution_count": 9,
     "metadata": {},
     "output_type": "execute_result"
    }
   ],
   "source": [
    "node_data.head"
   ]
  },
  {
   "cell_type": "markdown",
   "metadata": {},
   "source": [
    "drop where node_id is NaN"
   ]
  },
  {
   "cell_type": "markdown",
   "metadata": {},
   "source": [
    "torna l'assenza del node 43 e la scarsità di 22, 41, 53,"
   ]
  },
  {
   "cell_type": "code",
   "execution_count": 10,
   "metadata": {},
   "outputs": [],
   "source": [
    "#regular_data_jobs = merged_jobs_to_nodes[merged_jobs_to_nodes.node_id >= 1]\n",
    "#regular_data_jobs = regular_data_jobs[regular_data_jobs.node_id <= 64]\n",
    "#regular_data_jobs.shape"
   ]
  },
  {
   "cell_type": "code",
   "execution_count": null,
   "metadata": {},
   "outputs": [],
   "source": [
    "for node in nodes:\n",
    "    print(node)\n",
    "    interval_jobs_to_node = merged_jobs_to_nodes[merged_jobs_to_nodes['node_id'] == int(node)]\n",
    "    print(\"interval_jobs_node_data contains {} records\".format(interval_jobs_to_node.shape[0]))\n",
    "    # read the power mesuraments file obtained with \"keep_nodes_data_by_period_1min_sample.py\"\n",
    "    infile_node = datadir + \"CPUs/\" + interval_comment + \"/node\" + node + suffix + interval_comment\n",
    "    \n",
    "    node_data = pd.read_csv(infile_node + \".csv\", index_col=1)\n",
    "    print(node_data.shape[0])\n",
    "    node_start_time = node_data.index[0]\n",
    "    #node_data.reset_index()\n",
    "    \n",
    "    num_minutes = node_data.shape[0]\n",
    "    active_cores = pd.Series(0, index=np.arange(num_minutes))\n",
    "    active_jobs = pd.Series(0, index=np.arange(num_minutes))\n",
    "    active_gpus = pd.Series(0, index=np.arange(num_minutes))\n",
    "    active_mics = pd.Series(0, index=np.arange(num_minutes))\n",
    "    \n",
    "    i = 0\n",
    "    num_jobs = interval_jobs_to_node.shape[0]\n",
    "    for index, row in interval_jobs_to_node.iterrows():\n",
    "        #print(\"{}/{}   {}\".format(i, num_jobs, row['job_id_string']))\n",
    "        i = i + 1\n",
    "        job_start_time = pd.to_datetime(row['run_start_time'])\n",
    "        # print(start_time)\n",
    "        job_end_time = pd.to_datetime(row['end_time'])\n",
    "        job_cores = row['ncpus']\n",
    "        job_gpus = row['ngpus']\n",
    "        job_mics = row['nmics']\n",
    "        \n",
    "        #print(job_start_time)\n",
    "        #print(pd.to_datetime(node_start_time))\n",
    "        before_minutes = int((job_start_time - pd.to_datetime(node_start_time)) / np.timedelta64(5, 's'))\n",
    "        running_minutes = int((job_end_time - job_start_time) / np.timedelta64(5, 's'))\n",
    "        after_minutes = num_minutes - running_minutes - before_minutes\n",
    "        #print(\"{} - {} - {}\".format(before_minutes, running_minutes, after_minutes))\n",
    "        before_serie = pd.Series(0, index=np.arange(before_minutes))\n",
    "        after_serie = pd.Series(0, index=np.arange(after_minutes))\n",
    "        running_serie = pd.Series(job_cores, index=np.arange(running_minutes))\n",
    "        concat_series = pd.concat([before_serie, running_serie, after_serie], ignore_index=True)\n",
    "        active_cores = active_cores.add(concat_series, fill_value=0)\n",
    "\n",
    "        running_serie = pd.Series(1, index=np.arange(running_minutes))\n",
    "        concat_series = pd.concat([before_serie, running_serie, after_serie], ignore_index=True)\n",
    "        active_jobs= active_jobs.add(concat_series, fill_value=0)\n",
    "\n",
    "        running_serie = pd.Series(job_gpus, index=np.arange(running_minutes))\n",
    "        concat_series = pd.concat([before_serie, running_serie, after_serie], ignore_index=True)\n",
    "        active_gpus = active_gpus.add(concat_series, fill_value=0)\n",
    "\n",
    "        running_serie = pd.Series(job_mics, index=np.arange(running_minutes))\n",
    "        concat_series = pd.concat([before_serie, running_serie, after_serie], ignore_index=True)\n",
    "        active_mics = active_mics.add(concat_series, fill_value=0)\n",
    "        \n",
    "    node_data['active_cores'] = active_cores.values\n",
    "    node_data['active_jobs'] = active_jobs.values\n",
    "    node_data['active_gpus'] = active_gpus.values\n",
    "    node_data['active_mics'] = active_mics.values\n",
    "    \n",
    "    node_data.to_csv(infile_node + \"_active_cores_and_jobs\" + \".csv\")"
   ]
  }
 ],
 "metadata": {
  "kernelspec": {
   "display_name": "Python 3",
   "language": "python",
   "name": "python3"
  },
  "language_info": {
   "codemirror_mode": {
    "name": "ipython",
    "version": 3
   },
   "file_extension": ".py",
   "mimetype": "text/x-python",
   "name": "python",
   "nbconvert_exporter": "python",
   "pygments_lexer": "ipython3",
   "version": "3.5.2"
  }
 },
 "nbformat": 4,
 "nbformat_minor": 2
}
