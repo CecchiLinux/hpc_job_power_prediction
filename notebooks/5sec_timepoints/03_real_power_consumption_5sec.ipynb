{
 "cells": [
  {
   "cell_type": "code",
   "execution_count": 1,
   "metadata": {},
   "outputs": [],
   "source": [
    "#!/usr/bin/env python3\n",
    "\n",
    "import pandas as pd\n",
    "import errno    \n",
    "import os\n",
    "import numpy as np\n",
    "import math\n",
    "\n",
    "'''\n",
    "Author: Enrico Ceccolini\n",
    "    TODO write the description\n",
    "'''\n",
    "\n",
    "datadir = \"/datasets/eurora_data/db/\"\n",
    "#datadir = \"/datasets/eurora_data/db/\"\n",
    "#datadir = \"C:/Users/folid/git-repo/hpc_job_power_prediction/datasets/eurora_data/db_local/\"\n",
    "infile_jobs_to_nodes = datadir + \"job_nodes.csv\"\n",
    "\n",
    "\n",
    "infile_nodes = datadir + \"nodes.csv\"\n",
    "\n",
    "suffix = \"_5sec_\"\n",
    "### select an interval from\n",
    "## 1 settings wholeData\n",
    "interval_comment_whole = \"WholeData\"\n",
    "\n",
    "### select an interval from\n",
    "## 2 settings Andrea\n",
    "#interval_comment = \"Andrea\"\n",
    "#start_time = pd.to_datetime('2014-03-31')\n",
    "#end_time = pd.to_datetime('2014-05-01')\n",
    "#infile_jobs = datadir + \"CPUs/\" + interval_comment + \"/jobs_cleaned\"\n",
    "\n",
    "## 3 settings Alina\n",
    "interval_comment = \"Alina\"\n",
    "start_time = pd.to_datetime('2014-03-31')\n",
    "end_time = pd.to_datetime('2014-11-01')\n",
    "infile_jobs = datadir + \"CPUs/\" + interval_comment + \"/jobs_cleaned\"\n",
    "infile_jobs = datadir + \"CPUs/\" + interval_comment + \"/Alina_jobs_real_pow_t2_54_234192\"\n",
    "\n",
    "## 4 settings BeforeAlina\n",
    "#interval_comment = \"Alina\"\n",
    "#start_time = pd.to_datetime('2014-03-31')\n",
    "#end_time = pd.to_datetime('2014-07-01')\n",
    "#infile_jobs = datadir + \"CPUs/jobs_cleaned_whole\"\n",
    "\n",
    "nodes=['01', '02', '03', '04', '05', '06', '07', '08', '09', '10', '11', '12', '13', '14', '15', '16', '17', '18', '19', '20', '21', '22', '23', '24', '25', '26', '27', '28', '29', '30', '31', '32', '33', '34', '35', '36', '37', '38', '39', '40', '41', '42', '44', '45', '46', '47', '48', '49', '50', '51', '52', '53', '54', '55', '56', '57', '58', '59', '60', '61', '62', '63', '64']\n",
    "nodes=['55', '56', '57', '58', '59', '60', '61', '62', '63', '64']"
   ]
  },
  {
   "cell_type": "markdown",
   "metadata": {},
   "source": [
    "Along the nodes we have three differentIntel Xeon E5 processors stepping: nodes 1-16 & 25-32 havea maximum frequency of 2.1GHz (CPUs-2100), nodes 17-24 have a maximum frequency of 2.2GHz (CPUs-2200), andnodes 33-64 have a maximum frequency of 3.1GHz (CPUs-3100)."
   ]
  },
  {
   "cell_type": "code",
   "execution_count": 27,
   "metadata": {},
   "outputs": [],
   "source": [
    "nodes_data = pd.read_csv(infile_nodes, index_col=0)\n",
    "# nodes_data"
   ]
  },
  {
   "cell_type": "markdown",
   "metadata": {},
   "source": [
    "### Read job2nodes data"
   ]
  },
  {
   "cell_type": "code",
   "execution_count": 28,
   "metadata": {},
   "outputs": [
    {
     "name": "stdout",
     "output_type": "stream",
     "text": [
      "jobs_to_nodes_whole_data contains 469095 records\n"
     ]
    }
   ],
   "source": [
    "jobs_to_nodes_whole_data = pd.read_csv(infile_jobs_to_nodes, index_col=0)\n",
    "print(\"jobs_to_nodes_whole_data contains {} records\".format(jobs_to_nodes_whole_data.shape[0]))"
   ]
  },
  {
   "cell_type": "markdown",
   "metadata": {},
   "source": [
    "#### solve the problem of jobs runned on node 129"
   ]
  },
  {
   "cell_type": "code",
   "execution_count": 29,
   "metadata": {},
   "outputs": [
    {
     "name": "stdout",
     "output_type": "stream",
     "text": [
      "jobs_to_nodes_whole_data now contains 469020 records\n"
     ]
    }
   ],
   "source": [
    "jobs_to_nodes_whole_data = jobs_to_nodes_whole_data[jobs_to_nodes_whole_data['node_id'] != 129]\n",
    "print(\"jobs_to_nodes_whole_data now contains {} records\".format(jobs_to_nodes_whole_data.shape[0]))"
   ]
  },
  {
   "cell_type": "markdown",
   "metadata": {},
   "source": [
    "#### solve the problem of duplicates job_id_string, node_id\n",
    "this is probably caused by the concurrency writing of the database "
   ]
  },
  {
   "cell_type": "code",
   "execution_count": 30,
   "metadata": {},
   "outputs": [
    {
     "name": "stdout",
     "output_type": "stream",
     "text": [
      "jobs_to_nodes_whole_data now contains 444610 records\n"
     ]
    }
   ],
   "source": [
    "jobs_to_nodes_whole_data = jobs_to_nodes_whole_data.drop_duplicates(subset=['job_id_string', 'node_id'])\n",
    "print(\"jobs_to_nodes_whole_data now contains {} records\".format(jobs_to_nodes_whole_data.shape[0]))"
   ]
  },
  {
   "cell_type": "markdown",
   "metadata": {},
   "source": [
    "### Read jobs data\n",
    "\n",
    "drop the jobs out of interval"
   ]
  },
  {
   "cell_type": "code",
   "execution_count": 31,
   "metadata": {},
   "outputs": [
    {
     "name": "stdout",
     "output_type": "stream",
     "text": [
      "jobs_whole_data contains 336787 records\n"
     ]
    },
    {
     "name": "stderr",
     "output_type": "stream",
     "text": [
      "/usr/local/lib/python3.5/dist-packages/IPython/core/interactiveshell.py:3049: DtypeWarning: Columns (11) have mixed types. Specify dtype option on import or set low_memory=False.\n",
      "  interactivity=interactivity, compiler=compiler, result=result)\n"
     ]
    }
   ],
   "source": [
    "jobs_whole = pd.read_csv(infile_jobs + \".csv\", index_col=0)\n",
    "print(\"jobs_whole_data contains {} records\".format(jobs_whole.shape[0]))"
   ]
  },
  {
   "cell_type": "code",
   "execution_count": 32,
   "metadata": {},
   "outputs": [
    {
     "name": "stdout",
     "output_type": "stream",
     "text": [
      "Alina set contains 336787 records\n"
     ]
    }
   ],
   "source": [
    "interval_jobs = jobs_whole[pd.to_datetime(jobs_whole['end_time']) <= end_time]\n",
    "interval_jobs = interval_jobs[pd.to_datetime(interval_jobs['run_start_time']) > start_time]\n",
    "print(\"Alina set contains {} records\".format(interval_jobs.shape[0]))"
   ]
  },
  {
   "cell_type": "markdown",
   "metadata": {},
   "source": [
    "#### merge"
   ]
  },
  {
   "cell_type": "code",
   "execution_count": 33,
   "metadata": {},
   "outputs": [
    {
     "name": "stdout",
     "output_type": "stream",
     "text": [
      "359350\n"
     ]
    }
   ],
   "source": [
    "merged_jobs_to_nodes = pd.merge(jobs_to_nodes_whole_data, interval_jobs, on='job_id_string')\n",
    "print(merged_jobs_to_nodes.shape[0])"
   ]
  },
  {
   "cell_type": "code",
   "execution_count": null,
   "metadata": {},
   "outputs": [],
   "source": [
    "#debug\n",
    "#merged_jobs_to_node = merged_jobs_to_nodes[merged_jobs_to_nodes['node_id'] == int(node)]\n",
    "#merged_jobs_to_node.shape"
   ]
  },
  {
   "cell_type": "code",
   "execution_count": null,
   "metadata": {},
   "outputs": [],
   "source": [
    "### remove to continue from a specific job\n",
    "\n",
    "#long_jobs = long_jobs.drop(['real_pow', 'runned_alone', 'real_pow_quality'], axis=1)\n",
    "\n",
    "#interval_jobs['real_pow'] = 0.0\n",
    "#interval_jobs['ran_alone'] = True\n",
    "#interval_jobs['real_pow_quality'] = 0.0\n",
    "#\n",
    "#interval_jobs['n_2_1'] = 0\n",
    "#interval_jobs['n_2_2'] = 0\n",
    "#interval_jobs['n_3_1'] = 0\n",
    "#\n",
    "#interval_jobs['job_tot_timepoints'] = 0\n",
    "#interval_jobs['job_timepoints'] = 0\n",
    "#interval_jobs['good_nodes'] = 0 # TODO add this on the file? maybe I can drop it at the end\n"
   ]
  },
  {
   "cell_type": "code",
   "execution_count": null,
   "metadata": {
    "scrolled": false
   },
   "outputs": [],
   "source": [
    "#debug\n",
    "#jobs_whole = jobs_whole.head(15)\n",
    "#debug_merged_jobs_to_nodes = merged_jobs_to_nodes.head(1000)\n",
    "#merged_jobs_to_nodes[merged_jobs_to_nodes['node_id'] == 55]['end_time']\n",
    "#nodes = ['55']"
   ]
  },
  {
   "cell_type": "code",
   "execution_count": null,
   "metadata": {},
   "outputs": [],
   "source": []
  },
  {
   "cell_type": "code",
   "execution_count": null,
   "metadata": {},
   "outputs": [],
   "source": [
    "#svi\n",
    "#jobs_whole[jobs_whole['job_id_string'] == '1006691.node129'].index"
   ]
  },
  {
   "cell_type": "code",
   "execution_count": null,
   "metadata": {},
   "outputs": [],
   "source": [
    "merged_jobs_to_nodes"
   ]
  },
  {
   "cell_type": "code",
   "execution_count": null,
   "metadata": {},
   "outputs": [],
   "source": [
    "\"2014-03-31 00:30:02\"[17:]"
   ]
  },
  {
   "cell_type": "code",
   "execution_count": null,
   "metadata": {},
   "outputs": [],
   "source": [
    "if(int(\"2014-03-31 00:30:07\"[18:]) > 5):\n",
    "    print(\"2014-03-31 00:30:07\"[:-1] + \"5\")\n",
    "else:\n",
    "    print(\"2014-03-31 00:30:07\"[:-1] + \"0\")"
   ]
  },
  {
   "cell_type": "code",
   "execution_count": null,
   "metadata": {},
   "outputs": [],
   "source": [
    "if(int(\"2014-03-31 00:30:11\"[18:]) >= 5):\n",
    "    print(pd.to_datetime(\"2014-03-31 00:30:11\"[:-1] + \"0\") + np.timedelta64(10, 's'))\n",
    "else:\n",
    "    print(pd.to_datetime(\"2014-03-31 00:30:11\"[:-1] + \"5\"))"
   ]
  },
  {
   "cell_type": "code",
   "execution_count": null,
   "metadata": {},
   "outputs": [],
   "source": []
  },
  {
   "cell_type": "code",
   "execution_count": null,
   "metadata": {
    "code_folding": [],
    "scrolled": true
   },
   "outputs": [],
   "source": [
    "import time\n",
    "start_time = time.time()\n",
    "i = 0\n",
    "i = 234193\n",
    "outfile = datadir + 'CPUs/' + interval_comment + \"/\" + interval_comment + \"_jobs_real_pow_t2\"\n",
    "\n",
    "for node in nodes:\n",
    "    merged_jobs_to_node = merged_jobs_to_nodes[merged_jobs_to_nodes['node_id'] == int(node)]\n",
    "    print(\"---------- {} jobs in node {}\".format(merged_jobs_to_node.shape[0], node))\n",
    "    infile_node = datadir + \"CPUs/\" + interval_comment + \"/node\" + node + suffix + interval_comment + \"_active_cores_and_jobs.csv\"\n",
    "    node_measurements = pd.read_csv(infile_node)\n",
    "    node_measurements['timestamp'] = pd.to_datetime(node_measurements['timestamp'])\n",
    "    node_start_time = pd.to_datetime(node_measurements['timestamp'].iloc[0])\n",
    "    num_minutes = node_measurements.shape[0]\n",
    "    print(\"-------------------node data starts at {}, num minute {}\".format(node_start_time, num_minutes))\n",
    "    \n",
    "    for index_job_to_node, row_job_to_node in merged_jobs_to_node.iterrows():\n",
    "        print()\n",
    "        print(\"{}/{} {}\".format(i, merged_jobs_to_nodes.shape[0], row_job_to_node['job_id_string']))\n",
    "        \n",
    "        partial_pow_consumption = 0\n",
    "        job_id_string = row_job_to_node['job_id_string']\n",
    "        \n",
    "        # recupero indice del job in interval_jobs\n",
    "        job = interval_jobs[interval_jobs['job_id_string'] == job_id_string]\n",
    "        job_index = interval_jobs[interval_jobs['job_id_string'] == job_id_string].index\n",
    "        if(job_index != None):\n",
    "            job_real_consumption = job['real_pow'].iloc[0]\n",
    "            job_n_2_1 = job['n_2_1'].iloc[0]\n",
    "            job_n_2_2 = job['n_2_2'].iloc[0]\n",
    "            job_n_3_1 = job['n_3_1'].iloc[0]\n",
    "\n",
    "            job_tot_timepoints = job['job_tot_timepoints'].iloc[0]\n",
    "            job_timepoints = job['job_timepoints'].iloc[0]\n",
    "            job_good_nodes = job['good_nodes'].iloc[0]\n",
    "            job_ran_alone = job['ran_alone'].iloc[0]\n",
    "\n",
    "            node_type = nodes_data.iloc[row_job_to_node['node_id']-1]['cpu_type']\n",
    "            if(node_type == '2_1_ghz'):\n",
    "                job_n_2_1 += 1\n",
    "            elif(node_type == '2_2_ghz'):\n",
    "                job_n_2_2 += 1\n",
    "            elif(node_type == '3_1_ghz'):\n",
    "                job_n_3_1 += 1\n",
    "\n",
    "            node_idle_core = nodes_data.iloc[row_job_to_node['node_id']-1]['core_idle']\n",
    "            \n",
    "            job_start_time = pd.to_datetime(row_job_to_node['run_start_time'])\n",
    "            job_end_time = pd.to_datetime(row_job_to_node['end_time'])\n",
    "            \n",
    "            if(job_end_time - job_start_time >= np.timedelta64(5, 's')):\n",
    "                before_minutes = int((job_start_time - node_start_time) / np.timedelta64(5, 's'))\n",
    "                running_minutes = int((job_end_time - job_start_time) / np.timedelta64(5, 's'))\n",
    "                after_minutes = num_minutes - running_minutes - before_minutes\n",
    "                \n",
    "                before_serie = pd.Series(False, index=np.arange(before_minutes))\n",
    "                running_serie = pd.Series(True, index=np.arange(running_minutes))\n",
    "                after_serie = pd.Series(False, index=np.arange(after_minutes))\n",
    "                concat_series = pd.concat([before_serie, running_serie, after_serie], ignore_index=True)\n",
    "                \n",
    "                interval_measurements = node_measurements[concat_series]\n",
    "                \n",
    "                ### take only the entries of the interval where the job was running\n",
    "                #interval_measurements = node_measurements.loc[(pd.to_datetime(node_measurements['timestamp']) >= pd.to_datetime(row_job_to_node['run_start_time'])) & (pd.to_datetime(node_measurements['timestamp']) <= pd.to_datetime((row_job_to_node['end_time'])) - np.timedelta64(5, 's'))]\n",
    "                ### drop missing measurements (calculate the percentage)\n",
    "                n_node_measurements = interval_measurements.shape[0]\n",
    "                job_tot_timepoints += n_node_measurements\n",
    "\n",
    "                interval_measurements = interval_measurements.dropna()\n",
    "                print(\"{}/{} intervals missing\".format(n_node_measurements-interval_measurements.shape[0], n_node_measurements))\n",
    "                job_timepoints += n_node_measurements-interval_measurements.shape[0]\n",
    "\n",
    "                ### drop where active cores is greater than 16 - this problem occours only once on node 30\n",
    "                interval_measurements = interval_measurements[interval_measurements['active_cores'] <= 16]\n",
    "                ### drop row with 0 active_cores (or less than the current job used cores)\n",
    "                interval_measurements = interval_measurements[interval_measurements['active_cores'] >= row_job_to_node['ncpus']]  \n",
    "\n",
    "                if(interval_measurements.shape[0] != 0):\n",
    "                    job_good_nodes += 1 \n",
    "\n",
    "\n",
    "                ### group the intervals wehere the partial_pow_cons can be obtaied with the same instance of the formula\n",
    "                ### take the mean for the pow columns\n",
    "                # interval_grouped = interval_measurements.reset_index().groupby([\"active_cores\", \"active_jobs\", \"active_gpus\", \"active_mics\"]).mean()\n",
    "                interval_grouped = interval_measurements.groupby([\"active_cores\", \"active_jobs\", \"active_gpus\", \"active_mics\"])\n",
    "                counts = interval_grouped.size().to_frame(name='counts')\n",
    "                interval_grouped = (counts\n",
    "                 .join(interval_grouped.agg({'pow_tot':'mean'}).rename(columns={'pow_tot': 'pow_tot_mean'}))\n",
    "                 .reset_index()\n",
    "                )\n",
    "                interval_grouped.sort_values('active_jobs')\n",
    "\n",
    "                if(interval_grouped.shape[0]>1):\n",
    "                    job_ran_alone = False\n",
    "\n",
    "\n",
    "                if(interval_grouped.shape[0] != 0):\n",
    "                    #interval_grouped['pow_tot'] = (interval_grouped['pow_tot_0_mean'] + interval_grouped['pow_tot_1_mean']) * row['ncpus'] / interval_grouped['active_cores'] \n",
    "                    interval_grouped['pow_tot'] = (interval_grouped['pow_tot_mean'] - (16 - interval_grouped['active_cores'])*node_idle_core) * row_job_to_node['ncpus'] / interval_grouped['active_cores'] \n",
    "\n",
    "                    # not_alone_counts = interval_grouped['counts'].loc[interval_grouped['active_jobs'] != 1].sum()\n",
    "                    # interval_grouped.loc[interval_grouped['active_jobs'] == 1, ['counts']] += not_alone_counts\n",
    "                    print(interval_grouped)\n",
    "                    partial_pow_consumption = np.average(interval_grouped['pow_tot'], weights=interval_grouped['counts'])\n",
    "                    # partial_pow_consumption = partial_pow_consumption / interval_grouped.shape[0]\n",
    "                    # print(interval_grouped)\n",
    "\n",
    "                print(\"partial measurement: {}\".format(partial_pow_consumption))\n",
    "                job_real_consumption += partial_pow_consumption\n",
    "                partial_pow_consumption = 0\n",
    "\n",
    "        \n",
    "            else: # jobs shorter than 5 sec\n",
    "                   # keep the only timepoint\n",
    "                job_start_time = row_job_to_node['run_start_time']\n",
    "                #job_end_time = row_job_to_node['end_time']\n",
    "                if(int(job_start_time[18:]) >= 5):\n",
    "                    job_start_time = pd.to_datetime(job_start_time[:-1] + \"5\")\n",
    "                else:\n",
    "                    job_start_time = pd.to_datetime(job_start_time[:-1] + \"0\")\n",
    "                #if(int(job_end_time[18:]) >= 5):\n",
    "                #    job_end_time = pd.to_datetime(job_end_time[:-1] + \"0\") + np.timedelta64(10, 's')\n",
    "                #else:\n",
    "                #    job_end_time = pd.to_datetime(job_end_time[:-1] + \"5\")\n",
    "                \n",
    "                measure = node_measurements[node_measurements['timestamp'] == job_start_time]\n",
    "                job_tot_timepoints += 1\n",
    "                \n",
    "                measure = measure.dropna()\n",
    "                if(measure.shape[0] != 0):\n",
    "                    \n",
    "                    job_good_nodes += 1\n",
    "                    if(measure['active_cores'].iloc[0] != 0):\n",
    "                        job_ran_alone = False\n",
    "\n",
    "                    active_cores = measure['active_cores'].iloc[0] + row_job_to_node['ncpus']\n",
    "                    if(active_cores > 16):\n",
    "                        active_cores = 16\n",
    "                    job_real_consumption += (measure['pow_tot'].iloc[0] - (16 - active_cores) * node_idle_core) * row_job_to_node['ncpus'] / active_cores\n",
    "                else:\n",
    "                    job_timepoints += 1\n",
    "                    print(\"error measure\")\n",
    "                    #print(row_job_to_node['run_start_time'])\n",
    "                    job_pow_quality = 0.0\n",
    "               \n",
    "            \n",
    "            if(job_real_consumption < 0):\n",
    "                job_real_consumption = 0.0\n",
    "            print(\"job_real_consumption: {}\".format(job_real_consumption))\n",
    "            \n",
    "            interval_jobs.at[job_index, 'real_pow'] = job_real_consumption\n",
    "            interval_jobs.at[job_index, 'n_2_1'] = job_n_2_1\n",
    "            interval_jobs.at[job_index, 'n_2_2'] = job_n_2_2\n",
    "            interval_jobs.at[job_index, 'n_3_1'] = job_n_3_1\n",
    "            interval_jobs.at[job_index, 'job_tot_timepoints'] = job_tot_timepoints\n",
    "            interval_jobs.at[job_index, 'job_timepoints'] = job_timepoints\n",
    "            interval_jobs.at[job_index, 'good_nodes'] = job_good_nodes\n",
    "            interval_jobs.at[job_index, 'ran_alone'] = job_ran_alone\n",
    "    \n",
    "        \n",
    "        i = i + 1\n",
    "    #if(i % 10000 == 0):\n",
    "    interval_jobs.to_csv(outfile + \"_\" + node + \"_\" + str(i) + \".csv\")\n",
    "    print(\"--- %s seconds ---\" % (time.time() - start_time))\n",
    "        \n",
    "interval_jobs.to_csv(outfile + \"_\" + node + \"_\" + str(i) + \".csv\")"
   ]
  },
  {
   "cell_type": "code",
   "execution_count": null,
   "metadata": {},
   "outputs": [],
   "source": []
  },
  {
   "cell_type": "code",
   "execution_count": 36,
   "metadata": {},
   "outputs": [],
   "source": [
    "#job_index = interval_jobs[(interval_jobs['real_pow'] != 0.0) & (interval_jobs['job_timepoints'] == 0)].index\n"
   ]
  },
  {
   "cell_type": "code",
   "execution_count": 38,
   "metadata": {},
   "outputs": [],
   "source": [
    "#interval_jobs.at[job_index, 'job_timepoints'] = 1\n"
   ]
  },
  {
   "cell_type": "code",
   "execution_count": 40,
   "metadata": {
    "code_folding": []
   },
   "outputs": [],
   "source": [
    "interval_jobs['real_pow_quality'] = 1 - (interval_jobs['job_timepoints'] / interval_jobs['job_tot_timepoints'])"
   ]
  },
  {
   "cell_type": "code",
   "execution_count": 41,
   "metadata": {},
   "outputs": [],
   "source": [
    "outfile = datadir + 'CPUs/' + interval_comment + \"/\" + interval_comment + \"_jobs_real_pow\"\n",
    "interval_jobs.to_csv(outfile + \".csv\")"
   ]
  },
  {
   "cell_type": "code",
   "execution_count": null,
   "metadata": {},
   "outputs": [],
   "source": []
  },
  {
   "cell_type": "code",
   "execution_count": null,
   "metadata": {},
   "outputs": [],
   "source": [
    "#debug"
   ]
  },
  {
   "cell_type": "code",
   "execution_count": 2,
   "metadata": {},
   "outputs": [
    {
     "name": "stdout",
     "output_type": "stream",
     "text": [
      "jobs_data contains 336787 records\n"
     ]
    },
    {
     "name": "stderr",
     "output_type": "stream",
     "text": [
      "/usr/local/lib/python3.5/dist-packages/IPython/core/interactiveshell.py:3049: DtypeWarning: Columns (11) have mixed types. Specify dtype option on import or set low_memory=False.\n",
      "  interactivity=interactivity, compiler=compiler, result=result)\n"
     ]
    }
   ],
   "source": [
    "infile_jobs = datadir + \"CPUs/\" + interval_comment + \"/Alina_jobs_real_pow\"\n",
    "jobs = pd.read_csv(infile_jobs + \".csv\", index_col=0)\n",
    "print(\"jobs_data contains {} records\".format(jobs.shape[0]))"
   ]
  },
  {
   "cell_type": "code",
   "execution_count": 3,
   "metadata": {},
   "outputs": [
    {
     "data": {
      "text/plain": [
       "0.5942813919519043"
      ]
     },
     "execution_count": 3,
     "metadata": {},
     "output_type": "execute_result"
    }
   ],
   "source": [
    "jobs['real_pow_quality'].mean()"
   ]
  },
  {
   "cell_type": "code",
   "execution_count": 4,
   "metadata": {},
   "outputs": [],
   "source": [
    "#job_end_time - job_start_time >= np.timedelta64(5, 's')\n",
    "\n",
    "\n",
    "#job_index_0 = jobs[(jobs['job_tot_timepoints'] == 1) & (jobs['job_timepoints'] == 0)].index\n",
    "#job_index_1 = jobs[(jobs['job_tot_timepoints'] == 1) & (jobs['job_timepoints'] == 1)].index"
   ]
  },
  {
   "cell_type": "code",
   "execution_count": null,
   "metadata": {},
   "outputs": [],
   "source": []
  },
  {
   "cell_type": "code",
   "execution_count": 6,
   "metadata": {},
   "outputs": [],
   "source": [
    "short_jobs = jobs[(pd.to_datetime(jobs['end_time']) - pd.to_datetime(jobs['run_start_time']) < np.timedelta64(5, 's'))]\n",
    "long_jobs = jobs[(pd.to_datetime(jobs['end_time']) - pd.to_datetime(jobs['run_start_time']) >= np.timedelta64(5, 's'))]"
   ]
  },
  {
   "cell_type": "code",
   "execution_count": 8,
   "metadata": {},
   "outputs": [
    {
     "name": "stdout",
     "output_type": "stream",
     "text": [
      "336787 336787\n"
     ]
    }
   ],
   "source": [
    "print(\"{} {}\".format(jobs.shape[0], short_jobs.shape[0] + long_jobs.shape[0]))"
   ]
  },
  {
   "cell_type": "code",
   "execution_count": 11,
   "metadata": {},
   "outputs": [
    {
     "data": {
      "text/html": [
       "<div>\n",
       "<style scoped>\n",
       "    .dataframe tbody tr th:only-of-type {\n",
       "        vertical-align: middle;\n",
       "    }\n",
       "\n",
       "    .dataframe tbody tr th {\n",
       "        vertical-align: top;\n",
       "    }\n",
       "\n",
       "    .dataframe thead th {\n",
       "        text-align: right;\n",
       "    }\n",
       "</style>\n",
       "<table border=\"1\" class=\"dataframe\">\n",
       "  <thead>\n",
       "    <tr style=\"text-align: right;\">\n",
       "      <th></th>\n",
       "      <th>job_timepoints</th>\n",
       "      <th>job_tot_timepoints</th>\n",
       "    </tr>\n",
       "    <tr>\n",
       "      <th>job_id</th>\n",
       "      <th></th>\n",
       "      <th></th>\n",
       "    </tr>\n",
       "  </thead>\n",
       "  <tbody>\n",
       "    <tr>\n",
       "      <th>205795</th>\n",
       "      <td>1</td>\n",
       "      <td>1</td>\n",
       "    </tr>\n",
       "    <tr>\n",
       "      <th>205796</th>\n",
       "      <td>1</td>\n",
       "      <td>1</td>\n",
       "    </tr>\n",
       "    <tr>\n",
       "      <th>205797</th>\n",
       "      <td>1</td>\n",
       "      <td>1</td>\n",
       "    </tr>\n",
       "    <tr>\n",
       "      <th>205798</th>\n",
       "      <td>1</td>\n",
       "      <td>1</td>\n",
       "    </tr>\n",
       "    <tr>\n",
       "      <th>205799</th>\n",
       "      <td>1</td>\n",
       "      <td>1</td>\n",
       "    </tr>\n",
       "    <tr>\n",
       "      <th>205802</th>\n",
       "      <td>1</td>\n",
       "      <td>1</td>\n",
       "    </tr>\n",
       "    <tr>\n",
       "      <th>205803</th>\n",
       "      <td>1</td>\n",
       "      <td>1</td>\n",
       "    </tr>\n",
       "    <tr>\n",
       "      <th>205804</th>\n",
       "      <td>1</td>\n",
       "      <td>1</td>\n",
       "    </tr>\n",
       "    <tr>\n",
       "      <th>205805</th>\n",
       "      <td>1</td>\n",
       "      <td>1</td>\n",
       "    </tr>\n",
       "    <tr>\n",
       "      <th>205806</th>\n",
       "      <td>1</td>\n",
       "      <td>1</td>\n",
       "    </tr>\n",
       "    <tr>\n",
       "      <th>205811</th>\n",
       "      <td>1</td>\n",
       "      <td>1</td>\n",
       "    </tr>\n",
       "    <tr>\n",
       "      <th>205812</th>\n",
       "      <td>1</td>\n",
       "      <td>1</td>\n",
       "    </tr>\n",
       "    <tr>\n",
       "      <th>205813</th>\n",
       "      <td>1</td>\n",
       "      <td>1</td>\n",
       "    </tr>\n",
       "    <tr>\n",
       "      <th>205814</th>\n",
       "      <td>1</td>\n",
       "      <td>1</td>\n",
       "    </tr>\n",
       "    <tr>\n",
       "      <th>205815</th>\n",
       "      <td>1</td>\n",
       "      <td>1</td>\n",
       "    </tr>\n",
       "    <tr>\n",
       "      <th>205817</th>\n",
       "      <td>1</td>\n",
       "      <td>1</td>\n",
       "    </tr>\n",
       "    <tr>\n",
       "      <th>205818</th>\n",
       "      <td>1</td>\n",
       "      <td>1</td>\n",
       "    </tr>\n",
       "    <tr>\n",
       "      <th>205819</th>\n",
       "      <td>1</td>\n",
       "      <td>1</td>\n",
       "    </tr>\n",
       "    <tr>\n",
       "      <th>205820</th>\n",
       "      <td>1</td>\n",
       "      <td>1</td>\n",
       "    </tr>\n",
       "    <tr>\n",
       "      <th>205821</th>\n",
       "      <td>1</td>\n",
       "      <td>1</td>\n",
       "    </tr>\n",
       "    <tr>\n",
       "      <th>205824</th>\n",
       "      <td>1</td>\n",
       "      <td>1</td>\n",
       "    </tr>\n",
       "    <tr>\n",
       "      <th>205825</th>\n",
       "      <td>1</td>\n",
       "      <td>1</td>\n",
       "    </tr>\n",
       "    <tr>\n",
       "      <th>205826</th>\n",
       "      <td>1</td>\n",
       "      <td>1</td>\n",
       "    </tr>\n",
       "    <tr>\n",
       "      <th>205827</th>\n",
       "      <td>1</td>\n",
       "      <td>1</td>\n",
       "    </tr>\n",
       "    <tr>\n",
       "      <th>205828</th>\n",
       "      <td>1</td>\n",
       "      <td>1</td>\n",
       "    </tr>\n",
       "    <tr>\n",
       "      <th>205831</th>\n",
       "      <td>1</td>\n",
       "      <td>1</td>\n",
       "    </tr>\n",
       "    <tr>\n",
       "      <th>205832</th>\n",
       "      <td>1</td>\n",
       "      <td>1</td>\n",
       "    </tr>\n",
       "    <tr>\n",
       "      <th>205833</th>\n",
       "      <td>1</td>\n",
       "      <td>1</td>\n",
       "    </tr>\n",
       "    <tr>\n",
       "      <th>205834</th>\n",
       "      <td>1</td>\n",
       "      <td>1</td>\n",
       "    </tr>\n",
       "    <tr>\n",
       "      <th>205835</th>\n",
       "      <td>1</td>\n",
       "      <td>1</td>\n",
       "    </tr>\n",
       "    <tr>\n",
       "      <th>...</th>\n",
       "      <td>...</td>\n",
       "      <td>...</td>\n",
       "    </tr>\n",
       "    <tr>\n",
       "      <th>189823</th>\n",
       "      <td>1</td>\n",
       "      <td>1</td>\n",
       "    </tr>\n",
       "    <tr>\n",
       "      <th>189828</th>\n",
       "      <td>1</td>\n",
       "      <td>1</td>\n",
       "    </tr>\n",
       "    <tr>\n",
       "      <th>189829</th>\n",
       "      <td>1</td>\n",
       "      <td>1</td>\n",
       "    </tr>\n",
       "    <tr>\n",
       "      <th>189839</th>\n",
       "      <td>1</td>\n",
       "      <td>1</td>\n",
       "    </tr>\n",
       "    <tr>\n",
       "      <th>189849</th>\n",
       "      <td>1</td>\n",
       "      <td>1</td>\n",
       "    </tr>\n",
       "    <tr>\n",
       "      <th>189850</th>\n",
       "      <td>1</td>\n",
       "      <td>1</td>\n",
       "    </tr>\n",
       "    <tr>\n",
       "      <th>189852</th>\n",
       "      <td>1</td>\n",
       "      <td>1</td>\n",
       "    </tr>\n",
       "    <tr>\n",
       "      <th>189853</th>\n",
       "      <td>1</td>\n",
       "      <td>1</td>\n",
       "    </tr>\n",
       "    <tr>\n",
       "      <th>189854</th>\n",
       "      <td>1</td>\n",
       "      <td>1</td>\n",
       "    </tr>\n",
       "    <tr>\n",
       "      <th>189857</th>\n",
       "      <td>1</td>\n",
       "      <td>1</td>\n",
       "    </tr>\n",
       "    <tr>\n",
       "      <th>189858</th>\n",
       "      <td>1</td>\n",
       "      <td>1</td>\n",
       "    </tr>\n",
       "    <tr>\n",
       "      <th>189859</th>\n",
       "      <td>1</td>\n",
       "      <td>1</td>\n",
       "    </tr>\n",
       "    <tr>\n",
       "      <th>189861</th>\n",
       "      <td>1</td>\n",
       "      <td>1</td>\n",
       "    </tr>\n",
       "    <tr>\n",
       "      <th>189862</th>\n",
       "      <td>1</td>\n",
       "      <td>1</td>\n",
       "    </tr>\n",
       "    <tr>\n",
       "      <th>189863</th>\n",
       "      <td>1</td>\n",
       "      <td>1</td>\n",
       "    </tr>\n",
       "    <tr>\n",
       "      <th>189867</th>\n",
       "      <td>1</td>\n",
       "      <td>1</td>\n",
       "    </tr>\n",
       "    <tr>\n",
       "      <th>189868</th>\n",
       "      <td>1</td>\n",
       "      <td>1</td>\n",
       "    </tr>\n",
       "    <tr>\n",
       "      <th>189877</th>\n",
       "      <td>1</td>\n",
       "      <td>1</td>\n",
       "    </tr>\n",
       "    <tr>\n",
       "      <th>189878</th>\n",
       "      <td>1</td>\n",
       "      <td>1</td>\n",
       "    </tr>\n",
       "    <tr>\n",
       "      <th>189885</th>\n",
       "      <td>1</td>\n",
       "      <td>1</td>\n",
       "    </tr>\n",
       "    <tr>\n",
       "      <th>189886</th>\n",
       "      <td>1</td>\n",
       "      <td>1</td>\n",
       "    </tr>\n",
       "    <tr>\n",
       "      <th>189887</th>\n",
       "      <td>1</td>\n",
       "      <td>1</td>\n",
       "    </tr>\n",
       "    <tr>\n",
       "      <th>190720</th>\n",
       "      <td>1</td>\n",
       "      <td>1</td>\n",
       "    </tr>\n",
       "    <tr>\n",
       "      <th>190721</th>\n",
       "      <td>1</td>\n",
       "      <td>1</td>\n",
       "    </tr>\n",
       "    <tr>\n",
       "      <th>190725</th>\n",
       "      <td>1</td>\n",
       "      <td>1</td>\n",
       "    </tr>\n",
       "    <tr>\n",
       "      <th>190727</th>\n",
       "      <td>1</td>\n",
       "      <td>1</td>\n",
       "    </tr>\n",
       "    <tr>\n",
       "      <th>190771</th>\n",
       "      <td>1</td>\n",
       "      <td>1</td>\n",
       "    </tr>\n",
       "    <tr>\n",
       "      <th>191537</th>\n",
       "      <td>1</td>\n",
       "      <td>1</td>\n",
       "    </tr>\n",
       "    <tr>\n",
       "      <th>201858</th>\n",
       "      <td>1</td>\n",
       "      <td>1</td>\n",
       "    </tr>\n",
       "    <tr>\n",
       "      <th>205452</th>\n",
       "      <td>1</td>\n",
       "      <td>1</td>\n",
       "    </tr>\n",
       "  </tbody>\n",
       "</table>\n",
       "<p>145098 rows × 2 columns</p>\n",
       "</div>"
      ],
      "text/plain": [
       "        job_timepoints  job_tot_timepoints\n",
       "job_id                                    \n",
       "205795               1                   1\n",
       "205796               1                   1\n",
       "205797               1                   1\n",
       "205798               1                   1\n",
       "205799               1                   1\n",
       "205802               1                   1\n",
       "205803               1                   1\n",
       "205804               1                   1\n",
       "205805               1                   1\n",
       "205806               1                   1\n",
       "205811               1                   1\n",
       "205812               1                   1\n",
       "205813               1                   1\n",
       "205814               1                   1\n",
       "205815               1                   1\n",
       "205817               1                   1\n",
       "205818               1                   1\n",
       "205819               1                   1\n",
       "205820               1                   1\n",
       "205821               1                   1\n",
       "205824               1                   1\n",
       "205825               1                   1\n",
       "205826               1                   1\n",
       "205827               1                   1\n",
       "205828               1                   1\n",
       "205831               1                   1\n",
       "205832               1                   1\n",
       "205833               1                   1\n",
       "205834               1                   1\n",
       "205835               1                   1\n",
       "...                ...                 ...\n",
       "189823               1                   1\n",
       "189828               1                   1\n",
       "189829               1                   1\n",
       "189839               1                   1\n",
       "189849               1                   1\n",
       "189850               1                   1\n",
       "189852               1                   1\n",
       "189853               1                   1\n",
       "189854               1                   1\n",
       "189857               1                   1\n",
       "189858               1                   1\n",
       "189859               1                   1\n",
       "189861               1                   1\n",
       "189862               1                   1\n",
       "189863               1                   1\n",
       "189867               1                   1\n",
       "189868               1                   1\n",
       "189877               1                   1\n",
       "189878               1                   1\n",
       "189885               1                   1\n",
       "189886               1                   1\n",
       "189887               1                   1\n",
       "190720               1                   1\n",
       "190721               1                   1\n",
       "190725               1                   1\n",
       "190727               1                   1\n",
       "190771               1                   1\n",
       "191537               1                   1\n",
       "201858               1                   1\n",
       "205452               1                   1\n",
       "\n",
       "[145098 rows x 2 columns]"
      ]
     },
     "execution_count": 11,
     "metadata": {},
     "output_type": "execute_result"
    }
   ],
   "source": [
    "short_jobs[['job_timepoints', 'job_tot_timepoints']]"
   ]
  },
  {
   "cell_type": "code",
   "execution_count": 12,
   "metadata": {},
   "outputs": [
    {
     "name": "stderr",
     "output_type": "stream",
     "text": [
      "/usr/local/lib/python3.5/dist-packages/ipykernel_launcher.py:1: SettingWithCopyWarning: \n",
      "A value is trying to be set on a copy of a slice from a DataFrame.\n",
      "Try using .loc[row_indexer,col_indexer] = value instead\n",
      "\n",
      "See the caveats in the documentation: http://pandas.pydata.org/pandas-docs/stable/indexing.html#indexing-view-versus-copy\n",
      "  \"\"\"Entry point for launching an IPython kernel.\n"
     ]
    }
   ],
   "source": [
    "short_jobs['job_timepoints'] = short_jobs['job_tot_timepoints'] - short_jobs['job_timepoints']"
   ]
  },
  {
   "cell_type": "code",
   "execution_count": 13,
   "metadata": {},
   "outputs": [
    {
     "data": {
      "text/html": [
       "<div>\n",
       "<style scoped>\n",
       "    .dataframe tbody tr th:only-of-type {\n",
       "        vertical-align: middle;\n",
       "    }\n",
       "\n",
       "    .dataframe tbody tr th {\n",
       "        vertical-align: top;\n",
       "    }\n",
       "\n",
       "    .dataframe thead th {\n",
       "        text-align: right;\n",
       "    }\n",
       "</style>\n",
       "<table border=\"1\" class=\"dataframe\">\n",
       "  <thead>\n",
       "    <tr style=\"text-align: right;\">\n",
       "      <th></th>\n",
       "      <th>job_timepoints</th>\n",
       "      <th>job_tot_timepoints</th>\n",
       "    </tr>\n",
       "    <tr>\n",
       "      <th>job_id</th>\n",
       "      <th></th>\n",
       "      <th></th>\n",
       "    </tr>\n",
       "  </thead>\n",
       "  <tbody>\n",
       "    <tr>\n",
       "      <th>205795</th>\n",
       "      <td>0</td>\n",
       "      <td>1</td>\n",
       "    </tr>\n",
       "    <tr>\n",
       "      <th>205796</th>\n",
       "      <td>0</td>\n",
       "      <td>1</td>\n",
       "    </tr>\n",
       "    <tr>\n",
       "      <th>205797</th>\n",
       "      <td>0</td>\n",
       "      <td>1</td>\n",
       "    </tr>\n",
       "    <tr>\n",
       "      <th>205798</th>\n",
       "      <td>0</td>\n",
       "      <td>1</td>\n",
       "    </tr>\n",
       "    <tr>\n",
       "      <th>205799</th>\n",
       "      <td>0</td>\n",
       "      <td>1</td>\n",
       "    </tr>\n",
       "    <tr>\n",
       "      <th>205802</th>\n",
       "      <td>0</td>\n",
       "      <td>1</td>\n",
       "    </tr>\n",
       "    <tr>\n",
       "      <th>205803</th>\n",
       "      <td>0</td>\n",
       "      <td>1</td>\n",
       "    </tr>\n",
       "    <tr>\n",
       "      <th>205804</th>\n",
       "      <td>0</td>\n",
       "      <td>1</td>\n",
       "    </tr>\n",
       "    <tr>\n",
       "      <th>205805</th>\n",
       "      <td>0</td>\n",
       "      <td>1</td>\n",
       "    </tr>\n",
       "    <tr>\n",
       "      <th>205806</th>\n",
       "      <td>0</td>\n",
       "      <td>1</td>\n",
       "    </tr>\n",
       "    <tr>\n",
       "      <th>205811</th>\n",
       "      <td>0</td>\n",
       "      <td>1</td>\n",
       "    </tr>\n",
       "    <tr>\n",
       "      <th>205812</th>\n",
       "      <td>0</td>\n",
       "      <td>1</td>\n",
       "    </tr>\n",
       "    <tr>\n",
       "      <th>205813</th>\n",
       "      <td>0</td>\n",
       "      <td>1</td>\n",
       "    </tr>\n",
       "    <tr>\n",
       "      <th>205814</th>\n",
       "      <td>0</td>\n",
       "      <td>1</td>\n",
       "    </tr>\n",
       "    <tr>\n",
       "      <th>205815</th>\n",
       "      <td>0</td>\n",
       "      <td>1</td>\n",
       "    </tr>\n",
       "    <tr>\n",
       "      <th>205817</th>\n",
       "      <td>0</td>\n",
       "      <td>1</td>\n",
       "    </tr>\n",
       "    <tr>\n",
       "      <th>205818</th>\n",
       "      <td>0</td>\n",
       "      <td>1</td>\n",
       "    </tr>\n",
       "    <tr>\n",
       "      <th>205819</th>\n",
       "      <td>0</td>\n",
       "      <td>1</td>\n",
       "    </tr>\n",
       "    <tr>\n",
       "      <th>205820</th>\n",
       "      <td>0</td>\n",
       "      <td>1</td>\n",
       "    </tr>\n",
       "    <tr>\n",
       "      <th>205821</th>\n",
       "      <td>0</td>\n",
       "      <td>1</td>\n",
       "    </tr>\n",
       "    <tr>\n",
       "      <th>205824</th>\n",
       "      <td>0</td>\n",
       "      <td>1</td>\n",
       "    </tr>\n",
       "    <tr>\n",
       "      <th>205825</th>\n",
       "      <td>0</td>\n",
       "      <td>1</td>\n",
       "    </tr>\n",
       "    <tr>\n",
       "      <th>205826</th>\n",
       "      <td>0</td>\n",
       "      <td>1</td>\n",
       "    </tr>\n",
       "    <tr>\n",
       "      <th>205827</th>\n",
       "      <td>0</td>\n",
       "      <td>1</td>\n",
       "    </tr>\n",
       "    <tr>\n",
       "      <th>205828</th>\n",
       "      <td>0</td>\n",
       "      <td>1</td>\n",
       "    </tr>\n",
       "    <tr>\n",
       "      <th>205831</th>\n",
       "      <td>0</td>\n",
       "      <td>1</td>\n",
       "    </tr>\n",
       "    <tr>\n",
       "      <th>205832</th>\n",
       "      <td>0</td>\n",
       "      <td>1</td>\n",
       "    </tr>\n",
       "    <tr>\n",
       "      <th>205833</th>\n",
       "      <td>0</td>\n",
       "      <td>1</td>\n",
       "    </tr>\n",
       "    <tr>\n",
       "      <th>205834</th>\n",
       "      <td>0</td>\n",
       "      <td>1</td>\n",
       "    </tr>\n",
       "    <tr>\n",
       "      <th>205835</th>\n",
       "      <td>0</td>\n",
       "      <td>1</td>\n",
       "    </tr>\n",
       "    <tr>\n",
       "      <th>...</th>\n",
       "      <td>...</td>\n",
       "      <td>...</td>\n",
       "    </tr>\n",
       "    <tr>\n",
       "      <th>189823</th>\n",
       "      <td>0</td>\n",
       "      <td>1</td>\n",
       "    </tr>\n",
       "    <tr>\n",
       "      <th>189828</th>\n",
       "      <td>0</td>\n",
       "      <td>1</td>\n",
       "    </tr>\n",
       "    <tr>\n",
       "      <th>189829</th>\n",
       "      <td>0</td>\n",
       "      <td>1</td>\n",
       "    </tr>\n",
       "    <tr>\n",
       "      <th>189839</th>\n",
       "      <td>0</td>\n",
       "      <td>1</td>\n",
       "    </tr>\n",
       "    <tr>\n",
       "      <th>189849</th>\n",
       "      <td>0</td>\n",
       "      <td>1</td>\n",
       "    </tr>\n",
       "    <tr>\n",
       "      <th>189850</th>\n",
       "      <td>0</td>\n",
       "      <td>1</td>\n",
       "    </tr>\n",
       "    <tr>\n",
       "      <th>189852</th>\n",
       "      <td>0</td>\n",
       "      <td>1</td>\n",
       "    </tr>\n",
       "    <tr>\n",
       "      <th>189853</th>\n",
       "      <td>0</td>\n",
       "      <td>1</td>\n",
       "    </tr>\n",
       "    <tr>\n",
       "      <th>189854</th>\n",
       "      <td>0</td>\n",
       "      <td>1</td>\n",
       "    </tr>\n",
       "    <tr>\n",
       "      <th>189857</th>\n",
       "      <td>0</td>\n",
       "      <td>1</td>\n",
       "    </tr>\n",
       "    <tr>\n",
       "      <th>189858</th>\n",
       "      <td>0</td>\n",
       "      <td>1</td>\n",
       "    </tr>\n",
       "    <tr>\n",
       "      <th>189859</th>\n",
       "      <td>0</td>\n",
       "      <td>1</td>\n",
       "    </tr>\n",
       "    <tr>\n",
       "      <th>189861</th>\n",
       "      <td>0</td>\n",
       "      <td>1</td>\n",
       "    </tr>\n",
       "    <tr>\n",
       "      <th>189862</th>\n",
       "      <td>0</td>\n",
       "      <td>1</td>\n",
       "    </tr>\n",
       "    <tr>\n",
       "      <th>189863</th>\n",
       "      <td>0</td>\n",
       "      <td>1</td>\n",
       "    </tr>\n",
       "    <tr>\n",
       "      <th>189867</th>\n",
       "      <td>0</td>\n",
       "      <td>1</td>\n",
       "    </tr>\n",
       "    <tr>\n",
       "      <th>189868</th>\n",
       "      <td>0</td>\n",
       "      <td>1</td>\n",
       "    </tr>\n",
       "    <tr>\n",
       "      <th>189877</th>\n",
       "      <td>0</td>\n",
       "      <td>1</td>\n",
       "    </tr>\n",
       "    <tr>\n",
       "      <th>189878</th>\n",
       "      <td>0</td>\n",
       "      <td>1</td>\n",
       "    </tr>\n",
       "    <tr>\n",
       "      <th>189885</th>\n",
       "      <td>0</td>\n",
       "      <td>1</td>\n",
       "    </tr>\n",
       "    <tr>\n",
       "      <th>189886</th>\n",
       "      <td>0</td>\n",
       "      <td>1</td>\n",
       "    </tr>\n",
       "    <tr>\n",
       "      <th>189887</th>\n",
       "      <td>0</td>\n",
       "      <td>1</td>\n",
       "    </tr>\n",
       "    <tr>\n",
       "      <th>190720</th>\n",
       "      <td>0</td>\n",
       "      <td>1</td>\n",
       "    </tr>\n",
       "    <tr>\n",
       "      <th>190721</th>\n",
       "      <td>0</td>\n",
       "      <td>1</td>\n",
       "    </tr>\n",
       "    <tr>\n",
       "      <th>190725</th>\n",
       "      <td>0</td>\n",
       "      <td>1</td>\n",
       "    </tr>\n",
       "    <tr>\n",
       "      <th>190727</th>\n",
       "      <td>0</td>\n",
       "      <td>1</td>\n",
       "    </tr>\n",
       "    <tr>\n",
       "      <th>190771</th>\n",
       "      <td>0</td>\n",
       "      <td>1</td>\n",
       "    </tr>\n",
       "    <tr>\n",
       "      <th>191537</th>\n",
       "      <td>0</td>\n",
       "      <td>1</td>\n",
       "    </tr>\n",
       "    <tr>\n",
       "      <th>201858</th>\n",
       "      <td>0</td>\n",
       "      <td>1</td>\n",
       "    </tr>\n",
       "    <tr>\n",
       "      <th>205452</th>\n",
       "      <td>0</td>\n",
       "      <td>1</td>\n",
       "    </tr>\n",
       "  </tbody>\n",
       "</table>\n",
       "<p>145098 rows × 2 columns</p>\n",
       "</div>"
      ],
      "text/plain": [
       "        job_timepoints  job_tot_timepoints\n",
       "job_id                                    \n",
       "205795               0                   1\n",
       "205796               0                   1\n",
       "205797               0                   1\n",
       "205798               0                   1\n",
       "205799               0                   1\n",
       "205802               0                   1\n",
       "205803               0                   1\n",
       "205804               0                   1\n",
       "205805               0                   1\n",
       "205806               0                   1\n",
       "205811               0                   1\n",
       "205812               0                   1\n",
       "205813               0                   1\n",
       "205814               0                   1\n",
       "205815               0                   1\n",
       "205817               0                   1\n",
       "205818               0                   1\n",
       "205819               0                   1\n",
       "205820               0                   1\n",
       "205821               0                   1\n",
       "205824               0                   1\n",
       "205825               0                   1\n",
       "205826               0                   1\n",
       "205827               0                   1\n",
       "205828               0                   1\n",
       "205831               0                   1\n",
       "205832               0                   1\n",
       "205833               0                   1\n",
       "205834               0                   1\n",
       "205835               0                   1\n",
       "...                ...                 ...\n",
       "189823               0                   1\n",
       "189828               0                   1\n",
       "189829               0                   1\n",
       "189839               0                   1\n",
       "189849               0                   1\n",
       "189850               0                   1\n",
       "189852               0                   1\n",
       "189853               0                   1\n",
       "189854               0                   1\n",
       "189857               0                   1\n",
       "189858               0                   1\n",
       "189859               0                   1\n",
       "189861               0                   1\n",
       "189862               0                   1\n",
       "189863               0                   1\n",
       "189867               0                   1\n",
       "189868               0                   1\n",
       "189877               0                   1\n",
       "189878               0                   1\n",
       "189885               0                   1\n",
       "189886               0                   1\n",
       "189887               0                   1\n",
       "190720               0                   1\n",
       "190721               0                   1\n",
       "190725               0                   1\n",
       "190727               0                   1\n",
       "190771               0                   1\n",
       "191537               0                   1\n",
       "201858               0                   1\n",
       "205452               0                   1\n",
       "\n",
       "[145098 rows x 2 columns]"
      ]
     },
     "execution_count": 13,
     "metadata": {},
     "output_type": "execute_result"
    }
   ],
   "source": [
    "short_jobs[['job_timepoints', 'job_tot_timepoints']]"
   ]
  },
  {
   "cell_type": "code",
   "execution_count": 14,
   "metadata": {},
   "outputs": [
    {
     "data": {
      "text/plain": [
       "17215"
      ]
     },
     "execution_count": 14,
     "metadata": {},
     "output_type": "execute_result"
    }
   ],
   "source": [
    "short_jobs['job_timepoints'].sum()"
   ]
  },
  {
   "cell_type": "code",
   "execution_count": 15,
   "metadata": {},
   "outputs": [
    {
     "data": {
      "text/plain": [
       "145098"
      ]
     },
     "execution_count": 15,
     "metadata": {},
     "output_type": "execute_result"
    }
   ],
   "source": [
    "short_jobs.shape[0]"
   ]
  },
  {
   "cell_type": "code",
   "execution_count": 16,
   "metadata": {},
   "outputs": [],
   "source": [
    "jobs_2 = pd.concat([short_jobs, long_jobs])"
   ]
  },
  {
   "cell_type": "code",
   "execution_count": null,
   "metadata": {},
   "outputs": [],
   "source": []
  },
  {
   "cell_type": "code",
   "execution_count": null,
   "metadata": {},
   "outputs": [],
   "source": []
  },
  {
   "cell_type": "code",
   "execution_count": 17,
   "metadata": {},
   "outputs": [
    {
     "data": {
      "text/plain": [
       "0.5942813919519043"
      ]
     },
     "execution_count": 17,
     "metadata": {},
     "output_type": "execute_result"
    }
   ],
   "source": [
    "jobs['real_pow_quality'] = 1.0 - (jobs['job_timepoints'] / jobs['job_tot_timepoints'])\n",
    "jobs['real_pow_quality'].mean()"
   ]
  },
  {
   "cell_type": "code",
   "execution_count": 18,
   "metadata": {},
   "outputs": [
    {
     "data": {
      "text/plain": [
       "0.9237523929109674"
      ]
     },
     "execution_count": 18,
     "metadata": {},
     "output_type": "execute_result"
    }
   ],
   "source": [
    "jobs_2['real_pow_quality'] = 1.0 - (jobs_2['job_timepoints'] / jobs_2['job_tot_timepoints'])\n",
    "jobs_2['real_pow_quality'].mean()"
   ]
  },
  {
   "cell_type": "code",
   "execution_count": 19,
   "metadata": {},
   "outputs": [],
   "source": [
    "outfile = datadir + 'CPUs/' + interval_comment + \"/\" + interval_comment + \"_jobs_real_pow\"\n",
    "jobs_2.to_csv(outfile + \".csv\")"
   ]
  },
  {
   "cell_type": "code",
   "execution_count": null,
   "metadata": {},
   "outputs": [],
   "source": []
  },
  {
   "cell_type": "code",
   "execution_count": 10,
   "metadata": {},
   "outputs": [
    {
     "name": "stdout",
     "output_type": "stream",
     "text": [
      "jobs_data contains 336787 records\n"
     ]
    }
   ],
   "source": [
    "infile_jobs = datadir + \"CPUs/\" + interval_comment + \"/Alina_long_jobs_real_pow\"\n",
    "jobs = pd.read_csv(infile_jobs + \".csv\", index_col=0)\n",
    "print(\"jobs_data contains {} records\".format(jobs.shape[0]))"
   ]
  },
  {
   "cell_type": "code",
   "execution_count": 11,
   "metadata": {},
   "outputs": [
    {
     "data": {
      "text/plain": [
       "0.45639819188001324"
      ]
     },
     "execution_count": 11,
     "metadata": {},
     "output_type": "execute_result"
    }
   ],
   "source": [
    "jobs['real_pow_quality'].mean()"
   ]
  },
  {
   "cell_type": "code",
   "execution_count": 12,
   "metadata": {},
   "outputs": [],
   "source": [
    "jobs['real_pow_quality_2'] = 1.0 - (jobs['job_timepoints'] / jobs['job_tot_timepoints'])"
   ]
  },
  {
   "cell_type": "code",
   "execution_count": 13,
   "metadata": {},
   "outputs": [
    {
     "data": {
      "text/plain": [
       "0.5436018081199867"
      ]
     },
     "execution_count": 13,
     "metadata": {},
     "output_type": "execute_result"
    }
   ],
   "source": [
    "jobs['real_pow_quality_2'].mean()"
   ]
  },
  {
   "cell_type": "code",
   "execution_count": null,
   "metadata": {},
   "outputs": [],
   "source": []
  }
 ],
 "metadata": {
  "kernelspec": {
   "display_name": "Python 3",
   "language": "python",
   "name": "python3"
  },
  "language_info": {
   "codemirror_mode": {
    "name": "ipython",
    "version": 3
   },
   "file_extension": ".py",
   "mimetype": "text/x-python",
   "name": "python",
   "nbconvert_exporter": "python",
   "pygments_lexer": "ipython3",
   "version": "3.5.2"
  }
 },
 "nbformat": 4,
 "nbformat_minor": 2
}
