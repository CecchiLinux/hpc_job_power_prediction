{
 "cells": [
  {
   "cell_type": "code",
   "execution_count": 14,
   "metadata": {},
   "outputs": [],
   "source": [
    "import pandas as pd\n",
    "import errno    \n",
    "import os\n",
    "import numpy as np\n",
    "import math\n",
    "\n",
    "'''\n",
    "Author: Enrico Ceccolini\n",
    "    Correspond to an offline power prediction model to be used to predict the mean \n",
    "    power consumption, over the execution interval, of a job submitted on the Erurora HPC. \n",
    "'''\n",
    "\n",
    "datadir = \"/datasets/eurora_data/db1/\"\n",
    "\n",
    "infile_jobs_to_nodes = datadir + \"job_nodes.csv\"\n",
    "\n",
    "suffix = \"_5sec_\"\n",
    "### select an interval from\n",
    "## 1 settings wholeData\n",
    "#interval_comment_whole = \"WholeData\"\n",
    "\n",
    "### select an interval from\n",
    "## 2 settings Andrea\n",
    "interval_comment = \"Andrea\"\n",
    "start_time = pd.to_datetime('2014-03-31')\n",
    "end_time = pd.to_datetime('2014-05-01')\n",
    "#infile_jobs = datadir + \"april_long_jobs.csv\"\n",
    "\n",
    "## 3 settings Alina\n",
    "interval_comment = \"Alina\"\n",
    "#start_time = pd.to_datetime('2014-06-30')\n",
    "start_time = pd.to_datetime('2014-03-31')\n",
    "end_time = pd.to_datetime('2014-11-01')\n",
    "train_start_time = pd.to_datetime('2014-06-30')\n",
    "train_end_time = pd.to_datetime('2014-10-01')\n",
    "test_end_time = pd.to_datetime('2014-11-01')\n",
    "\n",
    "\n",
    "infile_jobs = datadir + \"CPUs/\" + interval_comment + \"/\" + interval_comment + \"_long_jobs_real_pow\"\n",
    "#infile_long_jobs = datadir + \"CPUs/\" + interval_comment + \"/\" + interval_comment + \"_long_jobs_real_pow_64_359350\"\n",
    "\n",
    "nodes=['01', '02', '03', '04', '05', '06', '07', '08', '09', '10', '11', '12', '13', '14', '15', '16', '17', '18', '19', '20', '21', '22', '23', '24', '25', '26', '27', '28', '29', '30', '31', '32', '33', '34', '35', '36', '37', '38', '39', '40', '41', '42', '44', '45', '46', '47', '48', '49', '50', '51', '52', '53', '54', '55', '56', '57', '58', '59', '60', '61', '62', '63', '64']"
   ]
  },
  {
   "cell_type": "code",
   "execution_count": 19,
   "metadata": {},
   "outputs": [],
   "source": [
    "# offline\n",
    "infile_validate_approx = datadir + \"CPUs/\" + interval_comment + \"/validate_pred_off_\" + interval_comment + \".csv\"\n",
    "\n",
    "## online\n",
    "#infile_validate_approx = datadir + \"CPUs/\" + interval_comment + \"/validate_pred_\" + interval_comment + \".csv\"\n",
    "\n",
    "# rf\n",
    "infile_validate_approx = datadir + \"CPUs/\" + interval_comment + \"/validate_pred_rf_\" + interval_comment + \".csv\""
   ]
  },
  {
   "cell_type": "code",
   "execution_count": 20,
   "metadata": {},
   "outputs": [
    {
     "name": "stderr",
     "output_type": "stream",
     "text": [
      "/usr/local/lib/python3.5/dist-packages/ipykernel_launcher.py:11: FutureWarning: 'select' is deprecated and will be removed in a future release. You can use .loc[labels.map(crit)] as a replacement\n",
      "  # This is added back by InteractiveShellApp.init_path()\n",
      "/usr/local/lib/python3.5/dist-packages/ipykernel_launcher.py:12: FutureWarning: 'select' is deprecated and will be removed in a future release. You can use .loc[labels.map(crit)] as a replacement\n",
      "  if sys.path[0] == '':\n"
     ]
    }
   ],
   "source": [
    "predicted_power_consumptions = pd.read_csv(infile_validate_approx)\n",
    "\n",
    "#approximated_power_consumption = approximated_power_consumption[pd.to_datetime(approximated_power_consumption['timestamp']) >= pd.to_datetime('2014-03-31 11:21:00')]\n",
    "#approximated_power_consumption = approximated_power_consumption[pd.to_datetime(approximated_power_consumption['timestamp']) <= pd.to_datetime('2014-04-30 20:32:00')]\n",
    "#predicted_power_consumptions = predicted_power_consumptions[pd.to_datetime(predicted_power_consumptions['timestamp']) >= pd.to_datetime('2014-10-01 11:21:00')]\n",
    "\n",
    "# October has only 10 days of data\n",
    "predicted_power_consumptions = predicted_power_consumptions[pd.to_datetime(predicted_power_consumptions['timestamp']) <= pd.to_datetime('2014-10-07 18:30:00')]\n",
    "\n",
    "#approx = approximated_power_consumption.select(lambda col: col.endswith(\"approx\"), axis=1)\n",
    "real = predicted_power_consumptions.select(lambda col: col.endswith(\"real\"), axis=1)\n",
    "predicted = predicted_power_consumptions.select(lambda col: col.endswith(\"pred\"), axis=1)"
   ]
  },
  {
   "cell_type": "code",
   "execution_count": 21,
   "metadata": {},
   "outputs": [],
   "source": [
    "real['Total'] = real.iloc[:, -64:-1].sum(axis=1)\n",
    "predicted['Total'] = predicted.iloc[:, -64:-1].sum(axis=1)"
   ]
  },
  {
   "cell_type": "code",
   "execution_count": 22,
   "metadata": {},
   "outputs": [
    {
     "name": "stdout",
     "output_type": "stream",
     "text": [
      "the mean is 6352.353895830268\n",
      "r_2 is 0.9483753018370696\n",
      "RMSE is 788.5119556912498\n",
      "NRMSE is 0.12412909743722479\n"
     ]
    }
   ],
   "source": [
    "mean_real_pow = real['Total'].mean()\n",
    "print(\"the mean is {}\".format(mean_real_pow))\n",
    "\n",
    "numerator = (real['Total'] - predicted['Total'])**2\n",
    "denumerator = (real['Total'] - mean_real_pow)**2\n",
    "N = numerator.shape[0]\n",
    "\n",
    "r_2 = 1 - (numerator.sum() / denumerator.sum())\n",
    "print(\"r_2 is {}\".format(r_2))\n",
    "\n",
    "rmse = math.sqrt(numerator.sum() / N)\n",
    "print(\"RMSE is {}\".format(rmse))\n",
    "print(\"NRMSE is {}\".format(rmse/mean_real_pow))"
   ]
  },
  {
   "cell_type": "code",
   "execution_count": null,
   "metadata": {},
   "outputs": [],
   "source": []
  }
 ],
 "metadata": {
  "kernelspec": {
   "display_name": "Python 3",
   "language": "python",
   "name": "python3"
  },
  "language_info": {
   "codemirror_mode": {
    "name": "ipython",
    "version": 3
   },
   "file_extension": ".py",
   "mimetype": "text/x-python",
   "name": "python",
   "nbconvert_exporter": "python",
   "pygments_lexer": "ipython3",
   "version": "3.5.2"
  }
 },
 "nbformat": 4,
 "nbformat_minor": 2
}
